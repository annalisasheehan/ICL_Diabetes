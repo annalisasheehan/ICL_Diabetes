{
 "cells": [
  {
   "cell_type": "markdown",
   "metadata": {},
   "source": [
    "- Code to split the Zone centroid column in the 'Wessex Water Nitrate data for Imperial College London_AS file' into:\n",
    "    - prefix\n",
    "    - easting \n",
    "    - northing \n",
    "    \n",
    "So that the easting and northing values incorporating the prefix can be calculated. "
   ]
  },
  {
   "cell_type": "code",
   "execution_count": 35,
   "metadata": {
    "collapsed": true
   },
   "outputs": [],
   "source": [
    "#set libraries\n",
    "import pandas as pd\n",
    "import numpy as np"
   ]
  },
  {
   "cell_type": "code",
   "execution_count": null,
   "metadata": {
    "collapsed": true
   },
   "outputs": [],
   "source": [
    "# Read in the wessex water dataset \n",
    "Wessex = pd.read_csv(r\"S:\\Projects\\SAHSU_Share\\Diabetes\\Datasets\\Drinking_water\\Wessex\\Wessex Water Nitrate data for Imperial College London_AS.csv\")"
   ]
  },
  {
   "cell_type": "code",
   "execution_count": null,
   "metadata": {
    "scrolled": true
   },
   "outputs": [],
   "source": [
    "Wessex"
   ]
  },
  {
   "cell_type": "code",
   "execution_count": null,
   "metadata": {
    "collapsed": true
   },
   "outputs": [],
   "source": [
    "# insert columns for the split variables\n",
    "Wessex.insert(2, 'Prefix', 'NaN')\n",
    "Wessex.insert(3, 'E_Short', 'NaN')\n",
    "Wessex.insert(4, 'N_Short', 'NaN')"
   ]
  },
  {
   "cell_type": "code",
   "execution_count": null,
   "metadata": {
    "collapsed": true
   },
   "outputs": [],
   "source": [
    "Wessex= Wessex.rename(columns={'Zone centroid':'Zone_centroid'})"
   ]
  },
  {
   "cell_type": "code",
   "execution_count": null,
   "metadata": {
    "collapsed": true
   },
   "outputs": [],
   "source": [
    "mask = (Wessex['Zone_centroid'].str.len()<9)\n",
    "mask1 = (Wessex['Zone_centroid'].str.len()>9)"
   ]
  },
  {
   "cell_type": "code",
   "execution_count": null,
   "metadata": {},
   "outputs": [],
   "source": [
    "Test1 = Wessex.loc[mask]"
   ]
  },
  {
   "cell_type": "code",
   "execution_count": null,
   "metadata": {
    "collapsed": true
   },
   "outputs": [],
   "source": [
    "Test2 = Wessex.loc[mask1]"
   ]
  },
  {
   "cell_type": "code",
   "execution_count": null,
   "metadata": {
    "scrolled": true
   },
   "outputs": [],
   "source": [
    "Test1['Prefix']= Test1['Zone_centroid'].str[:2]\n",
    "Test1['E_Short']=Test1['Zone_centroid'].str[2:5]+'00'\n",
    "Test1['N_Short']=Test1['Zone_centroid'].str[5:]+'00'"
   ]
  },
  {
   "cell_type": "code",
   "execution_count": null,
   "metadata": {},
   "outputs": [],
   "source": [
    "Test2['Prefix']= Test2['Zone_centroid'].str[:2]\n",
    "Test2['E_Short']=Test2['Zone_centroid'].str[2:7]\n",
    "Test2['N_Short']=Test2['Zone_centroid'].str[7:]"
   ]
  },
  {
   "cell_type": "code",
   "execution_count": null,
   "metadata": {},
   "outputs": [],
   "source": [
    "Test1"
   ]
  },
  {
   "cell_type": "code",
   "execution_count": null,
   "metadata": {},
   "outputs": [],
   "source": [
    "Test2"
   ]
  },
  {
   "cell_type": "code",
   "execution_count": null,
   "metadata": {
    "collapsed": true
   },
   "outputs": [],
   "source": [
    "# create a new column filling in digits for prefix\n",
    "Wessex.insert(5, 'Prefix_E', 'NaN')\n",
    "Wessex.insert(6, 'Prefix_N', 'NaN')\n"
   ]
  },
  {
   "cell_type": "code",
   "execution_count": null,
   "metadata": {
    "collapsed": true
   },
   "outputs": [],
   "source": [
    "#Specify the prefix value for both easting based on the prefix code\n",
    "conditions= [\n",
    "    (Wessex['Prefix'] == 'SS'), \n",
    "    (Wessex['Prefix'] == 'SU'), \n",
    "    (Wessex['Prefix'] == 'ST'), \n",
    "    (Wessex['Prefix'] == 'SY'), \n",
    "    (Wessex['Prefix'] == 'SZ'), \n",
    "]\n",
    "choices = [200000, 400000, 300000, 300000, 400000]\n",
    "Wessex['Prefix_E'] = np.select(conditions, choices, default= 'NaN')"
   ]
  },
  {
   "cell_type": "code",
   "execution_count": null,
   "metadata": {
    "collapsed": true
   },
   "outputs": [],
   "source": [
    "#Specify the prefix value for both northing based on the prefix code\n",
    "conditions= [\n",
    "    (Wessex['Prefix'] == 'SS'), \n",
    "    (Wessex['Prefix'] == 'SU'), \n",
    "    (Wessex['Prefix'] == 'ST'), \n",
    "    (Wessex['Prefix'] == 'SY'), \n",
    "    (Wessex['Prefix'] == 'SZ'), \n",
    "]\n",
    "choices = [100000, 100000, 100000, 0, 0]\n",
    "Wessex['Prefix_N'] = np.select(conditions, choices, default= 'NaN')"
   ]
  },
  {
   "cell_type": "code",
   "execution_count": null,
   "metadata": {
    "collapsed": true
   },
   "outputs": [],
   "source": [
    "#check the values \n",
    "Wessex.to_csv(r\"S:\\Projects\\SAHSU_Share\\Diabetes\\Datasets\\Drinking_water\\Wessex\\Wessex_Water_Check2.csv\")"
   ]
  },
  {
   "cell_type": "code",
   "execution_count": null,
   "metadata": {
    "collapsed": true
   },
   "outputs": [],
   "source": []
  }
 ],
 "metadata": {
  "kernelspec": {
   "display_name": "Python 3",
   "language": "python",
   "name": "python3"
  },
  "language_info": {
   "codemirror_mode": {
    "name": "ipython",
    "version": 3
   },
   "file_extension": ".py",
   "mimetype": "text/x-python",
   "name": "python",
   "nbconvert_exporter": "python",
   "pygments_lexer": "ipython3",
   "version": "3.6.1"
  }
 },
 "nbformat": 4,
 "nbformat_minor": 2
}
