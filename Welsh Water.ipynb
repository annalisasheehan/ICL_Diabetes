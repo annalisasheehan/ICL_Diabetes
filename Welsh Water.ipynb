{
 "cells": [
  {
   "cell_type": "code",
   "execution_count": 2,
   "metadata": {
    "collapsed": true
   },
   "outputs": [],
   "source": [
    "# Set libraries\n",
    "import pandas as pd\n",
    "import glob\n",
    "import os\n",
    "import numpy as np\n",
    "import datetime"
   ]
  },
  {
   "cell_type": "markdown",
   "metadata": {},
   "source": [
    "###### Had to change the encoding of the dataset, method:https://www.ibm.com/support/knowledgecenter/en/SSWU4L/WebLanding/imc_WebLanding/Saving_a_CSV_file_with_UTF-8_encoding.html"
   ]
  },
  {
   "cell_type": "markdown",
   "metadata": {},
   "source": [
    "# 2000-2005 data"
   ]
  },
  {
   "cell_type": "code",
   "execution_count": 31,
   "metadata": {
    "collapsed": true,
    "scrolled": true
   },
   "outputs": [],
   "source": [
    "Hereford = pd.read_csv(r\"S:\\Projects\\SAHSU_Share\\Diabetes\\Datasets\\Drinking_water\\Welsh Water\\Welsh_Water_Hereford_2000_2005_pc_code_changed.csv\")"
   ]
  },
  {
   "cell_type": "markdown",
   "metadata": {},
   "source": [
    "# 2006-2010"
   ]
  },
  {
   "cell_type": "code",
   "execution_count": 3,
   "metadata": {
    "collapsed": true
   },
   "outputs": [],
   "source": [
    "Hereford = pd.read_csv(r\"S:\\Projects\\SAHSU_Share\\Diabetes\\Datasets\\Drinking_water\\Welsh Water\\Welsh_Water_Hereford_2006_2010.csv\")"
   ]
  },
  {
   "cell_type": "code",
   "execution_count": null,
   "metadata": {
    "scrolled": true
   },
   "outputs": [],
   "source": [
    "Hereford"
   ]
  },
  {
   "cell_type": "code",
   "execution_count": 5,
   "metadata": {
    "collapsed": true
   },
   "outputs": [],
   "source": [
    "Hereford = Hereford.set_index('Postcode')"
   ]
  },
  {
   "cell_type": "code",
   "execution_count": 6,
   "metadata": {
    "collapsed": true
   },
   "outputs": [],
   "source": [
    "labels = pd.read_csv(r\"S:\\Projects\\SAHSU_Share\\Diabetes\\Datasets\\Postcodes\\codepo_gb\\Doc\\Code-Point_Open_Column_Headers.csv\", header = None)"
   ]
  },
  {
   "cell_type": "code",
   "execution_count": 7,
   "metadata": {
    "collapsed": true
   },
   "outputs": [],
   "source": [
    "labels.columns = labels.iloc[0]"
   ]
  },
  {
   "cell_type": "code",
   "execution_count": 8,
   "metadata": {},
   "outputs": [
    {
     "data": {
      "text/html": [
       "<div>\n",
       "<style>\n",
       "    .dataframe thead tr:only-child th {\n",
       "        text-align: right;\n",
       "    }\n",
       "\n",
       "    .dataframe thead th {\n",
       "        text-align: left;\n",
       "    }\n",
       "\n",
       "    .dataframe tbody tr th {\n",
       "        vertical-align: top;\n",
       "    }\n",
       "</style>\n",
       "<table border=\"1\" class=\"dataframe\">\n",
       "  <thead>\n",
       "    <tr style=\"text-align: right;\">\n",
       "      <th></th>\n",
       "      <th>Postcode</th>\n",
       "      <th>Positional_quality_indicator</th>\n",
       "      <th>Eastings</th>\n",
       "      <th>Northings</th>\n",
       "      <th>Country_code</th>\n",
       "      <th>NHS_regional_HA_code</th>\n",
       "      <th>NHS_HA_code</th>\n",
       "      <th>Admin_county_code</th>\n",
       "      <th>Admin_district_code</th>\n",
       "      <th>Admin_ward_code</th>\n",
       "    </tr>\n",
       "  </thead>\n",
       "  <tbody>\n",
       "    <tr>\n",
       "      <th>0</th>\n",
       "      <td>Postcode</td>\n",
       "      <td>Positional_quality_indicator</td>\n",
       "      <td>Eastings</td>\n",
       "      <td>Northings</td>\n",
       "      <td>Country_code</td>\n",
       "      <td>NHS_regional_HA_code</td>\n",
       "      <td>NHS_HA_code</td>\n",
       "      <td>Admin_county_code</td>\n",
       "      <td>Admin_district_code</td>\n",
       "      <td>Admin_ward_code</td>\n",
       "    </tr>\n",
       "  </tbody>\n",
       "</table>\n",
       "</div>"
      ],
      "text/plain": [
       "0  Postcode  Positional_quality_indicator  Eastings  Northings  Country_code  \\\n",
       "0  Postcode  Positional_quality_indicator  Eastings  Northings  Country_code   \n",
       "\n",
       "0  NHS_regional_HA_code  NHS_HA_code  Admin_county_code  Admin_district_code  \\\n",
       "0  NHS_regional_HA_code  NHS_HA_code  Admin_county_code  Admin_district_code   \n",
       "\n",
       "0  Admin_ward_code  \n",
       "0  Admin_ward_code  "
      ]
     },
     "execution_count": 8,
     "metadata": {},
     "output_type": "execute_result"
    }
   ],
   "source": [
    "labels"
   ]
  },
  {
   "cell_type": "code",
   "execution_count": 9,
   "metadata": {
    "collapsed": true
   },
   "outputs": [],
   "source": [
    "labels = labels.set_index('Postcode')"
   ]
  },
  {
   "cell_type": "code",
   "execution_count": 10,
   "metadata": {
    "collapsed": true
   },
   "outputs": [],
   "source": [
    "labels = labels.reindex(labels.index.drop('Postcode'))"
   ]
  },
  {
   "cell_type": "code",
   "execution_count": 11,
   "metadata": {
    "collapsed": true
   },
   "outputs": [],
   "source": [
    "Hereford = Hereford.merge(labels, how='left', left_index=True, right_index=True)"
   ]
  },
  {
   "cell_type": "code",
   "execution_count": null,
   "metadata": {},
   "outputs": [],
   "source": [
    "Hereford"
   ]
  },
  {
   "cell_type": "code",
   "execution_count": 13,
   "metadata": {
    "collapsed": true
   },
   "outputs": [],
   "source": [
    "files = glob.glob(r\"S:\\Projects\\SAHSU_Share\\Diabetes\\Datasets\\Postcodes\\codepo_gb\\Data\\CSV\\*\")"
   ]
  },
  {
   "cell_type": "code",
   "execution_count": 14,
   "metadata": {
    "collapsed": true
   },
   "outputs": [],
   "source": [
    "labels2 = pd.read_csv(r\"S:\\Projects\\SAHSU_Share\\Diabetes\\Datasets\\Postcodes\\codepo_gb\\Doc\\Code-Point_Open_Column_Headers.csv\", header = None)"
   ]
  },
  {
   "cell_type": "code",
   "execution_count": null,
   "metadata": {
    "collapsed": true
   },
   "outputs": [],
   "source": []
  },
  {
   "cell_type": "code",
   "execution_count": 15,
   "metadata": {},
   "outputs": [
    {
     "name": "stdout",
     "output_type": "stream",
     "text": [
      "Processed S:\\Projects\\SAHSU_Share\\Diabetes\\Datasets\\Postcodes\\codepo_gb\\Data\\CSV\\tw.csv\n",
      "Processed S:\\Projects\\SAHSU_Share\\Diabetes\\Datasets\\Postcodes\\codepo_gb\\Data\\CSV\\dy.csv\n",
      "Processed S:\\Projects\\SAHSU_Share\\Diabetes\\Datasets\\Postcodes\\codepo_gb\\Data\\CSV\\la.csv\n",
      "Processed S:\\Projects\\SAHSU_Share\\Diabetes\\Datasets\\Postcodes\\codepo_gb\\Data\\CSV\\hd.csv\n",
      "Processed S:\\Projects\\SAHSU_Share\\Diabetes\\Datasets\\Postcodes\\codepo_gb\\Data\\CSV\\sl.csv\n",
      "Processed S:\\Projects\\SAHSU_Share\\Diabetes\\Datasets\\Postcodes\\codepo_gb\\Data\\CSV\\dg.csv\n",
      "Processed S:\\Projects\\SAHSU_Share\\Diabetes\\Datasets\\Postcodes\\codepo_gb\\Data\\CSV\\ph.csv\n",
      "Processed S:\\Projects\\SAHSU_Share\\Diabetes\\Datasets\\Postcodes\\codepo_gb\\Data\\CSV\\ws.csv\n",
      "Processed S:\\Projects\\SAHSU_Share\\Diabetes\\Datasets\\Postcodes\\codepo_gb\\Data\\CSV\\e.csv\n",
      "Processed S:\\Projects\\SAHSU_Share\\Diabetes\\Datasets\\Postcodes\\codepo_gb\\Data\\CSV\\gu.csv\n",
      "Processed S:\\Projects\\SAHSU_Share\\Diabetes\\Datasets\\Postcodes\\codepo_gb\\Data\\CSV\\ig.csv\n",
      "Processed S:\\Projects\\SAHSU_Share\\Diabetes\\Datasets\\Postcodes\\codepo_gb\\Data\\CSV\\pr.csv\n",
      "Processed S:\\Projects\\SAHSU_Share\\Diabetes\\Datasets\\Postcodes\\codepo_gb\\Data\\CSV\\ze.csv\n",
      "Processed S:\\Projects\\SAHSU_Share\\Diabetes\\Datasets\\Postcodes\\codepo_gb\\Data\\CSV\\wa.csv\n",
      "Processed S:\\Projects\\SAHSU_Share\\Diabetes\\Datasets\\Postcodes\\codepo_gb\\Data\\CSV\\cf.csv\n",
      "Processed S:\\Projects\\SAHSU_Share\\Diabetes\\Datasets\\Postcodes\\codepo_gb\\Data\\CSV\\nn.csv\n",
      "Processed S:\\Projects\\SAHSU_Share\\Diabetes\\Datasets\\Postcodes\\codepo_gb\\Data\\CSV\\sn.csv\n",
      "Processed S:\\Projects\\SAHSU_Share\\Diabetes\\Datasets\\Postcodes\\codepo_gb\\Data\\CSV\\g.csv\n",
      "Processed S:\\Projects\\SAHSU_Share\\Diabetes\\Datasets\\Postcodes\\codepo_gb\\Data\\CSV\\kt.csv\n",
      "Processed S:\\Projects\\SAHSU_Share\\Diabetes\\Datasets\\Postcodes\\codepo_gb\\Data\\CSV\\al.csv\n",
      "Processed S:\\Projects\\SAHSU_Share\\Diabetes\\Datasets\\Postcodes\\codepo_gb\\Data\\CSV\\ip.csv\n",
      "Processed S:\\Projects\\SAHSU_Share\\Diabetes\\Datasets\\Postcodes\\codepo_gb\\Data\\CSV\\wc.csv\n",
      "Processed S:\\Projects\\SAHSU_Share\\Diabetes\\Datasets\\Postcodes\\codepo_gb\\Data\\CSV\\rm.csv\n",
      "Processed S:\\Projects\\SAHSU_Share\\Diabetes\\Datasets\\Postcodes\\codepo_gb\\Data\\CSV\\ch.csv\n",
      "Processed S:\\Projects\\SAHSU_Share\\Diabetes\\Datasets\\Postcodes\\codepo_gb\\Data\\CSV\\np.csv\n",
      "Processed S:\\Projects\\SAHSU_Share\\Diabetes\\Datasets\\Postcodes\\codepo_gb\\Data\\CSV\\da.csv\n",
      "Processed S:\\Projects\\SAHSU_Share\\Diabetes\\Datasets\\Postcodes\\codepo_gb\\Data\\CSV\\le.csv\n",
      "Processed S:\\Projects\\SAHSU_Share\\Diabetes\\Datasets\\Postcodes\\codepo_gb\\Data\\CSV\\sp.csv\n",
      "Processed S:\\Projects\\SAHSU_Share\\Diabetes\\Datasets\\Postcodes\\codepo_gb\\Data\\CSV\\cr.csv\n",
      "Processed S:\\Projects\\SAHSU_Share\\Diabetes\\Datasets\\Postcodes\\codepo_gb\\Data\\CSV\\me.csv\n",
      "Processed S:\\Projects\\SAHSU_Share\\Diabetes\\Datasets\\Postcodes\\codepo_gb\\Data\\CSV\\s.csv\n",
      "Processed S:\\Projects\\SAHSU_Share\\Diabetes\\Datasets\\Postcodes\\codepo_gb\\Data\\CSV\\nr.csv\n",
      "Processed S:\\Projects\\SAHSU_Share\\Diabetes\\Datasets\\Postcodes\\codepo_gb\\Data\\CSV\\ec.csv\n",
      "Processed S:\\Projects\\SAHSU_Share\\Diabetes\\Datasets\\Postcodes\\codepo_gb\\Data\\CSV\\ln.csv\n",
      "Processed S:\\Projects\\SAHSU_Share\\Diabetes\\Datasets\\Postcodes\\codepo_gb\\Data\\CSV\\wv.csv\n",
      "Processed S:\\Projects\\SAHSU_Share\\Diabetes\\Datasets\\Postcodes\\codepo_gb\\Data\\CSV\\sy.csv\n",
      "Processed S:\\Projects\\SAHSU_Share\\Diabetes\\Datasets\\Postcodes\\codepo_gb\\Data\\CSV\\tr.csv\n",
      "Processed S:\\Projects\\SAHSU_Share\\Diabetes\\Datasets\\Postcodes\\codepo_gb\\Data\\CSV\\dt.csv\n",
      "Processed S:\\Projects\\SAHSU_Share\\Diabetes\\Datasets\\Postcodes\\codepo_gb\\Data\\CSV\\rg.csv\n",
      "Processed S:\\Projects\\SAHSU_Share\\Diabetes\\Datasets\\Postcodes\\codepo_gb\\Data\\CSV\\cb.csv\n",
      "Processed S:\\Projects\\SAHSU_Share\\Diabetes\\Datasets\\Postcodes\\codepo_gb\\Data\\CSV\\dl.csv\n",
      "Processed S:\\Projects\\SAHSU_Share\\Diabetes\\Datasets\\Postcodes\\codepo_gb\\Data\\CSV\\kw.csv\n",
      "Processed S:\\Projects\\SAHSU_Share\\Diabetes\\Datasets\\Postcodes\\codepo_gb\\Data\\CSV\\ba.csv\n",
      "Processed S:\\Projects\\SAHSU_Share\\Diabetes\\Datasets\\Postcodes\\codepo_gb\\Data\\CSV\\hs.csv\n",
      "Processed S:\\Projects\\SAHSU_Share\\Diabetes\\Datasets\\Postcodes\\codepo_gb\\Data\\CSV\\iv.csv\n",
      "Processed S:\\Projects\\SAHSU_Share\\Diabetes\\Datasets\\Postcodes\\codepo_gb\\Data\\CSV\\ha.csv\n",
      "Processed S:\\Projects\\SAHSU_Share\\Diabetes\\Datasets\\Postcodes\\codepo_gb\\Data\\CSV\\dd.csv\n",
      "Processed S:\\Projects\\SAHSU_Share\\Diabetes\\Datasets\\Postcodes\\codepo_gb\\Data\\CSV\\ol.csv\n",
      "Processed S:\\Projects\\SAHSU_Share\\Diabetes\\Datasets\\Postcodes\\codepo_gb\\Data\\CSV\\pe.csv\n",
      "Processed S:\\Projects\\SAHSU_Share\\Diabetes\\Datasets\\Postcodes\\codepo_gb\\Data\\CSV\\fy.csv\n",
      "Processed S:\\Projects\\SAHSU_Share\\Diabetes\\Datasets\\Postcodes\\codepo_gb\\Data\\CSV\\b.csv\n",
      "Processed S:\\Projects\\SAHSU_Share\\Diabetes\\Datasets\\Postcodes\\codepo_gb\\Data\\CSV\\ss.csv\n",
      "Processed S:\\Projects\\SAHSU_Share\\Diabetes\\Datasets\\Postcodes\\codepo_gb\\Data\\CSV\\dn.csv\n",
      "Processed S:\\Projects\\SAHSU_Share\\Diabetes\\Datasets\\Postcodes\\codepo_gb\\Data\\CSV\\l.csv\n",
      "Processed S:\\Projects\\SAHSU_Share\\Diabetes\\Datasets\\Postcodes\\codepo_gb\\Data\\CSV\\po.csv\n",
      "Processed S:\\Projects\\SAHSU_Share\\Diabetes\\Datasets\\Postcodes\\codepo_gb\\Data\\CSV\\ky.csv\n",
      "Processed S:\\Projects\\SAHSU_Share\\Diabetes\\Datasets\\Postcodes\\codepo_gb\\Data\\CSV\\mk.csv\n",
      "Processed S:\\Projects\\SAHSU_Share\\Diabetes\\Datasets\\Postcodes\\codepo_gb\\Data\\CSV\\hu.csv\n",
      "Processed S:\\Projects\\SAHSU_Share\\Diabetes\\Datasets\\Postcodes\\codepo_gb\\Data\\CSV\\sk.csv\n",
      "Processed S:\\Projects\\SAHSU_Share\\Diabetes\\Datasets\\Postcodes\\codepo_gb\\Data\\CSV\\td.csv\n",
      "Processed S:\\Projects\\SAHSU_Share\\Diabetes\\Datasets\\Postcodes\\codepo_gb\\Data\\CSV\\cm.csv\n",
      "Processed S:\\Projects\\SAHSU_Share\\Diabetes\\Datasets\\Postcodes\\codepo_gb\\Data\\CSV\\ab.csv\n",
      "Processed S:\\Projects\\SAHSU_Share\\Diabetes\\Datasets\\Postcodes\\codepo_gb\\Data\\CSV\\wr.csv\n",
      "Processed S:\\Projects\\SAHSU_Share\\Diabetes\\Datasets\\Postcodes\\codepo_gb\\Data\\CSV\\tn.csv\n",
      "Processed S:\\Projects\\SAHSU_Share\\Diabetes\\Datasets\\Postcodes\\codepo_gb\\Data\\CSV\\n.csv\n",
      "Processed S:\\Projects\\SAHSU_Share\\Diabetes\\Datasets\\Postcodes\\codepo_gb\\Data\\CSV\\cw.csv\n",
      "Processed S:\\Projects\\SAHSU_Share\\Diabetes\\Datasets\\Postcodes\\codepo_gb\\Data\\CSV\\ox.csv\n",
      "Processed S:\\Projects\\SAHSU_Share\\Diabetes\\Datasets\\Postcodes\\codepo_gb\\Data\\CSV\\bl.csv\n",
      "Processed S:\\Projects\\SAHSU_Share\\Diabetes\\Datasets\\Postcodes\\codepo_gb\\Data\\CSV\\gl.csv\n",
      "Processed S:\\Projects\\SAHSU_Share\\Diabetes\\Datasets\\Postcodes\\codepo_gb\\Data\\CSV\\sm.csv\n",
      "Processed S:\\Projects\\SAHSU_Share\\Diabetes\\Datasets\\Postcodes\\codepo_gb\\Data\\CSV\\tf.csv\n",
      "Processed S:\\Projects\\SAHSU_Share\\Diabetes\\Datasets\\Postcodes\\codepo_gb\\Data\\CSV\\co.csv\n",
      "Processed S:\\Projects\\SAHSU_Share\\Diabetes\\Datasets\\Postcodes\\codepo_gb\\Data\\CSV\\nw.csv\n",
      "Processed S:\\Projects\\SAHSU_Share\\Diabetes\\Datasets\\Postcodes\\codepo_gb\\Data\\CSV\\dh.csv\n",
      "Processed S:\\Projects\\SAHSU_Share\\Diabetes\\Datasets\\Postcodes\\codepo_gb\\Data\\CSV\\ll.csv\n",
      "Processed S:\\Projects\\SAHSU_Share\\Diabetes\\Datasets\\Postcodes\\codepo_gb\\Data\\CSV\\sw.csv\n",
      "Processed S:\\Projects\\SAHSU_Share\\Diabetes\\Datasets\\Postcodes\\codepo_gb\\Data\\CSV\\bd.csv\n",
      "Processed S:\\Projects\\SAHSU_Share\\Diabetes\\Datasets\\Postcodes\\codepo_gb\\Data\\CSV\\ne.csv\n",
      "Processed S:\\Projects\\SAHSU_Share\\Diabetes\\Datasets\\Postcodes\\codepo_gb\\Data\\CSV\\ka.csv\n",
      "Processed S:\\Projects\\SAHSU_Share\\Diabetes\\Datasets\\Postcodes\\codepo_gb\\Data\\CSV\\fk.csv\n",
      "Processed S:\\Projects\\SAHSU_Share\\Diabetes\\Datasets\\Postcodes\\codepo_gb\\Data\\CSV\\se.csv\n",
      "Processed S:\\Projects\\SAHSU_Share\\Diabetes\\Datasets\\Postcodes\\codepo_gb\\Data\\CSV\\bn.csv\n",
      "Processed S:\\Projects\\SAHSU_Share\\Diabetes\\Datasets\\Postcodes\\codepo_gb\\Data\\CSV\\pa.csv\n",
      "Processed S:\\Projects\\SAHSU_Share\\Diabetes\\Datasets\\Postcodes\\codepo_gb\\Data\\CSV\\ld.csv\n",
      "Processed S:\\Projects\\SAHSU_Share\\Diabetes\\Datasets\\Postcodes\\codepo_gb\\Data\\CSV\\hg.csv\n",
      "Processed S:\\Projects\\SAHSU_Share\\Diabetes\\Datasets\\Postcodes\\codepo_gb\\Data\\CSV\\so.csv\n",
      "Processed S:\\Projects\\SAHSU_Share\\Diabetes\\Datasets\\Postcodes\\codepo_gb\\Data\\CSV\\lu.csv\n",
      "Processed S:\\Projects\\SAHSU_Share\\Diabetes\\Datasets\\Postcodes\\codepo_gb\\Data\\CSV\\ng.csv\n",
      "Processed S:\\Projects\\SAHSU_Share\\Diabetes\\Datasets\\Postcodes\\codepo_gb\\Data\\CSV\\yo.csv\n",
      "Processed S:\\Projects\\SAHSU_Share\\Diabetes\\Datasets\\Postcodes\\codepo_gb\\Data\\CSV\\hx.csv\n",
      "Processed S:\\Projects\\SAHSU_Share\\Diabetes\\Datasets\\Postcodes\\codepo_gb\\Data\\CSV\\wd.csv\n",
      "Processed S:\\Projects\\SAHSU_Share\\Diabetes\\Datasets\\Postcodes\\codepo_gb\\Data\\CSV\\sg.csv\n",
      "Processed S:\\Projects\\SAHSU_Share\\Diabetes\\Datasets\\Postcodes\\codepo_gb\\Data\\CSV\\wn.csv\n",
      "Processed S:\\Projects\\SAHSU_Share\\Diabetes\\Datasets\\Postcodes\\codepo_gb\\Data\\CSV\\hp.csv\n"
     ]
    },
    {
     "name": "stdout",
     "output_type": "stream",
     "text": [
      "Processed S:\\Projects\\SAHSU_Share\\Diabetes\\Datasets\\Postcodes\\codepo_gb\\Data\\CSV\\tq.csv\n",
      "Processed S:\\Projects\\SAHSU_Share\\Diabetes\\Datasets\\Postcodes\\codepo_gb\\Data\\CSV\\bh.csv\n",
      "Processed S:\\Projects\\SAHSU_Share\\Diabetes\\Datasets\\Postcodes\\codepo_gb\\Data\\CSV\\ca.csv\n",
      "Processed S:\\Projects\\SAHSU_Share\\Diabetes\\Datasets\\Postcodes\\codepo_gb\\Data\\CSV\\wf.csv\n",
      "Processed S:\\Projects\\SAHSU_Share\\Diabetes\\Datasets\\Postcodes\\codepo_gb\\Data\\CSV\\br.csv\n",
      "Processed S:\\Projects\\SAHSU_Share\\Diabetes\\Datasets\\Postcodes\\codepo_gb\\Data\\CSV\\ub.csv\n",
      "Processed S:\\Projects\\SAHSU_Share\\Diabetes\\Datasets\\Postcodes\\codepo_gb\\Data\\CSV\\pl.csv\n",
      "Processed S:\\Projects\\SAHSU_Share\\Diabetes\\Datasets\\Postcodes\\codepo_gb\\Data\\CSV\\hr.csv\n",
      "Processed S:\\Projects\\SAHSU_Share\\Diabetes\\Datasets\\Postcodes\\codepo_gb\\Data\\CSV\\ts.csv\n",
      "Processed S:\\Projects\\SAHSU_Share\\Diabetes\\Datasets\\Postcodes\\codepo_gb\\Data\\CSV\\en.csv\n",
      "Processed S:\\Projects\\SAHSU_Share\\Diabetes\\Datasets\\Postcodes\\codepo_gb\\Data\\CSV\\rh.csv\n",
      "Processed S:\\Projects\\SAHSU_Share\\Diabetes\\Datasets\\Postcodes\\codepo_gb\\Data\\CSV\\sa.csv\n",
      "Processed S:\\Projects\\SAHSU_Share\\Diabetes\\Datasets\\Postcodes\\codepo_gb\\Data\\CSV\\ex.csv\n",
      "Processed S:\\Projects\\SAHSU_Share\\Diabetes\\Datasets\\Postcodes\\codepo_gb\\Data\\CSV\\ta.csv\n",
      "Processed S:\\Projects\\SAHSU_Share\\Diabetes\\Datasets\\Postcodes\\codepo_gb\\Data\\CSV\\sr.csv\n",
      "Processed S:\\Projects\\SAHSU_Share\\Diabetes\\Datasets\\Postcodes\\codepo_gb\\Data\\CSV\\ct.csv\n",
      "Processed S:\\Projects\\SAHSU_Share\\Diabetes\\Datasets\\Postcodes\\codepo_gb\\Data\\CSV\\bb.csv\n",
      "Processed S:\\Projects\\SAHSU_Share\\Diabetes\\Datasets\\Postcodes\\codepo_gb\\Data\\CSV\\bs.csv\n",
      "Processed S:\\Projects\\SAHSU_Share\\Diabetes\\Datasets\\Postcodes\\codepo_gb\\Data\\CSV\\de.csv\n",
      "Processed S:\\Projects\\SAHSU_Share\\Diabetes\\Datasets\\Postcodes\\codepo_gb\\Data\\CSV\\st.csv\n",
      "Processed S:\\Projects\\SAHSU_Share\\Diabetes\\Datasets\\Postcodes\\codepo_gb\\Data\\CSV\\cv.csv\n",
      "Processed S:\\Projects\\SAHSU_Share\\Diabetes\\Datasets\\Postcodes\\codepo_gb\\Data\\CSV\\m.csv\n",
      "Processed S:\\Projects\\SAHSU_Share\\Diabetes\\Datasets\\Postcodes\\codepo_gb\\Data\\CSV\\eh.csv\n",
      "Processed S:\\Projects\\SAHSU_Share\\Diabetes\\Datasets\\Postcodes\\codepo_gb\\Data\\CSV\\ls.csv\n",
      "Processed S:\\Projects\\SAHSU_Share\\Diabetes\\Datasets\\Postcodes\\codepo_gb\\Data\\CSV\\w.csv\n",
      "Processed S:\\Projects\\SAHSU_Share\\Diabetes\\Datasets\\Postcodes\\codepo_gb\\Data\\CSV\\ml.csv\n"
     ]
    }
   ],
   "source": [
    "for file in files:\n",
    "    postcode = pd.read_csv(r'{fname}'.format(fname=file), header=None)\n",
    "    data = pd.concat([labels2,postcode])\n",
    "    data.columns = data.iloc[0]\n",
    "    data = data.set_index(['Postcode'])\n",
    "    data = data.reindex(data.index.drop('Postcode'))\n",
    "    data.insert(0, 'Spt Desc', 'NaN')\n",
    "    data.insert(1,'WQZ', 'NaN')\n",
    "    data.insert(2,'Date Time Taken', 'NaN')\n",
    "    data.insert(3,'NITRATE (MG/L)', 'NaN')\n",
    "    Hereford = Hereford.combine_first(data)\n",
    "    \n",
    "    \n",
    "    print('Processed {fname}'.format(fname=file))"
   ]
  },
  {
   "cell_type": "code",
   "execution_count": null,
   "metadata": {
    "scrolled": true
   },
   "outputs": [],
   "source": [
    "Hereford"
   ]
  },
  {
   "cell_type": "code",
   "execution_count": 17,
   "metadata": {
    "collapsed": true
   },
   "outputs": [],
   "source": [
    "Hereford = Hereford[pd.notnull(Hereford['NITRATE (MG/L)'])]"
   ]
  },
  {
   "cell_type": "code",
   "execution_count": 19,
   "metadata": {
    "collapsed": true
   },
   "outputs": [],
   "source": [
    "Hereford.to_csv(r\"S:\\Projects\\SAHSU_Share\\Diabetes\\Datasets\\Drinking_water\\Welsh Water\\Welsh_Water_Hereford_2006_2010_pc_code_filled.csv\")"
   ]
  },
  {
   "cell_type": "code",
   "execution_count": null,
   "metadata": {
    "collapsed": true
   },
   "outputs": [],
   "source": []
  }
 ],
 "metadata": {
  "kernelspec": {
   "display_name": "Python 3",
   "language": "python",
   "name": "python3"
  },
  "language_info": {
   "codemirror_mode": {
    "name": "ipython",
    "version": 3
   },
   "file_extension": ".py",
   "mimetype": "text/x-python",
   "name": "python",
   "nbconvert_exporter": "python",
   "pygments_lexer": "ipython3",
   "version": "3.6.1"
  }
 },
 "nbformat": 4,
 "nbformat_minor": 2
}
