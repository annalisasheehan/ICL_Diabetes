{
 "cells": [
  {
   "cell_type": "code",
   "execution_count": 1,
   "metadata": {
    "collapsed": true
   },
   "outputs": [],
   "source": [
    "# Set libraries\n",
    "import pandas as pd\n",
    "import glob\n",
    "import os\n",
    "import numpy as np\n",
    "import datetime"
   ]
  },
  {
   "cell_type": "code",
   "execution_count": 2,
   "metadata": {
    "collapsed": true
   },
   "outputs": [],
   "source": [
    "SE_water = pd.read_csv(r\"S:\\Projects\\SAHSU_Share\\Diabetes\\Datasets\\Drinking_water\\South_East_Water\\SEW NITRATE 2000_17_AS_No_NE.csv\")"
   ]
  },
  {
   "cell_type": "code",
   "execution_count": null,
   "metadata": {
    "collapsed": true,
    "scrolled": true
   },
   "outputs": [],
   "source": [
    "SE_water"
   ]
  },
  {
   "cell_type": "code",
   "execution_count": 4,
   "metadata": {
    "collapsed": true
   },
   "outputs": [],
   "source": [
    "SE_water = SE_water.rename(columns={'POST_CODE':'Postcode'})"
   ]
  },
  {
   "cell_type": "code",
   "execution_count": 5,
   "metadata": {
    "collapsed": true
   },
   "outputs": [],
   "source": [
    "SE_water['Postcode'] = SE_water['Postcode'].str.upper()"
   ]
  },
  {
   "cell_type": "code",
   "execution_count": 6,
   "metadata": {
    "collapsed": true
   },
   "outputs": [],
   "source": [
    "mask = (SE_water['Postcode'].str.len()>7)\n",
    "mask2 = (SE_water['Postcode'].str.len()==7)\n",
    "mask3 = (SE_water['Postcode'].str.len()==6)\n",
    "mask4 = (SE_water['Postcode'].str.len()==5)\n",
    "mask5 = (SE_water['Postcode'].str.len()==4)\n",
    "mask6 = (SE_water['Postcode'].str.len()<4)\n"
   ]
  },
  {
   "cell_type": "code",
   "execution_count": 7,
   "metadata": {
    "collapsed": true
   },
   "outputs": [],
   "source": [
    "SE_7 = SE_water.loc[mask]\n",
    "SE_6 = SE_water.loc[mask2]\n",
    "SE_d5 = SE_water.loc[mask3]\n",
    "SE_d4 = SE_water.loc[mask4]\n",
    "SE_s4 = SE_water.loc[mask5]\n",
    "SE_s3 = SE_water.loc[mask6]"
   ]
  },
  {
   "cell_type": "code",
   "execution_count": null,
   "metadata": {
    "collapsed": true,
    "scrolled": true
   },
   "outputs": [],
   "source": [
    "SE_7"
   ]
  },
  {
   "cell_type": "code",
   "execution_count": null,
   "metadata": {
    "collapsed": true,
    "scrolled": true
   },
   "outputs": [],
   "source": [
    "SE_6"
   ]
  },
  {
   "cell_type": "code",
   "execution_count": null,
   "metadata": {
    "collapsed": true,
    "scrolled": true
   },
   "outputs": [],
   "source": [
    "SE_d5"
   ]
  },
  {
   "cell_type": "code",
   "execution_count": null,
   "metadata": {
    "collapsed": true,
    "scrolled": true
   },
   "outputs": [],
   "source": [
    "SE_d4"
   ]
  },
  {
   "cell_type": "code",
   "execution_count": null,
   "metadata": {
    "collapsed": true,
    "scrolled": true
   },
   "outputs": [],
   "source": [
    "SE_s4"
   ]
  },
  {
   "cell_type": "code",
   "execution_count": null,
   "metadata": {
    "collapsed": true,
    "scrolled": true
   },
   "outputs": [],
   "source": [
    "SE_s3"
   ]
  },
  {
   "cell_type": "code",
   "execution_count": 14,
   "metadata": {},
   "outputs": [
    {
     "name": "stderr",
     "output_type": "stream",
     "text": [
      "C:\\Users\\ansheeha\\AppData\\Local\\Continuum\\Anaconda3\\lib\\site-packages\\ipykernel_launcher.py:2: SettingWithCopyWarning: \n",
      "A value is trying to be set on a copy of a slice from a DataFrame.\n",
      "Try using .loc[row_indexer,col_indexer] = value instead\n",
      "\n",
      "See the caveats in the documentation: http://pandas.pydata.org/pandas-docs/stable/indexing.html#indexing-view-versus-copy\n",
      "  \n",
      "C:\\Users\\ansheeha\\AppData\\Local\\Continuum\\Anaconda3\\lib\\site-packages\\ipykernel_launcher.py:3: SettingWithCopyWarning: \n",
      "A value is trying to be set on a copy of a slice from a DataFrame.\n",
      "Try using .loc[row_indexer,col_indexer] = value instead\n",
      "\n",
      "See the caveats in the documentation: http://pandas.pydata.org/pandas-docs/stable/indexing.html#indexing-view-versus-copy\n",
      "  This is separate from the ipykernel package so we can avoid doing imports until\n"
     ]
    }
   ],
   "source": [
    "# Get rid of white space in between #### ### to make #######\n",
    "SE_7['First'] = SE_7['Postcode'].str[:4]\n",
    "SE_7['Last'] = SE_7['Postcode'].str[5:8]"
   ]
  },
  {
   "cell_type": "code",
   "execution_count": null,
   "metadata": {
    "collapsed": true,
    "scrolled": false
   },
   "outputs": [],
   "source": [
    "SE_7"
   ]
  },
  {
   "cell_type": "code",
   "execution_count": 16,
   "metadata": {},
   "outputs": [
    {
     "name": "stderr",
     "output_type": "stream",
     "text": [
      "C:\\Users\\ansheeha\\AppData\\Local\\Continuum\\Anaconda3\\lib\\site-packages\\ipykernel_launcher.py:1: SettingWithCopyWarning: \n",
      "A value is trying to be set on a copy of a slice from a DataFrame.\n",
      "Try using .loc[row_indexer,col_indexer] = value instead\n",
      "\n",
      "See the caveats in the documentation: http://pandas.pydata.org/pandas-docs/stable/indexing.html#indexing-view-versus-copy\n",
      "  \"\"\"Entry point for launching an IPython kernel.\n"
     ]
    }
   ],
   "source": [
    "SE_7['New_pc'] = SE_7['First']+SE_7['Last']"
   ]
  },
  {
   "cell_type": "code",
   "execution_count": 17,
   "metadata": {
    "collapsed": true
   },
   "outputs": [],
   "source": [
    "SE_7 = SE_7[['SAMPLED_DATE', 'New_pc','NITRATE' ]]"
   ]
  },
  {
   "cell_type": "code",
   "execution_count": 18,
   "metadata": {
    "collapsed": true
   },
   "outputs": [],
   "source": [
    "SE_7 = SE_7.rename(columns={'New_pc':'Postcode'})"
   ]
  },
  {
   "cell_type": "code",
   "execution_count": 19,
   "metadata": {
    "collapsed": true
   },
   "outputs": [],
   "source": [
    "Full_postcode = pd.concat([SE_6, SE_7])"
   ]
  },
  {
   "cell_type": "code",
   "execution_count": null,
   "metadata": {
    "collapsed": true,
    "scrolled": false
   },
   "outputs": [],
   "source": [
    "Full_postcode"
   ]
  },
  {
   "cell_type": "code",
   "execution_count": 21,
   "metadata": {
    "collapsed": true
   },
   "outputs": [],
   "source": [
    "Full_postcode = Full_postcode.set_index('Postcode')"
   ]
  },
  {
   "cell_type": "code",
   "execution_count": 22,
   "metadata": {
    "collapsed": true
   },
   "outputs": [],
   "source": [
    "labels2 = pd.read_csv(r\"S:\\Projects\\SAHSU_Share\\Diabetes\\Datasets\\Postcodes\\codepo_gb\\Doc\\Code-Point_Open_Column_Headers.csv\", header = None)"
   ]
  },
  {
   "cell_type": "code",
   "execution_count": 23,
   "metadata": {
    "collapsed": true
   },
   "outputs": [],
   "source": [
    "labels2.columns = labels2.iloc[0]"
   ]
  },
  {
   "cell_type": "code",
   "execution_count": 24,
   "metadata": {},
   "outputs": [
    {
     "data": {
      "text/html": [
       "<div>\n",
       "<style>\n",
       "    .dataframe thead tr:only-child th {\n",
       "        text-align: right;\n",
       "    }\n",
       "\n",
       "    .dataframe thead th {\n",
       "        text-align: left;\n",
       "    }\n",
       "\n",
       "    .dataframe tbody tr th {\n",
       "        vertical-align: top;\n",
       "    }\n",
       "</style>\n",
       "<table border=\"1\" class=\"dataframe\">\n",
       "  <thead>\n",
       "    <tr style=\"text-align: right;\">\n",
       "      <th></th>\n",
       "      <th>Postcode</th>\n",
       "      <th>Positional_quality_indicator</th>\n",
       "      <th>Eastings</th>\n",
       "      <th>Northings</th>\n",
       "      <th>Country_code</th>\n",
       "      <th>NHS_regional_HA_code</th>\n",
       "      <th>NHS_HA_code</th>\n",
       "      <th>Admin_county_code</th>\n",
       "      <th>Admin_district_code</th>\n",
       "      <th>Admin_ward_code</th>\n",
       "    </tr>\n",
       "  </thead>\n",
       "  <tbody>\n",
       "    <tr>\n",
       "      <th>0</th>\n",
       "      <td>Postcode</td>\n",
       "      <td>Positional_quality_indicator</td>\n",
       "      <td>Eastings</td>\n",
       "      <td>Northings</td>\n",
       "      <td>Country_code</td>\n",
       "      <td>NHS_regional_HA_code</td>\n",
       "      <td>NHS_HA_code</td>\n",
       "      <td>Admin_county_code</td>\n",
       "      <td>Admin_district_code</td>\n",
       "      <td>Admin_ward_code</td>\n",
       "    </tr>\n",
       "  </tbody>\n",
       "</table>\n",
       "</div>"
      ],
      "text/plain": [
       "0  Postcode  Positional_quality_indicator  Eastings  Northings  Country_code  \\\n",
       "0  Postcode  Positional_quality_indicator  Eastings  Northings  Country_code   \n",
       "\n",
       "0  NHS_regional_HA_code  NHS_HA_code  Admin_county_code  Admin_district_code  \\\n",
       "0  NHS_regional_HA_code  NHS_HA_code  Admin_county_code  Admin_district_code   \n",
       "\n",
       "0  Admin_ward_code  \n",
       "0  Admin_ward_code  "
      ]
     },
     "execution_count": 24,
     "metadata": {},
     "output_type": "execute_result"
    }
   ],
   "source": [
    "labels2"
   ]
  },
  {
   "cell_type": "code",
   "execution_count": 25,
   "metadata": {
    "collapsed": true
   },
   "outputs": [],
   "source": [
    "labels2 = labels2.set_index('Postcode')"
   ]
  },
  {
   "cell_type": "code",
   "execution_count": 26,
   "metadata": {
    "collapsed": true
   },
   "outputs": [],
   "source": [
    "labels2 = labels2.reindex(labels2.index.drop('Postcode'))"
   ]
  },
  {
   "cell_type": "code",
   "execution_count": 27,
   "metadata": {
    "collapsed": true
   },
   "outputs": [],
   "source": [
    "Full_postcode = Full_postcode.merge(labels2, how='left', left_index=True, right_index=True)"
   ]
  },
  {
   "cell_type": "code",
   "execution_count": null,
   "metadata": {
    "collapsed": true,
    "scrolled": false
   },
   "outputs": [],
   "source": [
    "Full_postcode"
   ]
  },
  {
   "cell_type": "code",
   "execution_count": 29,
   "metadata": {
    "collapsed": true
   },
   "outputs": [],
   "source": [
    "labels = pd.read_csv(r\"S:\\Projects\\SAHSU_Share\\Diabetes\\Datasets\\Postcodes\\codepo_gb\\Doc\\Code-Point_Open_Column_Headers.csv\", header = None)"
   ]
  },
  {
   "cell_type": "code",
   "execution_count": 30,
   "metadata": {
    "collapsed": true
   },
   "outputs": [],
   "source": [
    "files = glob.glob(r\"S:\\Projects\\SAHSU_Share\\Diabetes\\Datasets\\Postcodes\\codepo_gb\\Data\\CSV\\*\")"
   ]
  },
  {
   "cell_type": "code",
   "execution_count": 31,
   "metadata": {},
   "outputs": [
    {
     "data": {
      "text/plain": [
       "['S:\\\\Projects\\\\SAHSU_Share\\\\Diabetes\\\\Datasets\\\\Postcodes\\\\codepo_gb\\\\Data\\\\CSV\\\\tw.csv',\n",
       " 'S:\\\\Projects\\\\SAHSU_Share\\\\Diabetes\\\\Datasets\\\\Postcodes\\\\codepo_gb\\\\Data\\\\CSV\\\\dy.csv',\n",
       " 'S:\\\\Projects\\\\SAHSU_Share\\\\Diabetes\\\\Datasets\\\\Postcodes\\\\codepo_gb\\\\Data\\\\CSV\\\\la.csv',\n",
       " 'S:\\\\Projects\\\\SAHSU_Share\\\\Diabetes\\\\Datasets\\\\Postcodes\\\\codepo_gb\\\\Data\\\\CSV\\\\hd.csv',\n",
       " 'S:\\\\Projects\\\\SAHSU_Share\\\\Diabetes\\\\Datasets\\\\Postcodes\\\\codepo_gb\\\\Data\\\\CSV\\\\sl.csv',\n",
       " 'S:\\\\Projects\\\\SAHSU_Share\\\\Diabetes\\\\Datasets\\\\Postcodes\\\\codepo_gb\\\\Data\\\\CSV\\\\dg.csv',\n",
       " 'S:\\\\Projects\\\\SAHSU_Share\\\\Diabetes\\\\Datasets\\\\Postcodes\\\\codepo_gb\\\\Data\\\\CSV\\\\ph.csv',\n",
       " 'S:\\\\Projects\\\\SAHSU_Share\\\\Diabetes\\\\Datasets\\\\Postcodes\\\\codepo_gb\\\\Data\\\\CSV\\\\ws.csv',\n",
       " 'S:\\\\Projects\\\\SAHSU_Share\\\\Diabetes\\\\Datasets\\\\Postcodes\\\\codepo_gb\\\\Data\\\\CSV\\\\e.csv',\n",
       " 'S:\\\\Projects\\\\SAHSU_Share\\\\Diabetes\\\\Datasets\\\\Postcodes\\\\codepo_gb\\\\Data\\\\CSV\\\\gu.csv',\n",
       " 'S:\\\\Projects\\\\SAHSU_Share\\\\Diabetes\\\\Datasets\\\\Postcodes\\\\codepo_gb\\\\Data\\\\CSV\\\\ig.csv',\n",
       " 'S:\\\\Projects\\\\SAHSU_Share\\\\Diabetes\\\\Datasets\\\\Postcodes\\\\codepo_gb\\\\Data\\\\CSV\\\\pr.csv',\n",
       " 'S:\\\\Projects\\\\SAHSU_Share\\\\Diabetes\\\\Datasets\\\\Postcodes\\\\codepo_gb\\\\Data\\\\CSV\\\\ze.csv',\n",
       " 'S:\\\\Projects\\\\SAHSU_Share\\\\Diabetes\\\\Datasets\\\\Postcodes\\\\codepo_gb\\\\Data\\\\CSV\\\\wa.csv',\n",
       " 'S:\\\\Projects\\\\SAHSU_Share\\\\Diabetes\\\\Datasets\\\\Postcodes\\\\codepo_gb\\\\Data\\\\CSV\\\\cf.csv',\n",
       " 'S:\\\\Projects\\\\SAHSU_Share\\\\Diabetes\\\\Datasets\\\\Postcodes\\\\codepo_gb\\\\Data\\\\CSV\\\\nn.csv',\n",
       " 'S:\\\\Projects\\\\SAHSU_Share\\\\Diabetes\\\\Datasets\\\\Postcodes\\\\codepo_gb\\\\Data\\\\CSV\\\\sn.csv',\n",
       " 'S:\\\\Projects\\\\SAHSU_Share\\\\Diabetes\\\\Datasets\\\\Postcodes\\\\codepo_gb\\\\Data\\\\CSV\\\\g.csv',\n",
       " 'S:\\\\Projects\\\\SAHSU_Share\\\\Diabetes\\\\Datasets\\\\Postcodes\\\\codepo_gb\\\\Data\\\\CSV\\\\kt.csv',\n",
       " 'S:\\\\Projects\\\\SAHSU_Share\\\\Diabetes\\\\Datasets\\\\Postcodes\\\\codepo_gb\\\\Data\\\\CSV\\\\al.csv',\n",
       " 'S:\\\\Projects\\\\SAHSU_Share\\\\Diabetes\\\\Datasets\\\\Postcodes\\\\codepo_gb\\\\Data\\\\CSV\\\\ip.csv',\n",
       " 'S:\\\\Projects\\\\SAHSU_Share\\\\Diabetes\\\\Datasets\\\\Postcodes\\\\codepo_gb\\\\Data\\\\CSV\\\\wc.csv',\n",
       " 'S:\\\\Projects\\\\SAHSU_Share\\\\Diabetes\\\\Datasets\\\\Postcodes\\\\codepo_gb\\\\Data\\\\CSV\\\\rm.csv',\n",
       " 'S:\\\\Projects\\\\SAHSU_Share\\\\Diabetes\\\\Datasets\\\\Postcodes\\\\codepo_gb\\\\Data\\\\CSV\\\\ch.csv',\n",
       " 'S:\\\\Projects\\\\SAHSU_Share\\\\Diabetes\\\\Datasets\\\\Postcodes\\\\codepo_gb\\\\Data\\\\CSV\\\\np.csv',\n",
       " 'S:\\\\Projects\\\\SAHSU_Share\\\\Diabetes\\\\Datasets\\\\Postcodes\\\\codepo_gb\\\\Data\\\\CSV\\\\da.csv',\n",
       " 'S:\\\\Projects\\\\SAHSU_Share\\\\Diabetes\\\\Datasets\\\\Postcodes\\\\codepo_gb\\\\Data\\\\CSV\\\\le.csv',\n",
       " 'S:\\\\Projects\\\\SAHSU_Share\\\\Diabetes\\\\Datasets\\\\Postcodes\\\\codepo_gb\\\\Data\\\\CSV\\\\sp.csv',\n",
       " 'S:\\\\Projects\\\\SAHSU_Share\\\\Diabetes\\\\Datasets\\\\Postcodes\\\\codepo_gb\\\\Data\\\\CSV\\\\cr.csv',\n",
       " 'S:\\\\Projects\\\\SAHSU_Share\\\\Diabetes\\\\Datasets\\\\Postcodes\\\\codepo_gb\\\\Data\\\\CSV\\\\me.csv',\n",
       " 'S:\\\\Projects\\\\SAHSU_Share\\\\Diabetes\\\\Datasets\\\\Postcodes\\\\codepo_gb\\\\Data\\\\CSV\\\\s.csv',\n",
       " 'S:\\\\Projects\\\\SAHSU_Share\\\\Diabetes\\\\Datasets\\\\Postcodes\\\\codepo_gb\\\\Data\\\\CSV\\\\nr.csv',\n",
       " 'S:\\\\Projects\\\\SAHSU_Share\\\\Diabetes\\\\Datasets\\\\Postcodes\\\\codepo_gb\\\\Data\\\\CSV\\\\ec.csv',\n",
       " 'S:\\\\Projects\\\\SAHSU_Share\\\\Diabetes\\\\Datasets\\\\Postcodes\\\\codepo_gb\\\\Data\\\\CSV\\\\ln.csv',\n",
       " 'S:\\\\Projects\\\\SAHSU_Share\\\\Diabetes\\\\Datasets\\\\Postcodes\\\\codepo_gb\\\\Data\\\\CSV\\\\wv.csv',\n",
       " 'S:\\\\Projects\\\\SAHSU_Share\\\\Diabetes\\\\Datasets\\\\Postcodes\\\\codepo_gb\\\\Data\\\\CSV\\\\sy.csv',\n",
       " 'S:\\\\Projects\\\\SAHSU_Share\\\\Diabetes\\\\Datasets\\\\Postcodes\\\\codepo_gb\\\\Data\\\\CSV\\\\tr.csv',\n",
       " 'S:\\\\Projects\\\\SAHSU_Share\\\\Diabetes\\\\Datasets\\\\Postcodes\\\\codepo_gb\\\\Data\\\\CSV\\\\dt.csv',\n",
       " 'S:\\\\Projects\\\\SAHSU_Share\\\\Diabetes\\\\Datasets\\\\Postcodes\\\\codepo_gb\\\\Data\\\\CSV\\\\rg.csv',\n",
       " 'S:\\\\Projects\\\\SAHSU_Share\\\\Diabetes\\\\Datasets\\\\Postcodes\\\\codepo_gb\\\\Data\\\\CSV\\\\cb.csv',\n",
       " 'S:\\\\Projects\\\\SAHSU_Share\\\\Diabetes\\\\Datasets\\\\Postcodes\\\\codepo_gb\\\\Data\\\\CSV\\\\dl.csv',\n",
       " 'S:\\\\Projects\\\\SAHSU_Share\\\\Diabetes\\\\Datasets\\\\Postcodes\\\\codepo_gb\\\\Data\\\\CSV\\\\kw.csv',\n",
       " 'S:\\\\Projects\\\\SAHSU_Share\\\\Diabetes\\\\Datasets\\\\Postcodes\\\\codepo_gb\\\\Data\\\\CSV\\\\ba.csv',\n",
       " 'S:\\\\Projects\\\\SAHSU_Share\\\\Diabetes\\\\Datasets\\\\Postcodes\\\\codepo_gb\\\\Data\\\\CSV\\\\hs.csv',\n",
       " 'S:\\\\Projects\\\\SAHSU_Share\\\\Diabetes\\\\Datasets\\\\Postcodes\\\\codepo_gb\\\\Data\\\\CSV\\\\iv.csv',\n",
       " 'S:\\\\Projects\\\\SAHSU_Share\\\\Diabetes\\\\Datasets\\\\Postcodes\\\\codepo_gb\\\\Data\\\\CSV\\\\ha.csv',\n",
       " 'S:\\\\Projects\\\\SAHSU_Share\\\\Diabetes\\\\Datasets\\\\Postcodes\\\\codepo_gb\\\\Data\\\\CSV\\\\dd.csv',\n",
       " 'S:\\\\Projects\\\\SAHSU_Share\\\\Diabetes\\\\Datasets\\\\Postcodes\\\\codepo_gb\\\\Data\\\\CSV\\\\ol.csv',\n",
       " 'S:\\\\Projects\\\\SAHSU_Share\\\\Diabetes\\\\Datasets\\\\Postcodes\\\\codepo_gb\\\\Data\\\\CSV\\\\pe.csv',\n",
       " 'S:\\\\Projects\\\\SAHSU_Share\\\\Diabetes\\\\Datasets\\\\Postcodes\\\\codepo_gb\\\\Data\\\\CSV\\\\fy.csv',\n",
       " 'S:\\\\Projects\\\\SAHSU_Share\\\\Diabetes\\\\Datasets\\\\Postcodes\\\\codepo_gb\\\\Data\\\\CSV\\\\b.csv',\n",
       " 'S:\\\\Projects\\\\SAHSU_Share\\\\Diabetes\\\\Datasets\\\\Postcodes\\\\codepo_gb\\\\Data\\\\CSV\\\\ss.csv',\n",
       " 'S:\\\\Projects\\\\SAHSU_Share\\\\Diabetes\\\\Datasets\\\\Postcodes\\\\codepo_gb\\\\Data\\\\CSV\\\\dn.csv',\n",
       " 'S:\\\\Projects\\\\SAHSU_Share\\\\Diabetes\\\\Datasets\\\\Postcodes\\\\codepo_gb\\\\Data\\\\CSV\\\\l.csv',\n",
       " 'S:\\\\Projects\\\\SAHSU_Share\\\\Diabetes\\\\Datasets\\\\Postcodes\\\\codepo_gb\\\\Data\\\\CSV\\\\po.csv',\n",
       " 'S:\\\\Projects\\\\SAHSU_Share\\\\Diabetes\\\\Datasets\\\\Postcodes\\\\codepo_gb\\\\Data\\\\CSV\\\\ky.csv',\n",
       " 'S:\\\\Projects\\\\SAHSU_Share\\\\Diabetes\\\\Datasets\\\\Postcodes\\\\codepo_gb\\\\Data\\\\CSV\\\\mk.csv',\n",
       " 'S:\\\\Projects\\\\SAHSU_Share\\\\Diabetes\\\\Datasets\\\\Postcodes\\\\codepo_gb\\\\Data\\\\CSV\\\\hu.csv',\n",
       " 'S:\\\\Projects\\\\SAHSU_Share\\\\Diabetes\\\\Datasets\\\\Postcodes\\\\codepo_gb\\\\Data\\\\CSV\\\\sk.csv',\n",
       " 'S:\\\\Projects\\\\SAHSU_Share\\\\Diabetes\\\\Datasets\\\\Postcodes\\\\codepo_gb\\\\Data\\\\CSV\\\\td.csv',\n",
       " 'S:\\\\Projects\\\\SAHSU_Share\\\\Diabetes\\\\Datasets\\\\Postcodes\\\\codepo_gb\\\\Data\\\\CSV\\\\cm.csv',\n",
       " 'S:\\\\Projects\\\\SAHSU_Share\\\\Diabetes\\\\Datasets\\\\Postcodes\\\\codepo_gb\\\\Data\\\\CSV\\\\ab.csv',\n",
       " 'S:\\\\Projects\\\\SAHSU_Share\\\\Diabetes\\\\Datasets\\\\Postcodes\\\\codepo_gb\\\\Data\\\\CSV\\\\wr.csv',\n",
       " 'S:\\\\Projects\\\\SAHSU_Share\\\\Diabetes\\\\Datasets\\\\Postcodes\\\\codepo_gb\\\\Data\\\\CSV\\\\tn.csv',\n",
       " 'S:\\\\Projects\\\\SAHSU_Share\\\\Diabetes\\\\Datasets\\\\Postcodes\\\\codepo_gb\\\\Data\\\\CSV\\\\n.csv',\n",
       " 'S:\\\\Projects\\\\SAHSU_Share\\\\Diabetes\\\\Datasets\\\\Postcodes\\\\codepo_gb\\\\Data\\\\CSV\\\\cw.csv',\n",
       " 'S:\\\\Projects\\\\SAHSU_Share\\\\Diabetes\\\\Datasets\\\\Postcodes\\\\codepo_gb\\\\Data\\\\CSV\\\\ox.csv',\n",
       " 'S:\\\\Projects\\\\SAHSU_Share\\\\Diabetes\\\\Datasets\\\\Postcodes\\\\codepo_gb\\\\Data\\\\CSV\\\\bl.csv',\n",
       " 'S:\\\\Projects\\\\SAHSU_Share\\\\Diabetes\\\\Datasets\\\\Postcodes\\\\codepo_gb\\\\Data\\\\CSV\\\\gl.csv',\n",
       " 'S:\\\\Projects\\\\SAHSU_Share\\\\Diabetes\\\\Datasets\\\\Postcodes\\\\codepo_gb\\\\Data\\\\CSV\\\\sm.csv',\n",
       " 'S:\\\\Projects\\\\SAHSU_Share\\\\Diabetes\\\\Datasets\\\\Postcodes\\\\codepo_gb\\\\Data\\\\CSV\\\\tf.csv',\n",
       " 'S:\\\\Projects\\\\SAHSU_Share\\\\Diabetes\\\\Datasets\\\\Postcodes\\\\codepo_gb\\\\Data\\\\CSV\\\\co.csv',\n",
       " 'S:\\\\Projects\\\\SAHSU_Share\\\\Diabetes\\\\Datasets\\\\Postcodes\\\\codepo_gb\\\\Data\\\\CSV\\\\nw.csv',\n",
       " 'S:\\\\Projects\\\\SAHSU_Share\\\\Diabetes\\\\Datasets\\\\Postcodes\\\\codepo_gb\\\\Data\\\\CSV\\\\dh.csv',\n",
       " 'S:\\\\Projects\\\\SAHSU_Share\\\\Diabetes\\\\Datasets\\\\Postcodes\\\\codepo_gb\\\\Data\\\\CSV\\\\ll.csv',\n",
       " 'S:\\\\Projects\\\\SAHSU_Share\\\\Diabetes\\\\Datasets\\\\Postcodes\\\\codepo_gb\\\\Data\\\\CSV\\\\sw.csv',\n",
       " 'S:\\\\Projects\\\\SAHSU_Share\\\\Diabetes\\\\Datasets\\\\Postcodes\\\\codepo_gb\\\\Data\\\\CSV\\\\bd.csv',\n",
       " 'S:\\\\Projects\\\\SAHSU_Share\\\\Diabetes\\\\Datasets\\\\Postcodes\\\\codepo_gb\\\\Data\\\\CSV\\\\ne.csv',\n",
       " 'S:\\\\Projects\\\\SAHSU_Share\\\\Diabetes\\\\Datasets\\\\Postcodes\\\\codepo_gb\\\\Data\\\\CSV\\\\ka.csv',\n",
       " 'S:\\\\Projects\\\\SAHSU_Share\\\\Diabetes\\\\Datasets\\\\Postcodes\\\\codepo_gb\\\\Data\\\\CSV\\\\fk.csv',\n",
       " 'S:\\\\Projects\\\\SAHSU_Share\\\\Diabetes\\\\Datasets\\\\Postcodes\\\\codepo_gb\\\\Data\\\\CSV\\\\se.csv',\n",
       " 'S:\\\\Projects\\\\SAHSU_Share\\\\Diabetes\\\\Datasets\\\\Postcodes\\\\codepo_gb\\\\Data\\\\CSV\\\\bn.csv',\n",
       " 'S:\\\\Projects\\\\SAHSU_Share\\\\Diabetes\\\\Datasets\\\\Postcodes\\\\codepo_gb\\\\Data\\\\CSV\\\\pa.csv',\n",
       " 'S:\\\\Projects\\\\SAHSU_Share\\\\Diabetes\\\\Datasets\\\\Postcodes\\\\codepo_gb\\\\Data\\\\CSV\\\\ld.csv',\n",
       " 'S:\\\\Projects\\\\SAHSU_Share\\\\Diabetes\\\\Datasets\\\\Postcodes\\\\codepo_gb\\\\Data\\\\CSV\\\\hg.csv',\n",
       " 'S:\\\\Projects\\\\SAHSU_Share\\\\Diabetes\\\\Datasets\\\\Postcodes\\\\codepo_gb\\\\Data\\\\CSV\\\\so.csv',\n",
       " 'S:\\\\Projects\\\\SAHSU_Share\\\\Diabetes\\\\Datasets\\\\Postcodes\\\\codepo_gb\\\\Data\\\\CSV\\\\lu.csv',\n",
       " 'S:\\\\Projects\\\\SAHSU_Share\\\\Diabetes\\\\Datasets\\\\Postcodes\\\\codepo_gb\\\\Data\\\\CSV\\\\ng.csv',\n",
       " 'S:\\\\Projects\\\\SAHSU_Share\\\\Diabetes\\\\Datasets\\\\Postcodes\\\\codepo_gb\\\\Data\\\\CSV\\\\yo.csv',\n",
       " 'S:\\\\Projects\\\\SAHSU_Share\\\\Diabetes\\\\Datasets\\\\Postcodes\\\\codepo_gb\\\\Data\\\\CSV\\\\hx.csv',\n",
       " 'S:\\\\Projects\\\\SAHSU_Share\\\\Diabetes\\\\Datasets\\\\Postcodes\\\\codepo_gb\\\\Data\\\\CSV\\\\wd.csv',\n",
       " 'S:\\\\Projects\\\\SAHSU_Share\\\\Diabetes\\\\Datasets\\\\Postcodes\\\\codepo_gb\\\\Data\\\\CSV\\\\sg.csv',\n",
       " 'S:\\\\Projects\\\\SAHSU_Share\\\\Diabetes\\\\Datasets\\\\Postcodes\\\\codepo_gb\\\\Data\\\\CSV\\\\wn.csv',\n",
       " 'S:\\\\Projects\\\\SAHSU_Share\\\\Diabetes\\\\Datasets\\\\Postcodes\\\\codepo_gb\\\\Data\\\\CSV\\\\hp.csv',\n",
       " 'S:\\\\Projects\\\\SAHSU_Share\\\\Diabetes\\\\Datasets\\\\Postcodes\\\\codepo_gb\\\\Data\\\\CSV\\\\tq.csv',\n",
       " 'S:\\\\Projects\\\\SAHSU_Share\\\\Diabetes\\\\Datasets\\\\Postcodes\\\\codepo_gb\\\\Data\\\\CSV\\\\bh.csv',\n",
       " 'S:\\\\Projects\\\\SAHSU_Share\\\\Diabetes\\\\Datasets\\\\Postcodes\\\\codepo_gb\\\\Data\\\\CSV\\\\ca.csv',\n",
       " 'S:\\\\Projects\\\\SAHSU_Share\\\\Diabetes\\\\Datasets\\\\Postcodes\\\\codepo_gb\\\\Data\\\\CSV\\\\wf.csv',\n",
       " 'S:\\\\Projects\\\\SAHSU_Share\\\\Diabetes\\\\Datasets\\\\Postcodes\\\\codepo_gb\\\\Data\\\\CSV\\\\br.csv',\n",
       " 'S:\\\\Projects\\\\SAHSU_Share\\\\Diabetes\\\\Datasets\\\\Postcodes\\\\codepo_gb\\\\Data\\\\CSV\\\\ub.csv',\n",
       " 'S:\\\\Projects\\\\SAHSU_Share\\\\Diabetes\\\\Datasets\\\\Postcodes\\\\codepo_gb\\\\Data\\\\CSV\\\\pl.csv',\n",
       " 'S:\\\\Projects\\\\SAHSU_Share\\\\Diabetes\\\\Datasets\\\\Postcodes\\\\codepo_gb\\\\Data\\\\CSV\\\\hr.csv',\n",
       " 'S:\\\\Projects\\\\SAHSU_Share\\\\Diabetes\\\\Datasets\\\\Postcodes\\\\codepo_gb\\\\Data\\\\CSV\\\\ts.csv',\n",
       " 'S:\\\\Projects\\\\SAHSU_Share\\\\Diabetes\\\\Datasets\\\\Postcodes\\\\codepo_gb\\\\Data\\\\CSV\\\\en.csv',\n",
       " 'S:\\\\Projects\\\\SAHSU_Share\\\\Diabetes\\\\Datasets\\\\Postcodes\\\\codepo_gb\\\\Data\\\\CSV\\\\rh.csv',\n",
       " 'S:\\\\Projects\\\\SAHSU_Share\\\\Diabetes\\\\Datasets\\\\Postcodes\\\\codepo_gb\\\\Data\\\\CSV\\\\sa.csv',\n",
       " 'S:\\\\Projects\\\\SAHSU_Share\\\\Diabetes\\\\Datasets\\\\Postcodes\\\\codepo_gb\\\\Data\\\\CSV\\\\ex.csv',\n",
       " 'S:\\\\Projects\\\\SAHSU_Share\\\\Diabetes\\\\Datasets\\\\Postcodes\\\\codepo_gb\\\\Data\\\\CSV\\\\ta.csv',\n",
       " 'S:\\\\Projects\\\\SAHSU_Share\\\\Diabetes\\\\Datasets\\\\Postcodes\\\\codepo_gb\\\\Data\\\\CSV\\\\sr.csv',\n",
       " 'S:\\\\Projects\\\\SAHSU_Share\\\\Diabetes\\\\Datasets\\\\Postcodes\\\\codepo_gb\\\\Data\\\\CSV\\\\ct.csv',\n",
       " 'S:\\\\Projects\\\\SAHSU_Share\\\\Diabetes\\\\Datasets\\\\Postcodes\\\\codepo_gb\\\\Data\\\\CSV\\\\bb.csv',\n",
       " 'S:\\\\Projects\\\\SAHSU_Share\\\\Diabetes\\\\Datasets\\\\Postcodes\\\\codepo_gb\\\\Data\\\\CSV\\\\bs.csv',\n",
       " 'S:\\\\Projects\\\\SAHSU_Share\\\\Diabetes\\\\Datasets\\\\Postcodes\\\\codepo_gb\\\\Data\\\\CSV\\\\de.csv',\n",
       " 'S:\\\\Projects\\\\SAHSU_Share\\\\Diabetes\\\\Datasets\\\\Postcodes\\\\codepo_gb\\\\Data\\\\CSV\\\\st.csv',\n",
       " 'S:\\\\Projects\\\\SAHSU_Share\\\\Diabetes\\\\Datasets\\\\Postcodes\\\\codepo_gb\\\\Data\\\\CSV\\\\cv.csv',\n",
       " 'S:\\\\Projects\\\\SAHSU_Share\\\\Diabetes\\\\Datasets\\\\Postcodes\\\\codepo_gb\\\\Data\\\\CSV\\\\m.csv',\n",
       " 'S:\\\\Projects\\\\SAHSU_Share\\\\Diabetes\\\\Datasets\\\\Postcodes\\\\codepo_gb\\\\Data\\\\CSV\\\\eh.csv',\n",
       " 'S:\\\\Projects\\\\SAHSU_Share\\\\Diabetes\\\\Datasets\\\\Postcodes\\\\codepo_gb\\\\Data\\\\CSV\\\\ls.csv',\n",
       " 'S:\\\\Projects\\\\SAHSU_Share\\\\Diabetes\\\\Datasets\\\\Postcodes\\\\codepo_gb\\\\Data\\\\CSV\\\\w.csv',\n",
       " 'S:\\\\Projects\\\\SAHSU_Share\\\\Diabetes\\\\Datasets\\\\Postcodes\\\\codepo_gb\\\\Data\\\\CSV\\\\ml.csv']"
      ]
     },
     "execution_count": 31,
     "metadata": {},
     "output_type": "execute_result"
    }
   ],
   "source": [
    "files"
   ]
  },
  {
   "cell_type": "code",
   "execution_count": 32,
   "metadata": {
    "scrolled": true
   },
   "outputs": [
    {
     "name": "stdout",
     "output_type": "stream",
     "text": [
      "Processed S:\\Projects\\SAHSU_Share\\Diabetes\\Datasets\\Postcodes\\codepo_gb\\Data\\CSV\\tw.csv\n",
      "Processed S:\\Projects\\SAHSU_Share\\Diabetes\\Datasets\\Postcodes\\codepo_gb\\Data\\CSV\\dy.csv\n",
      "Processed S:\\Projects\\SAHSU_Share\\Diabetes\\Datasets\\Postcodes\\codepo_gb\\Data\\CSV\\la.csv\n",
      "Processed S:\\Projects\\SAHSU_Share\\Diabetes\\Datasets\\Postcodes\\codepo_gb\\Data\\CSV\\hd.csv\n",
      "Processed S:\\Projects\\SAHSU_Share\\Diabetes\\Datasets\\Postcodes\\codepo_gb\\Data\\CSV\\sl.csv\n",
      "Processed S:\\Projects\\SAHSU_Share\\Diabetes\\Datasets\\Postcodes\\codepo_gb\\Data\\CSV\\dg.csv\n",
      "Processed S:\\Projects\\SAHSU_Share\\Diabetes\\Datasets\\Postcodes\\codepo_gb\\Data\\CSV\\ph.csv\n",
      "Processed S:\\Projects\\SAHSU_Share\\Diabetes\\Datasets\\Postcodes\\codepo_gb\\Data\\CSV\\ws.csv\n",
      "Processed S:\\Projects\\SAHSU_Share\\Diabetes\\Datasets\\Postcodes\\codepo_gb\\Data\\CSV\\e.csv\n",
      "Processed S:\\Projects\\SAHSU_Share\\Diabetes\\Datasets\\Postcodes\\codepo_gb\\Data\\CSV\\gu.csv\n",
      "Processed S:\\Projects\\SAHSU_Share\\Diabetes\\Datasets\\Postcodes\\codepo_gb\\Data\\CSV\\ig.csv\n",
      "Processed S:\\Projects\\SAHSU_Share\\Diabetes\\Datasets\\Postcodes\\codepo_gb\\Data\\CSV\\pr.csv\n",
      "Processed S:\\Projects\\SAHSU_Share\\Diabetes\\Datasets\\Postcodes\\codepo_gb\\Data\\CSV\\ze.csv\n",
      "Processed S:\\Projects\\SAHSU_Share\\Diabetes\\Datasets\\Postcodes\\codepo_gb\\Data\\CSV\\wa.csv\n",
      "Processed S:\\Projects\\SAHSU_Share\\Diabetes\\Datasets\\Postcodes\\codepo_gb\\Data\\CSV\\cf.csv\n",
      "Processed S:\\Projects\\SAHSU_Share\\Diabetes\\Datasets\\Postcodes\\codepo_gb\\Data\\CSV\\nn.csv\n",
      "Processed S:\\Projects\\SAHSU_Share\\Diabetes\\Datasets\\Postcodes\\codepo_gb\\Data\\CSV\\sn.csv\n",
      "Processed S:\\Projects\\SAHSU_Share\\Diabetes\\Datasets\\Postcodes\\codepo_gb\\Data\\CSV\\g.csv\n",
      "Processed S:\\Projects\\SAHSU_Share\\Diabetes\\Datasets\\Postcodes\\codepo_gb\\Data\\CSV\\kt.csv\n",
      "Processed S:\\Projects\\SAHSU_Share\\Diabetes\\Datasets\\Postcodes\\codepo_gb\\Data\\CSV\\al.csv\n",
      "Processed S:\\Projects\\SAHSU_Share\\Diabetes\\Datasets\\Postcodes\\codepo_gb\\Data\\CSV\\ip.csv\n",
      "Processed S:\\Projects\\SAHSU_Share\\Diabetes\\Datasets\\Postcodes\\codepo_gb\\Data\\CSV\\wc.csv\n",
      "Processed S:\\Projects\\SAHSU_Share\\Diabetes\\Datasets\\Postcodes\\codepo_gb\\Data\\CSV\\rm.csv\n",
      "Processed S:\\Projects\\SAHSU_Share\\Diabetes\\Datasets\\Postcodes\\codepo_gb\\Data\\CSV\\ch.csv\n",
      "Processed S:\\Projects\\SAHSU_Share\\Diabetes\\Datasets\\Postcodes\\codepo_gb\\Data\\CSV\\np.csv\n",
      "Processed S:\\Projects\\SAHSU_Share\\Diabetes\\Datasets\\Postcodes\\codepo_gb\\Data\\CSV\\da.csv\n",
      "Processed S:\\Projects\\SAHSU_Share\\Diabetes\\Datasets\\Postcodes\\codepo_gb\\Data\\CSV\\le.csv\n",
      "Processed S:\\Projects\\SAHSU_Share\\Diabetes\\Datasets\\Postcodes\\codepo_gb\\Data\\CSV\\sp.csv\n",
      "Processed S:\\Projects\\SAHSU_Share\\Diabetes\\Datasets\\Postcodes\\codepo_gb\\Data\\CSV\\cr.csv\n",
      "Processed S:\\Projects\\SAHSU_Share\\Diabetes\\Datasets\\Postcodes\\codepo_gb\\Data\\CSV\\me.csv\n",
      "Processed S:\\Projects\\SAHSU_Share\\Diabetes\\Datasets\\Postcodes\\codepo_gb\\Data\\CSV\\s.csv\n",
      "Processed S:\\Projects\\SAHSU_Share\\Diabetes\\Datasets\\Postcodes\\codepo_gb\\Data\\CSV\\nr.csv\n",
      "Processed S:\\Projects\\SAHSU_Share\\Diabetes\\Datasets\\Postcodes\\codepo_gb\\Data\\CSV\\ec.csv\n",
      "Processed S:\\Projects\\SAHSU_Share\\Diabetes\\Datasets\\Postcodes\\codepo_gb\\Data\\CSV\\ln.csv\n",
      "Processed S:\\Projects\\SAHSU_Share\\Diabetes\\Datasets\\Postcodes\\codepo_gb\\Data\\CSV\\wv.csv\n",
      "Processed S:\\Projects\\SAHSU_Share\\Diabetes\\Datasets\\Postcodes\\codepo_gb\\Data\\CSV\\sy.csv\n",
      "Processed S:\\Projects\\SAHSU_Share\\Diabetes\\Datasets\\Postcodes\\codepo_gb\\Data\\CSV\\tr.csv\n",
      "Processed S:\\Projects\\SAHSU_Share\\Diabetes\\Datasets\\Postcodes\\codepo_gb\\Data\\CSV\\dt.csv\n",
      "Processed S:\\Projects\\SAHSU_Share\\Diabetes\\Datasets\\Postcodes\\codepo_gb\\Data\\CSV\\rg.csv\n",
      "Processed S:\\Projects\\SAHSU_Share\\Diabetes\\Datasets\\Postcodes\\codepo_gb\\Data\\CSV\\cb.csv\n",
      "Processed S:\\Projects\\SAHSU_Share\\Diabetes\\Datasets\\Postcodes\\codepo_gb\\Data\\CSV\\dl.csv\n",
      "Processed S:\\Projects\\SAHSU_Share\\Diabetes\\Datasets\\Postcodes\\codepo_gb\\Data\\CSV\\kw.csv\n",
      "Processed S:\\Projects\\SAHSU_Share\\Diabetes\\Datasets\\Postcodes\\codepo_gb\\Data\\CSV\\ba.csv\n",
      "Processed S:\\Projects\\SAHSU_Share\\Diabetes\\Datasets\\Postcodes\\codepo_gb\\Data\\CSV\\hs.csv\n",
      "Processed S:\\Projects\\SAHSU_Share\\Diabetes\\Datasets\\Postcodes\\codepo_gb\\Data\\CSV\\iv.csv\n",
      "Processed S:\\Projects\\SAHSU_Share\\Diabetes\\Datasets\\Postcodes\\codepo_gb\\Data\\CSV\\ha.csv\n",
      "Processed S:\\Projects\\SAHSU_Share\\Diabetes\\Datasets\\Postcodes\\codepo_gb\\Data\\CSV\\dd.csv\n",
      "Processed S:\\Projects\\SAHSU_Share\\Diabetes\\Datasets\\Postcodes\\codepo_gb\\Data\\CSV\\ol.csv\n",
      "Processed S:\\Projects\\SAHSU_Share\\Diabetes\\Datasets\\Postcodes\\codepo_gb\\Data\\CSV\\pe.csv\n",
      "Processed S:\\Projects\\SAHSU_Share\\Diabetes\\Datasets\\Postcodes\\codepo_gb\\Data\\CSV\\fy.csv\n",
      "Processed S:\\Projects\\SAHSU_Share\\Diabetes\\Datasets\\Postcodes\\codepo_gb\\Data\\CSV\\b.csv\n",
      "Processed S:\\Projects\\SAHSU_Share\\Diabetes\\Datasets\\Postcodes\\codepo_gb\\Data\\CSV\\ss.csv\n",
      "Processed S:\\Projects\\SAHSU_Share\\Diabetes\\Datasets\\Postcodes\\codepo_gb\\Data\\CSV\\dn.csv\n",
      "Processed S:\\Projects\\SAHSU_Share\\Diabetes\\Datasets\\Postcodes\\codepo_gb\\Data\\CSV\\l.csv\n",
      "Processed S:\\Projects\\SAHSU_Share\\Diabetes\\Datasets\\Postcodes\\codepo_gb\\Data\\CSV\\po.csv\n",
      "Processed S:\\Projects\\SAHSU_Share\\Diabetes\\Datasets\\Postcodes\\codepo_gb\\Data\\CSV\\ky.csv\n",
      "Processed S:\\Projects\\SAHSU_Share\\Diabetes\\Datasets\\Postcodes\\codepo_gb\\Data\\CSV\\mk.csv\n",
      "Processed S:\\Projects\\SAHSU_Share\\Diabetes\\Datasets\\Postcodes\\codepo_gb\\Data\\CSV\\hu.csv\n",
      "Processed S:\\Projects\\SAHSU_Share\\Diabetes\\Datasets\\Postcodes\\codepo_gb\\Data\\CSV\\sk.csv\n",
      "Processed S:\\Projects\\SAHSU_Share\\Diabetes\\Datasets\\Postcodes\\codepo_gb\\Data\\CSV\\td.csv\n",
      "Processed S:\\Projects\\SAHSU_Share\\Diabetes\\Datasets\\Postcodes\\codepo_gb\\Data\\CSV\\cm.csv\n",
      "Processed S:\\Projects\\SAHSU_Share\\Diabetes\\Datasets\\Postcodes\\codepo_gb\\Data\\CSV\\ab.csv\n",
      "Processed S:\\Projects\\SAHSU_Share\\Diabetes\\Datasets\\Postcodes\\codepo_gb\\Data\\CSV\\wr.csv\n",
      "Processed S:\\Projects\\SAHSU_Share\\Diabetes\\Datasets\\Postcodes\\codepo_gb\\Data\\CSV\\tn.csv\n",
      "Processed S:\\Projects\\SAHSU_Share\\Diabetes\\Datasets\\Postcodes\\codepo_gb\\Data\\CSV\\n.csv\n",
      "Processed S:\\Projects\\SAHSU_Share\\Diabetes\\Datasets\\Postcodes\\codepo_gb\\Data\\CSV\\cw.csv\n",
      "Processed S:\\Projects\\SAHSU_Share\\Diabetes\\Datasets\\Postcodes\\codepo_gb\\Data\\CSV\\ox.csv\n",
      "Processed S:\\Projects\\SAHSU_Share\\Diabetes\\Datasets\\Postcodes\\codepo_gb\\Data\\CSV\\bl.csv\n",
      "Processed S:\\Projects\\SAHSU_Share\\Diabetes\\Datasets\\Postcodes\\codepo_gb\\Data\\CSV\\gl.csv\n",
      "Processed S:\\Projects\\SAHSU_Share\\Diabetes\\Datasets\\Postcodes\\codepo_gb\\Data\\CSV\\sm.csv\n",
      "Processed S:\\Projects\\SAHSU_Share\\Diabetes\\Datasets\\Postcodes\\codepo_gb\\Data\\CSV\\tf.csv\n",
      "Processed S:\\Projects\\SAHSU_Share\\Diabetes\\Datasets\\Postcodes\\codepo_gb\\Data\\CSV\\co.csv\n",
      "Processed S:\\Projects\\SAHSU_Share\\Diabetes\\Datasets\\Postcodes\\codepo_gb\\Data\\CSV\\nw.csv\n",
      "Processed S:\\Projects\\SAHSU_Share\\Diabetes\\Datasets\\Postcodes\\codepo_gb\\Data\\CSV\\dh.csv\n",
      "Processed S:\\Projects\\SAHSU_Share\\Diabetes\\Datasets\\Postcodes\\codepo_gb\\Data\\CSV\\ll.csv\n",
      "Processed S:\\Projects\\SAHSU_Share\\Diabetes\\Datasets\\Postcodes\\codepo_gb\\Data\\CSV\\sw.csv\n",
      "Processed S:\\Projects\\SAHSU_Share\\Diabetes\\Datasets\\Postcodes\\codepo_gb\\Data\\CSV\\bd.csv\n",
      "Processed S:\\Projects\\SAHSU_Share\\Diabetes\\Datasets\\Postcodes\\codepo_gb\\Data\\CSV\\ne.csv\n",
      "Processed S:\\Projects\\SAHSU_Share\\Diabetes\\Datasets\\Postcodes\\codepo_gb\\Data\\CSV\\ka.csv\n",
      "Processed S:\\Projects\\SAHSU_Share\\Diabetes\\Datasets\\Postcodes\\codepo_gb\\Data\\CSV\\fk.csv\n",
      "Processed S:\\Projects\\SAHSU_Share\\Diabetes\\Datasets\\Postcodes\\codepo_gb\\Data\\CSV\\se.csv\n",
      "Processed S:\\Projects\\SAHSU_Share\\Diabetes\\Datasets\\Postcodes\\codepo_gb\\Data\\CSV\\bn.csv\n",
      "Processed S:\\Projects\\SAHSU_Share\\Diabetes\\Datasets\\Postcodes\\codepo_gb\\Data\\CSV\\pa.csv\n",
      "Processed S:\\Projects\\SAHSU_Share\\Diabetes\\Datasets\\Postcodes\\codepo_gb\\Data\\CSV\\ld.csv\n",
      "Processed S:\\Projects\\SAHSU_Share\\Diabetes\\Datasets\\Postcodes\\codepo_gb\\Data\\CSV\\hg.csv\n",
      "Processed S:\\Projects\\SAHSU_Share\\Diabetes\\Datasets\\Postcodes\\codepo_gb\\Data\\CSV\\so.csv\n",
      "Processed S:\\Projects\\SAHSU_Share\\Diabetes\\Datasets\\Postcodes\\codepo_gb\\Data\\CSV\\lu.csv\n",
      "Processed S:\\Projects\\SAHSU_Share\\Diabetes\\Datasets\\Postcodes\\codepo_gb\\Data\\CSV\\ng.csv\n",
      "Processed S:\\Projects\\SAHSU_Share\\Diabetes\\Datasets\\Postcodes\\codepo_gb\\Data\\CSV\\yo.csv\n",
      "Processed S:\\Projects\\SAHSU_Share\\Diabetes\\Datasets\\Postcodes\\codepo_gb\\Data\\CSV\\hx.csv\n",
      "Processed S:\\Projects\\SAHSU_Share\\Diabetes\\Datasets\\Postcodes\\codepo_gb\\Data\\CSV\\wd.csv\n",
      "Processed S:\\Projects\\SAHSU_Share\\Diabetes\\Datasets\\Postcodes\\codepo_gb\\Data\\CSV\\sg.csv\n",
      "Processed S:\\Projects\\SAHSU_Share\\Diabetes\\Datasets\\Postcodes\\codepo_gb\\Data\\CSV\\wn.csv\n",
      "Processed S:\\Projects\\SAHSU_Share\\Diabetes\\Datasets\\Postcodes\\codepo_gb\\Data\\CSV\\hp.csv\n",
      "Processed S:\\Projects\\SAHSU_Share\\Diabetes\\Datasets\\Postcodes\\codepo_gb\\Data\\CSV\\tq.csv\n"
     ]
    },
    {
     "name": "stdout",
     "output_type": "stream",
     "text": [
      "Processed S:\\Projects\\SAHSU_Share\\Diabetes\\Datasets\\Postcodes\\codepo_gb\\Data\\CSV\\bh.csv\n",
      "Processed S:\\Projects\\SAHSU_Share\\Diabetes\\Datasets\\Postcodes\\codepo_gb\\Data\\CSV\\ca.csv\n",
      "Processed S:\\Projects\\SAHSU_Share\\Diabetes\\Datasets\\Postcodes\\codepo_gb\\Data\\CSV\\wf.csv\n",
      "Processed S:\\Projects\\SAHSU_Share\\Diabetes\\Datasets\\Postcodes\\codepo_gb\\Data\\CSV\\br.csv\n",
      "Processed S:\\Projects\\SAHSU_Share\\Diabetes\\Datasets\\Postcodes\\codepo_gb\\Data\\CSV\\ub.csv\n",
      "Processed S:\\Projects\\SAHSU_Share\\Diabetes\\Datasets\\Postcodes\\codepo_gb\\Data\\CSV\\pl.csv\n",
      "Processed S:\\Projects\\SAHSU_Share\\Diabetes\\Datasets\\Postcodes\\codepo_gb\\Data\\CSV\\hr.csv\n",
      "Processed S:\\Projects\\SAHSU_Share\\Diabetes\\Datasets\\Postcodes\\codepo_gb\\Data\\CSV\\ts.csv\n",
      "Processed S:\\Projects\\SAHSU_Share\\Diabetes\\Datasets\\Postcodes\\codepo_gb\\Data\\CSV\\en.csv\n",
      "Processed S:\\Projects\\SAHSU_Share\\Diabetes\\Datasets\\Postcodes\\codepo_gb\\Data\\CSV\\rh.csv\n",
      "Processed S:\\Projects\\SAHSU_Share\\Diabetes\\Datasets\\Postcodes\\codepo_gb\\Data\\CSV\\sa.csv\n",
      "Processed S:\\Projects\\SAHSU_Share\\Diabetes\\Datasets\\Postcodes\\codepo_gb\\Data\\CSV\\ex.csv\n",
      "Processed S:\\Projects\\SAHSU_Share\\Diabetes\\Datasets\\Postcodes\\codepo_gb\\Data\\CSV\\ta.csv\n",
      "Processed S:\\Projects\\SAHSU_Share\\Diabetes\\Datasets\\Postcodes\\codepo_gb\\Data\\CSV\\sr.csv\n",
      "Processed S:\\Projects\\SAHSU_Share\\Diabetes\\Datasets\\Postcodes\\codepo_gb\\Data\\CSV\\ct.csv\n",
      "Processed S:\\Projects\\SAHSU_Share\\Diabetes\\Datasets\\Postcodes\\codepo_gb\\Data\\CSV\\bb.csv\n",
      "Processed S:\\Projects\\SAHSU_Share\\Diabetes\\Datasets\\Postcodes\\codepo_gb\\Data\\CSV\\bs.csv\n",
      "Processed S:\\Projects\\SAHSU_Share\\Diabetes\\Datasets\\Postcodes\\codepo_gb\\Data\\CSV\\de.csv\n",
      "Processed S:\\Projects\\SAHSU_Share\\Diabetes\\Datasets\\Postcodes\\codepo_gb\\Data\\CSV\\st.csv\n",
      "Processed S:\\Projects\\SAHSU_Share\\Diabetes\\Datasets\\Postcodes\\codepo_gb\\Data\\CSV\\cv.csv\n",
      "Processed S:\\Projects\\SAHSU_Share\\Diabetes\\Datasets\\Postcodes\\codepo_gb\\Data\\CSV\\m.csv\n",
      "Processed S:\\Projects\\SAHSU_Share\\Diabetes\\Datasets\\Postcodes\\codepo_gb\\Data\\CSV\\eh.csv\n",
      "Processed S:\\Projects\\SAHSU_Share\\Diabetes\\Datasets\\Postcodes\\codepo_gb\\Data\\CSV\\ls.csv\n",
      "Processed S:\\Projects\\SAHSU_Share\\Diabetes\\Datasets\\Postcodes\\codepo_gb\\Data\\CSV\\w.csv\n",
      "Processed S:\\Projects\\SAHSU_Share\\Diabetes\\Datasets\\Postcodes\\codepo_gb\\Data\\CSV\\ml.csv\n"
     ]
    }
   ],
   "source": [
    "for file in files:\n",
    "    postcode = pd.read_csv(r'{fname}'.format(fname=file), header=None)\n",
    "    data = pd.concat([labels,postcode])\n",
    "    data.columns = data.iloc[0]\n",
    "    data = data.set_index(['Postcode'])\n",
    "    data = data.reindex(data.index.drop('Postcode'))\n",
    "    data.insert(0, 'SAMPLED_DATE', 'NaN')\n",
    "    data.insert(1,'NITRATE', 'NaN')\n",
    "    data['SAMPLED_DATE']= pd.to_datetime(data['SAMPLED_DATE'])\n",
    "    Full_postcode = Full_postcode.combine_first(data)\n",
    "    Full_postcode = Full_postcode[pd.notnull(Full_postcode['SAMPLED_DATE'])]\n",
    "    \n",
    "    \n",
    "    print('Processed {fname}'.format(fname=file))"
   ]
  },
  {
   "cell_type": "code",
   "execution_count": null,
   "metadata": {
    "collapsed": true,
    "scrolled": true
   },
   "outputs": [],
   "source": [
    "Full_postcode"
   ]
  },
  {
   "cell_type": "code",
   "execution_count": 63,
   "metadata": {
    "collapsed": true
   },
   "outputs": [],
   "source": [
    "Full_postcode = Full_postcode.rename(columns={'Eastings':'x_coord', 'Northings':'y_coord'})"
   ]
  },
  {
   "cell_type": "code",
   "execution_count": 65,
   "metadata": {
    "collapsed": true
   },
   "outputs": [],
   "source": [
    "Full_postcode = Full_postcode[['SAMPLED_DATE', 'NITRATE', 'x_coord', 'y_coord']]"
   ]
  },
  {
   "cell_type": "code",
   "execution_count": 34,
   "metadata": {},
   "outputs": [
    {
     "ename": "PermissionError",
     "evalue": "[Errno 13] Permission denied: 'S:\\\\Projects\\\\SAHSU_Share\\\\Diabetes\\\\Datasets\\\\Drinking_water\\\\South_East_Water\\\\SEW_Nitrate_full_postcode.csv'",
     "output_type": "error",
     "traceback": [
      "\u001b[1;31m---------------------------------------------------------------------------\u001b[0m",
      "\u001b[1;31mPermissionError\u001b[0m                           Traceback (most recent call last)",
      "\u001b[1;32m<ipython-input-34-a6c3fb756cb8>\u001b[0m in \u001b[0;36m<module>\u001b[1;34m()\u001b[0m\n\u001b[1;32m----> 1\u001b[1;33m \u001b[0mFull_postcode\u001b[0m\u001b[1;33m.\u001b[0m\u001b[0mto_csv\u001b[0m\u001b[1;33m(\u001b[0m\u001b[1;34mr\"S:\\Projects\\SAHSU_Share\\Diabetes\\Datasets\\Drinking_water\\South_East_Water\\SEW_Nitrate_full_postcode.csv\"\u001b[0m\u001b[1;33m)\u001b[0m\u001b[1;33m\u001b[0m\u001b[0m\n\u001b[0m",
      "\u001b[1;32mC:\\Users\\ansheeha\\AppData\\Local\\Continuum\\Anaconda3\\lib\\site-packages\\pandas\\core\\frame.py\u001b[0m in \u001b[0;36mto_csv\u001b[1;34m(self, path_or_buf, sep, na_rep, float_format, columns, header, index, index_label, mode, encoding, compression, quoting, quotechar, line_terminator, chunksize, tupleize_cols, date_format, doublequote, escapechar, decimal)\u001b[0m\n\u001b[0;32m   1411\u001b[0m                                      \u001b[0mdoublequote\u001b[0m\u001b[1;33m=\u001b[0m\u001b[0mdoublequote\u001b[0m\u001b[1;33m,\u001b[0m\u001b[1;33m\u001b[0m\u001b[0m\n\u001b[0;32m   1412\u001b[0m                                      escapechar=escapechar, decimal=decimal)\n\u001b[1;32m-> 1413\u001b[1;33m         \u001b[0mformatter\u001b[0m\u001b[1;33m.\u001b[0m\u001b[0msave\u001b[0m\u001b[1;33m(\u001b[0m\u001b[1;33m)\u001b[0m\u001b[1;33m\u001b[0m\u001b[0m\n\u001b[0m\u001b[0;32m   1414\u001b[0m \u001b[1;33m\u001b[0m\u001b[0m\n\u001b[0;32m   1415\u001b[0m         \u001b[1;32mif\u001b[0m \u001b[0mpath_or_buf\u001b[0m \u001b[1;32mis\u001b[0m \u001b[1;32mNone\u001b[0m\u001b[1;33m:\u001b[0m\u001b[1;33m\u001b[0m\u001b[0m\n",
      "\u001b[1;32mC:\\Users\\ansheeha\\AppData\\Local\\Continuum\\Anaconda3\\lib\\site-packages\\pandas\\io\\formats\\format.py\u001b[0m in \u001b[0;36msave\u001b[1;34m(self)\u001b[0m\n\u001b[0;32m   1566\u001b[0m             f, handles = _get_handle(self.path_or_buf, self.mode,\n\u001b[0;32m   1567\u001b[0m                                      \u001b[0mencoding\u001b[0m\u001b[1;33m=\u001b[0m\u001b[0mself\u001b[0m\u001b[1;33m.\u001b[0m\u001b[0mencoding\u001b[0m\u001b[1;33m,\u001b[0m\u001b[1;33m\u001b[0m\u001b[0m\n\u001b[1;32m-> 1568\u001b[1;33m                                      compression=self.compression)\n\u001b[0m\u001b[0;32m   1569\u001b[0m             \u001b[0mclose\u001b[0m \u001b[1;33m=\u001b[0m \u001b[1;32mTrue\u001b[0m\u001b[1;33m\u001b[0m\u001b[0m\n\u001b[0;32m   1570\u001b[0m \u001b[1;33m\u001b[0m\u001b[0m\n",
      "\u001b[1;32mC:\\Users\\ansheeha\\AppData\\Local\\Continuum\\Anaconda3\\lib\\site-packages\\pandas\\io\\common.py\u001b[0m in \u001b[0;36m_get_handle\u001b[1;34m(path_or_buf, mode, encoding, compression, memory_map, is_text)\u001b[0m\n\u001b[0;32m    380\u001b[0m         \u001b[1;32melif\u001b[0m \u001b[0mis_text\u001b[0m\u001b[1;33m:\u001b[0m\u001b[1;33m\u001b[0m\u001b[0m\n\u001b[0;32m    381\u001b[0m             \u001b[1;31m# Python 3 and no explicit encoding\u001b[0m\u001b[1;33m\u001b[0m\u001b[1;33m\u001b[0m\u001b[0m\n\u001b[1;32m--> 382\u001b[1;33m             \u001b[0mf\u001b[0m \u001b[1;33m=\u001b[0m \u001b[0mopen\u001b[0m\u001b[1;33m(\u001b[0m\u001b[0mpath_or_buf\u001b[0m\u001b[1;33m,\u001b[0m \u001b[0mmode\u001b[0m\u001b[1;33m,\u001b[0m \u001b[0merrors\u001b[0m\u001b[1;33m=\u001b[0m\u001b[1;34m'replace'\u001b[0m\u001b[1;33m)\u001b[0m\u001b[1;33m\u001b[0m\u001b[0m\n\u001b[0m\u001b[0;32m    383\u001b[0m         \u001b[1;32melse\u001b[0m\u001b[1;33m:\u001b[0m\u001b[1;33m\u001b[0m\u001b[0m\n\u001b[0;32m    384\u001b[0m             \u001b[1;31m# Python 3 and binary mode\u001b[0m\u001b[1;33m\u001b[0m\u001b[1;33m\u001b[0m\u001b[0m\n",
      "\u001b[1;31mPermissionError\u001b[0m: [Errno 13] Permission denied: 'S:\\\\Projects\\\\SAHSU_Share\\\\Diabetes\\\\Datasets\\\\Drinking_water\\\\South_East_Water\\\\SEW_Nitrate_full_postcode.csv'"
     ]
    }
   ],
   "source": [
    "Full_postcode.to_csv(r\"S:\\Projects\\SAHSU_Share\\Diabetes\\Datasets\\Drinking_water\\South_East_Water\\SEW_Nitrate_full_postcode.csv\")"
   ]
  },
  {
   "cell_type": "markdown",
   "metadata": {
    "collapsed": true
   },
   "source": [
    "# Matching postcode district (4) data \n",
    "- using the postcode d4 file created for the UV data, for which through using thiessen polygons, dissolving boundaries and calculating polygon centroids- the N and E for D4 postcodes were calculated"
   ]
  },
  {
   "cell_type": "code",
   "execution_count": 35,
   "metadata": {},
   "outputs": [
    {
     "name": "stderr",
     "output_type": "stream",
     "text": [
      "C:\\Users\\ansheeha\\AppData\\Local\\Continuum\\Anaconda3\\lib\\site-packages\\ipykernel_launcher.py:2: SettingWithCopyWarning: \n",
      "A value is trying to be set on a copy of a slice from a DataFrame.\n",
      "Try using .loc[row_indexer,col_indexer] = value instead\n",
      "\n",
      "See the caveats in the documentation: http://pandas.pydata.org/pandas-docs/stable/indexing.html#indexing-view-versus-copy\n",
      "  \n",
      "C:\\Users\\ansheeha\\AppData\\Local\\Continuum\\Anaconda3\\lib\\site-packages\\ipykernel_launcher.py:3: SettingWithCopyWarning: \n",
      "A value is trying to be set on a copy of a slice from a DataFrame.\n",
      "Try using .loc[row_indexer,col_indexer] = value instead\n",
      "\n",
      "See the caveats in the documentation: http://pandas.pydata.org/pandas-docs/stable/indexing.html#indexing-view-versus-copy\n",
      "  This is separate from the ipykernel package so we can avoid doing imports until\n"
     ]
    }
   ],
   "source": [
    "# Get rid of white space in between #### # to make #####\n",
    "SE_d5['First'] = SE_d5['Postcode'].str[:4]\n",
    "SE_d5['Last'] = SE_d5['Postcode'].str[5:]"
   ]
  },
  {
   "cell_type": "code",
   "execution_count": null,
   "metadata": {
    "collapsed": true,
    "scrolled": true
   },
   "outputs": [],
   "source": [
    "SE_d5"
   ]
  },
  {
   "cell_type": "code",
   "execution_count": 37,
   "metadata": {},
   "outputs": [
    {
     "name": "stderr",
     "output_type": "stream",
     "text": [
      "C:\\Users\\ansheeha\\AppData\\Local\\Continuum\\Anaconda3\\lib\\site-packages\\ipykernel_launcher.py:1: SettingWithCopyWarning: \n",
      "A value is trying to be set on a copy of a slice from a DataFrame.\n",
      "Try using .loc[row_indexer,col_indexer] = value instead\n",
      "\n",
      "See the caveats in the documentation: http://pandas.pydata.org/pandas-docs/stable/indexing.html#indexing-view-versus-copy\n",
      "  \"\"\"Entry point for launching an IPython kernel.\n"
     ]
    }
   ],
   "source": [
    "SE_d5['New_pc'] = SE_d5['First']+SE_d5['Last']"
   ]
  },
  {
   "cell_type": "code",
   "execution_count": 38,
   "metadata": {
    "collapsed": true
   },
   "outputs": [],
   "source": [
    "SE_d5 = SE_d5[['SAMPLED_DATE', 'New_pc','NITRATE' ]]"
   ]
  },
  {
   "cell_type": "code",
   "execution_count": 39,
   "metadata": {
    "collapsed": true
   },
   "outputs": [],
   "source": [
    "SE_d5 = SE_d5.rename(columns={'New_pc':'Postcode'})"
   ]
  },
  {
   "cell_type": "code",
   "execution_count": 40,
   "metadata": {
    "collapsed": true
   },
   "outputs": [],
   "source": [
    "Postcode_d4 = pd.concat([SE_d5, SE_d4])"
   ]
  },
  {
   "cell_type": "code",
   "execution_count": 41,
   "metadata": {
    "collapsed": true,
    "scrolled": true
   },
   "outputs": [],
   "source": [
    "Postcode_d4 = Postcode_d4.set_index('Postcode')"
   ]
  },
  {
   "cell_type": "code",
   "execution_count": null,
   "metadata": {
    "collapsed": true,
    "scrolled": true
   },
   "outputs": [],
   "source": [
    "Postcode_d4"
   ]
  },
  {
   "cell_type": "code",
   "execution_count": 43,
   "metadata": {
    "collapsed": true
   },
   "outputs": [],
   "source": [
    "# Read in d4 centroid file to match \n",
    "d4_centroid = pd.read_csv(r\"S:\\Projects\\SAHSU_Share\\Diabetes\\Datasets\\Postcodes\\d4_centroid_LAD_final.csv\")"
   ]
  },
  {
   "cell_type": "code",
   "execution_count": null,
   "metadata": {
    "collapsed": true,
    "scrolled": true
   },
   "outputs": [],
   "source": [
    "d4_centroid"
   ]
  },
  {
   "cell_type": "code",
   "execution_count": 45,
   "metadata": {
    "collapsed": true
   },
   "outputs": [],
   "source": [
    "d4_centroid = d4_centroid.set_index('LABEL')"
   ]
  },
  {
   "cell_type": "code",
   "execution_count": 46,
   "metadata": {
    "collapsed": true
   },
   "outputs": [],
   "source": [
    "Postcode_d4_NE = Postcode_d4.merge(d4_centroid, how ='left', left_index = True, right_index=True)"
   ]
  },
  {
   "cell_type": "code",
   "execution_count": null,
   "metadata": {
    "collapsed": true,
    "scrolled": true
   },
   "outputs": [],
   "source": [
    "Postcode_d4_NE "
   ]
  },
  {
   "cell_type": "code",
   "execution_count": 61,
   "metadata": {
    "collapsed": true
   },
   "outputs": [],
   "source": [
    "Postcode_d4_NE  = Postcode_d4_NE[['SAMPLED_DATE', 'NITRATE', 'x_coord', 'y_coord']]"
   ]
  },
  {
   "cell_type": "code",
   "execution_count": 48,
   "metadata": {},
   "outputs": [
    {
     "ename": "PermissionError",
     "evalue": "[Errno 13] Permission denied: 'S:\\\\Projects\\\\SAHSU_Share\\\\Diabetes\\\\Datasets\\\\Drinking_water\\\\South_East_Water\\\\SEW_Nitrate_postcode_d4.csv'",
     "output_type": "error",
     "traceback": [
      "\u001b[1;31m---------------------------------------------------------------------------\u001b[0m",
      "\u001b[1;31mPermissionError\u001b[0m                           Traceback (most recent call last)",
      "\u001b[1;32m<ipython-input-48-5ee512e0a8ba>\u001b[0m in \u001b[0;36m<module>\u001b[1;34m()\u001b[0m\n\u001b[1;32m----> 1\u001b[1;33m \u001b[0mPostcode_d4_NE\u001b[0m\u001b[1;33m.\u001b[0m\u001b[0mto_csv\u001b[0m\u001b[1;33m(\u001b[0m\u001b[1;34mr\"S:\\Projects\\SAHSU_Share\\Diabetes\\Datasets\\Drinking_water\\South_East_Water\\SEW_Nitrate_postcode_d4.csv\"\u001b[0m\u001b[1;33m)\u001b[0m\u001b[1;33m\u001b[0m\u001b[0m\n\u001b[0m",
      "\u001b[1;32mC:\\Users\\ansheeha\\AppData\\Local\\Continuum\\Anaconda3\\lib\\site-packages\\pandas\\core\\frame.py\u001b[0m in \u001b[0;36mto_csv\u001b[1;34m(self, path_or_buf, sep, na_rep, float_format, columns, header, index, index_label, mode, encoding, compression, quoting, quotechar, line_terminator, chunksize, tupleize_cols, date_format, doublequote, escapechar, decimal)\u001b[0m\n\u001b[0;32m   1411\u001b[0m                                      \u001b[0mdoublequote\u001b[0m\u001b[1;33m=\u001b[0m\u001b[0mdoublequote\u001b[0m\u001b[1;33m,\u001b[0m\u001b[1;33m\u001b[0m\u001b[0m\n\u001b[0;32m   1412\u001b[0m                                      escapechar=escapechar, decimal=decimal)\n\u001b[1;32m-> 1413\u001b[1;33m         \u001b[0mformatter\u001b[0m\u001b[1;33m.\u001b[0m\u001b[0msave\u001b[0m\u001b[1;33m(\u001b[0m\u001b[1;33m)\u001b[0m\u001b[1;33m\u001b[0m\u001b[0m\n\u001b[0m\u001b[0;32m   1414\u001b[0m \u001b[1;33m\u001b[0m\u001b[0m\n\u001b[0;32m   1415\u001b[0m         \u001b[1;32mif\u001b[0m \u001b[0mpath_or_buf\u001b[0m \u001b[1;32mis\u001b[0m \u001b[1;32mNone\u001b[0m\u001b[1;33m:\u001b[0m\u001b[1;33m\u001b[0m\u001b[0m\n",
      "\u001b[1;32mC:\\Users\\ansheeha\\AppData\\Local\\Continuum\\Anaconda3\\lib\\site-packages\\pandas\\io\\formats\\format.py\u001b[0m in \u001b[0;36msave\u001b[1;34m(self)\u001b[0m\n\u001b[0;32m   1566\u001b[0m             f, handles = _get_handle(self.path_or_buf, self.mode,\n\u001b[0;32m   1567\u001b[0m                                      \u001b[0mencoding\u001b[0m\u001b[1;33m=\u001b[0m\u001b[0mself\u001b[0m\u001b[1;33m.\u001b[0m\u001b[0mencoding\u001b[0m\u001b[1;33m,\u001b[0m\u001b[1;33m\u001b[0m\u001b[0m\n\u001b[1;32m-> 1568\u001b[1;33m                                      compression=self.compression)\n\u001b[0m\u001b[0;32m   1569\u001b[0m             \u001b[0mclose\u001b[0m \u001b[1;33m=\u001b[0m \u001b[1;32mTrue\u001b[0m\u001b[1;33m\u001b[0m\u001b[0m\n\u001b[0;32m   1570\u001b[0m \u001b[1;33m\u001b[0m\u001b[0m\n",
      "\u001b[1;32mC:\\Users\\ansheeha\\AppData\\Local\\Continuum\\Anaconda3\\lib\\site-packages\\pandas\\io\\common.py\u001b[0m in \u001b[0;36m_get_handle\u001b[1;34m(path_or_buf, mode, encoding, compression, memory_map, is_text)\u001b[0m\n\u001b[0;32m    380\u001b[0m         \u001b[1;32melif\u001b[0m \u001b[0mis_text\u001b[0m\u001b[1;33m:\u001b[0m\u001b[1;33m\u001b[0m\u001b[0m\n\u001b[0;32m    381\u001b[0m             \u001b[1;31m# Python 3 and no explicit encoding\u001b[0m\u001b[1;33m\u001b[0m\u001b[1;33m\u001b[0m\u001b[0m\n\u001b[1;32m--> 382\u001b[1;33m             \u001b[0mf\u001b[0m \u001b[1;33m=\u001b[0m \u001b[0mopen\u001b[0m\u001b[1;33m(\u001b[0m\u001b[0mpath_or_buf\u001b[0m\u001b[1;33m,\u001b[0m \u001b[0mmode\u001b[0m\u001b[1;33m,\u001b[0m \u001b[0merrors\u001b[0m\u001b[1;33m=\u001b[0m\u001b[1;34m'replace'\u001b[0m\u001b[1;33m)\u001b[0m\u001b[1;33m\u001b[0m\u001b[0m\n\u001b[0m\u001b[0;32m    383\u001b[0m         \u001b[1;32melse\u001b[0m\u001b[1;33m:\u001b[0m\u001b[1;33m\u001b[0m\u001b[0m\n\u001b[0;32m    384\u001b[0m             \u001b[1;31m# Python 3 and binary mode\u001b[0m\u001b[1;33m\u001b[0m\u001b[1;33m\u001b[0m\u001b[0m\n",
      "\u001b[1;31mPermissionError\u001b[0m: [Errno 13] Permission denied: 'S:\\\\Projects\\\\SAHSU_Share\\\\Diabetes\\\\Datasets\\\\Drinking_water\\\\South_East_Water\\\\SEW_Nitrate_postcode_d4.csv'"
     ]
    }
   ],
   "source": [
    "Postcode_d4_NE.to_csv(r\"S:\\Projects\\SAHSU_Share\\Diabetes\\Datasets\\Drinking_water\\South_East_Water\\SEW_Nitrate_postcode_d4.csv\")"
   ]
  },
  {
   "cell_type": "markdown",
   "metadata": {},
   "source": [
    "# Matching the remaining data with postcode district (3) N/E's "
   ]
  },
  {
   "cell_type": "code",
   "execution_count": 49,
   "metadata": {
    "collapsed": true
   },
   "outputs": [],
   "source": [
    "Postcode_d3 = pd.concat([SE_s4, SE_s3])"
   ]
  },
  {
   "cell_type": "code",
   "execution_count": null,
   "metadata": {
    "collapsed": true,
    "scrolled": true
   },
   "outputs": [],
   "source": [
    "Postcode_d3"
   ]
  },
  {
   "cell_type": "code",
   "execution_count": 51,
   "metadata": {
    "collapsed": true
   },
   "outputs": [],
   "source": [
    "Postcode_d3 = Postcode_d3.set_index('Postcode')"
   ]
  },
  {
   "cell_type": "code",
   "execution_count": 12,
   "metadata": {
    "collapsed": true
   },
   "outputs": [],
   "source": [
    "district = pd.read_csv(r\"S:\\Projects\\SAHSU_Share\\Diabetes\\Datasets\\Postcodes\\Post_d_centroids.csv\")"
   ]
  },
  {
   "cell_type": "code",
   "execution_count": 13,
   "metadata": {
    "collapsed": true
   },
   "outputs": [],
   "source": [
    "district = district.set_index('District')"
   ]
  },
  {
   "cell_type": "code",
   "execution_count": 54,
   "metadata": {
    "collapsed": true
   },
   "outputs": [],
   "source": [
    "Postcode_d3_NE = Postcode_d3.merge(district, how='left', left_index=True, right_index=True)"
   ]
  },
  {
   "cell_type": "code",
   "execution_count": 55,
   "metadata": {
    "collapsed": true
   },
   "outputs": [],
   "source": [
    "Postcode_d3_NE.to_csv(r\"S:\\Projects\\SAHSU_Share\\Diabetes\\Datasets\\Drinking_water\\South_East_Water\\SEW_Nitrate_postcode_d3.csv\")"
   ]
  },
  {
   "cell_type": "code",
   "execution_count": null,
   "metadata": {
    "collapsed": true,
    "scrolled": false
   },
   "outputs": [],
   "source": [
    "Postcode_d3_NE"
   ]
  },
  {
   "cell_type": "code",
   "execution_count": 58,
   "metadata": {
    "collapsed": true
   },
   "outputs": [],
   "source": [
    "Postcode_d3_NE = Postcode_d3_NE.rename(columns={'X_Coord':'x_coord', 'Y_Coord':'y_coord'})"
   ]
  },
  {
   "cell_type": "code",
   "execution_count": 60,
   "metadata": {
    "collapsed": true
   },
   "outputs": [],
   "source": [
    "Postcode_d3_NE = Postcode_d3_NE[['SAMPLED_DATE', 'NITRATE', 'x_coord', 'y_coord']]"
   ]
  },
  {
   "cell_type": "code",
   "execution_count": 67,
   "metadata": {
    "collapsed": true
   },
   "outputs": [],
   "source": [
    "South_east = pd.concat([Postcode_d3_NE, Postcode_d4_NE, Full_postcode])"
   ]
  },
  {
   "cell_type": "code",
   "execution_count": null,
   "metadata": {
    "collapsed": true,
    "scrolled": false
   },
   "outputs": [],
   "source": [
    "South_east"
   ]
  },
  {
   "cell_type": "code",
   "execution_count": 69,
   "metadata": {
    "collapsed": true
   },
   "outputs": [],
   "source": [
    "South_east.to_csv(r\"S:\\Projects\\SAHSU_Share\\Diabetes\\Datasets\\Drinking_water\\South_East_Water\\SEW_Nitrates_all.csv\")"
   ]
  },
  {
   "cell_type": "markdown",
   "metadata": {},
   "source": [
    "# Fill in N and E for all remaining data through cutting postcode to postcode district (3)"
   ]
  },
  {
   "cell_type": "code",
   "execution_count": 3,
   "metadata": {
    "collapsed": true
   },
   "outputs": [],
   "source": [
    "South_east = pd.read_csv(r\"S:\\Projects\\SAHSU_Share\\Diabetes\\Datasets\\Drinking_water\\South_East_Water\\SEW_Nitrates_all.csv\")"
   ]
  },
  {
   "cell_type": "code",
   "execution_count": null,
   "metadata": {
    "scrolled": true
   },
   "outputs": [],
   "source": [
    "South_east"
   ]
  },
  {
   "cell_type": "code",
   "execution_count": 30,
   "metadata": {
    "collapsed": true
   },
   "outputs": [],
   "source": [
    "# Select all the rows which northing and eastings were not found\n",
    "SE_null = South_east[South_east['x_coord'].isnull()]"
   ]
  },
  {
   "cell_type": "code",
   "execution_count": null,
   "metadata": {
    "scrolled": false
   },
   "outputs": [],
   "source": [
    "SE_null"
   ]
  },
  {
   "cell_type": "code",
   "execution_count": 32,
   "metadata": {
    "collapsed": true
   },
   "outputs": [],
   "source": [
    "SE_null= SE_null [['SAMPLED_DATE', 'NITRATE', 'Postcode']]"
   ]
  },
  {
   "cell_type": "code",
   "execution_count": 33,
   "metadata": {},
   "outputs": [
    {
     "name": "stderr",
     "output_type": "stream",
     "text": [
      "C:\\Users\\ansheeha\\AppData\\Local\\Continuum\\Anaconda3\\lib\\site-packages\\ipykernel_launcher.py:1: SettingWithCopyWarning: \n",
      "A value is trying to be set on a copy of a slice from a DataFrame.\n",
      "Try using .loc[row_indexer,col_indexer] = value instead\n",
      "\n",
      "See the caveats in the documentation: http://pandas.pydata.org/pandas-docs/stable/indexing.html#indexing-view-versus-copy\n",
      "  \"\"\"Entry point for launching an IPython kernel.\n"
     ]
    }
   ],
   "source": [
    "SE_null['First'] = SE_null['Postcode'].str[:4]"
   ]
  },
  {
   "cell_type": "code",
   "execution_count": 34,
   "metadata": {
    "collapsed": true
   },
   "outputs": [],
   "source": [
    "SE_null = SE_null.set_index('First')"
   ]
  },
  {
   "cell_type": "code",
   "execution_count": 35,
   "metadata": {
    "collapsed": true
   },
   "outputs": [],
   "source": [
    "SE_null_NE = SE_null.merge(district, how='left', left_index=True, right_index=True)"
   ]
  },
  {
   "cell_type": "code",
   "execution_count": null,
   "metadata": {
    "scrolled": false
   },
   "outputs": [],
   "source": [
    "SE_null_NE"
   ]
  },
  {
   "cell_type": "code",
   "execution_count": 37,
   "metadata": {
    "collapsed": true
   },
   "outputs": [],
   "source": [
    "SE_null_NE = SE_null_NE.rename(columns={'X_Coord':'x_coord', 'Y_Coord':'y_coord'})"
   ]
  },
  {
   "cell_type": "code",
   "execution_count": 38,
   "metadata": {
    "collapsed": true
   },
   "outputs": [],
   "source": [
    "SE_null_NE= SE_null_NE[['SAMPLED_DATE', 'NITRATE', 'x_coord', 'y_coord']]"
   ]
  },
  {
   "cell_type": "code",
   "execution_count": 21,
   "metadata": {
    "collapsed": true
   },
   "outputs": [],
   "source": [
    "SE_not_null = South_east[South_east['x_coord'].notnull()]"
   ]
  },
  {
   "cell_type": "code",
   "execution_count": 23,
   "metadata": {},
   "outputs": [],
   "source": [
    "SE_not_null = SE_not_null.set_index('Postcode')"
   ]
  },
  {
   "cell_type": "code",
   "execution_count": null,
   "metadata": {
    "scrolled": true
   },
   "outputs": [],
   "source": [
    "SE_not_null"
   ]
  },
  {
   "cell_type": "code",
   "execution_count": 39,
   "metadata": {},
   "outputs": [],
   "source": [
    "SE_v2 = pd.concat([SE_not_null, SE_null_NE])"
   ]
  },
  {
   "cell_type": "code",
   "execution_count": null,
   "metadata": {
    "scrolled": true
   },
   "outputs": [],
   "source": [
    "SE_v2"
   ]
  },
  {
   "cell_type": "code",
   "execution_count": 41,
   "metadata": {
    "collapsed": true
   },
   "outputs": [],
   "source": [
    "SE_v2.to_csv(r\"S:\\Projects\\SAHSU_Share\\Diabetes\\Datasets\\Drinking_water\\South_East_Water\\SEW_Nitrates_v2.csv\")"
   ]
  },
  {
   "cell_type": "code",
   "execution_count": null,
   "metadata": {
    "collapsed": true
   },
   "outputs": [],
   "source": []
  }
 ],
 "metadata": {
  "kernelspec": {
   "display_name": "Python 3",
   "language": "python",
   "name": "python3"
  },
  "language_info": {
   "codemirror_mode": {
    "name": "ipython",
    "version": 3
   },
   "file_extension": ".py",
   "mimetype": "text/x-python",
   "name": "python",
   "nbconvert_exporter": "python",
   "pygments_lexer": "ipython3",
   "version": "3.6.1"
  }
 },
 "nbformat": 4,
 "nbformat_minor": 2
}
