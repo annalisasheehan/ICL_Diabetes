{
 "cells": [
  {
   "cell_type": "code",
   "execution_count": 1,
   "metadata": {
    "collapsed": true
   },
   "outputs": [],
   "source": [
    "import pandas as pd\n",
    "import numpy as np\n",
    "import glob\n",
    "import os"
   ]
  },
  {
   "cell_type": "markdown",
   "metadata": {},
   "source": [
    "- Read in each UV dataset and merge with postcode district files- to get Easting and Northing for each Postcode centroid"
   ]
  },
  {
   "cell_type": "code",
   "execution_count": 2,
   "metadata": {
    "collapsed": true
   },
   "outputs": [],
   "source": [
    "d4 = pd.read_csv(r\"S:\\Projects\\SAHSU_Share\\Diabetes\\Datasets\\Postcodes\\d4_centroid_LAD_final.csv\")"
   ]
  },
  {
   "cell_type": "code",
   "execution_count": 3,
   "metadata": {
    "collapsed": true
   },
   "outputs": [],
   "source": [
    "d4 = d4[['LABEL', 'ONS_LABEL', 'NAME']]\n",
    "d4 = d4.set_index('LABEL')"
   ]
  },
  {
   "cell_type": "code",
   "execution_count": 9,
   "metadata": {
    "collapsed": true
   },
   "outputs": [],
   "source": [
    "files = glob.glob(r\"S:\\Projects\\SAHSU_Share\\Diabetes\\Datasets\\UVvitd0203\\Annie\\Data\\*.csv\")"
   ]
  },
  {
   "cell_type": "code",
   "execution_count": 43,
   "metadata": {},
   "outputs": [
    {
     "data": {
      "text/plain": [
       "['S:\\\\Projects\\\\SAHSU_Share\\\\Diabetes\\\\Datasets\\\\UVvitd0203\\\\Annie\\\\Data\\\\Apr03.csv',\n",
       " 'S:\\\\Projects\\\\SAHSU_Share\\\\Diabetes\\\\Datasets\\\\UVvitd0203\\\\Annie\\\\Data\\\\Aug02.csv',\n",
       " 'S:\\\\Projects\\\\SAHSU_Share\\\\Diabetes\\\\Datasets\\\\UVvitd0203\\\\Annie\\\\Data\\\\Dec02.csv',\n",
       " 'S:\\\\Projects\\\\SAHSU_Share\\\\Diabetes\\\\Datasets\\\\UVvitd0203\\\\Annie\\\\Data\\\\Feb03.csv',\n",
       " 'S:\\\\Projects\\\\SAHSU_Share\\\\Diabetes\\\\Datasets\\\\UVvitd0203\\\\Annie\\\\Data\\\\Jan03.csv',\n",
       " 'S:\\\\Projects\\\\SAHSU_Share\\\\Diabetes\\\\Datasets\\\\UVvitd0203\\\\Annie\\\\Data\\\\Jul02.csv',\n",
       " 'S:\\\\Projects\\\\SAHSU_Share\\\\Diabetes\\\\Datasets\\\\UVvitd0203\\\\Annie\\\\Data\\\\Jun03.csv',\n",
       " 'S:\\\\Projects\\\\SAHSU_Share\\\\Diabetes\\\\Datasets\\\\UVvitd0203\\\\Annie\\\\Data\\\\Mar03.csv',\n",
       " 'S:\\\\Projects\\\\SAHSU_Share\\\\Diabetes\\\\Datasets\\\\UVvitd0203\\\\Annie\\\\Data\\\\May03.csv',\n",
       " 'S:\\\\Projects\\\\SAHSU_Share\\\\Diabetes\\\\Datasets\\\\UVvitd0203\\\\Annie\\\\Data\\\\Nov02.csv',\n",
       " 'S:\\\\Projects\\\\SAHSU_Share\\\\Diabetes\\\\Datasets\\\\UVvitd0203\\\\Annie\\\\Data\\\\Oct02.csv',\n",
       " 'S:\\\\Projects\\\\SAHSU_Share\\\\Diabetes\\\\Datasets\\\\UVvitd0203\\\\Annie\\\\Data\\\\Sep02.csv']"
      ]
     },
     "execution_count": 43,
     "metadata": {},
     "output_type": "execute_result"
    }
   ],
   "source": [
    "files"
   ]
  },
  {
   "cell_type": "code",
   "execution_count": 47,
   "metadata": {},
   "outputs": [
    {
     "name": "stdout",
     "output_type": "stream",
     "text": [
      "Processed S:\\Projects\\SAHSU_Share\\Diabetes\\Datasets\\UVvitd0203\\Annie\\Data\\Apr03.csv\n",
      "Processed S:\\Projects\\SAHSU_Share\\Diabetes\\Datasets\\UVvitd0203\\Annie\\Data\\Aug02.csv\n",
      "Processed S:\\Projects\\SAHSU_Share\\Diabetes\\Datasets\\UVvitd0203\\Annie\\Data\\Dec02.csv\n",
      "Processed S:\\Projects\\SAHSU_Share\\Diabetes\\Datasets\\UVvitd0203\\Annie\\Data\\Feb03.csv\n",
      "Processed S:\\Projects\\SAHSU_Share\\Diabetes\\Datasets\\UVvitd0203\\Annie\\Data\\Jan03.csv\n",
      "Processed S:\\Projects\\SAHSU_Share\\Diabetes\\Datasets\\UVvitd0203\\Annie\\Data\\Jul02.csv\n",
      "Processed S:\\Projects\\SAHSU_Share\\Diabetes\\Datasets\\UVvitd0203\\Annie\\Data\\Jun03.csv\n",
      "Processed S:\\Projects\\SAHSU_Share\\Diabetes\\Datasets\\UVvitd0203\\Annie\\Data\\Mar03.csv\n",
      "Processed S:\\Projects\\SAHSU_Share\\Diabetes\\Datasets\\UVvitd0203\\Annie\\Data\\May03.csv\n",
      "Processed S:\\Projects\\SAHSU_Share\\Diabetes\\Datasets\\UVvitd0203\\Annie\\Data\\Nov02.csv\n",
      "Processed S:\\Projects\\SAHSU_Share\\Diabetes\\Datasets\\UVvitd0203\\Annie\\Data\\Oct02.csv\n",
      "Processed S:\\Projects\\SAHSU_Share\\Diabetes\\Datasets\\UVvitd0203\\Annie\\Data\\Sep02.csv\n"
     ]
    }
   ],
   "source": [
    "columns = ['FID', 'Shape', 'SECTORS', 'AREA','NAME','OTHER']\n",
    "\n",
    "for file in files: \n",
    "    temp = pd.read_csv(r'{fname}'.format(fname=file)).drop(columns, axis=1).set_index('LABEL')\n",
    "    temp = temp.merge(d4, how='left', left_index=True, right_index=True)\n",
    "    temp = temp.groupby('ONS_LABEL', as_index = False).mean()\n",
    "    temp['avg{fname}'.format(fname=file[64:-4])] = temp.mean(axis=1)\n",
    "    temp = temp[['avg{fname}'.format(fname=file[64:-4]), 'ONS_LABEL']]\n",
    "    temp.to_csv(r'S:\\Projects\\SAHSU_Share\\Diabetes\\Datasets\\UVvitd0203\\Annie\\Data\\{fname}avg.csv'.format(fname=file[64:-4]))\n",
    "    print('Processed {fname}'.format(fname=file))"
   ]
  },
  {
   "cell_type": "code",
   "execution_count": 48,
   "metadata": {
    "collapsed": true
   },
   "outputs": [],
   "source": [
    "new_files = glob.glob(r\"S:\\Projects\\SAHSU_Share\\Diabetes\\Datasets\\UVvitd0203\\Annie\\Data\\*avg.csv\")"
   ]
  },
  {
   "cell_type": "code",
   "execution_count": 49,
   "metadata": {},
   "outputs": [
    {
     "data": {
      "text/plain": [
       "['S:\\\\Projects\\\\SAHSU_Share\\\\Diabetes\\\\Datasets\\\\UVvitd0203\\\\Annie\\\\Data\\\\Apr03avg.csv',\n",
       " 'S:\\\\Projects\\\\SAHSU_Share\\\\Diabetes\\\\Datasets\\\\UVvitd0203\\\\Annie\\\\Data\\\\Aug02avg.csv',\n",
       " 'S:\\\\Projects\\\\SAHSU_Share\\\\Diabetes\\\\Datasets\\\\UVvitd0203\\\\Annie\\\\Data\\\\Dec02avg.csv',\n",
       " 'S:\\\\Projects\\\\SAHSU_Share\\\\Diabetes\\\\Datasets\\\\UVvitd0203\\\\Annie\\\\Data\\\\Feb03avg.csv',\n",
       " 'S:\\\\Projects\\\\SAHSU_Share\\\\Diabetes\\\\Datasets\\\\UVvitd0203\\\\Annie\\\\Data\\\\Jan03avg.csv',\n",
       " 'S:\\\\Projects\\\\SAHSU_Share\\\\Diabetes\\\\Datasets\\\\UVvitd0203\\\\Annie\\\\Data\\\\Jul02avg.csv',\n",
       " 'S:\\\\Projects\\\\SAHSU_Share\\\\Diabetes\\\\Datasets\\\\UVvitd0203\\\\Annie\\\\Data\\\\Jun03avg.csv',\n",
       " 'S:\\\\Projects\\\\SAHSU_Share\\\\Diabetes\\\\Datasets\\\\UVvitd0203\\\\Annie\\\\Data\\\\Mar03avg.csv',\n",
       " 'S:\\\\Projects\\\\SAHSU_Share\\\\Diabetes\\\\Datasets\\\\UVvitd0203\\\\Annie\\\\Data\\\\May03avg.csv',\n",
       " 'S:\\\\Projects\\\\SAHSU_Share\\\\Diabetes\\\\Datasets\\\\UVvitd0203\\\\Annie\\\\Data\\\\Nov02avg.csv',\n",
       " 'S:\\\\Projects\\\\SAHSU_Share\\\\Diabetes\\\\Datasets\\\\UVvitd0203\\\\Annie\\\\Data\\\\Oct02avg.csv',\n",
       " 'S:\\\\Projects\\\\SAHSU_Share\\\\Diabetes\\\\Datasets\\\\UVvitd0203\\\\Annie\\\\Data\\\\Sep02avg.csv']"
      ]
     },
     "execution_count": 49,
     "metadata": {},
     "output_type": "execute_result"
    }
   ],
   "source": [
    "new_files"
   ]
  },
  {
   "cell_type": "code",
   "execution_count": 70,
   "metadata": {
    "collapsed": true
   },
   "outputs": [],
   "source": [
    "avg = pd.read_csv(r\"S:\\Projects\\SAHSU_Share\\Diabetes\\Datasets\\UVvitd0203\\Annie\\Data\\blank.csv\").set_index('ONS_LABEL')"
   ]
  },
  {
   "cell_type": "code",
   "execution_count": 72,
   "metadata": {
    "collapsed": true
   },
   "outputs": [],
   "source": [
    "for file in new_files: \n",
    "    temp = pd.read_csv(r'{fname}'.format(fname=file)).set_index('ONS_LABEL').drop(['Unnamed: 0'], axis=1 )\n",
    "    avg = avg.merge(temp, how='left', left_index=True, right_index=True)"
   ]
  },
  {
   "cell_type": "code",
   "execution_count": 79,
   "metadata": {
    "collapsed": true
   },
   "outputs": [],
   "source": [
    "avg.to_csv(r'S:\\\\Projects\\\\SAHSU_Share\\\\Diabetes\\\\Datasets\\\\UVvitd0203\\\\Annie\\\\Data\\\\average.csv')"
   ]
  },
  {
   "cell_type": "code",
   "execution_count": 76,
   "metadata": {
    "collapsed": true
   },
   "outputs": [],
   "source": [
    "year_avg = avg.mean(axis=1)"
   ]
  },
  {
   "cell_type": "code",
   "execution_count": 80,
   "metadata": {
    "collapsed": true,
    "scrolled": true
   },
   "outputs": [],
   "source": [
    "year_avg.to_csv (r'S:\\\\Projects\\\\SAHSU_Share\\\\Diabetes\\\\Datasets\\\\UVvitd0203\\\\Annie\\\\Data\\\\UV_year_average.csv')"
   ]
  }
 ],
 "metadata": {
  "kernelspec": {
   "display_name": "Python 3",
   "language": "python",
   "name": "python3"
  },
  "language_info": {
   "codemirror_mode": {
    "name": "ipython",
    "version": 3
   },
   "file_extension": ".py",
   "mimetype": "text/x-python",
   "name": "python",
   "nbconvert_exporter": "python",
   "pygments_lexer": "ipython3",
   "version": "3.6.1"
  }
 },
 "nbformat": 4,
 "nbformat_minor": 2
}
