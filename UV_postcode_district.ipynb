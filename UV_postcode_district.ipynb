{
 "cells": [
  {
   "cell_type": "code",
   "execution_count": 1,
   "metadata": {
    "collapsed": true
   },
   "outputs": [],
   "source": [
    "import pandas as pd\n",
    "import numpy as np\n",
    "import glob\n",
    "import os"
   ]
  },
  {
   "cell_type": "markdown",
   "metadata": {},
   "source": [
    "- Read in each UV dataset and merge with postcode district files- to get Easting and Northing for each Postcode centroid"
   ]
  },
  {
   "cell_type": "code",
   "execution_count": 2,
   "metadata": {
    "collapsed": true
   },
   "outputs": [],
   "source": [
    "postcode = pd.read_csv(r\"S:\\Projects\\SAHSU_Share\\Diabetes\\Datasets\\Postcodes\\postcode_district_4.csv\")"
   ]
  },
  {
   "cell_type": "code",
   "execution_count": 3,
   "metadata": {
    "collapsed": true
   },
   "outputs": [],
   "source": [
    "postcode = postcode.rename(columns={'District':'LABEL'})\n",
    "postcode = postcode.set_index('LABEL')"
   ]
  },
  {
   "cell_type": "code",
   "execution_count": 4,
   "metadata": {
    "scrolled": true
   },
   "outputs": [
    {
     "data": {
      "text/html": [
       "<div>\n",
       "<style>\n",
       "    .dataframe thead tr:only-child th {\n",
       "        text-align: right;\n",
       "    }\n",
       "\n",
       "    .dataframe thead th {\n",
       "        text-align: left;\n",
       "    }\n",
       "\n",
       "    .dataframe tbody tr th {\n",
       "        vertical-align: top;\n",
       "    }\n",
       "</style>\n",
       "<table border=\"1\" class=\"dataframe\">\n",
       "  <thead>\n",
       "    <tr style=\"text-align: right;\">\n",
       "      <th></th>\n",
       "      <th>Postcode</th>\n",
       "      <th>Eastings</th>\n",
       "      <th>Northings</th>\n",
       "    </tr>\n",
       "    <tr>\n",
       "      <th>LABEL</th>\n",
       "      <th></th>\n",
       "      <th></th>\n",
       "      <th></th>\n",
       "    </tr>\n",
       "  </thead>\n",
       "  <tbody>\n",
       "    <tr>\n",
       "      <th>AB101</th>\n",
       "      <td>AB101AB</td>\n",
       "      <td>394235</td>\n",
       "      <td>806529</td>\n",
       "    </tr>\n",
       "    <tr>\n",
       "      <th>AB101</th>\n",
       "      <td>AB101AF</td>\n",
       "      <td>394181</td>\n",
       "      <td>806429</td>\n",
       "    </tr>\n",
       "    <tr>\n",
       "      <th>AB101</th>\n",
       "      <td>AB101AG</td>\n",
       "      <td>394230</td>\n",
       "      <td>806469</td>\n",
       "    </tr>\n",
       "    <tr>\n",
       "      <th>AB101</th>\n",
       "      <td>AB101AH</td>\n",
       "      <td>394371</td>\n",
       "      <td>806359</td>\n",
       "    </tr>\n",
       "    <tr>\n",
       "      <th>AB101</th>\n",
       "      <td>AB101AL</td>\n",
       "      <td>394326</td>\n",
       "      <td>806522</td>\n",
       "    </tr>\n",
       "    <tr>\n",
       "      <th>AB101</th>\n",
       "      <td>AB101AN</td>\n",
       "      <td>394367</td>\n",
       "      <td>806541</td>\n",
       "    </tr>\n",
       "    <tr>\n",
       "      <th>AB101</th>\n",
       "      <td>AB101AP</td>\n",
       "      <td>394309</td>\n",
       "      <td>806459</td>\n",
       "    </tr>\n",
       "    <tr>\n",
       "      <th>AB101</th>\n",
       "      <td>AB101AQ</td>\n",
       "      <td>394371</td>\n",
       "      <td>806359</td>\n",
       "    </tr>\n",
       "    <tr>\n",
       "      <th>AB101</th>\n",
       "      <td>AB101AR</td>\n",
       "      <td>394371</td>\n",
       "      <td>806359</td>\n",
       "    </tr>\n",
       "    <tr>\n",
       "      <th>AB101</th>\n",
       "      <td>AB101AS</td>\n",
       "      <td>394198</td>\n",
       "      <td>806385</td>\n",
       "    </tr>\n",
       "    <tr>\n",
       "      <th>AB101</th>\n",
       "      <td>AB101AU</td>\n",
       "      <td>394264</td>\n",
       "      <td>806318</td>\n",
       "    </tr>\n",
       "    <tr>\n",
       "      <th>AB101</th>\n",
       "      <td>AB101AW</td>\n",
       "      <td>394226</td>\n",
       "      <td>806282</td>\n",
       "    </tr>\n",
       "    <tr>\n",
       "      <th>AB101</th>\n",
       "      <td>AB101AX</td>\n",
       "      <td>394181</td>\n",
       "      <td>806429</td>\n",
       "    </tr>\n",
       "    <tr>\n",
       "      <th>AB101</th>\n",
       "      <td>AB101BA</td>\n",
       "      <td>394141</td>\n",
       "      <td>806457</td>\n",
       "    </tr>\n",
       "    <tr>\n",
       "      <th>AB101</th>\n",
       "      <td>AB101BB</td>\n",
       "      <td>394223</td>\n",
       "      <td>806262</td>\n",
       "    </tr>\n",
       "    <tr>\n",
       "      <th>AB101</th>\n",
       "      <td>AB101BD</td>\n",
       "      <td>394261</td>\n",
       "      <td>806288</td>\n",
       "    </tr>\n",
       "    <tr>\n",
       "      <th>AB101</th>\n",
       "      <td>AB101BF</td>\n",
       "      <td>394187</td>\n",
       "      <td>806225</td>\n",
       "    </tr>\n",
       "    <tr>\n",
       "      <th>AB101</th>\n",
       "      <td>AB101BJ</td>\n",
       "      <td>393602</td>\n",
       "      <td>806136</td>\n",
       "    </tr>\n",
       "    <tr>\n",
       "      <th>AB101</th>\n",
       "      <td>AB101BL</td>\n",
       "      <td>394216</td>\n",
       "      <td>806398</td>\n",
       "    </tr>\n",
       "    <tr>\n",
       "      <th>AB101</th>\n",
       "      <td>AB101BR</td>\n",
       "      <td>393236</td>\n",
       "      <td>805730</td>\n",
       "    </tr>\n",
       "    <tr>\n",
       "      <th>AB101</th>\n",
       "      <td>AB101BS</td>\n",
       "      <td>394344</td>\n",
       "      <td>806374</td>\n",
       "    </tr>\n",
       "    <tr>\n",
       "      <th>AB101</th>\n",
       "      <td>AB101BU</td>\n",
       "      <td>394169</td>\n",
       "      <td>806326</td>\n",
       "    </tr>\n",
       "    <tr>\n",
       "      <th>AB101</th>\n",
       "      <td>AB101BW</td>\n",
       "      <td>394251</td>\n",
       "      <td>806376</td>\n",
       "    </tr>\n",
       "    <tr>\n",
       "      <th>AB101</th>\n",
       "      <td>AB101DB</td>\n",
       "      <td>392813</td>\n",
       "      <td>805762</td>\n",
       "    </tr>\n",
       "    <tr>\n",
       "      <th>AB101</th>\n",
       "      <td>AB101DQ</td>\n",
       "      <td>393530</td>\n",
       "      <td>806009</td>\n",
       "    </tr>\n",
       "    <tr>\n",
       "      <th>AB101</th>\n",
       "      <td>AB101DU</td>\n",
       "      <td>394405</td>\n",
       "      <td>802269</td>\n",
       "    </tr>\n",
       "    <tr>\n",
       "      <th>AB101</th>\n",
       "      <td>AB101FE</td>\n",
       "      <td>393929</td>\n",
       "      <td>806359</td>\n",
       "    </tr>\n",
       "    <tr>\n",
       "      <th>AB101</th>\n",
       "      <td>AB101FF</td>\n",
       "      <td>394264</td>\n",
       "      <td>806575</td>\n",
       "    </tr>\n",
       "    <tr>\n",
       "      <th>AB101</th>\n",
       "      <td>AB101FG</td>\n",
       "      <td>394192</td>\n",
       "      <td>806557</td>\n",
       "    </tr>\n",
       "    <tr>\n",
       "      <th>AB101</th>\n",
       "      <td>AB101FL</td>\n",
       "      <td>394238</td>\n",
       "      <td>806594</td>\n",
       "    </tr>\n",
       "    <tr>\n",
       "      <th>...</th>\n",
       "      <td>...</td>\n",
       "      <td>...</td>\n",
       "      <td>...</td>\n",
       "    </tr>\n",
       "    <tr>\n",
       "      <th>NR325</th>\n",
       "      <td>NR325BJ</td>\n",
       "      <td>651734</td>\n",
       "      <td>297051</td>\n",
       "    </tr>\n",
       "    <tr>\n",
       "      <th>NR325</th>\n",
       "      <td>NR325BL</td>\n",
       "      <td>651710</td>\n",
       "      <td>297142</td>\n",
       "    </tr>\n",
       "    <tr>\n",
       "      <th>NR325</th>\n",
       "      <td>NR325BN</td>\n",
       "      <td>651863</td>\n",
       "      <td>297057</td>\n",
       "    </tr>\n",
       "    <tr>\n",
       "      <th>NR325</th>\n",
       "      <td>NR325BP</td>\n",
       "      <td>652382</td>\n",
       "      <td>296928</td>\n",
       "    </tr>\n",
       "    <tr>\n",
       "      <th>NR325</th>\n",
       "      <td>NR325BS</td>\n",
       "      <td>652473</td>\n",
       "      <td>296944</td>\n",
       "    </tr>\n",
       "    <tr>\n",
       "      <th>NR325</th>\n",
       "      <td>NR325BW</td>\n",
       "      <td>652265</td>\n",
       "      <td>296873</td>\n",
       "    </tr>\n",
       "    <tr>\n",
       "      <th>NR325</th>\n",
       "      <td>NR325BX</td>\n",
       "      <td>651724</td>\n",
       "      <td>297733</td>\n",
       "    </tr>\n",
       "    <tr>\n",
       "      <th>NR325</th>\n",
       "      <td>NR325BY</td>\n",
       "      <td>651665</td>\n",
       "      <td>297688</td>\n",
       "    </tr>\n",
       "    <tr>\n",
       "      <th>NR325</th>\n",
       "      <td>NR325DA</td>\n",
       "      <td>653462</td>\n",
       "      <td>296314</td>\n",
       "    </tr>\n",
       "    <tr>\n",
       "      <th>NR325</th>\n",
       "      <td>NR325DB</td>\n",
       "      <td>653373</td>\n",
       "      <td>296463</td>\n",
       "    </tr>\n",
       "    <tr>\n",
       "      <th>NR325</th>\n",
       "      <td>NR325DD</td>\n",
       "      <td>653106</td>\n",
       "      <td>296534</td>\n",
       "    </tr>\n",
       "    <tr>\n",
       "      <th>NR325</th>\n",
       "      <td>NR325DE</td>\n",
       "      <td>652815</td>\n",
       "      <td>296764</td>\n",
       "    </tr>\n",
       "    <tr>\n",
       "      <th>NR325</th>\n",
       "      <td>NR325DF</td>\n",
       "      <td>653740</td>\n",
       "      <td>296271</td>\n",
       "    </tr>\n",
       "    <tr>\n",
       "      <th>NR325</th>\n",
       "      <td>NR325DG</td>\n",
       "      <td>652731</td>\n",
       "      <td>296891</td>\n",
       "    </tr>\n",
       "    <tr>\n",
       "      <th>NR325</th>\n",
       "      <td>NR325DH</td>\n",
       "      <td>652077</td>\n",
       "      <td>294913</td>\n",
       "    </tr>\n",
       "    <tr>\n",
       "      <th>NR325</th>\n",
       "      <td>NR325DJ</td>\n",
       "      <td>652066</td>\n",
       "      <td>294909</td>\n",
       "    </tr>\n",
       "    <tr>\n",
       "      <th>NR325</th>\n",
       "      <td>NR325DL</td>\n",
       "      <td>651780</td>\n",
       "      <td>294797</td>\n",
       "    </tr>\n",
       "    <tr>\n",
       "      <th>NR325</th>\n",
       "      <td>NR325DN</td>\n",
       "      <td>651228</td>\n",
       "      <td>294605</td>\n",
       "    </tr>\n",
       "    <tr>\n",
       "      <th>NR325</th>\n",
       "      <td>NR325DP</td>\n",
       "      <td>651284</td>\n",
       "      <td>293934</td>\n",
       "    </tr>\n",
       "    <tr>\n",
       "      <th>NR325</th>\n",
       "      <td>NR325DQ</td>\n",
       "      <td>652740</td>\n",
       "      <td>295561</td>\n",
       "    </tr>\n",
       "    <tr>\n",
       "      <th>NR325</th>\n",
       "      <td>NR325DW</td>\n",
       "      <td>651081</td>\n",
       "      <td>294276</td>\n",
       "    </tr>\n",
       "    <tr>\n",
       "      <th>NR325</th>\n",
       "      <td>NR325DZ</td>\n",
       "      <td>654224</td>\n",
       "      <td>296470</td>\n",
       "    </tr>\n",
       "    <tr>\n",
       "      <th>NR325</th>\n",
       "      <td>NR325EP</td>\n",
       "      <td>653560</td>\n",
       "      <td>296580</td>\n",
       "    </tr>\n",
       "    <tr>\n",
       "      <th>NR325</th>\n",
       "      <td>NR325EU</td>\n",
       "      <td>653773</td>\n",
       "      <td>296562</td>\n",
       "    </tr>\n",
       "    <tr>\n",
       "      <th>NR325</th>\n",
       "      <td>NR325EX</td>\n",
       "      <td>653822</td>\n",
       "      <td>296668</td>\n",
       "    </tr>\n",
       "    <tr>\n",
       "      <th>NR325</th>\n",
       "      <td>NR325EY</td>\n",
       "      <td>653878</td>\n",
       "      <td>296617</td>\n",
       "    </tr>\n",
       "    <tr>\n",
       "      <th>NR325</th>\n",
       "      <td>NR325EZ</td>\n",
       "      <td>653758</td>\n",
       "      <td>296638</td>\n",
       "    </tr>\n",
       "    <tr>\n",
       "      <th>NR325</th>\n",
       "      <td>NR325HA</td>\n",
       "      <td>653481</td>\n",
       "      <td>296641</td>\n",
       "    </tr>\n",
       "    <tr>\n",
       "      <th>NR325</th>\n",
       "      <td>NR325HB</td>\n",
       "      <td>653835</td>\n",
       "      <td>296743</td>\n",
       "    </tr>\n",
       "    <tr>\n",
       "      <th>NR325</th>\n",
       "      <td>NR325HD</td>\n",
       "      <td>654282</td>\n",
       "      <td>296890</td>\n",
       "    </tr>\n",
       "  </tbody>\n",
       "</table>\n",
       "<p>1048575 rows × 3 columns</p>\n",
       "</div>"
      ],
      "text/plain": [
       "      Postcode  Eastings  Northings\n",
       "LABEL                              \n",
       "AB101  AB101AB    394235     806529\n",
       "AB101  AB101AF    394181     806429\n",
       "AB101  AB101AG    394230     806469\n",
       "AB101  AB101AH    394371     806359\n",
       "AB101  AB101AL    394326     806522\n",
       "AB101  AB101AN    394367     806541\n",
       "AB101  AB101AP    394309     806459\n",
       "AB101  AB101AQ    394371     806359\n",
       "AB101  AB101AR    394371     806359\n",
       "AB101  AB101AS    394198     806385\n",
       "AB101  AB101AU    394264     806318\n",
       "AB101  AB101AW    394226     806282\n",
       "AB101  AB101AX    394181     806429\n",
       "AB101  AB101BA    394141     806457\n",
       "AB101  AB101BB    394223     806262\n",
       "AB101  AB101BD    394261     806288\n",
       "AB101  AB101BF    394187     806225\n",
       "AB101  AB101BJ    393602     806136\n",
       "AB101  AB101BL    394216     806398\n",
       "AB101  AB101BR    393236     805730\n",
       "AB101  AB101BS    394344     806374\n",
       "AB101  AB101BU    394169     806326\n",
       "AB101  AB101BW    394251     806376\n",
       "AB101  AB101DB    392813     805762\n",
       "AB101  AB101DQ    393530     806009\n",
       "AB101  AB101DU    394405     802269\n",
       "AB101  AB101FE    393929     806359\n",
       "AB101  AB101FF    394264     806575\n",
       "AB101  AB101FG    394192     806557\n",
       "AB101  AB101FL    394238     806594\n",
       "...        ...       ...        ...\n",
       "NR325  NR325BJ    651734     297051\n",
       "NR325  NR325BL    651710     297142\n",
       "NR325  NR325BN    651863     297057\n",
       "NR325  NR325BP    652382     296928\n",
       "NR325  NR325BS    652473     296944\n",
       "NR325  NR325BW    652265     296873\n",
       "NR325  NR325BX    651724     297733\n",
       "NR325  NR325BY    651665     297688\n",
       "NR325  NR325DA    653462     296314\n",
       "NR325  NR325DB    653373     296463\n",
       "NR325  NR325DD    653106     296534\n",
       "NR325  NR325DE    652815     296764\n",
       "NR325  NR325DF    653740     296271\n",
       "NR325  NR325DG    652731     296891\n",
       "NR325  NR325DH    652077     294913\n",
       "NR325  NR325DJ    652066     294909\n",
       "NR325  NR325DL    651780     294797\n",
       "NR325  NR325DN    651228     294605\n",
       "NR325  NR325DP    651284     293934\n",
       "NR325  NR325DQ    652740     295561\n",
       "NR325  NR325DW    651081     294276\n",
       "NR325  NR325DZ    654224     296470\n",
       "NR325  NR325EP    653560     296580\n",
       "NR325  NR325EU    653773     296562\n",
       "NR325  NR325EX    653822     296668\n",
       "NR325  NR325EY    653878     296617\n",
       "NR325  NR325EZ    653758     296638\n",
       "NR325  NR325HA    653481     296641\n",
       "NR325  NR325HB    653835     296743\n",
       "NR325  NR325HD    654282     296890\n",
       "\n",
       "[1048575 rows x 3 columns]"
      ]
     },
     "execution_count": 4,
     "metadata": {},
     "output_type": "execute_result"
    }
   ],
   "source": [
    "postcode"
   ]
  },
  {
   "cell_type": "code",
   "execution_count": 5,
   "metadata": {
    "collapsed": true
   },
   "outputs": [],
   "source": [
    "Apr03 = pd.read_csv(r\"S:\\Projects\\SAHSU_Share\\Diabetes\\Datasets\\UVvitd0203\\Apr03.csv\")\n",
    "Sep02 = pd.read_csv(r\"S:\\Projects\\SAHSU_Share\\Diabetes\\Datasets\\UVvitd0203\\Sep02.csv\")\n",
    "Oct02 = pd.read_csv(r\"S:\\Projects\\SAHSU_Share\\Diabetes\\Datasets\\UVvitd0203\\Oct02.csv\")\n",
    "Nov02 = pd.read_csv(r\"S:\\Projects\\SAHSU_Share\\Diabetes\\Datasets\\UVvitd0203\\Nov02.csv\")\n",
    "May03 = pd.read_csv(r\"S:\\Projects\\SAHSU_Share\\Diabetes\\Datasets\\UVvitd0203\\May03.csv\")\n",
    "Mar03 = pd.read_csv(r\"S:\\Projects\\SAHSU_Share\\Diabetes\\Datasets\\UVvitd0203\\Mar03.csv\")\n",
    "Jun03 = pd.read_csv(r\"S:\\Projects\\SAHSU_Share\\Diabetes\\Datasets\\UVvitd0203\\Jun03.csv\")\n",
    "Jul02 = pd.read_csv(r\"S:\\Projects\\SAHSU_Share\\Diabetes\\Datasets\\UVvitd0203\\Jul02.csv\")\n",
    "Jan03 = pd.read_csv(r\"S:\\Projects\\SAHSU_Share\\Diabetes\\Datasets\\UVvitd0203\\Jan03.csv\")\n",
    "Feb03 = pd.read_csv(r\"S:\\Projects\\SAHSU_Share\\Diabetes\\Datasets\\UVvitd0203\\Feb03.csv\")\n",
    "Dec02 = pd.read_csv(r\"S:\\Projects\\SAHSU_Share\\Diabetes\\Datasets\\UVvitd0203\\Dec02.csv\")\n",
    "Aug02 = pd.read_csv(r\"S:\\Projects\\SAHSU_Share\\Diabetes\\Datasets\\UVvitd0203\\Aug02.csv\")"
   ]
  },
  {
   "cell_type": "code",
   "execution_count": 6,
   "metadata": {
    "collapsed": true
   },
   "outputs": [],
   "source": [
    "Apr03 = Apr03.set_index('LABEL')\n",
    "Sep02 = Sep02.set_index('LABEL')\n",
    "Oct02 = Oct02.set_index('LABEL')\n",
    "Nov02 = Nov02.set_index('LABEL')\n",
    "May03 = May03.set_index('LABEL')\n",
    "Mar03 = Mar03.set_index('LABEL')\n",
    "Jun03 = Jun03.set_index('LABEL')\n",
    "Jul02 = Jul02.set_index('LABEL')\n",
    "Jan03 = Jan03.set_index('LABEL')\n",
    "Feb03 = Feb03.set_index('LABEL')\n",
    "Dec02 = Dec02.set_index('LABEL')\n",
    "Aug02 = Aug02.set_index('LABEL')"
   ]
  },
  {
   "cell_type": "code",
   "execution_count": 7,
   "metadata": {},
   "outputs": [
    {
     "ename": "MemoryError",
     "evalue": "",
     "output_type": "error",
     "traceback": [
      "\u001b[1;31m---------------------------------------------------------------------------\u001b[0m",
      "\u001b[1;31mMemoryError\u001b[0m                               Traceback (most recent call last)",
      "\u001b[1;32m<ipython-input-7-cf6645f7f5a2>\u001b[0m in \u001b[0;36m<module>\u001b[1;34m()\u001b[0m\n\u001b[0;32m      3\u001b[0m \u001b[0mUV\u001b[0m \u001b[1;33m=\u001b[0m \u001b[0mUV\u001b[0m\u001b[1;33m.\u001b[0m\u001b[0mmerge\u001b[0m\u001b[1;33m(\u001b[0m\u001b[0mNov02\u001b[0m\u001b[1;33m,\u001b[0m \u001b[0mhow\u001b[0m\u001b[1;33m=\u001b[0m\u001b[1;34m'left'\u001b[0m\u001b[1;33m,\u001b[0m \u001b[0mleft_index\u001b[0m\u001b[1;33m=\u001b[0m\u001b[1;32mTrue\u001b[0m\u001b[1;33m,\u001b[0m \u001b[0mright_index\u001b[0m\u001b[1;33m=\u001b[0m\u001b[1;32mTrue\u001b[0m\u001b[1;33m)\u001b[0m\u001b[1;33m\u001b[0m\u001b[0m\n\u001b[0;32m      4\u001b[0m \u001b[0mUV\u001b[0m \u001b[1;33m=\u001b[0m \u001b[0mUV\u001b[0m\u001b[1;33m.\u001b[0m\u001b[0mmerge\u001b[0m\u001b[1;33m(\u001b[0m\u001b[0mMay03\u001b[0m\u001b[1;33m,\u001b[0m \u001b[0mhow\u001b[0m\u001b[1;33m=\u001b[0m\u001b[1;34m'left'\u001b[0m\u001b[1;33m,\u001b[0m \u001b[0mleft_index\u001b[0m\u001b[1;33m=\u001b[0m\u001b[1;32mTrue\u001b[0m\u001b[1;33m,\u001b[0m \u001b[0mright_index\u001b[0m\u001b[1;33m=\u001b[0m\u001b[1;32mTrue\u001b[0m\u001b[1;33m)\u001b[0m\u001b[1;33m\u001b[0m\u001b[0m\n\u001b[1;32m----> 5\u001b[1;33m \u001b[0mUV\u001b[0m \u001b[1;33m=\u001b[0m \u001b[0mUV\u001b[0m\u001b[1;33m.\u001b[0m\u001b[0mmerge\u001b[0m\u001b[1;33m(\u001b[0m\u001b[0mMar03\u001b[0m\u001b[1;33m,\u001b[0m \u001b[0mhow\u001b[0m\u001b[1;33m=\u001b[0m\u001b[1;34m'left'\u001b[0m\u001b[1;33m,\u001b[0m \u001b[0mleft_index\u001b[0m\u001b[1;33m=\u001b[0m\u001b[1;32mTrue\u001b[0m\u001b[1;33m,\u001b[0m \u001b[0mright_index\u001b[0m\u001b[1;33m=\u001b[0m\u001b[1;32mTrue\u001b[0m\u001b[1;33m)\u001b[0m\u001b[1;33m\u001b[0m\u001b[0m\n\u001b[0m\u001b[0;32m      6\u001b[0m \u001b[0mUV\u001b[0m \u001b[1;33m=\u001b[0m \u001b[0mUV\u001b[0m\u001b[1;33m.\u001b[0m\u001b[0mmerge\u001b[0m\u001b[1;33m(\u001b[0m\u001b[0mJun03\u001b[0m\u001b[1;33m,\u001b[0m \u001b[0mhow\u001b[0m\u001b[1;33m=\u001b[0m\u001b[1;34m'left'\u001b[0m\u001b[1;33m,\u001b[0m \u001b[0mleft_index\u001b[0m\u001b[1;33m=\u001b[0m\u001b[1;32mTrue\u001b[0m\u001b[1;33m,\u001b[0m \u001b[0mright_index\u001b[0m\u001b[1;33m=\u001b[0m\u001b[1;32mTrue\u001b[0m\u001b[1;33m)\u001b[0m\u001b[1;33m\u001b[0m\u001b[0m\n\u001b[0;32m      7\u001b[0m \u001b[0mUV\u001b[0m \u001b[1;33m=\u001b[0m \u001b[0mUV\u001b[0m\u001b[1;33m.\u001b[0m\u001b[0mmerge\u001b[0m\u001b[1;33m(\u001b[0m\u001b[0mJul02\u001b[0m\u001b[1;33m,\u001b[0m \u001b[0mhow\u001b[0m\u001b[1;33m=\u001b[0m\u001b[1;34m'left'\u001b[0m\u001b[1;33m,\u001b[0m \u001b[0mleft_index\u001b[0m\u001b[1;33m=\u001b[0m\u001b[1;32mTrue\u001b[0m\u001b[1;33m,\u001b[0m \u001b[0mright_index\u001b[0m\u001b[1;33m=\u001b[0m\u001b[1;32mTrue\u001b[0m\u001b[1;33m)\u001b[0m\u001b[1;33m\u001b[0m\u001b[0m\n",
      "\u001b[1;32mC:\\Users\\ansheeha\\AppData\\Local\\Continuum\\Anaconda3\\lib\\site-packages\\pandas\\core\\frame.py\u001b[0m in \u001b[0;36mmerge\u001b[1;34m(self, right, how, on, left_on, right_on, left_index, right_index, sort, suffixes, copy, indicator)\u001b[0m\n\u001b[0;32m   4818\u001b[0m                      \u001b[0mright_on\u001b[0m\u001b[1;33m=\u001b[0m\u001b[0mright_on\u001b[0m\u001b[1;33m,\u001b[0m \u001b[0mleft_index\u001b[0m\u001b[1;33m=\u001b[0m\u001b[0mleft_index\u001b[0m\u001b[1;33m,\u001b[0m\u001b[1;33m\u001b[0m\u001b[0m\n\u001b[0;32m   4819\u001b[0m                      \u001b[0mright_index\u001b[0m\u001b[1;33m=\u001b[0m\u001b[0mright_index\u001b[0m\u001b[1;33m,\u001b[0m \u001b[0msort\u001b[0m\u001b[1;33m=\u001b[0m\u001b[0msort\u001b[0m\u001b[1;33m,\u001b[0m \u001b[0msuffixes\u001b[0m\u001b[1;33m=\u001b[0m\u001b[0msuffixes\u001b[0m\u001b[1;33m,\u001b[0m\u001b[1;33m\u001b[0m\u001b[0m\n\u001b[1;32m-> 4820\u001b[1;33m                      copy=copy, indicator=indicator)\n\u001b[0m\u001b[0;32m   4821\u001b[0m \u001b[1;33m\u001b[0m\u001b[0m\n\u001b[0;32m   4822\u001b[0m     \u001b[1;32mdef\u001b[0m \u001b[0mround\u001b[0m\u001b[1;33m(\u001b[0m\u001b[0mself\u001b[0m\u001b[1;33m,\u001b[0m \u001b[0mdecimals\u001b[0m\u001b[1;33m=\u001b[0m\u001b[1;36m0\u001b[0m\u001b[1;33m,\u001b[0m \u001b[1;33m*\u001b[0m\u001b[0margs\u001b[0m\u001b[1;33m,\u001b[0m \u001b[1;33m**\u001b[0m\u001b[0mkwargs\u001b[0m\u001b[1;33m)\u001b[0m\u001b[1;33m:\u001b[0m\u001b[1;33m\u001b[0m\u001b[0m\n",
      "\u001b[1;32mC:\\Users\\ansheeha\\AppData\\Local\\Continuum\\Anaconda3\\lib\\site-packages\\pandas\\core\\reshape\\merge.py\u001b[0m in \u001b[0;36mmerge\u001b[1;34m(left, right, how, on, left_on, right_on, left_index, right_index, sort, suffixes, copy, indicator)\u001b[0m\n\u001b[0;32m     52\u001b[0m                          \u001b[0mright_index\u001b[0m\u001b[1;33m=\u001b[0m\u001b[0mright_index\u001b[0m\u001b[1;33m,\u001b[0m \u001b[0msort\u001b[0m\u001b[1;33m=\u001b[0m\u001b[0msort\u001b[0m\u001b[1;33m,\u001b[0m \u001b[0msuffixes\u001b[0m\u001b[1;33m=\u001b[0m\u001b[0msuffixes\u001b[0m\u001b[1;33m,\u001b[0m\u001b[1;33m\u001b[0m\u001b[0m\n\u001b[0;32m     53\u001b[0m                          copy=copy, indicator=indicator)\n\u001b[1;32m---> 54\u001b[1;33m     \u001b[1;32mreturn\u001b[0m \u001b[0mop\u001b[0m\u001b[1;33m.\u001b[0m\u001b[0mget_result\u001b[0m\u001b[1;33m(\u001b[0m\u001b[1;33m)\u001b[0m\u001b[1;33m\u001b[0m\u001b[0m\n\u001b[0m\u001b[0;32m     55\u001b[0m \u001b[1;33m\u001b[0m\u001b[0m\n\u001b[0;32m     56\u001b[0m \u001b[1;33m\u001b[0m\u001b[0m\n",
      "\u001b[1;32mC:\\Users\\ansheeha\\AppData\\Local\\Continuum\\Anaconda3\\lib\\site-packages\\pandas\\core\\reshape\\merge.py\u001b[0m in \u001b[0;36mget_result\u001b[1;34m(self)\u001b[0m\n\u001b[0;32m    581\u001b[0m             \u001b[1;33m[\u001b[0m\u001b[1;33m(\u001b[0m\u001b[0mldata\u001b[0m\u001b[1;33m,\u001b[0m \u001b[0mlindexers\u001b[0m\u001b[1;33m)\u001b[0m\u001b[1;33m,\u001b[0m \u001b[1;33m(\u001b[0m\u001b[0mrdata\u001b[0m\u001b[1;33m,\u001b[0m \u001b[0mrindexers\u001b[0m\u001b[1;33m)\u001b[0m\u001b[1;33m]\u001b[0m\u001b[1;33m,\u001b[0m\u001b[1;33m\u001b[0m\u001b[0m\n\u001b[0;32m    582\u001b[0m             \u001b[0maxes\u001b[0m\u001b[1;33m=\u001b[0m\u001b[1;33m[\u001b[0m\u001b[0mllabels\u001b[0m\u001b[1;33m.\u001b[0m\u001b[0mappend\u001b[0m\u001b[1;33m(\u001b[0m\u001b[0mrlabels\u001b[0m\u001b[1;33m)\u001b[0m\u001b[1;33m,\u001b[0m \u001b[0mjoin_index\u001b[0m\u001b[1;33m]\u001b[0m\u001b[1;33m,\u001b[0m\u001b[1;33m\u001b[0m\u001b[0m\n\u001b[1;32m--> 583\u001b[1;33m             concat_axis=0, copy=self.copy)\n\u001b[0m\u001b[0;32m    584\u001b[0m \u001b[1;33m\u001b[0m\u001b[0m\n\u001b[0;32m    585\u001b[0m         \u001b[0mtyp\u001b[0m \u001b[1;33m=\u001b[0m \u001b[0mself\u001b[0m\u001b[1;33m.\u001b[0m\u001b[0mleft\u001b[0m\u001b[1;33m.\u001b[0m\u001b[0m_constructor\u001b[0m\u001b[1;33m\u001b[0m\u001b[0m\n",
      "\u001b[1;32mC:\\Users\\ansheeha\\AppData\\Local\\Continuum\\Anaconda3\\lib\\site-packages\\pandas\\core\\internals.py\u001b[0m in \u001b[0;36mconcatenate_block_managers\u001b[1;34m(mgrs_indexers, axes, concat_axis, copy)\u001b[0m\n\u001b[0;32m   4830\u001b[0m     blocks = [make_block(\n\u001b[0;32m   4831\u001b[0m         \u001b[0mconcatenate_join_units\u001b[0m\u001b[1;33m(\u001b[0m\u001b[0mjoin_units\u001b[0m\u001b[1;33m,\u001b[0m \u001b[0mconcat_axis\u001b[0m\u001b[1;33m,\u001b[0m \u001b[0mcopy\u001b[0m\u001b[1;33m=\u001b[0m\u001b[0mcopy\u001b[0m\u001b[1;33m)\u001b[0m\u001b[1;33m,\u001b[0m\u001b[1;33m\u001b[0m\u001b[0m\n\u001b[1;32m-> 4832\u001b[1;33m         placement=placement) for placement, join_units in concat_plan]\n\u001b[0m\u001b[0;32m   4833\u001b[0m \u001b[1;33m\u001b[0m\u001b[0m\n\u001b[0;32m   4834\u001b[0m     \u001b[1;32mreturn\u001b[0m \u001b[0mBlockManager\u001b[0m\u001b[1;33m(\u001b[0m\u001b[0mblocks\u001b[0m\u001b[1;33m,\u001b[0m \u001b[0maxes\u001b[0m\u001b[1;33m)\u001b[0m\u001b[1;33m\u001b[0m\u001b[0m\n",
      "\u001b[1;32mC:\\Users\\ansheeha\\AppData\\Local\\Continuum\\Anaconda3\\lib\\site-packages\\pandas\\core\\internals.py\u001b[0m in \u001b[0;36m<listcomp>\u001b[1;34m(.0)\u001b[0m\n\u001b[0;32m   4830\u001b[0m     blocks = [make_block(\n\u001b[0;32m   4831\u001b[0m         \u001b[0mconcatenate_join_units\u001b[0m\u001b[1;33m(\u001b[0m\u001b[0mjoin_units\u001b[0m\u001b[1;33m,\u001b[0m \u001b[0mconcat_axis\u001b[0m\u001b[1;33m,\u001b[0m \u001b[0mcopy\u001b[0m\u001b[1;33m=\u001b[0m\u001b[0mcopy\u001b[0m\u001b[1;33m)\u001b[0m\u001b[1;33m,\u001b[0m\u001b[1;33m\u001b[0m\u001b[0m\n\u001b[1;32m-> 4832\u001b[1;33m         placement=placement) for placement, join_units in concat_plan]\n\u001b[0m\u001b[0;32m   4833\u001b[0m \u001b[1;33m\u001b[0m\u001b[0m\n\u001b[0;32m   4834\u001b[0m     \u001b[1;32mreturn\u001b[0m \u001b[0mBlockManager\u001b[0m\u001b[1;33m(\u001b[0m\u001b[0mblocks\u001b[0m\u001b[1;33m,\u001b[0m \u001b[0maxes\u001b[0m\u001b[1;33m)\u001b[0m\u001b[1;33m\u001b[0m\u001b[0m\n",
      "\u001b[1;32mC:\\Users\\ansheeha\\AppData\\Local\\Continuum\\Anaconda3\\lib\\site-packages\\pandas\\core\\internals.py\u001b[0m in \u001b[0;36mconcatenate_join_units\u001b[1;34m(join_units, concat_axis, copy)\u001b[0m\n\u001b[0;32m   4937\u001b[0m     to_concat = [ju.get_reindexed_values(empty_dtype=empty_dtype,\n\u001b[0;32m   4938\u001b[0m                                          upcasted_na=upcasted_na)\n\u001b[1;32m-> 4939\u001b[1;33m                  for ju in join_units]\n\u001b[0m\u001b[0;32m   4940\u001b[0m \u001b[1;33m\u001b[0m\u001b[0m\n\u001b[0;32m   4941\u001b[0m     \u001b[1;32mif\u001b[0m \u001b[0mlen\u001b[0m\u001b[1;33m(\u001b[0m\u001b[0mto_concat\u001b[0m\u001b[1;33m)\u001b[0m \u001b[1;33m==\u001b[0m \u001b[1;36m1\u001b[0m\u001b[1;33m:\u001b[0m\u001b[1;33m\u001b[0m\u001b[0m\n",
      "\u001b[1;32mC:\\Users\\ansheeha\\AppData\\Local\\Continuum\\Anaconda3\\lib\\site-packages\\pandas\\core\\internals.py\u001b[0m in \u001b[0;36m<listcomp>\u001b[1;34m(.0)\u001b[0m\n\u001b[0;32m   4937\u001b[0m     to_concat = [ju.get_reindexed_values(empty_dtype=empty_dtype,\n\u001b[0;32m   4938\u001b[0m                                          upcasted_na=upcasted_na)\n\u001b[1;32m-> 4939\u001b[1;33m                  for ju in join_units]\n\u001b[0m\u001b[0;32m   4940\u001b[0m \u001b[1;33m\u001b[0m\u001b[0m\n\u001b[0;32m   4941\u001b[0m     \u001b[1;32mif\u001b[0m \u001b[0mlen\u001b[0m\u001b[1;33m(\u001b[0m\u001b[0mto_concat\u001b[0m\u001b[1;33m)\u001b[0m \u001b[1;33m==\u001b[0m \u001b[1;36m1\u001b[0m\u001b[1;33m:\u001b[0m\u001b[1;33m\u001b[0m\u001b[0m\n",
      "\u001b[1;32mC:\\Users\\ansheeha\\AppData\\Local\\Continuum\\Anaconda3\\lib\\site-packages\\pandas\\core\\internals.py\u001b[0m in \u001b[0;36mget_reindexed_values\u001b[1;34m(self, empty_dtype, upcasted_na)\u001b[0m\n\u001b[0;32m   5239\u001b[0m             \u001b[1;32mfor\u001b[0m \u001b[0max\u001b[0m\u001b[1;33m,\u001b[0m \u001b[0mindexer\u001b[0m \u001b[1;32min\u001b[0m \u001b[0mself\u001b[0m\u001b[1;33m.\u001b[0m\u001b[0mindexers\u001b[0m\u001b[1;33m.\u001b[0m\u001b[0mitems\u001b[0m\u001b[1;33m(\u001b[0m\u001b[1;33m)\u001b[0m\u001b[1;33m:\u001b[0m\u001b[1;33m\u001b[0m\u001b[0m\n\u001b[0;32m   5240\u001b[0m                 values = algos.take_nd(values, indexer, axis=ax,\n\u001b[1;32m-> 5241\u001b[1;33m                                        fill_value=fill_value)\n\u001b[0m\u001b[0;32m   5242\u001b[0m \u001b[1;33m\u001b[0m\u001b[0m\n\u001b[0;32m   5243\u001b[0m         \u001b[1;32mreturn\u001b[0m \u001b[0mvalues\u001b[0m\u001b[1;33m\u001b[0m\u001b[0m\n",
      "\u001b[1;32mC:\\Users\\ansheeha\\AppData\\Local\\Continuum\\Anaconda3\\lib\\site-packages\\pandas\\core\\algorithms.py\u001b[0m in \u001b[0;36mtake_nd\u001b[1;34m(arr, indexer, axis, out, fill_value, mask_info, allow_fill)\u001b[0m\n\u001b[0;32m   1460\u001b[0m             \u001b[0mout\u001b[0m \u001b[1;33m=\u001b[0m \u001b[0mnp\u001b[0m\u001b[1;33m.\u001b[0m\u001b[0mempty\u001b[0m\u001b[1;33m(\u001b[0m\u001b[0mout_shape\u001b[0m\u001b[1;33m,\u001b[0m \u001b[0mdtype\u001b[0m\u001b[1;33m=\u001b[0m\u001b[0mdtype\u001b[0m\u001b[1;33m,\u001b[0m \u001b[0morder\u001b[0m\u001b[1;33m=\u001b[0m\u001b[1;34m'F'\u001b[0m\u001b[1;33m)\u001b[0m\u001b[1;33m\u001b[0m\u001b[0m\n\u001b[0;32m   1461\u001b[0m         \u001b[1;32melse\u001b[0m\u001b[1;33m:\u001b[0m\u001b[1;33m\u001b[0m\u001b[0m\n\u001b[1;32m-> 1462\u001b[1;33m             \u001b[0mout\u001b[0m \u001b[1;33m=\u001b[0m \u001b[0mnp\u001b[0m\u001b[1;33m.\u001b[0m\u001b[0mempty\u001b[0m\u001b[1;33m(\u001b[0m\u001b[0mout_shape\u001b[0m\u001b[1;33m,\u001b[0m \u001b[0mdtype\u001b[0m\u001b[1;33m=\u001b[0m\u001b[0mdtype\u001b[0m\u001b[1;33m)\u001b[0m\u001b[1;33m\u001b[0m\u001b[0m\n\u001b[0m\u001b[0;32m   1463\u001b[0m \u001b[1;33m\u001b[0m\u001b[0m\n\u001b[0;32m   1464\u001b[0m     func = _get_take_nd_function(arr.ndim, arr.dtype, out.dtype, axis=axis,\n",
      "\u001b[1;31mMemoryError\u001b[0m: "
     ]
    }
   ],
   "source": [
    "UV = Apr03.merge(Sep02, how='left', left_index=True, right_index=True)\n",
    "UV = UV.merge(Oct02, how='left', left_index=True, right_index=True)\n",
    "UV = UV.merge(Nov02, how='left', left_index=True, right_index=True)\n",
    "UV = UV.merge(May03, how='left', left_index=True, right_index=True)\n",
    "UV = UV.merge(Mar03, how='left', left_index=True, right_index=True)\n",
    "UV = UV.merge(Jun03, how='left', left_index=True, right_index=True)\n",
    "UV = UV.merge(Jul02, how='left', left_index=True, right_index=True)\n",
    "UV = UV.merge(Jan03, how='left', left_index=True, right_index=True)\n",
    "UV = UV.merge(Feb03, how='left', left_index=True, right_index=True)\n",
    "UV = UV.merge(Dec02, how='left', left_index=True, right_index=True)\n",
    "UV = UV.merge(Aug02, how='left', left_index=True, right_index=True)"
   ]
  },
  {
   "cell_type": "code",
   "execution_count": null,
   "metadata": {
    "collapsed": true
   },
   "outputs": [],
   "source": []
  },
  {
   "cell_type": "code",
   "execution_count": null,
   "metadata": {
    "collapsed": true
   },
   "outputs": [],
   "source": []
  },
  {
   "cell_type": "code",
   "execution_count": null,
   "metadata": {},
   "outputs": [],
   "source": [
    "UV = Apr03.merge(Sep02, how='left', left_index=True, right_index=True )\n",
    "Apr03.to_csv(r\"S:\\Projects\\SAHSU_Share\\Diabetes\\Datasets\\UVvitd0203\\Apr03_district.csv\")"
   ]
  },
  {
   "cell_type": "code",
   "execution_count": null,
   "metadata": {
    "scrolled": true
   },
   "outputs": [],
   "source": [
    "Apr03"
   ]
  },
  {
   "cell_type": "code",
   "execution_count": null,
   "metadata": {
    "collapsed": true
   },
   "outputs": [],
   "source": [
    "Sep02 = Sep02.set_index('LABEL')\n",
    "Sep02 = Sep02.merge(postcode, how='left', left_index=True, right_index=True )\n",
    "Sep02.to_csv(r\"S:\\Projects\\SAHSU_Share\\Diabetes\\Datasets\\UVvitd0203\\Sep02_district.csv\")"
   ]
  },
  {
   "cell_type": "code",
   "execution_count": null,
   "metadata": {
    "collapsed": true
   },
   "outputs": [],
   "source": [
    "Oct02 = Oct02.set_index('LABEL')\n",
    "Oct02 = Oct02.merge(postcode, how='left', left_index=True, right_index=True )\n",
    "Oct02.to_csv(r\"S:\\Projects\\SAHSU_Share\\Diabetes\\Datasets\\UVvitd0203\\Oct02_district.csv\")"
   ]
  },
  {
   "cell_type": "code",
   "execution_count": null,
   "metadata": {
    "collapsed": true
   },
   "outputs": [],
   "source": [
    "Nov02 = Nov02.set_index('LABEL')\n",
    "Nov02 = Nov02.merge(postcode, how='left', left_index=True, right_index=True )\n",
    "Nov02.to_csv(r\"S:\\Projects\\SAHSU_Share\\Diabetes\\Datasets\\UVvitd0203\\Nov02_district.csv\")"
   ]
  },
  {
   "cell_type": "code",
   "execution_count": null,
   "metadata": {
    "collapsed": true
   },
   "outputs": [],
   "source": [
    "May03 = May03.set_index('LABEL')\n",
    "May03 = May03.merge(postcode, how='left', left_index=True, right_index=True )\n",
    "May03.to_csv(r\"S:\\Projects\\SAHSU_Share\\Diabetes\\Datasets\\UVvitd0203\\May03_district.csv\")"
   ]
  },
  {
   "cell_type": "code",
   "execution_count": null,
   "metadata": {
    "collapsed": true
   },
   "outputs": [],
   "source": [
    "Mar03 = Mar03.set_index('LABEL')\n",
    "Mar03 = Mar03.merge(postcode, how='left', left_index=True, right_index=True )\n",
    "Mar03.to_csv(r\"S:\\Projects\\SAHSU_Share\\Diabetes\\Datasets\\UVvitd0203\\Mar03_district.csv\")"
   ]
  },
  {
   "cell_type": "code",
   "execution_count": null,
   "metadata": {
    "collapsed": true
   },
   "outputs": [],
   "source": [
    "Jun03 = Jun03.set_index('LABEL')\n",
    "Jun03 = Jun03.merge(postcode, how='left', left_index=True, right_index=True )\n",
    "Jun03.to_csv(r\"S:\\Projects\\SAHSU_Share\\Diabetes\\Datasets\\UVvitd0203\\Jun03_district.csv\")"
   ]
  },
  {
   "cell_type": "code",
   "execution_count": null,
   "metadata": {
    "collapsed": true
   },
   "outputs": [],
   "source": [
    "Jul02 = Jul02.set_index('LABEL')\n",
    "Jul02 = Jul02.merge(postcode, how='left', left_index=True, right_index=True )\n",
    "Jul02.to_csv(r\"S:\\Projects\\SAHSU_Share\\Diabetes\\Datasets\\UVvitd0203\\Jul02_district.csv\")"
   ]
  },
  {
   "cell_type": "code",
   "execution_count": null,
   "metadata": {
    "collapsed": true
   },
   "outputs": [],
   "source": [
    "Jan03 = Jan03.set_index('LABEL')\n",
    "Jan03 = Jan03.merge(postcode, how='left', left_index=True, right_index=True )\n",
    "Jan03.to_csv(r\"S:\\Projects\\SAHSU_Share\\Diabetes\\Datasets\\UVvitd0203\\Jan03_district.csv\")"
   ]
  },
  {
   "cell_type": "code",
   "execution_count": null,
   "metadata": {
    "collapsed": true
   },
   "outputs": [],
   "source": [
    "Feb03 = Feb03.set_index('LABEL')\n",
    "Feb03 = Feb03.merge(postcode, how='left', left_index=True, right_index=True )\n",
    "Feb03.to_csv(r\"S:\\Projects\\SAHSU_Share\\Diabetes\\Datasets\\UVvitd0203\\Feb03_district.csv\")"
   ]
  },
  {
   "cell_type": "code",
   "execution_count": null,
   "metadata": {
    "collapsed": true
   },
   "outputs": [],
   "source": [
    "Dec02 = Dec02.set_index('LABEL')\n",
    "Dec02 = Dec02.merge(postcode, how='left', left_index=True, right_index=True )\n",
    "Dec02.to_csv(r\"S:\\Projects\\SAHSU_Share\\Diabetes\\Datasets\\UVvitd0203\\Dec02_district.csv\")"
   ]
  },
  {
   "cell_type": "code",
   "execution_count": null,
   "metadata": {
    "collapsed": true
   },
   "outputs": [],
   "source": [
    "Aug02 = Aug02.set_index('LABEL')\n",
    "Aug02 = Aug02.merge(postcode, how='left', left_index=True, right_index=True )\n",
    "Aug02.to_csv(r\"S:\\Projects\\SAHSU_Share\\Diabetes\\Datasets\\UVvitd0203\\Aug02_district.csv\")"
   ]
  },
  {
   "cell_type": "code",
   "execution_count": null,
   "metadata": {
    "collapsed": true
   },
   "outputs": [],
   "source": [
    "files = glob.glob(r\"S:\\Projects\\SAHSU_Share\\Diabetes\\Datasets\\UVvitd0203\\*.csv\")"
   ]
  },
  {
   "cell_type": "code",
   "execution_count": null,
   "metadata": {},
   "outputs": [],
   "source": [
    "files"
   ]
  },
  {
   "cell_type": "code",
   "execution_count": null,
   "metadata": {},
   "outputs": [],
   "source": [
    "postcode = pd.read_csv(r\"S:\\Projects\\SAHSU_Share\\Diabetes\\Datasets\\Postcodes\\postcode_district_4.csv\")"
   ]
  },
  {
   "cell_type": "code",
   "execution_count": null,
   "metadata": {
    "collapsed": true
   },
   "outputs": [],
   "source": [
    "postcode"
   ]
  },
  {
   "cell_type": "code",
   "execution_count": null,
   "metadata": {
    "collapsed": true
   },
   "outputs": [],
   "source": [
    "postcode = postcode.rename(columns={'District':'LABEL'})\n",
    "postcode = postcode.set_index('LABEL')"
   ]
  },
  {
   "cell_type": "code",
   "execution_count": null,
   "metadata": {
    "collapsed": true
   },
   "outputs": [],
   "source": []
  },
  {
   "cell_type": "code",
   "execution_count": null,
   "metadata": {
    "collapsed": true
   },
   "outputs": [],
   "source": [
    "for file in files: \n",
    "    UV = pd.read_csv(r'{fname}'.format(fname=file), header=None)\n",
    "    UV = UV.set_index('LABEL')\n",
    "    UV = pd.merge(postcode, how='left', left_index=True, right_index=True)\n",
    "    UV.to_csv(r\"S:\\Projects\\SAHSU_Share\\Diabetes\\Datasets\\UVvitd0203\\{fname}_district.csv\".format(fname=os.path.basename(file)[0:5]))"
   ]
  },
  {
   "cell_type": "code",
   "execution_count": null,
   "metadata": {
    "collapsed": true
   },
   "outputs": [],
   "source": []
  }
 ],
 "metadata": {
  "kernelspec": {
   "display_name": "Python 3",
   "language": "python",
   "name": "python3"
  },
  "language_info": {
   "codemirror_mode": {
    "name": "ipython",
    "version": 3
   },
   "file_extension": ".py",
   "mimetype": "text/x-python",
   "name": "python",
   "nbconvert_exporter": "python",
   "pygments_lexer": "ipython3",
   "version": "3.6.1"
  }
 },
 "nbformat": 4,
 "nbformat_minor": 2
}
