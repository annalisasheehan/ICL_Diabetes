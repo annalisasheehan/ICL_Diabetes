{
 "cells": [
  {
   "cell_type": "markdown",
   "metadata": {},
   "source": [
    "What i want to do: \n",
    "- read in postcode dataset\n",
    "- loop through the code point files \n",
    "- join postcodes in each file \n",
    "- make sure these are saved and each time loop through a file it doesn't delete earlier merges. "
   ]
  },
  {
   "cell_type": "code",
   "execution_count": 1,
   "metadata": {
    "collapsed": true,
    "scrolled": false
   },
   "outputs": [],
   "source": [
    "# Set libraries\n",
    "import pandas as pd\n",
    "import glob\n",
    "import os\n",
    "import numpy as np\n",
    "import datetime"
   ]
  },
  {
   "cell_type": "code",
   "execution_count": 2,
   "metadata": {
    "collapsed": true,
    "scrolled": false
   },
   "outputs": [],
   "source": [
    "# Read in postcode dataset\n",
    "UU_postcode = pd.read_csv(r\"S:\\Projects\\SAHSU_Share\\Diabetes\\Datasets\\Drinking_water\\United Utilities\\UU Zonal nitrate for imperial final 2000-2010_ed.csv\")"
   ]
  },
  {
   "cell_type": "code",
   "execution_count": null,
   "metadata": {
    "collapsed": true,
    "scrolled": true
   },
   "outputs": [],
   "source": [
    "UU_postcode"
   ]
  },
  {
   "cell_type": "markdown",
   "metadata": {},
   "source": [
    "- Get rid of the white space in the postcodes that have XXXX XXX to XXXXXXX characters so that they match with the OS codepoint dataset"
   ]
  },
  {
   "cell_type": "code",
   "execution_count": 4,
   "metadata": {
    "collapsed": true
   },
   "outputs": [],
   "source": [
    "UU_postcode['Postcode'] = UU_postcode['Postcode'].str.strip()"
   ]
  },
  {
   "cell_type": "markdown",
   "metadata": {},
   "source": [
    "UU_postcode.to_csv(r\"S:\\Projects\\SAHSU_Share\\Diabetes\\Datasets\\Drinking_water\\United Utilities\\UU_test.csv\")"
   ]
  },
  {
   "cell_type": "code",
   "execution_count": 5,
   "metadata": {
    "collapsed": true
   },
   "outputs": [],
   "source": [
    "mask = (UU_postcode['Postcode'].str.len()>7)\n",
    "mask2 = (UU_postcode['Postcode'].str.len()<8)"
   ]
  },
  {
   "cell_type": "code",
   "execution_count": 6,
   "metadata": {
    "collapsed": true
   },
   "outputs": [],
   "source": [
    "df1 = UU_postcode.loc[mask]"
   ]
  },
  {
   "cell_type": "code",
   "execution_count": 7,
   "metadata": {
    "collapsed": true
   },
   "outputs": [],
   "source": [
    "df2 = UU_postcode.loc[mask2]"
   ]
  },
  {
   "cell_type": "code",
   "execution_count": null,
   "metadata": {
    "collapsed": true,
    "scrolled": true
   },
   "outputs": [],
   "source": [
    "df1"
   ]
  },
  {
   "cell_type": "code",
   "execution_count": null,
   "metadata": {
    "collapsed": true
   },
   "outputs": [],
   "source": [
    "df2"
   ]
  },
  {
   "cell_type": "code",
   "execution_count": 10,
   "metadata": {},
   "outputs": [
    {
     "name": "stderr",
     "output_type": "stream",
     "text": [
      "C:\\Users\\ansheeha\\AppData\\Local\\Continuum\\Anaconda3\\lib\\site-packages\\ipykernel_launcher.py:1: SettingWithCopyWarning: \n",
      "A value is trying to be set on a copy of a slice from a DataFrame.\n",
      "Try using .loc[row_indexer,col_indexer] = value instead\n",
      "\n",
      "See the caveats in the documentation: http://pandas.pydata.org/pandas-docs/stable/indexing.html#indexing-view-versus-copy\n",
      "  \"\"\"Entry point for launching an IPython kernel.\n"
     ]
    }
   ],
   "source": [
    "df1['First']= df1['Postcode'].str[:4]"
   ]
  },
  {
   "cell_type": "code",
   "execution_count": 11,
   "metadata": {},
   "outputs": [
    {
     "name": "stderr",
     "output_type": "stream",
     "text": [
      "C:\\Users\\ansheeha\\AppData\\Local\\Continuum\\Anaconda3\\lib\\site-packages\\ipykernel_launcher.py:1: SettingWithCopyWarning: \n",
      "A value is trying to be set on a copy of a slice from a DataFrame.\n",
      "Try using .loc[row_indexer,col_indexer] = value instead\n",
      "\n",
      "See the caveats in the documentation: http://pandas.pydata.org/pandas-docs/stable/indexing.html#indexing-view-versus-copy\n",
      "  \"\"\"Entry point for launching an IPython kernel.\n"
     ]
    }
   ],
   "source": [
    "df1['Last']= df1['Postcode'].str[5:8]"
   ]
  },
  {
   "cell_type": "code",
   "execution_count": 12,
   "metadata": {},
   "outputs": [
    {
     "name": "stderr",
     "output_type": "stream",
     "text": [
      "C:\\Users\\ansheeha\\AppData\\Local\\Continuum\\Anaconda3\\lib\\site-packages\\ipykernel_launcher.py:1: SettingWithCopyWarning: \n",
      "A value is trying to be set on a copy of a slice from a DataFrame.\n",
      "Try using .loc[row_indexer,col_indexer] = value instead\n",
      "\n",
      "See the caveats in the documentation: http://pandas.pydata.org/pandas-docs/stable/indexing.html#indexing-view-versus-copy\n",
      "  \"\"\"Entry point for launching an IPython kernel.\n"
     ]
    }
   ],
   "source": [
    "df1['New_pstcd'] = df1['First'].map(str) + df1['Last']"
   ]
  },
  {
   "cell_type": "code",
   "execution_count": null,
   "metadata": {
    "collapsed": true,
    "scrolled": false
   },
   "outputs": [],
   "source": [
    "df1"
   ]
  },
  {
   "cell_type": "markdown",
   "metadata": {},
   "source": [
    "df1.to_csv(r\"S:\\Projects\\SAHSU_Share\\Diabetes\\Datasets\\Drinking_water\\United Utilities\\UU_df1.csv\")"
   ]
  },
  {
   "cell_type": "code",
   "execution_count": 14,
   "metadata": {
    "collapsed": true
   },
   "outputs": [],
   "source": [
    "df1_n = df1[['Date', 'New_pstcd', 'Nitrate', 'Qualifier', 'Zone desc']]"
   ]
  },
  {
   "cell_type": "code",
   "execution_count": 15,
   "metadata": {
    "collapsed": true
   },
   "outputs": [],
   "source": [
    "df1_n = df1_n.rename(columns={'New_pstcd':'Postcode'})"
   ]
  },
  {
   "cell_type": "code",
   "execution_count": 16,
   "metadata": {
    "collapsed": true
   },
   "outputs": [],
   "source": [
    "df_all = pd.concat([df1_n, df2])"
   ]
  },
  {
   "cell_type": "code",
   "execution_count": 17,
   "metadata": {
    "collapsed": true,
    "scrolled": true
   },
   "outputs": [],
   "source": [
    "df_all = df_all.set_index('Postcode')"
   ]
  },
  {
   "cell_type": "code",
   "execution_count": null,
   "metadata": {
    "collapsed": true,
    "scrolled": true
   },
   "outputs": [],
   "source": [
    "df_all"
   ]
  },
  {
   "cell_type": "markdown",
   "metadata": {},
   "source": [
    "- read in the header file for the Code point postcode files \n",
    "- set the column headings to the first row (which contains the header names)\n",
    "- set the index to the column which says postcode\n",
    "- delete the row with the duplicate of column headings- so end up with a table of just the column headings"
   ]
  },
  {
   "cell_type": "code",
   "execution_count": 19,
   "metadata": {
    "collapsed": true
   },
   "outputs": [],
   "source": [
    "labels2 = pd.read_csv(r\"S:\\Projects\\SAHSU_Share\\Diabetes\\Datasets\\Postcodes\\codepo_gb\\Doc\\Code-Point_Open_Column_Headers.csv\", header = None)"
   ]
  },
  {
   "cell_type": "code",
   "execution_count": 20,
   "metadata": {
    "collapsed": true
   },
   "outputs": [],
   "source": [
    "labels2.columns = labels2.iloc[0]"
   ]
  },
  {
   "cell_type": "code",
   "execution_count": 21,
   "metadata": {},
   "outputs": [
    {
     "data": {
      "text/html": [
       "<div>\n",
       "<style>\n",
       "    .dataframe thead tr:only-child th {\n",
       "        text-align: right;\n",
       "    }\n",
       "\n",
       "    .dataframe thead th {\n",
       "        text-align: left;\n",
       "    }\n",
       "\n",
       "    .dataframe tbody tr th {\n",
       "        vertical-align: top;\n",
       "    }\n",
       "</style>\n",
       "<table border=\"1\" class=\"dataframe\">\n",
       "  <thead>\n",
       "    <tr style=\"text-align: right;\">\n",
       "      <th></th>\n",
       "      <th>Postcode</th>\n",
       "      <th>Positional_quality_indicator</th>\n",
       "      <th>Eastings</th>\n",
       "      <th>Northings</th>\n",
       "      <th>Country_code</th>\n",
       "      <th>NHS_regional_HA_code</th>\n",
       "      <th>NHS_HA_code</th>\n",
       "      <th>Admin_county_code</th>\n",
       "      <th>Admin_district_code</th>\n",
       "      <th>Admin_ward_code</th>\n",
       "    </tr>\n",
       "  </thead>\n",
       "  <tbody>\n",
       "    <tr>\n",
       "      <th>0</th>\n",
       "      <td>Postcode</td>\n",
       "      <td>Positional_quality_indicator</td>\n",
       "      <td>Eastings</td>\n",
       "      <td>Northings</td>\n",
       "      <td>Country_code</td>\n",
       "      <td>NHS_regional_HA_code</td>\n",
       "      <td>NHS_HA_code</td>\n",
       "      <td>Admin_county_code</td>\n",
       "      <td>Admin_district_code</td>\n",
       "      <td>Admin_ward_code</td>\n",
       "    </tr>\n",
       "  </tbody>\n",
       "</table>\n",
       "</div>"
      ],
      "text/plain": [
       "0  Postcode  Positional_quality_indicator  Eastings  Northings  Country_code  \\\n",
       "0  Postcode  Positional_quality_indicator  Eastings  Northings  Country_code   \n",
       "\n",
       "0  NHS_regional_HA_code  NHS_HA_code  Admin_county_code  Admin_district_code  \\\n",
       "0  NHS_regional_HA_code  NHS_HA_code  Admin_county_code  Admin_district_code   \n",
       "\n",
       "0  Admin_ward_code  \n",
       "0  Admin_ward_code  "
      ]
     },
     "execution_count": 21,
     "metadata": {},
     "output_type": "execute_result"
    }
   ],
   "source": [
    "labels2"
   ]
  },
  {
   "cell_type": "code",
   "execution_count": 22,
   "metadata": {
    "collapsed": true
   },
   "outputs": [],
   "source": [
    "labels2 = labels2.set_index('Postcode')"
   ]
  },
  {
   "cell_type": "code",
   "execution_count": 23,
   "metadata": {
    "collapsed": true
   },
   "outputs": [],
   "source": [
    "labels2 = labels2.reindex(labels2.index.drop('Postcode'))"
   ]
  },
  {
   "cell_type": "markdown",
   "metadata": {},
   "source": [
    "- merge the SWW postcodes and the labels to create a dataframe in which we can fill with the OS easting and northing information"
   ]
  },
  {
   "cell_type": "code",
   "execution_count": 24,
   "metadata": {
    "collapsed": true,
    "scrolled": true
   },
   "outputs": [],
   "source": [
    "df_all = df_all.merge(labels2, how='left', left_index=True, right_index=True)"
   ]
  },
  {
   "cell_type": "code",
   "execution_count": null,
   "metadata": {
    "collapsed": true,
    "scrolled": false
   },
   "outputs": [],
   "source": [
    "df_all"
   ]
  },
  {
   "cell_type": "markdown",
   "metadata": {},
   "source": [
    "- read in the labels data again so that the OS codepoint files can be merged with the column headings"
   ]
  },
  {
   "cell_type": "code",
   "execution_count": 4,
   "metadata": {
    "collapsed": true
   },
   "outputs": [],
   "source": [
    "labels = pd.read_csv(r\"S:\\Projects\\SAHSU_Share\\Diabetes\\Datasets\\Postcodes\\codepo_gb\\Doc\\Code-Point_Open_Column_Headers.csv\", header = None)"
   ]
  },
  {
   "cell_type": "markdown",
   "metadata": {
    "collapsed": true
   },
   "source": [
    "- Create a list of the files within the codepoint folder (containing all the different postcodes) to use within the for loop"
   ]
  },
  {
   "cell_type": "code",
   "execution_count": 5,
   "metadata": {
    "collapsed": true,
    "scrolled": false
   },
   "outputs": [],
   "source": [
    "files = glob.glob(r\"S:\\Projects\\SAHSU_Share\\Diabetes\\Datasets\\Postcodes\\codepo_gb\\Data\\CSV\\*\")"
   ]
  },
  {
   "cell_type": "code",
   "execution_count": 6,
   "metadata": {
    "scrolled": true
   },
   "outputs": [
    {
     "data": {
      "text/plain": [
       "['S:\\\\Projects\\\\SAHSU_Share\\\\Diabetes\\\\Datasets\\\\Postcodes\\\\codepo_gb\\\\Data\\\\CSV\\\\tw.csv',\n",
       " 'S:\\\\Projects\\\\SAHSU_Share\\\\Diabetes\\\\Datasets\\\\Postcodes\\\\codepo_gb\\\\Data\\\\CSV\\\\dy.csv',\n",
       " 'S:\\\\Projects\\\\SAHSU_Share\\\\Diabetes\\\\Datasets\\\\Postcodes\\\\codepo_gb\\\\Data\\\\CSV\\\\la.csv',\n",
       " 'S:\\\\Projects\\\\SAHSU_Share\\\\Diabetes\\\\Datasets\\\\Postcodes\\\\codepo_gb\\\\Data\\\\CSV\\\\hd.csv',\n",
       " 'S:\\\\Projects\\\\SAHSU_Share\\\\Diabetes\\\\Datasets\\\\Postcodes\\\\codepo_gb\\\\Data\\\\CSV\\\\sl.csv',\n",
       " 'S:\\\\Projects\\\\SAHSU_Share\\\\Diabetes\\\\Datasets\\\\Postcodes\\\\codepo_gb\\\\Data\\\\CSV\\\\dg.csv',\n",
       " 'S:\\\\Projects\\\\SAHSU_Share\\\\Diabetes\\\\Datasets\\\\Postcodes\\\\codepo_gb\\\\Data\\\\CSV\\\\ph.csv',\n",
       " 'S:\\\\Projects\\\\SAHSU_Share\\\\Diabetes\\\\Datasets\\\\Postcodes\\\\codepo_gb\\\\Data\\\\CSV\\\\ws.csv',\n",
       " 'S:\\\\Projects\\\\SAHSU_Share\\\\Diabetes\\\\Datasets\\\\Postcodes\\\\codepo_gb\\\\Data\\\\CSV\\\\e.csv',\n",
       " 'S:\\\\Projects\\\\SAHSU_Share\\\\Diabetes\\\\Datasets\\\\Postcodes\\\\codepo_gb\\\\Data\\\\CSV\\\\gu.csv',\n",
       " 'S:\\\\Projects\\\\SAHSU_Share\\\\Diabetes\\\\Datasets\\\\Postcodes\\\\codepo_gb\\\\Data\\\\CSV\\\\ig.csv',\n",
       " 'S:\\\\Projects\\\\SAHSU_Share\\\\Diabetes\\\\Datasets\\\\Postcodes\\\\codepo_gb\\\\Data\\\\CSV\\\\pr.csv',\n",
       " 'S:\\\\Projects\\\\SAHSU_Share\\\\Diabetes\\\\Datasets\\\\Postcodes\\\\codepo_gb\\\\Data\\\\CSV\\\\ze.csv',\n",
       " 'S:\\\\Projects\\\\SAHSU_Share\\\\Diabetes\\\\Datasets\\\\Postcodes\\\\codepo_gb\\\\Data\\\\CSV\\\\wa.csv',\n",
       " 'S:\\\\Projects\\\\SAHSU_Share\\\\Diabetes\\\\Datasets\\\\Postcodes\\\\codepo_gb\\\\Data\\\\CSV\\\\cf.csv',\n",
       " 'S:\\\\Projects\\\\SAHSU_Share\\\\Diabetes\\\\Datasets\\\\Postcodes\\\\codepo_gb\\\\Data\\\\CSV\\\\nn.csv',\n",
       " 'S:\\\\Projects\\\\SAHSU_Share\\\\Diabetes\\\\Datasets\\\\Postcodes\\\\codepo_gb\\\\Data\\\\CSV\\\\sn.csv',\n",
       " 'S:\\\\Projects\\\\SAHSU_Share\\\\Diabetes\\\\Datasets\\\\Postcodes\\\\codepo_gb\\\\Data\\\\CSV\\\\g.csv',\n",
       " 'S:\\\\Projects\\\\SAHSU_Share\\\\Diabetes\\\\Datasets\\\\Postcodes\\\\codepo_gb\\\\Data\\\\CSV\\\\kt.csv',\n",
       " 'S:\\\\Projects\\\\SAHSU_Share\\\\Diabetes\\\\Datasets\\\\Postcodes\\\\codepo_gb\\\\Data\\\\CSV\\\\al.csv',\n",
       " 'S:\\\\Projects\\\\SAHSU_Share\\\\Diabetes\\\\Datasets\\\\Postcodes\\\\codepo_gb\\\\Data\\\\CSV\\\\ip.csv',\n",
       " 'S:\\\\Projects\\\\SAHSU_Share\\\\Diabetes\\\\Datasets\\\\Postcodes\\\\codepo_gb\\\\Data\\\\CSV\\\\wc.csv',\n",
       " 'S:\\\\Projects\\\\SAHSU_Share\\\\Diabetes\\\\Datasets\\\\Postcodes\\\\codepo_gb\\\\Data\\\\CSV\\\\rm.csv',\n",
       " 'S:\\\\Projects\\\\SAHSU_Share\\\\Diabetes\\\\Datasets\\\\Postcodes\\\\codepo_gb\\\\Data\\\\CSV\\\\ch.csv',\n",
       " 'S:\\\\Projects\\\\SAHSU_Share\\\\Diabetes\\\\Datasets\\\\Postcodes\\\\codepo_gb\\\\Data\\\\CSV\\\\np.csv',\n",
       " 'S:\\\\Projects\\\\SAHSU_Share\\\\Diabetes\\\\Datasets\\\\Postcodes\\\\codepo_gb\\\\Data\\\\CSV\\\\da.csv',\n",
       " 'S:\\\\Projects\\\\SAHSU_Share\\\\Diabetes\\\\Datasets\\\\Postcodes\\\\codepo_gb\\\\Data\\\\CSV\\\\le.csv',\n",
       " 'S:\\\\Projects\\\\SAHSU_Share\\\\Diabetes\\\\Datasets\\\\Postcodes\\\\codepo_gb\\\\Data\\\\CSV\\\\sp.csv',\n",
       " 'S:\\\\Projects\\\\SAHSU_Share\\\\Diabetes\\\\Datasets\\\\Postcodes\\\\codepo_gb\\\\Data\\\\CSV\\\\cr.csv',\n",
       " 'S:\\\\Projects\\\\SAHSU_Share\\\\Diabetes\\\\Datasets\\\\Postcodes\\\\codepo_gb\\\\Data\\\\CSV\\\\me.csv',\n",
       " 'S:\\\\Projects\\\\SAHSU_Share\\\\Diabetes\\\\Datasets\\\\Postcodes\\\\codepo_gb\\\\Data\\\\CSV\\\\s.csv',\n",
       " 'S:\\\\Projects\\\\SAHSU_Share\\\\Diabetes\\\\Datasets\\\\Postcodes\\\\codepo_gb\\\\Data\\\\CSV\\\\nr.csv',\n",
       " 'S:\\\\Projects\\\\SAHSU_Share\\\\Diabetes\\\\Datasets\\\\Postcodes\\\\codepo_gb\\\\Data\\\\CSV\\\\ec.csv',\n",
       " 'S:\\\\Projects\\\\SAHSU_Share\\\\Diabetes\\\\Datasets\\\\Postcodes\\\\codepo_gb\\\\Data\\\\CSV\\\\ln.csv',\n",
       " 'S:\\\\Projects\\\\SAHSU_Share\\\\Diabetes\\\\Datasets\\\\Postcodes\\\\codepo_gb\\\\Data\\\\CSV\\\\wv.csv',\n",
       " 'S:\\\\Projects\\\\SAHSU_Share\\\\Diabetes\\\\Datasets\\\\Postcodes\\\\codepo_gb\\\\Data\\\\CSV\\\\sy.csv',\n",
       " 'S:\\\\Projects\\\\SAHSU_Share\\\\Diabetes\\\\Datasets\\\\Postcodes\\\\codepo_gb\\\\Data\\\\CSV\\\\tr.csv',\n",
       " 'S:\\\\Projects\\\\SAHSU_Share\\\\Diabetes\\\\Datasets\\\\Postcodes\\\\codepo_gb\\\\Data\\\\CSV\\\\dt.csv',\n",
       " 'S:\\\\Projects\\\\SAHSU_Share\\\\Diabetes\\\\Datasets\\\\Postcodes\\\\codepo_gb\\\\Data\\\\CSV\\\\rg.csv',\n",
       " 'S:\\\\Projects\\\\SAHSU_Share\\\\Diabetes\\\\Datasets\\\\Postcodes\\\\codepo_gb\\\\Data\\\\CSV\\\\cb.csv',\n",
       " 'S:\\\\Projects\\\\SAHSU_Share\\\\Diabetes\\\\Datasets\\\\Postcodes\\\\codepo_gb\\\\Data\\\\CSV\\\\dl.csv',\n",
       " 'S:\\\\Projects\\\\SAHSU_Share\\\\Diabetes\\\\Datasets\\\\Postcodes\\\\codepo_gb\\\\Data\\\\CSV\\\\kw.csv',\n",
       " 'S:\\\\Projects\\\\SAHSU_Share\\\\Diabetes\\\\Datasets\\\\Postcodes\\\\codepo_gb\\\\Data\\\\CSV\\\\ba.csv',\n",
       " 'S:\\\\Projects\\\\SAHSU_Share\\\\Diabetes\\\\Datasets\\\\Postcodes\\\\codepo_gb\\\\Data\\\\CSV\\\\hs.csv',\n",
       " 'S:\\\\Projects\\\\SAHSU_Share\\\\Diabetes\\\\Datasets\\\\Postcodes\\\\codepo_gb\\\\Data\\\\CSV\\\\iv.csv',\n",
       " 'S:\\\\Projects\\\\SAHSU_Share\\\\Diabetes\\\\Datasets\\\\Postcodes\\\\codepo_gb\\\\Data\\\\CSV\\\\ha.csv',\n",
       " 'S:\\\\Projects\\\\SAHSU_Share\\\\Diabetes\\\\Datasets\\\\Postcodes\\\\codepo_gb\\\\Data\\\\CSV\\\\dd.csv',\n",
       " 'S:\\\\Projects\\\\SAHSU_Share\\\\Diabetes\\\\Datasets\\\\Postcodes\\\\codepo_gb\\\\Data\\\\CSV\\\\ol.csv',\n",
       " 'S:\\\\Projects\\\\SAHSU_Share\\\\Diabetes\\\\Datasets\\\\Postcodes\\\\codepo_gb\\\\Data\\\\CSV\\\\pe.csv',\n",
       " 'S:\\\\Projects\\\\SAHSU_Share\\\\Diabetes\\\\Datasets\\\\Postcodes\\\\codepo_gb\\\\Data\\\\CSV\\\\fy.csv',\n",
       " 'S:\\\\Projects\\\\SAHSU_Share\\\\Diabetes\\\\Datasets\\\\Postcodes\\\\codepo_gb\\\\Data\\\\CSV\\\\b.csv',\n",
       " 'S:\\\\Projects\\\\SAHSU_Share\\\\Diabetes\\\\Datasets\\\\Postcodes\\\\codepo_gb\\\\Data\\\\CSV\\\\ss.csv',\n",
       " 'S:\\\\Projects\\\\SAHSU_Share\\\\Diabetes\\\\Datasets\\\\Postcodes\\\\codepo_gb\\\\Data\\\\CSV\\\\dn.csv',\n",
       " 'S:\\\\Projects\\\\SAHSU_Share\\\\Diabetes\\\\Datasets\\\\Postcodes\\\\codepo_gb\\\\Data\\\\CSV\\\\l.csv',\n",
       " 'S:\\\\Projects\\\\SAHSU_Share\\\\Diabetes\\\\Datasets\\\\Postcodes\\\\codepo_gb\\\\Data\\\\CSV\\\\po.csv',\n",
       " 'S:\\\\Projects\\\\SAHSU_Share\\\\Diabetes\\\\Datasets\\\\Postcodes\\\\codepo_gb\\\\Data\\\\CSV\\\\ky.csv',\n",
       " 'S:\\\\Projects\\\\SAHSU_Share\\\\Diabetes\\\\Datasets\\\\Postcodes\\\\codepo_gb\\\\Data\\\\CSV\\\\mk.csv',\n",
       " 'S:\\\\Projects\\\\SAHSU_Share\\\\Diabetes\\\\Datasets\\\\Postcodes\\\\codepo_gb\\\\Data\\\\CSV\\\\hu.csv',\n",
       " 'S:\\\\Projects\\\\SAHSU_Share\\\\Diabetes\\\\Datasets\\\\Postcodes\\\\codepo_gb\\\\Data\\\\CSV\\\\sk.csv',\n",
       " 'S:\\\\Projects\\\\SAHSU_Share\\\\Diabetes\\\\Datasets\\\\Postcodes\\\\codepo_gb\\\\Data\\\\CSV\\\\td.csv',\n",
       " 'S:\\\\Projects\\\\SAHSU_Share\\\\Diabetes\\\\Datasets\\\\Postcodes\\\\codepo_gb\\\\Data\\\\CSV\\\\cm.csv',\n",
       " 'S:\\\\Projects\\\\SAHSU_Share\\\\Diabetes\\\\Datasets\\\\Postcodes\\\\codepo_gb\\\\Data\\\\CSV\\\\ab.csv',\n",
       " 'S:\\\\Projects\\\\SAHSU_Share\\\\Diabetes\\\\Datasets\\\\Postcodes\\\\codepo_gb\\\\Data\\\\CSV\\\\wr.csv',\n",
       " 'S:\\\\Projects\\\\SAHSU_Share\\\\Diabetes\\\\Datasets\\\\Postcodes\\\\codepo_gb\\\\Data\\\\CSV\\\\tn.csv',\n",
       " 'S:\\\\Projects\\\\SAHSU_Share\\\\Diabetes\\\\Datasets\\\\Postcodes\\\\codepo_gb\\\\Data\\\\CSV\\\\n.csv',\n",
       " 'S:\\\\Projects\\\\SAHSU_Share\\\\Diabetes\\\\Datasets\\\\Postcodes\\\\codepo_gb\\\\Data\\\\CSV\\\\cw.csv',\n",
       " 'S:\\\\Projects\\\\SAHSU_Share\\\\Diabetes\\\\Datasets\\\\Postcodes\\\\codepo_gb\\\\Data\\\\CSV\\\\ox.csv',\n",
       " 'S:\\\\Projects\\\\SAHSU_Share\\\\Diabetes\\\\Datasets\\\\Postcodes\\\\codepo_gb\\\\Data\\\\CSV\\\\bl.csv',\n",
       " 'S:\\\\Projects\\\\SAHSU_Share\\\\Diabetes\\\\Datasets\\\\Postcodes\\\\codepo_gb\\\\Data\\\\CSV\\\\gl.csv',\n",
       " 'S:\\\\Projects\\\\SAHSU_Share\\\\Diabetes\\\\Datasets\\\\Postcodes\\\\codepo_gb\\\\Data\\\\CSV\\\\sm.csv',\n",
       " 'S:\\\\Projects\\\\SAHSU_Share\\\\Diabetes\\\\Datasets\\\\Postcodes\\\\codepo_gb\\\\Data\\\\CSV\\\\tf.csv',\n",
       " 'S:\\\\Projects\\\\SAHSU_Share\\\\Diabetes\\\\Datasets\\\\Postcodes\\\\codepo_gb\\\\Data\\\\CSV\\\\co.csv',\n",
       " 'S:\\\\Projects\\\\SAHSU_Share\\\\Diabetes\\\\Datasets\\\\Postcodes\\\\codepo_gb\\\\Data\\\\CSV\\\\nw.csv',\n",
       " 'S:\\\\Projects\\\\SAHSU_Share\\\\Diabetes\\\\Datasets\\\\Postcodes\\\\codepo_gb\\\\Data\\\\CSV\\\\dh.csv',\n",
       " 'S:\\\\Projects\\\\SAHSU_Share\\\\Diabetes\\\\Datasets\\\\Postcodes\\\\codepo_gb\\\\Data\\\\CSV\\\\ll.csv',\n",
       " 'S:\\\\Projects\\\\SAHSU_Share\\\\Diabetes\\\\Datasets\\\\Postcodes\\\\codepo_gb\\\\Data\\\\CSV\\\\sw.csv',\n",
       " 'S:\\\\Projects\\\\SAHSU_Share\\\\Diabetes\\\\Datasets\\\\Postcodes\\\\codepo_gb\\\\Data\\\\CSV\\\\bd.csv',\n",
       " 'S:\\\\Projects\\\\SAHSU_Share\\\\Diabetes\\\\Datasets\\\\Postcodes\\\\codepo_gb\\\\Data\\\\CSV\\\\ne.csv',\n",
       " 'S:\\\\Projects\\\\SAHSU_Share\\\\Diabetes\\\\Datasets\\\\Postcodes\\\\codepo_gb\\\\Data\\\\CSV\\\\ka.csv',\n",
       " 'S:\\\\Projects\\\\SAHSU_Share\\\\Diabetes\\\\Datasets\\\\Postcodes\\\\codepo_gb\\\\Data\\\\CSV\\\\fk.csv',\n",
       " 'S:\\\\Projects\\\\SAHSU_Share\\\\Diabetes\\\\Datasets\\\\Postcodes\\\\codepo_gb\\\\Data\\\\CSV\\\\se.csv',\n",
       " 'S:\\\\Projects\\\\SAHSU_Share\\\\Diabetes\\\\Datasets\\\\Postcodes\\\\codepo_gb\\\\Data\\\\CSV\\\\bn.csv',\n",
       " 'S:\\\\Projects\\\\SAHSU_Share\\\\Diabetes\\\\Datasets\\\\Postcodes\\\\codepo_gb\\\\Data\\\\CSV\\\\pa.csv',\n",
       " 'S:\\\\Projects\\\\SAHSU_Share\\\\Diabetes\\\\Datasets\\\\Postcodes\\\\codepo_gb\\\\Data\\\\CSV\\\\ld.csv',\n",
       " 'S:\\\\Projects\\\\SAHSU_Share\\\\Diabetes\\\\Datasets\\\\Postcodes\\\\codepo_gb\\\\Data\\\\CSV\\\\hg.csv',\n",
       " 'S:\\\\Projects\\\\SAHSU_Share\\\\Diabetes\\\\Datasets\\\\Postcodes\\\\codepo_gb\\\\Data\\\\CSV\\\\so.csv',\n",
       " 'S:\\\\Projects\\\\SAHSU_Share\\\\Diabetes\\\\Datasets\\\\Postcodes\\\\codepo_gb\\\\Data\\\\CSV\\\\lu.csv',\n",
       " 'S:\\\\Projects\\\\SAHSU_Share\\\\Diabetes\\\\Datasets\\\\Postcodes\\\\codepo_gb\\\\Data\\\\CSV\\\\ng.csv',\n",
       " 'S:\\\\Projects\\\\SAHSU_Share\\\\Diabetes\\\\Datasets\\\\Postcodes\\\\codepo_gb\\\\Data\\\\CSV\\\\yo.csv',\n",
       " 'S:\\\\Projects\\\\SAHSU_Share\\\\Diabetes\\\\Datasets\\\\Postcodes\\\\codepo_gb\\\\Data\\\\CSV\\\\hx.csv',\n",
       " 'S:\\\\Projects\\\\SAHSU_Share\\\\Diabetes\\\\Datasets\\\\Postcodes\\\\codepo_gb\\\\Data\\\\CSV\\\\all_postcodes_cut.csv',\n",
       " 'S:\\\\Projects\\\\SAHSU_Share\\\\Diabetes\\\\Datasets\\\\Postcodes\\\\codepo_gb\\\\Data\\\\CSV\\\\wd.csv',\n",
       " 'S:\\\\Projects\\\\SAHSU_Share\\\\Diabetes\\\\Datasets\\\\Postcodes\\\\codepo_gb\\\\Data\\\\CSV\\\\sg.csv',\n",
       " 'S:\\\\Projects\\\\SAHSU_Share\\\\Diabetes\\\\Datasets\\\\Postcodes\\\\codepo_gb\\\\Data\\\\CSV\\\\wn.csv',\n",
       " 'S:\\\\Projects\\\\SAHSU_Share\\\\Diabetes\\\\Datasets\\\\Postcodes\\\\codepo_gb\\\\Data\\\\CSV\\\\hp.csv',\n",
       " 'S:\\\\Projects\\\\SAHSU_Share\\\\Diabetes\\\\Datasets\\\\Postcodes\\\\codepo_gb\\\\Data\\\\CSV\\\\tq.csv',\n",
       " 'S:\\\\Projects\\\\SAHSU_Share\\\\Diabetes\\\\Datasets\\\\Postcodes\\\\codepo_gb\\\\Data\\\\CSV\\\\bh.csv',\n",
       " 'S:\\\\Projects\\\\SAHSU_Share\\\\Diabetes\\\\Datasets\\\\Postcodes\\\\codepo_gb\\\\Data\\\\CSV\\\\ca.csv',\n",
       " 'S:\\\\Projects\\\\SAHSU_Share\\\\Diabetes\\\\Datasets\\\\Postcodes\\\\codepo_gb\\\\Data\\\\CSV\\\\wf.csv',\n",
       " 'S:\\\\Projects\\\\SAHSU_Share\\\\Diabetes\\\\Datasets\\\\Postcodes\\\\codepo_gb\\\\Data\\\\CSV\\\\br.csv',\n",
       " 'S:\\\\Projects\\\\SAHSU_Share\\\\Diabetes\\\\Datasets\\\\Postcodes\\\\codepo_gb\\\\Data\\\\CSV\\\\ub.csv',\n",
       " 'S:\\\\Projects\\\\SAHSU_Share\\\\Diabetes\\\\Datasets\\\\Postcodes\\\\codepo_gb\\\\Data\\\\CSV\\\\pl.csv',\n",
       " 'S:\\\\Projects\\\\SAHSU_Share\\\\Diabetes\\\\Datasets\\\\Postcodes\\\\codepo_gb\\\\Data\\\\CSV\\\\hr.csv',\n",
       " 'S:\\\\Projects\\\\SAHSU_Share\\\\Diabetes\\\\Datasets\\\\Postcodes\\\\codepo_gb\\\\Data\\\\CSV\\\\ts.csv',\n",
       " 'S:\\\\Projects\\\\SAHSU_Share\\\\Diabetes\\\\Datasets\\\\Postcodes\\\\codepo_gb\\\\Data\\\\CSV\\\\en.csv',\n",
       " 'S:\\\\Projects\\\\SAHSU_Share\\\\Diabetes\\\\Datasets\\\\Postcodes\\\\codepo_gb\\\\Data\\\\CSV\\\\rh.csv',\n",
       " 'S:\\\\Projects\\\\SAHSU_Share\\\\Diabetes\\\\Datasets\\\\Postcodes\\\\codepo_gb\\\\Data\\\\CSV\\\\sa.csv',\n",
       " 'S:\\\\Projects\\\\SAHSU_Share\\\\Diabetes\\\\Datasets\\\\Postcodes\\\\codepo_gb\\\\Data\\\\CSV\\\\ex.csv',\n",
       " 'S:\\\\Projects\\\\SAHSU_Share\\\\Diabetes\\\\Datasets\\\\Postcodes\\\\codepo_gb\\\\Data\\\\CSV\\\\ta.csv',\n",
       " 'S:\\\\Projects\\\\SAHSU_Share\\\\Diabetes\\\\Datasets\\\\Postcodes\\\\codepo_gb\\\\Data\\\\CSV\\\\sr.csv',\n",
       " 'S:\\\\Projects\\\\SAHSU_Share\\\\Diabetes\\\\Datasets\\\\Postcodes\\\\codepo_gb\\\\Data\\\\CSV\\\\ct.csv',\n",
       " 'S:\\\\Projects\\\\SAHSU_Share\\\\Diabetes\\\\Datasets\\\\Postcodes\\\\codepo_gb\\\\Data\\\\CSV\\\\all_postcodes.csv',\n",
       " 'S:\\\\Projects\\\\SAHSU_Share\\\\Diabetes\\\\Datasets\\\\Postcodes\\\\codepo_gb\\\\Data\\\\CSV\\\\bb.csv',\n",
       " 'S:\\\\Projects\\\\SAHSU_Share\\\\Diabetes\\\\Datasets\\\\Postcodes\\\\codepo_gb\\\\Data\\\\CSV\\\\bs.csv',\n",
       " 'S:\\\\Projects\\\\SAHSU_Share\\\\Diabetes\\\\Datasets\\\\Postcodes\\\\codepo_gb\\\\Data\\\\CSV\\\\de.csv',\n",
       " 'S:\\\\Projects\\\\SAHSU_Share\\\\Diabetes\\\\Datasets\\\\Postcodes\\\\codepo_gb\\\\Data\\\\CSV\\\\st.csv',\n",
       " 'S:\\\\Projects\\\\SAHSU_Share\\\\Diabetes\\\\Datasets\\\\Postcodes\\\\codepo_gb\\\\Data\\\\CSV\\\\cv.csv',\n",
       " 'S:\\\\Projects\\\\SAHSU_Share\\\\Diabetes\\\\Datasets\\\\Postcodes\\\\codepo_gb\\\\Data\\\\CSV\\\\m.csv',\n",
       " 'S:\\\\Projects\\\\SAHSU_Share\\\\Diabetes\\\\Datasets\\\\Postcodes\\\\codepo_gb\\\\Data\\\\CSV\\\\eh.csv',\n",
       " 'S:\\\\Projects\\\\SAHSU_Share\\\\Diabetes\\\\Datasets\\\\Postcodes\\\\codepo_gb\\\\Data\\\\CSV\\\\ls.csv',\n",
       " 'S:\\\\Projects\\\\SAHSU_Share\\\\Diabetes\\\\Datasets\\\\Postcodes\\\\codepo_gb\\\\Data\\\\CSV\\\\w.csv',\n",
       " 'S:\\\\Projects\\\\SAHSU_Share\\\\Diabetes\\\\Datasets\\\\Postcodes\\\\codepo_gb\\\\Data\\\\CSV\\\\ml.csv']"
      ]
     },
     "execution_count": 6,
     "metadata": {},
     "output_type": "execute_result"
    }
   ],
   "source": [
    "files"
   ]
  },
  {
   "cell_type": "markdown",
   "metadata": {
    "collapsed": true
   },
   "source": [
    "- create a loop to insert data into the df_all dataset\n",
    "    - read the postcode file in\n",
    "    - merge the labels and postcode file so the postcode file has column headings \n",
    "    - set the column headings as actual column headings \n",
    "    - set the index to postcode\n",
    "    - delete the duplicate postcode row\n",
    "    - insert a column 'date' because the table we are filling has a date column\n",
    "    - ensure that the date column is in datetime format\n",
    "    - insert the postcode information into the SWW postcode dataset\n",
    "    - delete all of the extra postcodes that aren't in the SWW postcode dataset\n",
    "    - display that the postcode file has been processed "
   ]
  },
  {
   "cell_type": "code",
   "execution_count": 30,
   "metadata": {},
   "outputs": [
    {
     "name": "stdout",
     "output_type": "stream",
     "text": [
      "Processed S:\\Projects\\SAHSU_Share\\Diabetes\\Datasets\\Postcodes\\codepo_gb\\Data\\CSV\\tw.csv\n",
      "Processed S:\\Projects\\SAHSU_Share\\Diabetes\\Datasets\\Postcodes\\codepo_gb\\Data\\CSV\\dy.csv\n",
      "Processed S:\\Projects\\SAHSU_Share\\Diabetes\\Datasets\\Postcodes\\codepo_gb\\Data\\CSV\\la.csv\n",
      "Processed S:\\Projects\\SAHSU_Share\\Diabetes\\Datasets\\Postcodes\\codepo_gb\\Data\\CSV\\hd.csv\n",
      "Processed S:\\Projects\\SAHSU_Share\\Diabetes\\Datasets\\Postcodes\\codepo_gb\\Data\\CSV\\sl.csv\n",
      "Processed S:\\Projects\\SAHSU_Share\\Diabetes\\Datasets\\Postcodes\\codepo_gb\\Data\\CSV\\dg.csv\n",
      "Processed S:\\Projects\\SAHSU_Share\\Diabetes\\Datasets\\Postcodes\\codepo_gb\\Data\\CSV\\ph.csv\n",
      "Processed S:\\Projects\\SAHSU_Share\\Diabetes\\Datasets\\Postcodes\\codepo_gb\\Data\\CSV\\ws.csv\n",
      "Processed S:\\Projects\\SAHSU_Share\\Diabetes\\Datasets\\Postcodes\\codepo_gb\\Data\\CSV\\e.csv\n",
      "Processed S:\\Projects\\SAHSU_Share\\Diabetes\\Datasets\\Postcodes\\codepo_gb\\Data\\CSV\\gu.csv\n",
      "Processed S:\\Projects\\SAHSU_Share\\Diabetes\\Datasets\\Postcodes\\codepo_gb\\Data\\CSV\\ig.csv\n",
      "Processed S:\\Projects\\SAHSU_Share\\Diabetes\\Datasets\\Postcodes\\codepo_gb\\Data\\CSV\\pr.csv\n",
      "Processed S:\\Projects\\SAHSU_Share\\Diabetes\\Datasets\\Postcodes\\codepo_gb\\Data\\CSV\\ze.csv\n",
      "Processed S:\\Projects\\SAHSU_Share\\Diabetes\\Datasets\\Postcodes\\codepo_gb\\Data\\CSV\\wa.csv\n",
      "Processed S:\\Projects\\SAHSU_Share\\Diabetes\\Datasets\\Postcodes\\codepo_gb\\Data\\CSV\\cf.csv\n",
      "Processed S:\\Projects\\SAHSU_Share\\Diabetes\\Datasets\\Postcodes\\codepo_gb\\Data\\CSV\\nn.csv\n",
      "Processed S:\\Projects\\SAHSU_Share\\Diabetes\\Datasets\\Postcodes\\codepo_gb\\Data\\CSV\\sn.csv\n",
      "Processed S:\\Projects\\SAHSU_Share\\Diabetes\\Datasets\\Postcodes\\codepo_gb\\Data\\CSV\\g.csv\n",
      "Processed S:\\Projects\\SAHSU_Share\\Diabetes\\Datasets\\Postcodes\\codepo_gb\\Data\\CSV\\kt.csv\n",
      "Processed S:\\Projects\\SAHSU_Share\\Diabetes\\Datasets\\Postcodes\\codepo_gb\\Data\\CSV\\al.csv\n",
      "Processed S:\\Projects\\SAHSU_Share\\Diabetes\\Datasets\\Postcodes\\codepo_gb\\Data\\CSV\\ip.csv\n",
      "Processed S:\\Projects\\SAHSU_Share\\Diabetes\\Datasets\\Postcodes\\codepo_gb\\Data\\CSV\\wc.csv\n",
      "Processed S:\\Projects\\SAHSU_Share\\Diabetes\\Datasets\\Postcodes\\codepo_gb\\Data\\CSV\\rm.csv\n",
      "Processed S:\\Projects\\SAHSU_Share\\Diabetes\\Datasets\\Postcodes\\codepo_gb\\Data\\CSV\\ch.csv\n",
      "Processed S:\\Projects\\SAHSU_Share\\Diabetes\\Datasets\\Postcodes\\codepo_gb\\Data\\CSV\\np.csv\n",
      "Processed S:\\Projects\\SAHSU_Share\\Diabetes\\Datasets\\Postcodes\\codepo_gb\\Data\\CSV\\da.csv\n",
      "Processed S:\\Projects\\SAHSU_Share\\Diabetes\\Datasets\\Postcodes\\codepo_gb\\Data\\CSV\\le.csv\n",
      "Processed S:\\Projects\\SAHSU_Share\\Diabetes\\Datasets\\Postcodes\\codepo_gb\\Data\\CSV\\sp.csv\n",
      "Processed S:\\Projects\\SAHSU_Share\\Diabetes\\Datasets\\Postcodes\\codepo_gb\\Data\\CSV\\cr.csv\n",
      "Processed S:\\Projects\\SAHSU_Share\\Diabetes\\Datasets\\Postcodes\\codepo_gb\\Data\\CSV\\me.csv\n",
      "Processed S:\\Projects\\SAHSU_Share\\Diabetes\\Datasets\\Postcodes\\codepo_gb\\Data\\CSV\\s.csv\n",
      "Processed S:\\Projects\\SAHSU_Share\\Diabetes\\Datasets\\Postcodes\\codepo_gb\\Data\\CSV\\nr.csv\n",
      "Processed S:\\Projects\\SAHSU_Share\\Diabetes\\Datasets\\Postcodes\\codepo_gb\\Data\\CSV\\ec.csv\n",
      "Processed S:\\Projects\\SAHSU_Share\\Diabetes\\Datasets\\Postcodes\\codepo_gb\\Data\\CSV\\ln.csv\n",
      "Processed S:\\Projects\\SAHSU_Share\\Diabetes\\Datasets\\Postcodes\\codepo_gb\\Data\\CSV\\wv.csv\n",
      "Processed S:\\Projects\\SAHSU_Share\\Diabetes\\Datasets\\Postcodes\\codepo_gb\\Data\\CSV\\sy.csv\n",
      "Processed S:\\Projects\\SAHSU_Share\\Diabetes\\Datasets\\Postcodes\\codepo_gb\\Data\\CSV\\tr.csv\n",
      "Processed S:\\Projects\\SAHSU_Share\\Diabetes\\Datasets\\Postcodes\\codepo_gb\\Data\\CSV\\dt.csv\n",
      "Processed S:\\Projects\\SAHSU_Share\\Diabetes\\Datasets\\Postcodes\\codepo_gb\\Data\\CSV\\rg.csv\n",
      "Processed S:\\Projects\\SAHSU_Share\\Diabetes\\Datasets\\Postcodes\\codepo_gb\\Data\\CSV\\cb.csv\n",
      "Processed S:\\Projects\\SAHSU_Share\\Diabetes\\Datasets\\Postcodes\\codepo_gb\\Data\\CSV\\dl.csv\n",
      "Processed S:\\Projects\\SAHSU_Share\\Diabetes\\Datasets\\Postcodes\\codepo_gb\\Data\\CSV\\kw.csv\n",
      "Processed S:\\Projects\\SAHSU_Share\\Diabetes\\Datasets\\Postcodes\\codepo_gb\\Data\\CSV\\ba.csv\n",
      "Processed S:\\Projects\\SAHSU_Share\\Diabetes\\Datasets\\Postcodes\\codepo_gb\\Data\\CSV\\hs.csv\n",
      "Processed S:\\Projects\\SAHSU_Share\\Diabetes\\Datasets\\Postcodes\\codepo_gb\\Data\\CSV\\iv.csv\n",
      "Processed S:\\Projects\\SAHSU_Share\\Diabetes\\Datasets\\Postcodes\\codepo_gb\\Data\\CSV\\ha.csv\n",
      "Processed S:\\Projects\\SAHSU_Share\\Diabetes\\Datasets\\Postcodes\\codepo_gb\\Data\\CSV\\dd.csv\n",
      "Processed S:\\Projects\\SAHSU_Share\\Diabetes\\Datasets\\Postcodes\\codepo_gb\\Data\\CSV\\ol.csv\n",
      "Processed S:\\Projects\\SAHSU_Share\\Diabetes\\Datasets\\Postcodes\\codepo_gb\\Data\\CSV\\pe.csv\n",
      "Processed S:\\Projects\\SAHSU_Share\\Diabetes\\Datasets\\Postcodes\\codepo_gb\\Data\\CSV\\fy.csv\n",
      "Processed S:\\Projects\\SAHSU_Share\\Diabetes\\Datasets\\Postcodes\\codepo_gb\\Data\\CSV\\b.csv\n",
      "Processed S:\\Projects\\SAHSU_Share\\Diabetes\\Datasets\\Postcodes\\codepo_gb\\Data\\CSV\\ss.csv\n",
      "Processed S:\\Projects\\SAHSU_Share\\Diabetes\\Datasets\\Postcodes\\codepo_gb\\Data\\CSV\\dn.csv\n",
      "Processed S:\\Projects\\SAHSU_Share\\Diabetes\\Datasets\\Postcodes\\codepo_gb\\Data\\CSV\\l.csv\n",
      "Processed S:\\Projects\\SAHSU_Share\\Diabetes\\Datasets\\Postcodes\\codepo_gb\\Data\\CSV\\po.csv\n",
      "Processed S:\\Projects\\SAHSU_Share\\Diabetes\\Datasets\\Postcodes\\codepo_gb\\Data\\CSV\\ky.csv\n",
      "Processed S:\\Projects\\SAHSU_Share\\Diabetes\\Datasets\\Postcodes\\codepo_gb\\Data\\CSV\\mk.csv\n",
      "Processed S:\\Projects\\SAHSU_Share\\Diabetes\\Datasets\\Postcodes\\codepo_gb\\Data\\CSV\\hu.csv\n",
      "Processed S:\\Projects\\SAHSU_Share\\Diabetes\\Datasets\\Postcodes\\codepo_gb\\Data\\CSV\\sk.csv\n",
      "Processed S:\\Projects\\SAHSU_Share\\Diabetes\\Datasets\\Postcodes\\codepo_gb\\Data\\CSV\\td.csv\n",
      "Processed S:\\Projects\\SAHSU_Share\\Diabetes\\Datasets\\Postcodes\\codepo_gb\\Data\\CSV\\cm.csv\n",
      "Processed S:\\Projects\\SAHSU_Share\\Diabetes\\Datasets\\Postcodes\\codepo_gb\\Data\\CSV\\ab.csv\n",
      "Processed S:\\Projects\\SAHSU_Share\\Diabetes\\Datasets\\Postcodes\\codepo_gb\\Data\\CSV\\wr.csv\n",
      "Processed S:\\Projects\\SAHSU_Share\\Diabetes\\Datasets\\Postcodes\\codepo_gb\\Data\\CSV\\tn.csv\n",
      "Processed S:\\Projects\\SAHSU_Share\\Diabetes\\Datasets\\Postcodes\\codepo_gb\\Data\\CSV\\n.csv\n",
      "Processed S:\\Projects\\SAHSU_Share\\Diabetes\\Datasets\\Postcodes\\codepo_gb\\Data\\CSV\\cw.csv\n",
      "Processed S:\\Projects\\SAHSU_Share\\Diabetes\\Datasets\\Postcodes\\codepo_gb\\Data\\CSV\\ox.csv\n",
      "Processed S:\\Projects\\SAHSU_Share\\Diabetes\\Datasets\\Postcodes\\codepo_gb\\Data\\CSV\\bl.csv\n",
      "Processed S:\\Projects\\SAHSU_Share\\Diabetes\\Datasets\\Postcodes\\codepo_gb\\Data\\CSV\\gl.csv\n",
      "Processed S:\\Projects\\SAHSU_Share\\Diabetes\\Datasets\\Postcodes\\codepo_gb\\Data\\CSV\\sm.csv\n",
      "Processed S:\\Projects\\SAHSU_Share\\Diabetes\\Datasets\\Postcodes\\codepo_gb\\Data\\CSV\\tf.csv\n",
      "Processed S:\\Projects\\SAHSU_Share\\Diabetes\\Datasets\\Postcodes\\codepo_gb\\Data\\CSV\\co.csv\n",
      "Processed S:\\Projects\\SAHSU_Share\\Diabetes\\Datasets\\Postcodes\\codepo_gb\\Data\\CSV\\nw.csv\n",
      "Processed S:\\Projects\\SAHSU_Share\\Diabetes\\Datasets\\Postcodes\\codepo_gb\\Data\\CSV\\dh.csv\n",
      "Processed S:\\Projects\\SAHSU_Share\\Diabetes\\Datasets\\Postcodes\\codepo_gb\\Data\\CSV\\ll.csv\n",
      "Processed S:\\Projects\\SAHSU_Share\\Diabetes\\Datasets\\Postcodes\\codepo_gb\\Data\\CSV\\sw.csv\n",
      "Processed S:\\Projects\\SAHSU_Share\\Diabetes\\Datasets\\Postcodes\\codepo_gb\\Data\\CSV\\bd.csv\n",
      "Processed S:\\Projects\\SAHSU_Share\\Diabetes\\Datasets\\Postcodes\\codepo_gb\\Data\\CSV\\ne.csv\n",
      "Processed S:\\Projects\\SAHSU_Share\\Diabetes\\Datasets\\Postcodes\\codepo_gb\\Data\\CSV\\ka.csv\n",
      "Processed S:\\Projects\\SAHSU_Share\\Diabetes\\Datasets\\Postcodes\\codepo_gb\\Data\\CSV\\fk.csv\n",
      "Processed S:\\Projects\\SAHSU_Share\\Diabetes\\Datasets\\Postcodes\\codepo_gb\\Data\\CSV\\se.csv\n",
      "Processed S:\\Projects\\SAHSU_Share\\Diabetes\\Datasets\\Postcodes\\codepo_gb\\Data\\CSV\\bn.csv\n",
      "Processed S:\\Projects\\SAHSU_Share\\Diabetes\\Datasets\\Postcodes\\codepo_gb\\Data\\CSV\\pa.csv\n",
      "Processed S:\\Projects\\SAHSU_Share\\Diabetes\\Datasets\\Postcodes\\codepo_gb\\Data\\CSV\\ld.csv\n",
      "Processed S:\\Projects\\SAHSU_Share\\Diabetes\\Datasets\\Postcodes\\codepo_gb\\Data\\CSV\\hg.csv\n",
      "Processed S:\\Projects\\SAHSU_Share\\Diabetes\\Datasets\\Postcodes\\codepo_gb\\Data\\CSV\\so.csv\n",
      "Processed S:\\Projects\\SAHSU_Share\\Diabetes\\Datasets\\Postcodes\\codepo_gb\\Data\\CSV\\lu.csv\n",
      "Processed S:\\Projects\\SAHSU_Share\\Diabetes\\Datasets\\Postcodes\\codepo_gb\\Data\\CSV\\ng.csv\n",
      "Processed S:\\Projects\\SAHSU_Share\\Diabetes\\Datasets\\Postcodes\\codepo_gb\\Data\\CSV\\yo.csv\n",
      "Processed S:\\Projects\\SAHSU_Share\\Diabetes\\Datasets\\Postcodes\\codepo_gb\\Data\\CSV\\hx.csv\n"
     ]
    },
    {
     "name": "stderr",
     "output_type": "stream",
     "text": [
      "C:\\Users\\ansheeha\\AppData\\Local\\Continuum\\Anaconda3\\lib\\site-packages\\IPython\\core\\interactiveshell.py:2717: DtypeWarning: Columns (1,2) have mixed types. Specify dtype option on import or set low_memory=False.\n",
      "  interactivity=interactivity, compiler=compiler, result=result)\n"
     ]
    },
    {
     "ename": "InvalidIndexError",
     "evalue": "Reindexing only valid with uniquely valued Index objects",
     "output_type": "error",
     "traceback": [
      "\u001b[1;31m---------------------------------------------------------------------------\u001b[0m",
      "\u001b[1;31mInvalidIndexError\u001b[0m                         Traceback (most recent call last)",
      "\u001b[1;32m<ipython-input-30-0d2cf5df3b21>\u001b[0m in \u001b[0;36m<module>\u001b[1;34m()\u001b[0m\n\u001b[0;32m      4\u001b[0m     \u001b[0mdata\u001b[0m\u001b[1;33m.\u001b[0m\u001b[0mcolumns\u001b[0m \u001b[1;33m=\u001b[0m \u001b[0mdata\u001b[0m\u001b[1;33m.\u001b[0m\u001b[0miloc\u001b[0m\u001b[1;33m[\u001b[0m\u001b[1;36m0\u001b[0m\u001b[1;33m]\u001b[0m\u001b[1;33m\u001b[0m\u001b[0m\n\u001b[0;32m      5\u001b[0m     \u001b[0mdata\u001b[0m \u001b[1;33m=\u001b[0m \u001b[0mdata\u001b[0m\u001b[1;33m.\u001b[0m\u001b[0mset_index\u001b[0m\u001b[1;33m(\u001b[0m\u001b[1;33m[\u001b[0m\u001b[1;34m'Postcode'\u001b[0m\u001b[1;33m]\u001b[0m\u001b[1;33m)\u001b[0m\u001b[1;33m\u001b[0m\u001b[0m\n\u001b[1;32m----> 6\u001b[1;33m     \u001b[0mdata\u001b[0m \u001b[1;33m=\u001b[0m \u001b[0mdata\u001b[0m\u001b[1;33m.\u001b[0m\u001b[0mreindex\u001b[0m\u001b[1;33m(\u001b[0m\u001b[0mdata\u001b[0m\u001b[1;33m.\u001b[0m\u001b[0mindex\u001b[0m\u001b[1;33m.\u001b[0m\u001b[0mdrop\u001b[0m\u001b[1;33m(\u001b[0m\u001b[1;34m'Postcode'\u001b[0m\u001b[1;33m)\u001b[0m\u001b[1;33m)\u001b[0m\u001b[1;33m\u001b[0m\u001b[0m\n\u001b[0m\u001b[0;32m      7\u001b[0m     \u001b[0mdata\u001b[0m\u001b[1;33m.\u001b[0m\u001b[0minsert\u001b[0m\u001b[1;33m(\u001b[0m\u001b[1;36m0\u001b[0m\u001b[1;33m,\u001b[0m \u001b[1;34m'Date'\u001b[0m\u001b[1;33m,\u001b[0m \u001b[1;34m'NaN'\u001b[0m\u001b[1;33m)\u001b[0m\u001b[1;33m\u001b[0m\u001b[0m\n\u001b[0;32m      8\u001b[0m     \u001b[0mdata\u001b[0m\u001b[1;33m.\u001b[0m\u001b[0minsert\u001b[0m\u001b[1;33m(\u001b[0m\u001b[1;36m1\u001b[0m\u001b[1;33m,\u001b[0m\u001b[1;34m'Nitrate'\u001b[0m\u001b[1;33m,\u001b[0m \u001b[1;34m'NaN'\u001b[0m\u001b[1;33m)\u001b[0m\u001b[1;33m\u001b[0m\u001b[0m\n",
      "\u001b[1;32mC:\\Users\\ansheeha\\AppData\\Local\\Continuum\\Anaconda3\\lib\\site-packages\\pandas\\core\\indexes\\base.py\u001b[0m in \u001b[0;36mdrop\u001b[1;34m(self, labels, errors)\u001b[0m\n\u001b[0;32m   3568\u001b[0m         \"\"\"\n\u001b[0;32m   3569\u001b[0m         \u001b[0mlabels\u001b[0m \u001b[1;33m=\u001b[0m \u001b[0mcom\u001b[0m\u001b[1;33m.\u001b[0m\u001b[0m_index_labels_to_array\u001b[0m\u001b[1;33m(\u001b[0m\u001b[0mlabels\u001b[0m\u001b[1;33m)\u001b[0m\u001b[1;33m\u001b[0m\u001b[0m\n\u001b[1;32m-> 3570\u001b[1;33m         \u001b[0mindexer\u001b[0m \u001b[1;33m=\u001b[0m \u001b[0mself\u001b[0m\u001b[1;33m.\u001b[0m\u001b[0mget_indexer\u001b[0m\u001b[1;33m(\u001b[0m\u001b[0mlabels\u001b[0m\u001b[1;33m)\u001b[0m\u001b[1;33m\u001b[0m\u001b[0m\n\u001b[0m\u001b[0;32m   3571\u001b[0m         \u001b[0mmask\u001b[0m \u001b[1;33m=\u001b[0m \u001b[0mindexer\u001b[0m \u001b[1;33m==\u001b[0m \u001b[1;33m-\u001b[0m\u001b[1;36m1\u001b[0m\u001b[1;33m\u001b[0m\u001b[0m\n\u001b[0;32m   3572\u001b[0m         \u001b[1;32mif\u001b[0m \u001b[0mmask\u001b[0m\u001b[1;33m.\u001b[0m\u001b[0many\u001b[0m\u001b[1;33m(\u001b[0m\u001b[1;33m)\u001b[0m\u001b[1;33m:\u001b[0m\u001b[1;33m\u001b[0m\u001b[0m\n",
      "\u001b[1;32mC:\\Users\\ansheeha\\AppData\\Local\\Continuum\\Anaconda3\\lib\\site-packages\\pandas\\core\\indexes\\base.py\u001b[0m in \u001b[0;36mget_indexer\u001b[1;34m(self, target, method, limit, tolerance)\u001b[0m\n\u001b[0;32m   2532\u001b[0m \u001b[1;33m\u001b[0m\u001b[0m\n\u001b[0;32m   2533\u001b[0m         \u001b[1;32mif\u001b[0m \u001b[1;32mnot\u001b[0m \u001b[0mself\u001b[0m\u001b[1;33m.\u001b[0m\u001b[0mis_unique\u001b[0m\u001b[1;33m:\u001b[0m\u001b[1;33m\u001b[0m\u001b[0m\n\u001b[1;32m-> 2534\u001b[1;33m             raise InvalidIndexError('Reindexing only valid with uniquely'\n\u001b[0m\u001b[0;32m   2535\u001b[0m                                     ' valued Index objects')\n\u001b[0;32m   2536\u001b[0m \u001b[1;33m\u001b[0m\u001b[0m\n",
      "\u001b[1;31mInvalidIndexError\u001b[0m: Reindexing only valid with uniquely valued Index objects"
     ]
    }
   ],
   "source": [
    "for file in files:\n",
    "    postcode = pd.read_csv(r'{fname}'.format(fname=file), header=None)\n",
    "    data = pd.concat([labels,postcode])\n",
    "    data.columns = data.iloc[0]\n",
    "    data = data.set_index(['Postcode'])\n",
    "    data = data.reindex(data.index.drop('Postcode'))\n",
    "    data.insert(0, 'Date', 'NaN')\n",
    "    data.insert(1,'Nitrate', 'NaN')\n",
    "    data.insert(2,'Qualifier', 'NaN')\n",
    "    data.insert(3,'Zone desc', 'NaN')\n",
    "    data['Date']= pd.to_datetime(data['Date'])\n",
    "    df_all = df_all.combine_first(data)\n",
    "    df_all = df_all[pd.notnull(df_all['Date'])]\n",
    "    \n",
    "    \n",
    "    print('Processed {fname}'.format(fname=file))"
   ]
  },
  {
   "cell_type": "markdown",
   "metadata": {},
   "source": [
    "- save the dataset"
   ]
  },
  {
   "cell_type": "code",
   "execution_count": 31,
   "metadata": {
    "collapsed": true
   },
   "outputs": [],
   "source": [
    "df_all.to_csv(r\"S:\\Projects\\SAHSU_Share\\Diabetes\\Datasets\\Drinking_water\\United Utilities\\UU_Northing_Easting.csv\")"
   ]
  },
  {
   "cell_type": "markdown",
   "metadata": {},
   "source": [
    "- rerunning the code on the dataset using a smaller number of the OS Codepoint files "
   ]
  },
  {
   "cell_type": "code",
   "execution_count": null,
   "metadata": {
    "collapsed": true
   },
   "outputs": [],
   "source": [
    "# Read in postcode dataset\n",
    "UU_postcode = pd.read_csv(r\"S:\\Projects\\SAHSU_Share\\Diabetes\\Datasets\\Drinking_water\\United Utilities\\UU_Unmatched.csv\")"
   ]
  },
  {
   "cell_type": "code",
   "execution_count": null,
   "metadata": {
    "collapsed": true
   },
   "outputs": [],
   "source": [
    "UU_postcode"
   ]
  },
  {
   "cell_type": "code",
   "execution_count": null,
   "metadata": {
    "collapsed": true
   },
   "outputs": [],
   "source": [
    "UU_postcode['Postcode'] = UU_postcode['Postcode'].str.strip()"
   ]
  },
  {
   "cell_type": "code",
   "execution_count": null,
   "metadata": {
    "collapsed": true
   },
   "outputs": [],
   "source": [
    "df_all = UU_postcode"
   ]
  },
  {
   "cell_type": "code",
   "execution_count": null,
   "metadata": {
    "collapsed": true
   },
   "outputs": [],
   "source": [
    "df_all = df_all.set_index('Postcode')"
   ]
  },
  {
   "cell_type": "code",
   "execution_count": null,
   "metadata": {
    "collapsed": true
   },
   "outputs": [],
   "source": [
    "df_all"
   ]
  },
  {
   "cell_type": "code",
   "execution_count": null,
   "metadata": {
    "collapsed": true
   },
   "outputs": [],
   "source": [
    "labels2 = pd.read_csv(r\"S:\\Projects\\SAHSU_Share\\Diabetes\\Datasets\\Postcodes\\codepo_gb\\Doc\\Code-Point_Open_Column_Headers.csv\", header = None)"
   ]
  },
  {
   "cell_type": "code",
   "execution_count": null,
   "metadata": {
    "collapsed": true
   },
   "outputs": [],
   "source": [
    "labels2.columns = labels2.iloc[0]"
   ]
  },
  {
   "cell_type": "code",
   "execution_count": null,
   "metadata": {
    "collapsed": true
   },
   "outputs": [],
   "source": [
    "labels2"
   ]
  },
  {
   "cell_type": "code",
   "execution_count": null,
   "metadata": {
    "collapsed": true
   },
   "outputs": [],
   "source": [
    "labels2 = labels2.set_index('Postcode')"
   ]
  },
  {
   "cell_type": "code",
   "execution_count": null,
   "metadata": {
    "collapsed": true
   },
   "outputs": [],
   "source": [
    "labels2 = labels2.reindex(labels2.index.drop('Postcode'))"
   ]
  },
  {
   "cell_type": "code",
   "execution_count": null,
   "metadata": {
    "collapsed": true
   },
   "outputs": [],
   "source": [
    "df_all = df_all.merge(labels2, how='left', left_index=True, right_index=True)"
   ]
  },
  {
   "cell_type": "code",
   "execution_count": null,
   "metadata": {
    "collapsed": true
   },
   "outputs": [],
   "source": [
    "df_all"
   ]
  },
  {
   "cell_type": "code",
   "execution_count": null,
   "metadata": {
    "collapsed": true
   },
   "outputs": [],
   "source": [
    "labels = pd.read_csv(r\"S:\\Projects\\SAHSU_Share\\Diabetes\\Datasets\\Postcodes\\codepo_gb\\Doc\\Code-Point_Open_Column_Headers.csv\", header = None)"
   ]
  },
  {
   "cell_type": "code",
   "execution_count": null,
   "metadata": {
    "collapsed": true
   },
   "outputs": [],
   "source": [
    "files = glob.glob(r\"S:\\Projects\\SAHSU_Share\\Diabetes\\Datasets\\Drinking_water\\United Utilities\\Postcodes\\*\")"
   ]
  },
  {
   "cell_type": "code",
   "execution_count": null,
   "metadata": {
    "collapsed": true
   },
   "outputs": [],
   "source": [
    "files"
   ]
  },
  {
   "cell_type": "code",
   "execution_count": null,
   "metadata": {
    "collapsed": true
   },
   "outputs": [],
   "source": [
    "for file in files:\n",
    "    postcode = pd.read_csv(r'{fname}'.format(fname=file), header=None)\n",
    "    data = pd.concat([labels,postcode])\n",
    "    data.columns = data.iloc[0]\n",
    "    data = data.set_index(['Postcode'])\n",
    "    data = data.reindex(data.index.drop('Postcode'))\n",
    "    data.insert(0, 'Date', 'NaN')\n",
    "    data.insert(1,'Nitrate', 'NaN')\n",
    "    data.insert(2,'Qualifier', 'NaN')\n",
    "    data.insert(3,'Zone desc', 'NaN')\n",
    "    data['Date']= pd.to_datetime(data['Date'])\n",
    "    df_all = df_all.combine_first(data)\n",
    "    df_all = df_all[pd.notnull(df_all['Date'])]\n",
    "    \n",
    "    \n",
    "    print('Processed {fname}'.format(fname=file))"
   ]
  },
  {
   "cell_type": "code",
   "execution_count": null,
   "metadata": {
    "collapsed": true
   },
   "outputs": [],
   "source": [
    "df_all.to_csv(r\"S:\\Projects\\SAHSU_Share\\Diabetes\\Datasets\\Drinking_water\\United Utilities\\UU_unmatchedmatched.csv\")"
   ]
  },
  {
   "cell_type": "markdown",
   "metadata": {},
   "source": [
    "## cutting down unmatched postcodes to postcode district level and matching to postcode district centroid file"
   ]
  },
  {
   "cell_type": "code",
   "execution_count": 84,
   "metadata": {
    "collapsed": true
   },
   "outputs": [],
   "source": [
    "unmatched = pd.read_csv(r\"S:\\Projects\\SAHSU_Share\\Diabetes\\Datasets\\Drinking_water\\United Utilities\\UU_unmatched_2.csv\")"
   ]
  },
  {
   "cell_type": "code",
   "execution_count": null,
   "metadata": {
    "scrolled": false
   },
   "outputs": [],
   "source": [
    "unmatched"
   ]
  },
  {
   "cell_type": "code",
   "execution_count": 86,
   "metadata": {},
   "outputs": [],
   "source": [
    "mask1 = (unmatched['Postcode'].str.len()>6)\n",
    "mask2 = (unmatched['Postcode'].str.len()==6)\n",
    "mask3 = (unmatched['Postcode'].str.len()==5)\n",
    "mask4 = (unmatched['Postcode'].str.len()<5)\n"
   ]
  },
  {
   "cell_type": "code",
   "execution_count": 87,
   "metadata": {
    "collapsed": true
   },
   "outputs": [],
   "source": [
    "df1 = unmatched.loc[mask1]\n",
    "df2 = unmatched.loc[mask2]\n",
    "df3 = unmatched.loc[mask3]\n",
    "df4 = unmatched.loc[mask4]"
   ]
  },
  {
   "cell_type": "code",
   "execution_count": null,
   "metadata": {
    "scrolled": true
   },
   "outputs": [],
   "source": [
    " df3"
   ]
  },
  {
   "cell_type": "code",
   "execution_count": 89,
   "metadata": {
    "scrolled": true
   },
   "outputs": [
    {
     "name": "stderr",
     "output_type": "stream",
     "text": [
      "C:\\Users\\ansheeha\\AppData\\Local\\Continuum\\Anaconda3\\lib\\site-packages\\ipykernel_launcher.py:1: SettingWithCopyWarning: \n",
      "A value is trying to be set on a copy of a slice from a DataFrame.\n",
      "Try using .loc[row_indexer,col_indexer] = value instead\n",
      "\n",
      "See the caveats in the documentation: http://pandas.pydata.org/pandas-docs/stable/indexing.html#indexing-view-versus-copy\n",
      "  \"\"\"Entry point for launching an IPython kernel.\n"
     ]
    }
   ],
   "source": [
    "df2['First']=df2['Postcode'].str[:3]"
   ]
  },
  {
   "cell_type": "code",
   "execution_count": 90,
   "metadata": {},
   "outputs": [
    {
     "name": "stderr",
     "output_type": "stream",
     "text": [
      "C:\\Users\\ansheeha\\AppData\\Local\\Continuum\\Anaconda3\\lib\\site-packages\\ipykernel_launcher.py:1: SettingWithCopyWarning: \n",
      "A value is trying to be set on a copy of a slice from a DataFrame.\n",
      "Try using .loc[row_indexer,col_indexer] = value instead\n",
      "\n",
      "See the caveats in the documentation: http://pandas.pydata.org/pandas-docs/stable/indexing.html#indexing-view-versus-copy\n",
      "  \"\"\"Entry point for launching an IPython kernel.\n"
     ]
    }
   ],
   "source": [
    "df2['Last']= df2['Postcode'].str[3:]"
   ]
  },
  {
   "cell_type": "code",
   "execution_count": 91,
   "metadata": {
    "scrolled": true
   },
   "outputs": [
    {
     "name": "stderr",
     "output_type": "stream",
     "text": [
      "C:\\Users\\ansheeha\\AppData\\Local\\Continuum\\Anaconda3\\lib\\site-packages\\ipykernel_launcher.py:1: SettingWithCopyWarning: \n",
      "A value is trying to be set on a copy of a slice from a DataFrame.\n",
      "Try using .loc[row_indexer,col_indexer] = value instead\n",
      "\n",
      "See the caveats in the documentation: http://pandas.pydata.org/pandas-docs/stable/indexing.html#indexing-view-versus-copy\n",
      "  \"\"\"Entry point for launching an IPython kernel.\n"
     ]
    }
   ],
   "source": [
    "df2['New_pstcd'] = df2['First'].map(str) + \" \" + df2['Last']"
   ]
  },
  {
   "cell_type": "code",
   "execution_count": 92,
   "metadata": {
    "collapsed": true
   },
   "outputs": [],
   "source": [
    "df2_n = df2[['Date', 'New_pstcd', 'Nitrate', 'Qualifier', 'Zone desc']]"
   ]
  },
  {
   "cell_type": "code",
   "execution_count": 93,
   "metadata": {
    "collapsed": true
   },
   "outputs": [],
   "source": [
    "df2_n = df2_n.rename(columns={'New_pstcd':'Postcode'})"
   ]
  },
  {
   "cell_type": "code",
   "execution_count": 94,
   "metadata": {
    "collapsed": true
   },
   "outputs": [],
   "source": [
    "df_all = pd.concat([df2_n, df1, df4])"
   ]
  },
  {
   "cell_type": "code",
   "execution_count": null,
   "metadata": {
    "scrolled": true
   },
   "outputs": [],
   "source": [
    "df_all"
   ]
  },
  {
   "cell_type": "code",
   "execution_count": 96,
   "metadata": {
    "collapsed": true
   },
   "outputs": [],
   "source": [
    "unmatched = df_all"
   ]
  },
  {
   "cell_type": "code",
   "execution_count": null,
   "metadata": {
    "collapsed": true
   },
   "outputs": [],
   "source": []
  },
  {
   "cell_type": "code",
   "execution_count": null,
   "metadata": {
    "scrolled": false
   },
   "outputs": [],
   "source": [
    "unmatched"
   ]
  },
  {
   "cell_type": "code",
   "execution_count": null,
   "metadata": {
    "collapsed": true
   },
   "outputs": [],
   "source": []
  },
  {
   "cell_type": "code",
   "execution_count": 98,
   "metadata": {
    "collapsed": true
   },
   "outputs": [],
   "source": [
    "unmatched['District']= unmatched['Postcode'].str[:4]"
   ]
  },
  {
   "cell_type": "code",
   "execution_count": 99,
   "metadata": {},
   "outputs": [],
   "source": [
    "unmatched['District'] = unmatched['District'].str.strip()"
   ]
  },
  {
   "cell_type": "markdown",
   "metadata": {
    "collapsed": true
   },
   "source": [
    "- read in unmatched SWW data \n",
    "- match with the postcode district centroid files\n",
    "- match with postcode csv"
   ]
  },
  {
   "cell_type": "code",
   "execution_count": 100,
   "metadata": {
    "collapsed": true
   },
   "outputs": [],
   "source": [
    "unmatched = unmatched.set_index(['District'])"
   ]
  },
  {
   "cell_type": "code",
   "execution_count": 102,
   "metadata": {
    "collapsed": true
   },
   "outputs": [],
   "source": [
    "postcode_dist = pd.read_csv(r\"S:\\Projects\\SAHSU_Share\\Diabetes\\Datasets\\Postcodes\\Post_d_centroids.csv\")"
   ]
  },
  {
   "cell_type": "code",
   "execution_count": null,
   "metadata": {
    "scrolled": false
   },
   "outputs": [],
   "source": [
    "postcode_dist"
   ]
  },
  {
   "cell_type": "code",
   "execution_count": 104,
   "metadata": {
    "collapsed": true
   },
   "outputs": [],
   "source": [
    "postcode_dist = postcode_dist.rename(columns={'X_Coord':'Eastings', 'Y_Coord':'Northings'})"
   ]
  },
  {
   "cell_type": "code",
   "execution_count": 105,
   "metadata": {
    "collapsed": true
   },
   "outputs": [],
   "source": [
    "postcode_dist = postcode_dist.set_index(['District'])"
   ]
  },
  {
   "cell_type": "code",
   "execution_count": 106,
   "metadata": {
    "collapsed": true
   },
   "outputs": [],
   "source": [
    "postcode_dist = postcode_dist[['Eastings', 'Northings']]"
   ]
  },
  {
   "cell_type": "code",
   "execution_count": 107,
   "metadata": {
    "collapsed": true
   },
   "outputs": [],
   "source": [
    "postcode_dist.insert(0, 'Postcode', 'NaN')"
   ]
  },
  {
   "cell_type": "code",
   "execution_count": 108,
   "metadata": {
    "collapsed": true
   },
   "outputs": [],
   "source": [
    "postcode_dist.insert(1, 'Date', 'NaN')\n",
    "postcode_dist.insert(2, 'Nitrate', 'NaN')\n",
    "postcode_dist.insert(3, 'Qualifier', 'NaN')\n",
    "postcode_dist.insert(4, 'Zone desc', 'NaN')"
   ]
  },
  {
   "cell_type": "code",
   "execution_count": 109,
   "metadata": {},
   "outputs": [],
   "source": [
    "postcode_dist['Date']= pd.to_datetime(postcode_dist['Date'])"
   ]
  },
  {
   "cell_type": "code",
   "execution_count": null,
   "metadata": {
    "scrolled": false
   },
   "outputs": [],
   "source": [
    "postcode_dist"
   ]
  },
  {
   "cell_type": "code",
   "execution_count": 111,
   "metadata": {
    "collapsed": true
   },
   "outputs": [],
   "source": [
    "unmatched = unmatched.combine_first(postcode_dist)\n",
    "unmatched = unmatched[pd.notnull(unmatched['Date'])]"
   ]
  },
  {
   "cell_type": "code",
   "execution_count": null,
   "metadata": {
    "scrolled": false
   },
   "outputs": [],
   "source": [
    "unmatched"
   ]
  },
  {
   "cell_type": "code",
   "execution_count": 113,
   "metadata": {
    "collapsed": true
   },
   "outputs": [],
   "source": [
    "unmatched.to_csv(r\"S:\\Projects\\SAHSU_Share\\Diabetes\\Datasets\\Drinking_water\\United Utilities\\UU_unmatched_2_matched.csv\")"
   ]
  },
  {
   "cell_type": "code",
   "execution_count": null,
   "metadata": {
    "collapsed": true
   },
   "outputs": [],
   "source": []
  },
  {
   "cell_type": "code",
   "execution_count": null,
   "metadata": {
    "collapsed": true
   },
   "outputs": [],
   "source": []
  },
  {
   "cell_type": "code",
   "execution_count": null,
   "metadata": {
    "collapsed": true
   },
   "outputs": [],
   "source": []
  },
  {
   "cell_type": "code",
   "execution_count": null,
   "metadata": {
    "collapsed": true
   },
   "outputs": [],
   "source": []
  },
  {
   "cell_type": "code",
   "execution_count": 33,
   "metadata": {
    "collapsed": true
   },
   "outputs": [],
   "source": [
    "postcode = pd.read_csv(r\"S:\\Projects\\SAHSU_Share\\Diabetes\\Datasets\\Postcodes\\all_postcodes_cut.csv\")"
   ]
  },
  {
   "cell_type": "code",
   "execution_count": 34,
   "metadata": {
    "scrolled": true
   },
   "outputs": [
    {
     "data": {
      "text/html": [
       "<div>\n",
       "<style>\n",
       "    .dataframe thead tr:only-child th {\n",
       "        text-align: right;\n",
       "    }\n",
       "\n",
       "    .dataframe thead th {\n",
       "        text-align: left;\n",
       "    }\n",
       "\n",
       "    .dataframe tbody tr th {\n",
       "        vertical-align: top;\n",
       "    }\n",
       "</style>\n",
       "<table border=\"1\" class=\"dataframe\">\n",
       "  <thead>\n",
       "    <tr style=\"text-align: right;\">\n",
       "      <th></th>\n",
       "      <th>Postcode</th>\n",
       "      <th>Eastings</th>\n",
       "      <th>Northings</th>\n",
       "    </tr>\n",
       "  </thead>\n",
       "  <tbody>\n",
       "    <tr>\n",
       "      <th>0</th>\n",
       "      <td>AB101AB</td>\n",
       "      <td>394235</td>\n",
       "      <td>806529</td>\n",
       "    </tr>\n",
       "    <tr>\n",
       "      <th>1</th>\n",
       "      <td>AB101AF</td>\n",
       "      <td>394181</td>\n",
       "      <td>806429</td>\n",
       "    </tr>\n",
       "    <tr>\n",
       "      <th>2</th>\n",
       "      <td>AB101AG</td>\n",
       "      <td>394230</td>\n",
       "      <td>806469</td>\n",
       "    </tr>\n",
       "    <tr>\n",
       "      <th>3</th>\n",
       "      <td>AB101AH</td>\n",
       "      <td>394371</td>\n",
       "      <td>806359</td>\n",
       "    </tr>\n",
       "    <tr>\n",
       "      <th>4</th>\n",
       "      <td>AB101AL</td>\n",
       "      <td>394326</td>\n",
       "      <td>806522</td>\n",
       "    </tr>\n",
       "    <tr>\n",
       "      <th>5</th>\n",
       "      <td>AB101AN</td>\n",
       "      <td>394367</td>\n",
       "      <td>806541</td>\n",
       "    </tr>\n",
       "    <tr>\n",
       "      <th>6</th>\n",
       "      <td>AB101AP</td>\n",
       "      <td>394309</td>\n",
       "      <td>806459</td>\n",
       "    </tr>\n",
       "    <tr>\n",
       "      <th>7</th>\n",
       "      <td>AB101AQ</td>\n",
       "      <td>394371</td>\n",
       "      <td>806359</td>\n",
       "    </tr>\n",
       "    <tr>\n",
       "      <th>8</th>\n",
       "      <td>AB101AR</td>\n",
       "      <td>394371</td>\n",
       "      <td>806359</td>\n",
       "    </tr>\n",
       "    <tr>\n",
       "      <th>9</th>\n",
       "      <td>AB101AS</td>\n",
       "      <td>394198</td>\n",
       "      <td>806385</td>\n",
       "    </tr>\n",
       "    <tr>\n",
       "      <th>10</th>\n",
       "      <td>AB101AU</td>\n",
       "      <td>394264</td>\n",
       "      <td>806318</td>\n",
       "    </tr>\n",
       "    <tr>\n",
       "      <th>11</th>\n",
       "      <td>AB101AW</td>\n",
       "      <td>394226</td>\n",
       "      <td>806282</td>\n",
       "    </tr>\n",
       "    <tr>\n",
       "      <th>12</th>\n",
       "      <td>AB101AX</td>\n",
       "      <td>394181</td>\n",
       "      <td>806429</td>\n",
       "    </tr>\n",
       "    <tr>\n",
       "      <th>13</th>\n",
       "      <td>AB101BA</td>\n",
       "      <td>394141</td>\n",
       "      <td>806457</td>\n",
       "    </tr>\n",
       "    <tr>\n",
       "      <th>14</th>\n",
       "      <td>AB101BB</td>\n",
       "      <td>394223</td>\n",
       "      <td>806262</td>\n",
       "    </tr>\n",
       "    <tr>\n",
       "      <th>15</th>\n",
       "      <td>AB101BD</td>\n",
       "      <td>394261</td>\n",
       "      <td>806288</td>\n",
       "    </tr>\n",
       "    <tr>\n",
       "      <th>16</th>\n",
       "      <td>AB101BF</td>\n",
       "      <td>394187</td>\n",
       "      <td>806225</td>\n",
       "    </tr>\n",
       "    <tr>\n",
       "      <th>17</th>\n",
       "      <td>AB101BJ</td>\n",
       "      <td>393602</td>\n",
       "      <td>806136</td>\n",
       "    </tr>\n",
       "    <tr>\n",
       "      <th>18</th>\n",
       "      <td>AB101BL</td>\n",
       "      <td>394216</td>\n",
       "      <td>806398</td>\n",
       "    </tr>\n",
       "    <tr>\n",
       "      <th>19</th>\n",
       "      <td>AB101BR</td>\n",
       "      <td>393236</td>\n",
       "      <td>805730</td>\n",
       "    </tr>\n",
       "    <tr>\n",
       "      <th>20</th>\n",
       "      <td>AB101BS</td>\n",
       "      <td>394344</td>\n",
       "      <td>806374</td>\n",
       "    </tr>\n",
       "    <tr>\n",
       "      <th>21</th>\n",
       "      <td>AB101BU</td>\n",
       "      <td>394169</td>\n",
       "      <td>806326</td>\n",
       "    </tr>\n",
       "    <tr>\n",
       "      <th>22</th>\n",
       "      <td>AB101BW</td>\n",
       "      <td>394251</td>\n",
       "      <td>806376</td>\n",
       "    </tr>\n",
       "    <tr>\n",
       "      <th>23</th>\n",
       "      <td>AB101DB</td>\n",
       "      <td>392813</td>\n",
       "      <td>805762</td>\n",
       "    </tr>\n",
       "    <tr>\n",
       "      <th>24</th>\n",
       "      <td>AB101DQ</td>\n",
       "      <td>393530</td>\n",
       "      <td>806009</td>\n",
       "    </tr>\n",
       "    <tr>\n",
       "      <th>25</th>\n",
       "      <td>AB101DU</td>\n",
       "      <td>394405</td>\n",
       "      <td>802269</td>\n",
       "    </tr>\n",
       "    <tr>\n",
       "      <th>26</th>\n",
       "      <td>AB101FE</td>\n",
       "      <td>393929</td>\n",
       "      <td>806359</td>\n",
       "    </tr>\n",
       "    <tr>\n",
       "      <th>27</th>\n",
       "      <td>AB101FF</td>\n",
       "      <td>394264</td>\n",
       "      <td>806575</td>\n",
       "    </tr>\n",
       "    <tr>\n",
       "      <th>28</th>\n",
       "      <td>AB101FG</td>\n",
       "      <td>394192</td>\n",
       "      <td>806557</td>\n",
       "    </tr>\n",
       "    <tr>\n",
       "      <th>29</th>\n",
       "      <td>AB101FL</td>\n",
       "      <td>394238</td>\n",
       "      <td>806594</td>\n",
       "    </tr>\n",
       "    <tr>\n",
       "      <th>...</th>\n",
       "      <td>...</td>\n",
       "      <td>...</td>\n",
       "      <td>...</td>\n",
       "    </tr>\n",
       "    <tr>\n",
       "      <th>1694829</th>\n",
       "      <td>ZE2 9WH</td>\n",
       "      <td>443396</td>\n",
       "      <td>1145836</td>\n",
       "    </tr>\n",
       "    <tr>\n",
       "      <th>1694830</th>\n",
       "      <td>ZE2 9WJ</td>\n",
       "      <td>442771</td>\n",
       "      <td>1124079</td>\n",
       "    </tr>\n",
       "    <tr>\n",
       "      <th>1694831</th>\n",
       "      <td>ZE2 9WL</td>\n",
       "      <td>434798</td>\n",
       "      <td>1167495</td>\n",
       "    </tr>\n",
       "    <tr>\n",
       "      <th>1694832</th>\n",
       "      <td>ZE2 9XA</td>\n",
       "      <td>446437</td>\n",
       "      <td>1153174</td>\n",
       "    </tr>\n",
       "    <tr>\n",
       "      <th>1694833</th>\n",
       "      <td>ZE2 9XB</td>\n",
       "      <td>424222</td>\n",
       "      <td>1149682</td>\n",
       "    </tr>\n",
       "    <tr>\n",
       "      <th>1694834</th>\n",
       "      <td>ZE2 9XF</td>\n",
       "      <td>440920</td>\n",
       "      <td>1164007</td>\n",
       "    </tr>\n",
       "    <tr>\n",
       "      <th>1694835</th>\n",
       "      <td>ZE2 9XG</td>\n",
       "      <td>436402</td>\n",
       "      <td>1189333</td>\n",
       "    </tr>\n",
       "    <tr>\n",
       "      <th>1694836</th>\n",
       "      <td>ZE2 9XH</td>\n",
       "      <td>442786</td>\n",
       "      <td>1144406</td>\n",
       "    </tr>\n",
       "    <tr>\n",
       "      <th>1694837</th>\n",
       "      <td>ZE2 9XJ</td>\n",
       "      <td>441895</td>\n",
       "      <td>1145130</td>\n",
       "    </tr>\n",
       "    <tr>\n",
       "      <th>1694838</th>\n",
       "      <td>ZE2 9XL</td>\n",
       "      <td>461684</td>\n",
       "      <td>1209313</td>\n",
       "    </tr>\n",
       "    <tr>\n",
       "      <th>1694839</th>\n",
       "      <td>ZE2 9XN</td>\n",
       "      <td>436956</td>\n",
       "      <td>1135966</td>\n",
       "    </tr>\n",
       "    <tr>\n",
       "      <th>1694840</th>\n",
       "      <td>ZE2 9XP</td>\n",
       "      <td>428653</td>\n",
       "      <td>1177267</td>\n",
       "    </tr>\n",
       "    <tr>\n",
       "      <th>1694841</th>\n",
       "      <td>ZE2 9XQ</td>\n",
       "      <td>440369</td>\n",
       "      <td>1164159</td>\n",
       "    </tr>\n",
       "    <tr>\n",
       "      <th>1694842</th>\n",
       "      <td>ZE2 9XS</td>\n",
       "      <td>436027</td>\n",
       "      <td>1167854</td>\n",
       "    </tr>\n",
       "    <tr>\n",
       "      <th>1694843</th>\n",
       "      <td>ZE2 9XT</td>\n",
       "      <td>443227</td>\n",
       "      <td>1145809</td>\n",
       "    </tr>\n",
       "    <tr>\n",
       "      <th>1694844</th>\n",
       "      <td>ZE2 9XU</td>\n",
       "      <td>436914</td>\n",
       "      <td>1136139</td>\n",
       "    </tr>\n",
       "    <tr>\n",
       "      <th>1694845</th>\n",
       "      <td>ZE2 9XW</td>\n",
       "      <td>436956</td>\n",
       "      <td>1136073</td>\n",
       "    </tr>\n",
       "    <tr>\n",
       "      <th>1694846</th>\n",
       "      <td>ZE2 9YL</td>\n",
       "      <td>417320</td>\n",
       "      <td>1159962</td>\n",
       "    </tr>\n",
       "    <tr>\n",
       "      <th>1694847</th>\n",
       "      <td>ZE3 9JJ</td>\n",
       "      <td>438851</td>\n",
       "      <td>1111529</td>\n",
       "    </tr>\n",
       "    <tr>\n",
       "      <th>1694848</th>\n",
       "      <td>ZE3 9JL</td>\n",
       "      <td>438892</td>\n",
       "      <td>1111459</td>\n",
       "    </tr>\n",
       "    <tr>\n",
       "      <th>1694849</th>\n",
       "      <td>ZE3 9JN</td>\n",
       "      <td>440383</td>\n",
       "      <td>1109391</td>\n",
       "    </tr>\n",
       "    <tr>\n",
       "      <th>1694850</th>\n",
       "      <td>ZE3 9JP</td>\n",
       "      <td>439324</td>\n",
       "      <td>1110386</td>\n",
       "    </tr>\n",
       "    <tr>\n",
       "      <th>1694851</th>\n",
       "      <td>ZE3 9JR</td>\n",
       "      <td>438625</td>\n",
       "      <td>1112054</td>\n",
       "    </tr>\n",
       "    <tr>\n",
       "      <th>1694852</th>\n",
       "      <td>ZE3 9JS</td>\n",
       "      <td>439599</td>\n",
       "      <td>1111933</td>\n",
       "    </tr>\n",
       "    <tr>\n",
       "      <th>1694853</th>\n",
       "      <td>ZE3 9JT</td>\n",
       "      <td>438916</td>\n",
       "      <td>1109922</td>\n",
       "    </tr>\n",
       "    <tr>\n",
       "      <th>1694854</th>\n",
       "      <td>ZE3 9JU</td>\n",
       "      <td>438872</td>\n",
       "      <td>1111807</td>\n",
       "    </tr>\n",
       "    <tr>\n",
       "      <th>1694855</th>\n",
       "      <td>ZE3 9JW</td>\n",
       "      <td>438975</td>\n",
       "      <td>1110038</td>\n",
       "    </tr>\n",
       "    <tr>\n",
       "      <th>1694856</th>\n",
       "      <td>ZE3 9JX</td>\n",
       "      <td>438872</td>\n",
       "      <td>1110219</td>\n",
       "    </tr>\n",
       "    <tr>\n",
       "      <th>1694857</th>\n",
       "      <td>ZE3 9JY</td>\n",
       "      <td>438498</td>\n",
       "      <td>1112029</td>\n",
       "    </tr>\n",
       "    <tr>\n",
       "      <th>1694858</th>\n",
       "      <td>ZE3 9JZ</td>\n",
       "      <td>438662</td>\n",
       "      <td>1112122</td>\n",
       "    </tr>\n",
       "  </tbody>\n",
       "</table>\n",
       "<p>1694859 rows × 3 columns</p>\n",
       "</div>"
      ],
      "text/plain": [
       "        Postcode  Eastings  Northings\n",
       "0        AB101AB    394235     806529\n",
       "1        AB101AF    394181     806429\n",
       "2        AB101AG    394230     806469\n",
       "3        AB101AH    394371     806359\n",
       "4        AB101AL    394326     806522\n",
       "5        AB101AN    394367     806541\n",
       "6        AB101AP    394309     806459\n",
       "7        AB101AQ    394371     806359\n",
       "8        AB101AR    394371     806359\n",
       "9        AB101AS    394198     806385\n",
       "10       AB101AU    394264     806318\n",
       "11       AB101AW    394226     806282\n",
       "12       AB101AX    394181     806429\n",
       "13       AB101BA    394141     806457\n",
       "14       AB101BB    394223     806262\n",
       "15       AB101BD    394261     806288\n",
       "16       AB101BF    394187     806225\n",
       "17       AB101BJ    393602     806136\n",
       "18       AB101BL    394216     806398\n",
       "19       AB101BR    393236     805730\n",
       "20       AB101BS    394344     806374\n",
       "21       AB101BU    394169     806326\n",
       "22       AB101BW    394251     806376\n",
       "23       AB101DB    392813     805762\n",
       "24       AB101DQ    393530     806009\n",
       "25       AB101DU    394405     802269\n",
       "26       AB101FE    393929     806359\n",
       "27       AB101FF    394264     806575\n",
       "28       AB101FG    394192     806557\n",
       "29       AB101FL    394238     806594\n",
       "...          ...       ...        ...\n",
       "1694829  ZE2 9WH    443396    1145836\n",
       "1694830  ZE2 9WJ    442771    1124079\n",
       "1694831  ZE2 9WL    434798    1167495\n",
       "1694832  ZE2 9XA    446437    1153174\n",
       "1694833  ZE2 9XB    424222    1149682\n",
       "1694834  ZE2 9XF    440920    1164007\n",
       "1694835  ZE2 9XG    436402    1189333\n",
       "1694836  ZE2 9XH    442786    1144406\n",
       "1694837  ZE2 9XJ    441895    1145130\n",
       "1694838  ZE2 9XL    461684    1209313\n",
       "1694839  ZE2 9XN    436956    1135966\n",
       "1694840  ZE2 9XP    428653    1177267\n",
       "1694841  ZE2 9XQ    440369    1164159\n",
       "1694842  ZE2 9XS    436027    1167854\n",
       "1694843  ZE2 9XT    443227    1145809\n",
       "1694844  ZE2 9XU    436914    1136139\n",
       "1694845  ZE2 9XW    436956    1136073\n",
       "1694846  ZE2 9YL    417320    1159962\n",
       "1694847  ZE3 9JJ    438851    1111529\n",
       "1694848  ZE3 9JL    438892    1111459\n",
       "1694849  ZE3 9JN    440383    1109391\n",
       "1694850  ZE3 9JP    439324    1110386\n",
       "1694851  ZE3 9JR    438625    1112054\n",
       "1694852  ZE3 9JS    439599    1111933\n",
       "1694853  ZE3 9JT    438916    1109922\n",
       "1694854  ZE3 9JU    438872    1111807\n",
       "1694855  ZE3 9JW    438975    1110038\n",
       "1694856  ZE3 9JX    438872    1110219\n",
       "1694857  ZE3 9JY    438498    1112029\n",
       "1694858  ZE3 9JZ    438662    1112122\n",
       "\n",
       "[1694859 rows x 3 columns]"
      ]
     },
     "execution_count": 34,
     "metadata": {},
     "output_type": "execute_result"
    }
   ],
   "source": [
    "postcode"
   ]
  },
  {
   "cell_type": "code",
   "execution_count": null,
   "metadata": {
    "collapsed": true
   },
   "outputs": [],
   "source": [
    "postcode = postcode.rename(columns={'Postcode':'Postcode_editted'})"
   ]
  },
  {
   "cell_type": "code",
   "execution_count": null,
   "metadata": {
    "collapsed": true
   },
   "outputs": [],
   "source": [
    "postcode = postcode.set_index(['Postcode_editted'])"
   ]
  },
  {
   "cell_type": "code",
   "execution_count": null,
   "metadata": {
    "collapsed": true
   },
   "outputs": [],
   "source": [
    "postcode.insert(0, 'Postcode', 'NaN')"
   ]
  },
  {
   "cell_type": "code",
   "execution_count": null,
   "metadata": {
    "collapsed": true
   },
   "outputs": [],
   "source": [
    "postcode.insert(2, 'Nitrate', 'NaN')\n",
    "postcode.insert(4, 'date', 'NaN')"
   ]
  },
  {
   "cell_type": "code",
   "execution_count": null,
   "metadata": {
    "collapsed": true
   },
   "outputs": [],
   "source": [
    "postcode['date']= pd.to_datetime(postcode['date'])"
   ]
  },
  {
   "cell_type": "code",
   "execution_count": null,
   "metadata": {
    "collapsed": true
   },
   "outputs": [],
   "source": [
    "unmatched = unmatched.combine_first(postcode)\n",
    "unmatched = unmatched[pd.notnull(unmatched['date'])]"
   ]
  },
  {
   "cell_type": "code",
   "execution_count": null,
   "metadata": {
    "collapsed": true,
    "scrolled": true
   },
   "outputs": [],
   "source": [
    "unmatched"
   ]
  },
  {
   "cell_type": "code",
   "execution_count": null,
   "metadata": {
    "collapsed": true
   },
   "outputs": [],
   "source": [
    "unmatched.to_csv(r'S:\\Projects\\SAHSU_Share\\Diabetes\\Datasets\\Drinking_water\\SouthWest\\editted\\all_SWW_unmatched_matched.csv')"
   ]
  },
  {
   "cell_type": "code",
   "execution_count": null,
   "metadata": {
    "collapsed": true
   },
   "outputs": [],
   "source": []
  }
 ],
 "metadata": {
  "kernelspec": {
   "display_name": "Python 3",
   "language": "python",
   "name": "python3"
  },
  "language_info": {
   "codemirror_mode": {
    "name": "ipython",
    "version": 3
   },
   "file_extension": ".py",
   "mimetype": "text/x-python",
   "name": "python",
   "nbconvert_exporter": "python",
   "pygments_lexer": "ipython3",
   "version": "3.6.1"
  }
 },
 "nbformat": 4,
 "nbformat_minor": 1
}
