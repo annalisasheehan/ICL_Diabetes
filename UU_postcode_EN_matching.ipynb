{
 "cells": [
  {
   "cell_type": "markdown",
   "metadata": {},
   "source": [
    "What i want to do: \n",
    "- read in postcode dataset\n",
    "- loop through the code point files \n",
    "- join postcodes in each file \n",
    "- make sure these are saved and each time loop through a file it doesn't delete earlier merges. "
   ]
  },
  {
   "cell_type": "code",
   "execution_count": 1,
   "metadata": {
    "collapsed": true,
    "scrolled": false
   },
   "outputs": [],
   "source": [
    "# Set libraries\n",
    "import pandas as pd\n",
    "import glob\n",
    "import os\n",
    "import numpy as np\n",
    "import datetime"
   ]
  },
  {
   "cell_type": "code",
   "execution_count": 2,
   "metadata": {
    "scrolled": false
   },
   "outputs": [],
   "source": [
    "# Read in postcode dataset\n",
    "UU_postcode = pd.read_csv(r\"S:\\Projects\\SAHSU_Share\\Diabetes\\Datasets\\Drinking_water\\United Utilities\\UU Zonal nitrate for imperial final 2000-2010_ed.csv\")"
   ]
  },
  {
   "cell_type": "code",
   "execution_count": null,
   "metadata": {
    "scrolled": true
   },
   "outputs": [],
   "source": [
    "UU_postcode"
   ]
  },
  {
   "cell_type": "markdown",
   "metadata": {},
   "source": [
    "- Get rid of the white space in the postcodes that have XXXX XXX to XXXXXXX characters so that they match with the OS codepoint dataset"
   ]
  },
  {
   "cell_type": "code",
   "execution_count": 4,
   "metadata": {},
   "outputs": [],
   "source": [
    "UU_postcode['Postcode'] = UU_postcode['Postcode'].str.strip()"
   ]
  },
  {
   "cell_type": "markdown",
   "metadata": {},
   "source": [
    "UU_postcode.to_csv(r\"S:\\Projects\\SAHSU_Share\\Diabetes\\Datasets\\Drinking_water\\United Utilities\\UU_test.csv\")"
   ]
  },
  {
   "cell_type": "code",
   "execution_count": 5,
   "metadata": {
    "collapsed": true
   },
   "outputs": [],
   "source": [
    "mask = (UU_postcode['Postcode'].str.len()>7)\n",
    "mask2 = (UU_postcode['Postcode'].str.len()<8)"
   ]
  },
  {
   "cell_type": "code",
   "execution_count": 6,
   "metadata": {
    "collapsed": true
   },
   "outputs": [],
   "source": [
    "df1 = UU_postcode.loc[mask]"
   ]
  },
  {
   "cell_type": "code",
   "execution_count": 7,
   "metadata": {
    "collapsed": true
   },
   "outputs": [],
   "source": [
    "df2 = UU_postcode.loc[mask2]"
   ]
  },
  {
   "cell_type": "code",
   "execution_count": null,
   "metadata": {
    "scrolled": true
   },
   "outputs": [],
   "source": [
    "df1"
   ]
  },
  {
   "cell_type": "code",
   "execution_count": null,
   "metadata": {},
   "outputs": [],
   "source": [
    "df2"
   ]
  },
  {
   "cell_type": "code",
   "execution_count": 10,
   "metadata": {},
   "outputs": [
    {
     "name": "stderr",
     "output_type": "stream",
     "text": [
      "C:\\Users\\ansheeha\\AppData\\Local\\Continuum\\Anaconda3\\lib\\site-packages\\ipykernel_launcher.py:1: SettingWithCopyWarning: \n",
      "A value is trying to be set on a copy of a slice from a DataFrame.\n",
      "Try using .loc[row_indexer,col_indexer] = value instead\n",
      "\n",
      "See the caveats in the documentation: http://pandas.pydata.org/pandas-docs/stable/indexing.html#indexing-view-versus-copy\n",
      "  \"\"\"Entry point for launching an IPython kernel.\n"
     ]
    }
   ],
   "source": [
    "df1['First']= df1['Postcode'].str[:4]"
   ]
  },
  {
   "cell_type": "code",
   "execution_count": 11,
   "metadata": {},
   "outputs": [
    {
     "name": "stderr",
     "output_type": "stream",
     "text": [
      "C:\\Users\\ansheeha\\AppData\\Local\\Continuum\\Anaconda3\\lib\\site-packages\\ipykernel_launcher.py:1: SettingWithCopyWarning: \n",
      "A value is trying to be set on a copy of a slice from a DataFrame.\n",
      "Try using .loc[row_indexer,col_indexer] = value instead\n",
      "\n",
      "See the caveats in the documentation: http://pandas.pydata.org/pandas-docs/stable/indexing.html#indexing-view-versus-copy\n",
      "  \"\"\"Entry point for launching an IPython kernel.\n"
     ]
    }
   ],
   "source": [
    "df1['Last']= df1['Postcode'].str[5:8]"
   ]
  },
  {
   "cell_type": "code",
   "execution_count": 12,
   "metadata": {},
   "outputs": [
    {
     "name": "stderr",
     "output_type": "stream",
     "text": [
      "C:\\Users\\ansheeha\\AppData\\Local\\Continuum\\Anaconda3\\lib\\site-packages\\ipykernel_launcher.py:1: SettingWithCopyWarning: \n",
      "A value is trying to be set on a copy of a slice from a DataFrame.\n",
      "Try using .loc[row_indexer,col_indexer] = value instead\n",
      "\n",
      "See the caveats in the documentation: http://pandas.pydata.org/pandas-docs/stable/indexing.html#indexing-view-versus-copy\n",
      "  \"\"\"Entry point for launching an IPython kernel.\n"
     ]
    }
   ],
   "source": [
    "df1['New_pstcd'] = df1['First'].map(str) + df1['Last']"
   ]
  },
  {
   "cell_type": "code",
   "execution_count": null,
   "metadata": {
    "scrolled": false
   },
   "outputs": [],
   "source": [
    "df1"
   ]
  },
  {
   "cell_type": "markdown",
   "metadata": {},
   "source": [
    "df1.to_csv(r\"S:\\Projects\\SAHSU_Share\\Diabetes\\Datasets\\Drinking_water\\United Utilities\\UU_df1.csv\")"
   ]
  },
  {
   "cell_type": "code",
   "execution_count": 14,
   "metadata": {
    "collapsed": true
   },
   "outputs": [],
   "source": [
    "df1_n = df1[['Date', 'New_pstcd', 'Nitrate', 'Qualifier', 'Zone desc']]"
   ]
  },
  {
   "cell_type": "code",
   "execution_count": 15,
   "metadata": {
    "collapsed": true
   },
   "outputs": [],
   "source": [
    "df1_n = df1_n.rename(columns={'New_pstcd':'Postcode'})"
   ]
  },
  {
   "cell_type": "code",
   "execution_count": 16,
   "metadata": {
    "collapsed": true
   },
   "outputs": [],
   "source": [
    "df_all = pd.concat([df1_n, df2])"
   ]
  },
  {
   "cell_type": "code",
   "execution_count": 17,
   "metadata": {
    "collapsed": true,
    "scrolled": true
   },
   "outputs": [],
   "source": [
    "df_all = df_all.set_index('Postcode')"
   ]
  },
  {
   "cell_type": "code",
   "execution_count": null,
   "metadata": {
    "scrolled": true
   },
   "outputs": [],
   "source": [
    "df_all"
   ]
  },
  {
   "cell_type": "markdown",
   "metadata": {},
   "source": [
    "- read in the header file for the Code point postcode files \n",
    "- set the column headings to the first row (which contains the header names)\n",
    "- set the index to the column which says postcode\n",
    "- delete the row with the duplicate of column headings- so end up with a table of just the column headings"
   ]
  },
  {
   "cell_type": "code",
   "execution_count": 19,
   "metadata": {
    "collapsed": true
   },
   "outputs": [],
   "source": [
    "labels2 = pd.read_csv(r\"S:\\Projects\\SAHSU_Share\\Diabetes\\Datasets\\Postcodes\\codepo_gb\\Doc\\Code-Point_Open_Column_Headers.csv\", header = None)"
   ]
  },
  {
   "cell_type": "code",
   "execution_count": 20,
   "metadata": {
    "collapsed": true
   },
   "outputs": [],
   "source": [
    "labels2.columns = labels2.iloc[0]"
   ]
  },
  {
   "cell_type": "code",
   "execution_count": 21,
   "metadata": {},
   "outputs": [
    {
     "data": {
      "text/html": [
       "<div>\n",
       "<style>\n",
       "    .dataframe thead tr:only-child th {\n",
       "        text-align: right;\n",
       "    }\n",
       "\n",
       "    .dataframe thead th {\n",
       "        text-align: left;\n",
       "    }\n",
       "\n",
       "    .dataframe tbody tr th {\n",
       "        vertical-align: top;\n",
       "    }\n",
       "</style>\n",
       "<table border=\"1\" class=\"dataframe\">\n",
       "  <thead>\n",
       "    <tr style=\"text-align: right;\">\n",
       "      <th></th>\n",
       "      <th>Postcode</th>\n",
       "      <th>Positional_quality_indicator</th>\n",
       "      <th>Eastings</th>\n",
       "      <th>Northings</th>\n",
       "      <th>Country_code</th>\n",
       "      <th>NHS_regional_HA_code</th>\n",
       "      <th>NHS_HA_code</th>\n",
       "      <th>Admin_county_code</th>\n",
       "      <th>Admin_district_code</th>\n",
       "      <th>Admin_ward_code</th>\n",
       "    </tr>\n",
       "  </thead>\n",
       "  <tbody>\n",
       "    <tr>\n",
       "      <th>0</th>\n",
       "      <td>Postcode</td>\n",
       "      <td>Positional_quality_indicator</td>\n",
       "      <td>Eastings</td>\n",
       "      <td>Northings</td>\n",
       "      <td>Country_code</td>\n",
       "      <td>NHS_regional_HA_code</td>\n",
       "      <td>NHS_HA_code</td>\n",
       "      <td>Admin_county_code</td>\n",
       "      <td>Admin_district_code</td>\n",
       "      <td>Admin_ward_code</td>\n",
       "    </tr>\n",
       "  </tbody>\n",
       "</table>\n",
       "</div>"
      ],
      "text/plain": [
       "0  Postcode  Positional_quality_indicator  Eastings  Northings  Country_code  \\\n",
       "0  Postcode  Positional_quality_indicator  Eastings  Northings  Country_code   \n",
       "\n",
       "0  NHS_regional_HA_code  NHS_HA_code  Admin_county_code  Admin_district_code  \\\n",
       "0  NHS_regional_HA_code  NHS_HA_code  Admin_county_code  Admin_district_code   \n",
       "\n",
       "0  Admin_ward_code  \n",
       "0  Admin_ward_code  "
      ]
     },
     "execution_count": 21,
     "metadata": {},
     "output_type": "execute_result"
    }
   ],
   "source": [
    "labels2"
   ]
  },
  {
   "cell_type": "code",
   "execution_count": 22,
   "metadata": {
    "collapsed": true
   },
   "outputs": [],
   "source": [
    "labels2 = labels2.set_index('Postcode')"
   ]
  },
  {
   "cell_type": "code",
   "execution_count": 23,
   "metadata": {
    "collapsed": true
   },
   "outputs": [],
   "source": [
    "labels2 = labels2.reindex(labels2.index.drop('Postcode'))"
   ]
  },
  {
   "cell_type": "markdown",
   "metadata": {},
   "source": [
    "- merge the SWW postcodes and the labels to create a dataframe in which we can fill with the OS easting and northing information"
   ]
  },
  {
   "cell_type": "code",
   "execution_count": 24,
   "metadata": {
    "collapsed": true,
    "scrolled": true
   },
   "outputs": [],
   "source": [
    "df_all = df_all.merge(labels2, how='left', left_index=True, right_index=True)"
   ]
  },
  {
   "cell_type": "code",
   "execution_count": null,
   "metadata": {
    "scrolled": false
   },
   "outputs": [],
   "source": [
    "df_all"
   ]
  },
  {
   "cell_type": "markdown",
   "metadata": {},
   "source": [
    "- read in the labels data again so that the OS codepoint files can be merged with the column headings"
   ]
  },
  {
   "cell_type": "code",
   "execution_count": 26,
   "metadata": {
    "collapsed": true
   },
   "outputs": [],
   "source": [
    "labels = pd.read_csv(r\"S:\\Projects\\SAHSU_Share\\Diabetes\\Datasets\\Postcodes\\codepo_gb\\Doc\\Code-Point_Open_Column_Headers.csv\", header = None)"
   ]
  },
  {
   "cell_type": "markdown",
   "metadata": {
    "collapsed": true
   },
   "source": [
    "- Create a list of the files within the codepoint folder (containing all the different postcodes) to use within the for loop"
   ]
  },
  {
   "cell_type": "code",
   "execution_count": 27,
   "metadata": {
    "collapsed": true,
    "scrolled": false
   },
   "outputs": [],
   "source": [
    "files = glob.glob(r\"S:\\Projects\\SAHSU_Share\\Diabetes\\Datasets\\Postcodes\\codepo_gb\\Data\\CSV\\*\")"
   ]
  },
  {
   "cell_type": "code",
   "execution_count": 28,
   "metadata": {
    "scrolled": true
   },
   "outputs": [
    {
     "data": {
      "text/plain": [
       "['S:\\\\Projects\\\\SAHSU_Share\\\\Diabetes\\\\Datasets\\\\Postcodes\\\\codepo_gb\\\\Data\\\\CSV\\\\tw.csv',\n",
       " 'S:\\\\Projects\\\\SAHSU_Share\\\\Diabetes\\\\Datasets\\\\Postcodes\\\\codepo_gb\\\\Data\\\\CSV\\\\dy.csv',\n",
       " 'S:\\\\Projects\\\\SAHSU_Share\\\\Diabetes\\\\Datasets\\\\Postcodes\\\\codepo_gb\\\\Data\\\\CSV\\\\la.csv',\n",
       " 'S:\\\\Projects\\\\SAHSU_Share\\\\Diabetes\\\\Datasets\\\\Postcodes\\\\codepo_gb\\\\Data\\\\CSV\\\\hd.csv',\n",
       " 'S:\\\\Projects\\\\SAHSU_Share\\\\Diabetes\\\\Datasets\\\\Postcodes\\\\codepo_gb\\\\Data\\\\CSV\\\\sl.csv',\n",
       " 'S:\\\\Projects\\\\SAHSU_Share\\\\Diabetes\\\\Datasets\\\\Postcodes\\\\codepo_gb\\\\Data\\\\CSV\\\\dg.csv',\n",
       " 'S:\\\\Projects\\\\SAHSU_Share\\\\Diabetes\\\\Datasets\\\\Postcodes\\\\codepo_gb\\\\Data\\\\CSV\\\\ph.csv',\n",
       " 'S:\\\\Projects\\\\SAHSU_Share\\\\Diabetes\\\\Datasets\\\\Postcodes\\\\codepo_gb\\\\Data\\\\CSV\\\\ws.csv',\n",
       " 'S:\\\\Projects\\\\SAHSU_Share\\\\Diabetes\\\\Datasets\\\\Postcodes\\\\codepo_gb\\\\Data\\\\CSV\\\\e.csv',\n",
       " 'S:\\\\Projects\\\\SAHSU_Share\\\\Diabetes\\\\Datasets\\\\Postcodes\\\\codepo_gb\\\\Data\\\\CSV\\\\gu.csv',\n",
       " 'S:\\\\Projects\\\\SAHSU_Share\\\\Diabetes\\\\Datasets\\\\Postcodes\\\\codepo_gb\\\\Data\\\\CSV\\\\ig.csv',\n",
       " 'S:\\\\Projects\\\\SAHSU_Share\\\\Diabetes\\\\Datasets\\\\Postcodes\\\\codepo_gb\\\\Data\\\\CSV\\\\pr.csv',\n",
       " 'S:\\\\Projects\\\\SAHSU_Share\\\\Diabetes\\\\Datasets\\\\Postcodes\\\\codepo_gb\\\\Data\\\\CSV\\\\ze.csv',\n",
       " 'S:\\\\Projects\\\\SAHSU_Share\\\\Diabetes\\\\Datasets\\\\Postcodes\\\\codepo_gb\\\\Data\\\\CSV\\\\wa.csv',\n",
       " 'S:\\\\Projects\\\\SAHSU_Share\\\\Diabetes\\\\Datasets\\\\Postcodes\\\\codepo_gb\\\\Data\\\\CSV\\\\cf.csv',\n",
       " 'S:\\\\Projects\\\\SAHSU_Share\\\\Diabetes\\\\Datasets\\\\Postcodes\\\\codepo_gb\\\\Data\\\\CSV\\\\nn.csv',\n",
       " 'S:\\\\Projects\\\\SAHSU_Share\\\\Diabetes\\\\Datasets\\\\Postcodes\\\\codepo_gb\\\\Data\\\\CSV\\\\sn.csv',\n",
       " 'S:\\\\Projects\\\\SAHSU_Share\\\\Diabetes\\\\Datasets\\\\Postcodes\\\\codepo_gb\\\\Data\\\\CSV\\\\g.csv',\n",
       " 'S:\\\\Projects\\\\SAHSU_Share\\\\Diabetes\\\\Datasets\\\\Postcodes\\\\codepo_gb\\\\Data\\\\CSV\\\\kt.csv',\n",
       " 'S:\\\\Projects\\\\SAHSU_Share\\\\Diabetes\\\\Datasets\\\\Postcodes\\\\codepo_gb\\\\Data\\\\CSV\\\\al.csv',\n",
       " 'S:\\\\Projects\\\\SAHSU_Share\\\\Diabetes\\\\Datasets\\\\Postcodes\\\\codepo_gb\\\\Data\\\\CSV\\\\ip.csv',\n",
       " 'S:\\\\Projects\\\\SAHSU_Share\\\\Diabetes\\\\Datasets\\\\Postcodes\\\\codepo_gb\\\\Data\\\\CSV\\\\wc.csv',\n",
       " 'S:\\\\Projects\\\\SAHSU_Share\\\\Diabetes\\\\Datasets\\\\Postcodes\\\\codepo_gb\\\\Data\\\\CSV\\\\rm.csv',\n",
       " 'S:\\\\Projects\\\\SAHSU_Share\\\\Diabetes\\\\Datasets\\\\Postcodes\\\\codepo_gb\\\\Data\\\\CSV\\\\ch.csv',\n",
       " 'S:\\\\Projects\\\\SAHSU_Share\\\\Diabetes\\\\Datasets\\\\Postcodes\\\\codepo_gb\\\\Data\\\\CSV\\\\np.csv',\n",
       " 'S:\\\\Projects\\\\SAHSU_Share\\\\Diabetes\\\\Datasets\\\\Postcodes\\\\codepo_gb\\\\Data\\\\CSV\\\\da.csv',\n",
       " 'S:\\\\Projects\\\\SAHSU_Share\\\\Diabetes\\\\Datasets\\\\Postcodes\\\\codepo_gb\\\\Data\\\\CSV\\\\le.csv',\n",
       " 'S:\\\\Projects\\\\SAHSU_Share\\\\Diabetes\\\\Datasets\\\\Postcodes\\\\codepo_gb\\\\Data\\\\CSV\\\\sp.csv',\n",
       " 'S:\\\\Projects\\\\SAHSU_Share\\\\Diabetes\\\\Datasets\\\\Postcodes\\\\codepo_gb\\\\Data\\\\CSV\\\\cr.csv',\n",
       " 'S:\\\\Projects\\\\SAHSU_Share\\\\Diabetes\\\\Datasets\\\\Postcodes\\\\codepo_gb\\\\Data\\\\CSV\\\\me.csv',\n",
       " 'S:\\\\Projects\\\\SAHSU_Share\\\\Diabetes\\\\Datasets\\\\Postcodes\\\\codepo_gb\\\\Data\\\\CSV\\\\s.csv',\n",
       " 'S:\\\\Projects\\\\SAHSU_Share\\\\Diabetes\\\\Datasets\\\\Postcodes\\\\codepo_gb\\\\Data\\\\CSV\\\\nr.csv',\n",
       " 'S:\\\\Projects\\\\SAHSU_Share\\\\Diabetes\\\\Datasets\\\\Postcodes\\\\codepo_gb\\\\Data\\\\CSV\\\\ec.csv',\n",
       " 'S:\\\\Projects\\\\SAHSU_Share\\\\Diabetes\\\\Datasets\\\\Postcodes\\\\codepo_gb\\\\Data\\\\CSV\\\\ln.csv',\n",
       " 'S:\\\\Projects\\\\SAHSU_Share\\\\Diabetes\\\\Datasets\\\\Postcodes\\\\codepo_gb\\\\Data\\\\CSV\\\\wv.csv',\n",
       " 'S:\\\\Projects\\\\SAHSU_Share\\\\Diabetes\\\\Datasets\\\\Postcodes\\\\codepo_gb\\\\Data\\\\CSV\\\\sy.csv',\n",
       " 'S:\\\\Projects\\\\SAHSU_Share\\\\Diabetes\\\\Datasets\\\\Postcodes\\\\codepo_gb\\\\Data\\\\CSV\\\\tr.csv',\n",
       " 'S:\\\\Projects\\\\SAHSU_Share\\\\Diabetes\\\\Datasets\\\\Postcodes\\\\codepo_gb\\\\Data\\\\CSV\\\\dt.csv',\n",
       " 'S:\\\\Projects\\\\SAHSU_Share\\\\Diabetes\\\\Datasets\\\\Postcodes\\\\codepo_gb\\\\Data\\\\CSV\\\\rg.csv',\n",
       " 'S:\\\\Projects\\\\SAHSU_Share\\\\Diabetes\\\\Datasets\\\\Postcodes\\\\codepo_gb\\\\Data\\\\CSV\\\\cb.csv',\n",
       " 'S:\\\\Projects\\\\SAHSU_Share\\\\Diabetes\\\\Datasets\\\\Postcodes\\\\codepo_gb\\\\Data\\\\CSV\\\\dl.csv',\n",
       " 'S:\\\\Projects\\\\SAHSU_Share\\\\Diabetes\\\\Datasets\\\\Postcodes\\\\codepo_gb\\\\Data\\\\CSV\\\\kw.csv',\n",
       " 'S:\\\\Projects\\\\SAHSU_Share\\\\Diabetes\\\\Datasets\\\\Postcodes\\\\codepo_gb\\\\Data\\\\CSV\\\\ba.csv',\n",
       " 'S:\\\\Projects\\\\SAHSU_Share\\\\Diabetes\\\\Datasets\\\\Postcodes\\\\codepo_gb\\\\Data\\\\CSV\\\\hs.csv',\n",
       " 'S:\\\\Projects\\\\SAHSU_Share\\\\Diabetes\\\\Datasets\\\\Postcodes\\\\codepo_gb\\\\Data\\\\CSV\\\\iv.csv',\n",
       " 'S:\\\\Projects\\\\SAHSU_Share\\\\Diabetes\\\\Datasets\\\\Postcodes\\\\codepo_gb\\\\Data\\\\CSV\\\\ha.csv',\n",
       " 'S:\\\\Projects\\\\SAHSU_Share\\\\Diabetes\\\\Datasets\\\\Postcodes\\\\codepo_gb\\\\Data\\\\CSV\\\\dd.csv',\n",
       " 'S:\\\\Projects\\\\SAHSU_Share\\\\Diabetes\\\\Datasets\\\\Postcodes\\\\codepo_gb\\\\Data\\\\CSV\\\\ol.csv',\n",
       " 'S:\\\\Projects\\\\SAHSU_Share\\\\Diabetes\\\\Datasets\\\\Postcodes\\\\codepo_gb\\\\Data\\\\CSV\\\\pe.csv',\n",
       " 'S:\\\\Projects\\\\SAHSU_Share\\\\Diabetes\\\\Datasets\\\\Postcodes\\\\codepo_gb\\\\Data\\\\CSV\\\\fy.csv',\n",
       " 'S:\\\\Projects\\\\SAHSU_Share\\\\Diabetes\\\\Datasets\\\\Postcodes\\\\codepo_gb\\\\Data\\\\CSV\\\\b.csv',\n",
       " 'S:\\\\Projects\\\\SAHSU_Share\\\\Diabetes\\\\Datasets\\\\Postcodes\\\\codepo_gb\\\\Data\\\\CSV\\\\ss.csv',\n",
       " 'S:\\\\Projects\\\\SAHSU_Share\\\\Diabetes\\\\Datasets\\\\Postcodes\\\\codepo_gb\\\\Data\\\\CSV\\\\dn.csv',\n",
       " 'S:\\\\Projects\\\\SAHSU_Share\\\\Diabetes\\\\Datasets\\\\Postcodes\\\\codepo_gb\\\\Data\\\\CSV\\\\l.csv',\n",
       " 'S:\\\\Projects\\\\SAHSU_Share\\\\Diabetes\\\\Datasets\\\\Postcodes\\\\codepo_gb\\\\Data\\\\CSV\\\\po.csv',\n",
       " 'S:\\\\Projects\\\\SAHSU_Share\\\\Diabetes\\\\Datasets\\\\Postcodes\\\\codepo_gb\\\\Data\\\\CSV\\\\ky.csv',\n",
       " 'S:\\\\Projects\\\\SAHSU_Share\\\\Diabetes\\\\Datasets\\\\Postcodes\\\\codepo_gb\\\\Data\\\\CSV\\\\mk.csv',\n",
       " 'S:\\\\Projects\\\\SAHSU_Share\\\\Diabetes\\\\Datasets\\\\Postcodes\\\\codepo_gb\\\\Data\\\\CSV\\\\hu.csv',\n",
       " 'S:\\\\Projects\\\\SAHSU_Share\\\\Diabetes\\\\Datasets\\\\Postcodes\\\\codepo_gb\\\\Data\\\\CSV\\\\sk.csv',\n",
       " 'S:\\\\Projects\\\\SAHSU_Share\\\\Diabetes\\\\Datasets\\\\Postcodes\\\\codepo_gb\\\\Data\\\\CSV\\\\td.csv',\n",
       " 'S:\\\\Projects\\\\SAHSU_Share\\\\Diabetes\\\\Datasets\\\\Postcodes\\\\codepo_gb\\\\Data\\\\CSV\\\\cm.csv',\n",
       " 'S:\\\\Projects\\\\SAHSU_Share\\\\Diabetes\\\\Datasets\\\\Postcodes\\\\codepo_gb\\\\Data\\\\CSV\\\\ab.csv',\n",
       " 'S:\\\\Projects\\\\SAHSU_Share\\\\Diabetes\\\\Datasets\\\\Postcodes\\\\codepo_gb\\\\Data\\\\CSV\\\\wr.csv',\n",
       " 'S:\\\\Projects\\\\SAHSU_Share\\\\Diabetes\\\\Datasets\\\\Postcodes\\\\codepo_gb\\\\Data\\\\CSV\\\\tn.csv',\n",
       " 'S:\\\\Projects\\\\SAHSU_Share\\\\Diabetes\\\\Datasets\\\\Postcodes\\\\codepo_gb\\\\Data\\\\CSV\\\\n.csv',\n",
       " 'S:\\\\Projects\\\\SAHSU_Share\\\\Diabetes\\\\Datasets\\\\Postcodes\\\\codepo_gb\\\\Data\\\\CSV\\\\cw.csv',\n",
       " 'S:\\\\Projects\\\\SAHSU_Share\\\\Diabetes\\\\Datasets\\\\Postcodes\\\\codepo_gb\\\\Data\\\\CSV\\\\ox.csv',\n",
       " 'S:\\\\Projects\\\\SAHSU_Share\\\\Diabetes\\\\Datasets\\\\Postcodes\\\\codepo_gb\\\\Data\\\\CSV\\\\bl.csv',\n",
       " 'S:\\\\Projects\\\\SAHSU_Share\\\\Diabetes\\\\Datasets\\\\Postcodes\\\\codepo_gb\\\\Data\\\\CSV\\\\gl.csv',\n",
       " 'S:\\\\Projects\\\\SAHSU_Share\\\\Diabetes\\\\Datasets\\\\Postcodes\\\\codepo_gb\\\\Data\\\\CSV\\\\sm.csv',\n",
       " 'S:\\\\Projects\\\\SAHSU_Share\\\\Diabetes\\\\Datasets\\\\Postcodes\\\\codepo_gb\\\\Data\\\\CSV\\\\tf.csv',\n",
       " 'S:\\\\Projects\\\\SAHSU_Share\\\\Diabetes\\\\Datasets\\\\Postcodes\\\\codepo_gb\\\\Data\\\\CSV\\\\co.csv',\n",
       " 'S:\\\\Projects\\\\SAHSU_Share\\\\Diabetes\\\\Datasets\\\\Postcodes\\\\codepo_gb\\\\Data\\\\CSV\\\\nw.csv',\n",
       " 'S:\\\\Projects\\\\SAHSU_Share\\\\Diabetes\\\\Datasets\\\\Postcodes\\\\codepo_gb\\\\Data\\\\CSV\\\\dh.csv',\n",
       " 'S:\\\\Projects\\\\SAHSU_Share\\\\Diabetes\\\\Datasets\\\\Postcodes\\\\codepo_gb\\\\Data\\\\CSV\\\\ll.csv',\n",
       " 'S:\\\\Projects\\\\SAHSU_Share\\\\Diabetes\\\\Datasets\\\\Postcodes\\\\codepo_gb\\\\Data\\\\CSV\\\\sw.csv',\n",
       " 'S:\\\\Projects\\\\SAHSU_Share\\\\Diabetes\\\\Datasets\\\\Postcodes\\\\codepo_gb\\\\Data\\\\CSV\\\\bd.csv',\n",
       " 'S:\\\\Projects\\\\SAHSU_Share\\\\Diabetes\\\\Datasets\\\\Postcodes\\\\codepo_gb\\\\Data\\\\CSV\\\\ne.csv',\n",
       " 'S:\\\\Projects\\\\SAHSU_Share\\\\Diabetes\\\\Datasets\\\\Postcodes\\\\codepo_gb\\\\Data\\\\CSV\\\\ka.csv',\n",
       " 'S:\\\\Projects\\\\SAHSU_Share\\\\Diabetes\\\\Datasets\\\\Postcodes\\\\codepo_gb\\\\Data\\\\CSV\\\\fk.csv',\n",
       " 'S:\\\\Projects\\\\SAHSU_Share\\\\Diabetes\\\\Datasets\\\\Postcodes\\\\codepo_gb\\\\Data\\\\CSV\\\\se.csv',\n",
       " 'S:\\\\Projects\\\\SAHSU_Share\\\\Diabetes\\\\Datasets\\\\Postcodes\\\\codepo_gb\\\\Data\\\\CSV\\\\bn.csv',\n",
       " 'S:\\\\Projects\\\\SAHSU_Share\\\\Diabetes\\\\Datasets\\\\Postcodes\\\\codepo_gb\\\\Data\\\\CSV\\\\pa.csv',\n",
       " 'S:\\\\Projects\\\\SAHSU_Share\\\\Diabetes\\\\Datasets\\\\Postcodes\\\\codepo_gb\\\\Data\\\\CSV\\\\ld.csv',\n",
       " 'S:\\\\Projects\\\\SAHSU_Share\\\\Diabetes\\\\Datasets\\\\Postcodes\\\\codepo_gb\\\\Data\\\\CSV\\\\hg.csv',\n",
       " 'S:\\\\Projects\\\\SAHSU_Share\\\\Diabetes\\\\Datasets\\\\Postcodes\\\\codepo_gb\\\\Data\\\\CSV\\\\so.csv',\n",
       " 'S:\\\\Projects\\\\SAHSU_Share\\\\Diabetes\\\\Datasets\\\\Postcodes\\\\codepo_gb\\\\Data\\\\CSV\\\\lu.csv',\n",
       " 'S:\\\\Projects\\\\SAHSU_Share\\\\Diabetes\\\\Datasets\\\\Postcodes\\\\codepo_gb\\\\Data\\\\CSV\\\\ng.csv',\n",
       " 'S:\\\\Projects\\\\SAHSU_Share\\\\Diabetes\\\\Datasets\\\\Postcodes\\\\codepo_gb\\\\Data\\\\CSV\\\\yo.csv',\n",
       " 'S:\\\\Projects\\\\SAHSU_Share\\\\Diabetes\\\\Datasets\\\\Postcodes\\\\codepo_gb\\\\Data\\\\CSV\\\\hx.csv',\n",
       " 'S:\\\\Projects\\\\SAHSU_Share\\\\Diabetes\\\\Datasets\\\\Postcodes\\\\codepo_gb\\\\Data\\\\CSV\\\\all_postcodes_cut.csv',\n",
       " 'S:\\\\Projects\\\\SAHSU_Share\\\\Diabetes\\\\Datasets\\\\Postcodes\\\\codepo_gb\\\\Data\\\\CSV\\\\wd.csv',\n",
       " 'S:\\\\Projects\\\\SAHSU_Share\\\\Diabetes\\\\Datasets\\\\Postcodes\\\\codepo_gb\\\\Data\\\\CSV\\\\sg.csv',\n",
       " 'S:\\\\Projects\\\\SAHSU_Share\\\\Diabetes\\\\Datasets\\\\Postcodes\\\\codepo_gb\\\\Data\\\\CSV\\\\wn.csv',\n",
       " 'S:\\\\Projects\\\\SAHSU_Share\\\\Diabetes\\\\Datasets\\\\Postcodes\\\\codepo_gb\\\\Data\\\\CSV\\\\hp.csv',\n",
       " 'S:\\\\Projects\\\\SAHSU_Share\\\\Diabetes\\\\Datasets\\\\Postcodes\\\\codepo_gb\\\\Data\\\\CSV\\\\tq.csv',\n",
       " 'S:\\\\Projects\\\\SAHSU_Share\\\\Diabetes\\\\Datasets\\\\Postcodes\\\\codepo_gb\\\\Data\\\\CSV\\\\bh.csv',\n",
       " 'S:\\\\Projects\\\\SAHSU_Share\\\\Diabetes\\\\Datasets\\\\Postcodes\\\\codepo_gb\\\\Data\\\\CSV\\\\ca.csv',\n",
       " 'S:\\\\Projects\\\\SAHSU_Share\\\\Diabetes\\\\Datasets\\\\Postcodes\\\\codepo_gb\\\\Data\\\\CSV\\\\wf.csv',\n",
       " 'S:\\\\Projects\\\\SAHSU_Share\\\\Diabetes\\\\Datasets\\\\Postcodes\\\\codepo_gb\\\\Data\\\\CSV\\\\br.csv',\n",
       " 'S:\\\\Projects\\\\SAHSU_Share\\\\Diabetes\\\\Datasets\\\\Postcodes\\\\codepo_gb\\\\Data\\\\CSV\\\\ub.csv',\n",
       " 'S:\\\\Projects\\\\SAHSU_Share\\\\Diabetes\\\\Datasets\\\\Postcodes\\\\codepo_gb\\\\Data\\\\CSV\\\\pl.csv',\n",
       " 'S:\\\\Projects\\\\SAHSU_Share\\\\Diabetes\\\\Datasets\\\\Postcodes\\\\codepo_gb\\\\Data\\\\CSV\\\\hr.csv',\n",
       " 'S:\\\\Projects\\\\SAHSU_Share\\\\Diabetes\\\\Datasets\\\\Postcodes\\\\codepo_gb\\\\Data\\\\CSV\\\\ts.csv',\n",
       " 'S:\\\\Projects\\\\SAHSU_Share\\\\Diabetes\\\\Datasets\\\\Postcodes\\\\codepo_gb\\\\Data\\\\CSV\\\\en.csv',\n",
       " 'S:\\\\Projects\\\\SAHSU_Share\\\\Diabetes\\\\Datasets\\\\Postcodes\\\\codepo_gb\\\\Data\\\\CSV\\\\rh.csv',\n",
       " 'S:\\\\Projects\\\\SAHSU_Share\\\\Diabetes\\\\Datasets\\\\Postcodes\\\\codepo_gb\\\\Data\\\\CSV\\\\sa.csv',\n",
       " 'S:\\\\Projects\\\\SAHSU_Share\\\\Diabetes\\\\Datasets\\\\Postcodes\\\\codepo_gb\\\\Data\\\\CSV\\\\ex.csv',\n",
       " 'S:\\\\Projects\\\\SAHSU_Share\\\\Diabetes\\\\Datasets\\\\Postcodes\\\\codepo_gb\\\\Data\\\\CSV\\\\ta.csv',\n",
       " 'S:\\\\Projects\\\\SAHSU_Share\\\\Diabetes\\\\Datasets\\\\Postcodes\\\\codepo_gb\\\\Data\\\\CSV\\\\sr.csv',\n",
       " 'S:\\\\Projects\\\\SAHSU_Share\\\\Diabetes\\\\Datasets\\\\Postcodes\\\\codepo_gb\\\\Data\\\\CSV\\\\ct.csv',\n",
       " 'S:\\\\Projects\\\\SAHSU_Share\\\\Diabetes\\\\Datasets\\\\Postcodes\\\\codepo_gb\\\\Data\\\\CSV\\\\all_postcodes.csv',\n",
       " 'S:\\\\Projects\\\\SAHSU_Share\\\\Diabetes\\\\Datasets\\\\Postcodes\\\\codepo_gb\\\\Data\\\\CSV\\\\bb.csv',\n",
       " 'S:\\\\Projects\\\\SAHSU_Share\\\\Diabetes\\\\Datasets\\\\Postcodes\\\\codepo_gb\\\\Data\\\\CSV\\\\bs.csv',\n",
       " 'S:\\\\Projects\\\\SAHSU_Share\\\\Diabetes\\\\Datasets\\\\Postcodes\\\\codepo_gb\\\\Data\\\\CSV\\\\de.csv',\n",
       " 'S:\\\\Projects\\\\SAHSU_Share\\\\Diabetes\\\\Datasets\\\\Postcodes\\\\codepo_gb\\\\Data\\\\CSV\\\\st.csv',\n",
       " 'S:\\\\Projects\\\\SAHSU_Share\\\\Diabetes\\\\Datasets\\\\Postcodes\\\\codepo_gb\\\\Data\\\\CSV\\\\cv.csv',\n",
       " 'S:\\\\Projects\\\\SAHSU_Share\\\\Diabetes\\\\Datasets\\\\Postcodes\\\\codepo_gb\\\\Data\\\\CSV\\\\m.csv',\n",
       " 'S:\\\\Projects\\\\SAHSU_Share\\\\Diabetes\\\\Datasets\\\\Postcodes\\\\codepo_gb\\\\Data\\\\CSV\\\\eh.csv',\n",
       " 'S:\\\\Projects\\\\SAHSU_Share\\\\Diabetes\\\\Datasets\\\\Postcodes\\\\codepo_gb\\\\Data\\\\CSV\\\\ls.csv',\n",
       " 'S:\\\\Projects\\\\SAHSU_Share\\\\Diabetes\\\\Datasets\\\\Postcodes\\\\codepo_gb\\\\Data\\\\CSV\\\\w.csv',\n",
       " 'S:\\\\Projects\\\\SAHSU_Share\\\\Diabetes\\\\Datasets\\\\Postcodes\\\\codepo_gb\\\\Data\\\\CSV\\\\ml.csv']"
      ]
     },
     "execution_count": 28,
     "metadata": {},
     "output_type": "execute_result"
    }
   ],
   "source": [
    "files"
   ]
  },
  {
   "cell_type": "markdown",
   "metadata": {
    "collapsed": true
   },
   "source": [
    "- create a loop to insert data into the df_all dataset\n",
    "    - read the postcode file in\n",
    "    - merge the labels and postcode file so the postcode file has column headings \n",
    "    - set the column headings as actual column headings \n",
    "    - set the index to postcode\n",
    "    - delete the duplicate postcode row\n",
    "    - insert a column 'date' because the table we are filling has a date column\n",
    "    - ensure that the date column is in datetime format\n",
    "    - insert the postcode information into the SWW postcode dataset\n",
    "    - delete all of the extra postcodes that aren't in the SWW postcode dataset\n",
    "    - display that the postcode file has been processed "
   ]
  },
  {
   "cell_type": "code",
   "execution_count": 30,
   "metadata": {},
   "outputs": [
    {
     "name": "stdout",
     "output_type": "stream",
     "text": [
      "Processed S:\\Projects\\SAHSU_Share\\Diabetes\\Datasets\\Postcodes\\codepo_gb\\Data\\CSV\\tw.csv\n",
      "Processed S:\\Projects\\SAHSU_Share\\Diabetes\\Datasets\\Postcodes\\codepo_gb\\Data\\CSV\\dy.csv\n",
      "Processed S:\\Projects\\SAHSU_Share\\Diabetes\\Datasets\\Postcodes\\codepo_gb\\Data\\CSV\\la.csv\n",
      "Processed S:\\Projects\\SAHSU_Share\\Diabetes\\Datasets\\Postcodes\\codepo_gb\\Data\\CSV\\hd.csv\n",
      "Processed S:\\Projects\\SAHSU_Share\\Diabetes\\Datasets\\Postcodes\\codepo_gb\\Data\\CSV\\sl.csv\n",
      "Processed S:\\Projects\\SAHSU_Share\\Diabetes\\Datasets\\Postcodes\\codepo_gb\\Data\\CSV\\dg.csv\n",
      "Processed S:\\Projects\\SAHSU_Share\\Diabetes\\Datasets\\Postcodes\\codepo_gb\\Data\\CSV\\ph.csv\n",
      "Processed S:\\Projects\\SAHSU_Share\\Diabetes\\Datasets\\Postcodes\\codepo_gb\\Data\\CSV\\ws.csv\n",
      "Processed S:\\Projects\\SAHSU_Share\\Diabetes\\Datasets\\Postcodes\\codepo_gb\\Data\\CSV\\e.csv\n",
      "Processed S:\\Projects\\SAHSU_Share\\Diabetes\\Datasets\\Postcodes\\codepo_gb\\Data\\CSV\\gu.csv\n",
      "Processed S:\\Projects\\SAHSU_Share\\Diabetes\\Datasets\\Postcodes\\codepo_gb\\Data\\CSV\\ig.csv\n",
      "Processed S:\\Projects\\SAHSU_Share\\Diabetes\\Datasets\\Postcodes\\codepo_gb\\Data\\CSV\\pr.csv\n",
      "Processed S:\\Projects\\SAHSU_Share\\Diabetes\\Datasets\\Postcodes\\codepo_gb\\Data\\CSV\\ze.csv\n",
      "Processed S:\\Projects\\SAHSU_Share\\Diabetes\\Datasets\\Postcodes\\codepo_gb\\Data\\CSV\\wa.csv\n",
      "Processed S:\\Projects\\SAHSU_Share\\Diabetes\\Datasets\\Postcodes\\codepo_gb\\Data\\CSV\\cf.csv\n",
      "Processed S:\\Projects\\SAHSU_Share\\Diabetes\\Datasets\\Postcodes\\codepo_gb\\Data\\CSV\\nn.csv\n",
      "Processed S:\\Projects\\SAHSU_Share\\Diabetes\\Datasets\\Postcodes\\codepo_gb\\Data\\CSV\\sn.csv\n",
      "Processed S:\\Projects\\SAHSU_Share\\Diabetes\\Datasets\\Postcodes\\codepo_gb\\Data\\CSV\\g.csv\n",
      "Processed S:\\Projects\\SAHSU_Share\\Diabetes\\Datasets\\Postcodes\\codepo_gb\\Data\\CSV\\kt.csv\n",
      "Processed S:\\Projects\\SAHSU_Share\\Diabetes\\Datasets\\Postcodes\\codepo_gb\\Data\\CSV\\al.csv\n",
      "Processed S:\\Projects\\SAHSU_Share\\Diabetes\\Datasets\\Postcodes\\codepo_gb\\Data\\CSV\\ip.csv\n",
      "Processed S:\\Projects\\SAHSU_Share\\Diabetes\\Datasets\\Postcodes\\codepo_gb\\Data\\CSV\\wc.csv\n",
      "Processed S:\\Projects\\SAHSU_Share\\Diabetes\\Datasets\\Postcodes\\codepo_gb\\Data\\CSV\\rm.csv\n",
      "Processed S:\\Projects\\SAHSU_Share\\Diabetes\\Datasets\\Postcodes\\codepo_gb\\Data\\CSV\\ch.csv\n",
      "Processed S:\\Projects\\SAHSU_Share\\Diabetes\\Datasets\\Postcodes\\codepo_gb\\Data\\CSV\\np.csv\n",
      "Processed S:\\Projects\\SAHSU_Share\\Diabetes\\Datasets\\Postcodes\\codepo_gb\\Data\\CSV\\da.csv\n",
      "Processed S:\\Projects\\SAHSU_Share\\Diabetes\\Datasets\\Postcodes\\codepo_gb\\Data\\CSV\\le.csv\n",
      "Processed S:\\Projects\\SAHSU_Share\\Diabetes\\Datasets\\Postcodes\\codepo_gb\\Data\\CSV\\sp.csv\n",
      "Processed S:\\Projects\\SAHSU_Share\\Diabetes\\Datasets\\Postcodes\\codepo_gb\\Data\\CSV\\cr.csv\n",
      "Processed S:\\Projects\\SAHSU_Share\\Diabetes\\Datasets\\Postcodes\\codepo_gb\\Data\\CSV\\me.csv\n",
      "Processed S:\\Projects\\SAHSU_Share\\Diabetes\\Datasets\\Postcodes\\codepo_gb\\Data\\CSV\\s.csv\n",
      "Processed S:\\Projects\\SAHSU_Share\\Diabetes\\Datasets\\Postcodes\\codepo_gb\\Data\\CSV\\nr.csv\n",
      "Processed S:\\Projects\\SAHSU_Share\\Diabetes\\Datasets\\Postcodes\\codepo_gb\\Data\\CSV\\ec.csv\n",
      "Processed S:\\Projects\\SAHSU_Share\\Diabetes\\Datasets\\Postcodes\\codepo_gb\\Data\\CSV\\ln.csv\n",
      "Processed S:\\Projects\\SAHSU_Share\\Diabetes\\Datasets\\Postcodes\\codepo_gb\\Data\\CSV\\wv.csv\n",
      "Processed S:\\Projects\\SAHSU_Share\\Diabetes\\Datasets\\Postcodes\\codepo_gb\\Data\\CSV\\sy.csv\n",
      "Processed S:\\Projects\\SAHSU_Share\\Diabetes\\Datasets\\Postcodes\\codepo_gb\\Data\\CSV\\tr.csv\n",
      "Processed S:\\Projects\\SAHSU_Share\\Diabetes\\Datasets\\Postcodes\\codepo_gb\\Data\\CSV\\dt.csv\n",
      "Processed S:\\Projects\\SAHSU_Share\\Diabetes\\Datasets\\Postcodes\\codepo_gb\\Data\\CSV\\rg.csv\n",
      "Processed S:\\Projects\\SAHSU_Share\\Diabetes\\Datasets\\Postcodes\\codepo_gb\\Data\\CSV\\cb.csv\n",
      "Processed S:\\Projects\\SAHSU_Share\\Diabetes\\Datasets\\Postcodes\\codepo_gb\\Data\\CSV\\dl.csv\n",
      "Processed S:\\Projects\\SAHSU_Share\\Diabetes\\Datasets\\Postcodes\\codepo_gb\\Data\\CSV\\kw.csv\n",
      "Processed S:\\Projects\\SAHSU_Share\\Diabetes\\Datasets\\Postcodes\\codepo_gb\\Data\\CSV\\ba.csv\n",
      "Processed S:\\Projects\\SAHSU_Share\\Diabetes\\Datasets\\Postcodes\\codepo_gb\\Data\\CSV\\hs.csv\n",
      "Processed S:\\Projects\\SAHSU_Share\\Diabetes\\Datasets\\Postcodes\\codepo_gb\\Data\\CSV\\iv.csv\n",
      "Processed S:\\Projects\\SAHSU_Share\\Diabetes\\Datasets\\Postcodes\\codepo_gb\\Data\\CSV\\ha.csv\n",
      "Processed S:\\Projects\\SAHSU_Share\\Diabetes\\Datasets\\Postcodes\\codepo_gb\\Data\\CSV\\dd.csv\n",
      "Processed S:\\Projects\\SAHSU_Share\\Diabetes\\Datasets\\Postcodes\\codepo_gb\\Data\\CSV\\ol.csv\n",
      "Processed S:\\Projects\\SAHSU_Share\\Diabetes\\Datasets\\Postcodes\\codepo_gb\\Data\\CSV\\pe.csv\n",
      "Processed S:\\Projects\\SAHSU_Share\\Diabetes\\Datasets\\Postcodes\\codepo_gb\\Data\\CSV\\fy.csv\n",
      "Processed S:\\Projects\\SAHSU_Share\\Diabetes\\Datasets\\Postcodes\\codepo_gb\\Data\\CSV\\b.csv\n",
      "Processed S:\\Projects\\SAHSU_Share\\Diabetes\\Datasets\\Postcodes\\codepo_gb\\Data\\CSV\\ss.csv\n",
      "Processed S:\\Projects\\SAHSU_Share\\Diabetes\\Datasets\\Postcodes\\codepo_gb\\Data\\CSV\\dn.csv\n",
      "Processed S:\\Projects\\SAHSU_Share\\Diabetes\\Datasets\\Postcodes\\codepo_gb\\Data\\CSV\\l.csv\n",
      "Processed S:\\Projects\\SAHSU_Share\\Diabetes\\Datasets\\Postcodes\\codepo_gb\\Data\\CSV\\po.csv\n",
      "Processed S:\\Projects\\SAHSU_Share\\Diabetes\\Datasets\\Postcodes\\codepo_gb\\Data\\CSV\\ky.csv\n",
      "Processed S:\\Projects\\SAHSU_Share\\Diabetes\\Datasets\\Postcodes\\codepo_gb\\Data\\CSV\\mk.csv\n",
      "Processed S:\\Projects\\SAHSU_Share\\Diabetes\\Datasets\\Postcodes\\codepo_gb\\Data\\CSV\\hu.csv\n",
      "Processed S:\\Projects\\SAHSU_Share\\Diabetes\\Datasets\\Postcodes\\codepo_gb\\Data\\CSV\\sk.csv\n",
      "Processed S:\\Projects\\SAHSU_Share\\Diabetes\\Datasets\\Postcodes\\codepo_gb\\Data\\CSV\\td.csv\n",
      "Processed S:\\Projects\\SAHSU_Share\\Diabetes\\Datasets\\Postcodes\\codepo_gb\\Data\\CSV\\cm.csv\n",
      "Processed S:\\Projects\\SAHSU_Share\\Diabetes\\Datasets\\Postcodes\\codepo_gb\\Data\\CSV\\ab.csv\n",
      "Processed S:\\Projects\\SAHSU_Share\\Diabetes\\Datasets\\Postcodes\\codepo_gb\\Data\\CSV\\wr.csv\n",
      "Processed S:\\Projects\\SAHSU_Share\\Diabetes\\Datasets\\Postcodes\\codepo_gb\\Data\\CSV\\tn.csv\n",
      "Processed S:\\Projects\\SAHSU_Share\\Diabetes\\Datasets\\Postcodes\\codepo_gb\\Data\\CSV\\n.csv\n",
      "Processed S:\\Projects\\SAHSU_Share\\Diabetes\\Datasets\\Postcodes\\codepo_gb\\Data\\CSV\\cw.csv\n",
      "Processed S:\\Projects\\SAHSU_Share\\Diabetes\\Datasets\\Postcodes\\codepo_gb\\Data\\CSV\\ox.csv\n",
      "Processed S:\\Projects\\SAHSU_Share\\Diabetes\\Datasets\\Postcodes\\codepo_gb\\Data\\CSV\\bl.csv\n",
      "Processed S:\\Projects\\SAHSU_Share\\Diabetes\\Datasets\\Postcodes\\codepo_gb\\Data\\CSV\\gl.csv\n",
      "Processed S:\\Projects\\SAHSU_Share\\Diabetes\\Datasets\\Postcodes\\codepo_gb\\Data\\CSV\\sm.csv\n",
      "Processed S:\\Projects\\SAHSU_Share\\Diabetes\\Datasets\\Postcodes\\codepo_gb\\Data\\CSV\\tf.csv\n",
      "Processed S:\\Projects\\SAHSU_Share\\Diabetes\\Datasets\\Postcodes\\codepo_gb\\Data\\CSV\\co.csv\n",
      "Processed S:\\Projects\\SAHSU_Share\\Diabetes\\Datasets\\Postcodes\\codepo_gb\\Data\\CSV\\nw.csv\n",
      "Processed S:\\Projects\\SAHSU_Share\\Diabetes\\Datasets\\Postcodes\\codepo_gb\\Data\\CSV\\dh.csv\n",
      "Processed S:\\Projects\\SAHSU_Share\\Diabetes\\Datasets\\Postcodes\\codepo_gb\\Data\\CSV\\ll.csv\n",
      "Processed S:\\Projects\\SAHSU_Share\\Diabetes\\Datasets\\Postcodes\\codepo_gb\\Data\\CSV\\sw.csv\n",
      "Processed S:\\Projects\\SAHSU_Share\\Diabetes\\Datasets\\Postcodes\\codepo_gb\\Data\\CSV\\bd.csv\n",
      "Processed S:\\Projects\\SAHSU_Share\\Diabetes\\Datasets\\Postcodes\\codepo_gb\\Data\\CSV\\ne.csv\n",
      "Processed S:\\Projects\\SAHSU_Share\\Diabetes\\Datasets\\Postcodes\\codepo_gb\\Data\\CSV\\ka.csv\n",
      "Processed S:\\Projects\\SAHSU_Share\\Diabetes\\Datasets\\Postcodes\\codepo_gb\\Data\\CSV\\fk.csv\n",
      "Processed S:\\Projects\\SAHSU_Share\\Diabetes\\Datasets\\Postcodes\\codepo_gb\\Data\\CSV\\se.csv\n",
      "Processed S:\\Projects\\SAHSU_Share\\Diabetes\\Datasets\\Postcodes\\codepo_gb\\Data\\CSV\\bn.csv\n",
      "Processed S:\\Projects\\SAHSU_Share\\Diabetes\\Datasets\\Postcodes\\codepo_gb\\Data\\CSV\\pa.csv\n",
      "Processed S:\\Projects\\SAHSU_Share\\Diabetes\\Datasets\\Postcodes\\codepo_gb\\Data\\CSV\\ld.csv\n",
      "Processed S:\\Projects\\SAHSU_Share\\Diabetes\\Datasets\\Postcodes\\codepo_gb\\Data\\CSV\\hg.csv\n",
      "Processed S:\\Projects\\SAHSU_Share\\Diabetes\\Datasets\\Postcodes\\codepo_gb\\Data\\CSV\\so.csv\n",
      "Processed S:\\Projects\\SAHSU_Share\\Diabetes\\Datasets\\Postcodes\\codepo_gb\\Data\\CSV\\lu.csv\n",
      "Processed S:\\Projects\\SAHSU_Share\\Diabetes\\Datasets\\Postcodes\\codepo_gb\\Data\\CSV\\ng.csv\n",
      "Processed S:\\Projects\\SAHSU_Share\\Diabetes\\Datasets\\Postcodes\\codepo_gb\\Data\\CSV\\yo.csv\n",
      "Processed S:\\Projects\\SAHSU_Share\\Diabetes\\Datasets\\Postcodes\\codepo_gb\\Data\\CSV\\hx.csv\n"
     ]
    },
    {
     "name": "stderr",
     "output_type": "stream",
     "text": [
      "C:\\Users\\ansheeha\\AppData\\Local\\Continuum\\Anaconda3\\lib\\site-packages\\IPython\\core\\interactiveshell.py:2717: DtypeWarning: Columns (1,2) have mixed types. Specify dtype option on import or set low_memory=False.\n",
      "  interactivity=interactivity, compiler=compiler, result=result)\n"
     ]
    },
    {
     "ename": "InvalidIndexError",
     "evalue": "Reindexing only valid with uniquely valued Index objects",
     "output_type": "error",
     "traceback": [
      "\u001b[1;31m---------------------------------------------------------------------------\u001b[0m",
      "\u001b[1;31mInvalidIndexError\u001b[0m                         Traceback (most recent call last)",
      "\u001b[1;32m<ipython-input-30-0d2cf5df3b21>\u001b[0m in \u001b[0;36m<module>\u001b[1;34m()\u001b[0m\n\u001b[0;32m      4\u001b[0m     \u001b[0mdata\u001b[0m\u001b[1;33m.\u001b[0m\u001b[0mcolumns\u001b[0m \u001b[1;33m=\u001b[0m \u001b[0mdata\u001b[0m\u001b[1;33m.\u001b[0m\u001b[0miloc\u001b[0m\u001b[1;33m[\u001b[0m\u001b[1;36m0\u001b[0m\u001b[1;33m]\u001b[0m\u001b[1;33m\u001b[0m\u001b[0m\n\u001b[0;32m      5\u001b[0m     \u001b[0mdata\u001b[0m \u001b[1;33m=\u001b[0m \u001b[0mdata\u001b[0m\u001b[1;33m.\u001b[0m\u001b[0mset_index\u001b[0m\u001b[1;33m(\u001b[0m\u001b[1;33m[\u001b[0m\u001b[1;34m'Postcode'\u001b[0m\u001b[1;33m]\u001b[0m\u001b[1;33m)\u001b[0m\u001b[1;33m\u001b[0m\u001b[0m\n\u001b[1;32m----> 6\u001b[1;33m     \u001b[0mdata\u001b[0m \u001b[1;33m=\u001b[0m \u001b[0mdata\u001b[0m\u001b[1;33m.\u001b[0m\u001b[0mreindex\u001b[0m\u001b[1;33m(\u001b[0m\u001b[0mdata\u001b[0m\u001b[1;33m.\u001b[0m\u001b[0mindex\u001b[0m\u001b[1;33m.\u001b[0m\u001b[0mdrop\u001b[0m\u001b[1;33m(\u001b[0m\u001b[1;34m'Postcode'\u001b[0m\u001b[1;33m)\u001b[0m\u001b[1;33m)\u001b[0m\u001b[1;33m\u001b[0m\u001b[0m\n\u001b[0m\u001b[0;32m      7\u001b[0m     \u001b[0mdata\u001b[0m\u001b[1;33m.\u001b[0m\u001b[0minsert\u001b[0m\u001b[1;33m(\u001b[0m\u001b[1;36m0\u001b[0m\u001b[1;33m,\u001b[0m \u001b[1;34m'Date'\u001b[0m\u001b[1;33m,\u001b[0m \u001b[1;34m'NaN'\u001b[0m\u001b[1;33m)\u001b[0m\u001b[1;33m\u001b[0m\u001b[0m\n\u001b[0;32m      8\u001b[0m     \u001b[0mdata\u001b[0m\u001b[1;33m.\u001b[0m\u001b[0minsert\u001b[0m\u001b[1;33m(\u001b[0m\u001b[1;36m1\u001b[0m\u001b[1;33m,\u001b[0m\u001b[1;34m'Nitrate'\u001b[0m\u001b[1;33m,\u001b[0m \u001b[1;34m'NaN'\u001b[0m\u001b[1;33m)\u001b[0m\u001b[1;33m\u001b[0m\u001b[0m\n",
      "\u001b[1;32mC:\\Users\\ansheeha\\AppData\\Local\\Continuum\\Anaconda3\\lib\\site-packages\\pandas\\core\\indexes\\base.py\u001b[0m in \u001b[0;36mdrop\u001b[1;34m(self, labels, errors)\u001b[0m\n\u001b[0;32m   3568\u001b[0m         \"\"\"\n\u001b[0;32m   3569\u001b[0m         \u001b[0mlabels\u001b[0m \u001b[1;33m=\u001b[0m \u001b[0mcom\u001b[0m\u001b[1;33m.\u001b[0m\u001b[0m_index_labels_to_array\u001b[0m\u001b[1;33m(\u001b[0m\u001b[0mlabels\u001b[0m\u001b[1;33m)\u001b[0m\u001b[1;33m\u001b[0m\u001b[0m\n\u001b[1;32m-> 3570\u001b[1;33m         \u001b[0mindexer\u001b[0m \u001b[1;33m=\u001b[0m \u001b[0mself\u001b[0m\u001b[1;33m.\u001b[0m\u001b[0mget_indexer\u001b[0m\u001b[1;33m(\u001b[0m\u001b[0mlabels\u001b[0m\u001b[1;33m)\u001b[0m\u001b[1;33m\u001b[0m\u001b[0m\n\u001b[0m\u001b[0;32m   3571\u001b[0m         \u001b[0mmask\u001b[0m \u001b[1;33m=\u001b[0m \u001b[0mindexer\u001b[0m \u001b[1;33m==\u001b[0m \u001b[1;33m-\u001b[0m\u001b[1;36m1\u001b[0m\u001b[1;33m\u001b[0m\u001b[0m\n\u001b[0;32m   3572\u001b[0m         \u001b[1;32mif\u001b[0m \u001b[0mmask\u001b[0m\u001b[1;33m.\u001b[0m\u001b[0many\u001b[0m\u001b[1;33m(\u001b[0m\u001b[1;33m)\u001b[0m\u001b[1;33m:\u001b[0m\u001b[1;33m\u001b[0m\u001b[0m\n",
      "\u001b[1;32mC:\\Users\\ansheeha\\AppData\\Local\\Continuum\\Anaconda3\\lib\\site-packages\\pandas\\core\\indexes\\base.py\u001b[0m in \u001b[0;36mget_indexer\u001b[1;34m(self, target, method, limit, tolerance)\u001b[0m\n\u001b[0;32m   2532\u001b[0m \u001b[1;33m\u001b[0m\u001b[0m\n\u001b[0;32m   2533\u001b[0m         \u001b[1;32mif\u001b[0m \u001b[1;32mnot\u001b[0m \u001b[0mself\u001b[0m\u001b[1;33m.\u001b[0m\u001b[0mis_unique\u001b[0m\u001b[1;33m:\u001b[0m\u001b[1;33m\u001b[0m\u001b[0m\n\u001b[1;32m-> 2534\u001b[1;33m             raise InvalidIndexError('Reindexing only valid with uniquely'\n\u001b[0m\u001b[0;32m   2535\u001b[0m                                     ' valued Index objects')\n\u001b[0;32m   2536\u001b[0m \u001b[1;33m\u001b[0m\u001b[0m\n",
      "\u001b[1;31mInvalidIndexError\u001b[0m: Reindexing only valid with uniquely valued Index objects"
     ]
    }
   ],
   "source": [
    "for file in files:\n",
    "    postcode = pd.read_csv(r'{fname}'.format(fname=file), header=None)\n",
    "    data = pd.concat([labels,postcode])\n",
    "    data.columns = data.iloc[0]\n",
    "    data = data.set_index(['Postcode'])\n",
    "    data = data.reindex(data.index.drop('Postcode'))\n",
    "    data.insert(0, 'Date', 'NaN')\n",
    "    data.insert(1,'Nitrate', 'NaN')\n",
    "    data.insert(2,'Qualifier', 'NaN')\n",
    "    data.insert(3,'Zone desc', 'NaN')\n",
    "    data['Date']= pd.to_datetime(data['Date'])\n",
    "    df_all = df_all.combine_first(data)\n",
    "    df_all = df_all[pd.notnull(df_all['Date'])]\n",
    "    \n",
    "    \n",
    "    print('Processed {fname}'.format(fname=file))"
   ]
  },
  {
   "cell_type": "markdown",
   "metadata": {},
   "source": [
    "- save the dataset"
   ]
  },
  {
   "cell_type": "code",
   "execution_count": 31,
   "metadata": {
    "collapsed": true
   },
   "outputs": [],
   "source": [
    "df_all.to_csv(r\"S:\\Projects\\SAHSU_Share\\Diabetes\\Datasets\\Drinking_water\\United Utilities\\UU_Northing_Easting.csv\")"
   ]
  },
  {
   "cell_type": "markdown",
   "metadata": {},
   "source": [
    "- rerunning the code on the dataset where O's and I's have been changed to 0's and 1's"
   ]
  },
  {
   "cell_type": "code",
   "execution_count": 32,
   "metadata": {
    "collapsed": true
   },
   "outputs": [],
   "source": [
    "# Read in postcode dataset\n",
    "post_data = pd.read_csv(r\"S:\\Projects\\SAHSU_Share\\Diabetes\\Datasets\\Drinking_water\\United Utilities\\UU_Unmatched.csv\")"
   ]
  },
  {
   "cell_type": "code",
   "execution_count": 33,
   "metadata": {
    "collapsed": true
   },
   "outputs": [],
   "source": [
    "post_data = post_data.set_index('Postcode')"
   ]
  },
  {
   "cell_type": "code",
   "execution_count": 38,
   "metadata": {},
   "outputs": [
    {
     "data": {
      "text/html": [
       "<div>\n",
       "<style>\n",
       "    .dataframe thead tr:only-child th {\n",
       "        text-align: right;\n",
       "    }\n",
       "\n",
       "    .dataframe thead th {\n",
       "        text-align: left;\n",
       "    }\n",
       "\n",
       "    .dataframe tbody tr th {\n",
       "        vertical-align: top;\n",
       "    }\n",
       "</style>\n",
       "<table border=\"1\" class=\"dataframe\">\n",
       "  <thead>\n",
       "    <tr style=\"text-align: right;\">\n",
       "      <th></th>\n",
       "      <th>0</th>\n",
       "      <th>1</th>\n",
       "      <th>2</th>\n",
       "      <th>3</th>\n",
       "      <th>4</th>\n",
       "      <th>5</th>\n",
       "      <th>6</th>\n",
       "      <th>7</th>\n",
       "      <th>8</th>\n",
       "      <th>9</th>\n",
       "    </tr>\n",
       "  </thead>\n",
       "  <tbody>\n",
       "    <tr>\n",
       "      <th>0</th>\n",
       "      <td>Postcode</td>\n",
       "      <td>Positional_quality_indicator</td>\n",
       "      <td>Eastings</td>\n",
       "      <td>Northings</td>\n",
       "      <td>Country_code</td>\n",
       "      <td>NHS_regional_HA_code</td>\n",
       "      <td>NHS_HA_code</td>\n",
       "      <td>Admin_county_code</td>\n",
       "      <td>Admin_district_code</td>\n",
       "      <td>Admin_ward_code</td>\n",
       "    </tr>\n",
       "  </tbody>\n",
       "</table>\n",
       "</div>"
      ],
      "text/plain": [
       "          0                             1         2          3             4  \\\n",
       "0  Postcode  Positional_quality_indicator  Eastings  Northings  Country_code   \n",
       "\n",
       "                      5            6                  7                    8  \\\n",
       "0  NHS_regional_HA_code  NHS_HA_code  Admin_county_code  Admin_district_code   \n",
       "\n",
       "                 9  \n",
       "0  Admin_ward_code  "
      ]
     },
     "execution_count": 38,
     "metadata": {},
     "output_type": "execute_result"
    }
   ],
   "source": [
    "labels"
   ]
  },
  {
   "cell_type": "code",
   "execution_count": null,
   "metadata": {
    "scrolled": true
   },
   "outputs": [],
   "source": [
    "post_data"
   ]
  },
  {
   "cell_type": "code",
   "execution_count": 35,
   "metadata": {
    "collapsed": true
   },
   "outputs": [],
   "source": [
    "files = glob.glob(r\"S:\\Projects\\SAHSU_Share\\Diabetes\\Datasets\\Postcodes\\codepo_gb\\Data\\CSV\\*\")"
   ]
  },
  {
   "cell_type": "code",
   "execution_count": 36,
   "metadata": {
    "scrolled": true
   },
   "outputs": [
    {
     "data": {
      "text/plain": [
       "['S:\\\\Projects\\\\SAHSU_Share\\\\Diabetes\\\\Datasets\\\\Postcodes\\\\codepo_gb\\\\Data\\\\CSV\\\\tw.csv',\n",
       " 'S:\\\\Projects\\\\SAHSU_Share\\\\Diabetes\\\\Datasets\\\\Postcodes\\\\codepo_gb\\\\Data\\\\CSV\\\\dy.csv',\n",
       " 'S:\\\\Projects\\\\SAHSU_Share\\\\Diabetes\\\\Datasets\\\\Postcodes\\\\codepo_gb\\\\Data\\\\CSV\\\\la.csv',\n",
       " 'S:\\\\Projects\\\\SAHSU_Share\\\\Diabetes\\\\Datasets\\\\Postcodes\\\\codepo_gb\\\\Data\\\\CSV\\\\hd.csv',\n",
       " 'S:\\\\Projects\\\\SAHSU_Share\\\\Diabetes\\\\Datasets\\\\Postcodes\\\\codepo_gb\\\\Data\\\\CSV\\\\sl.csv',\n",
       " 'S:\\\\Projects\\\\SAHSU_Share\\\\Diabetes\\\\Datasets\\\\Postcodes\\\\codepo_gb\\\\Data\\\\CSV\\\\dg.csv',\n",
       " 'S:\\\\Projects\\\\SAHSU_Share\\\\Diabetes\\\\Datasets\\\\Postcodes\\\\codepo_gb\\\\Data\\\\CSV\\\\ph.csv',\n",
       " 'S:\\\\Projects\\\\SAHSU_Share\\\\Diabetes\\\\Datasets\\\\Postcodes\\\\codepo_gb\\\\Data\\\\CSV\\\\ws.csv',\n",
       " 'S:\\\\Projects\\\\SAHSU_Share\\\\Diabetes\\\\Datasets\\\\Postcodes\\\\codepo_gb\\\\Data\\\\CSV\\\\e.csv',\n",
       " 'S:\\\\Projects\\\\SAHSU_Share\\\\Diabetes\\\\Datasets\\\\Postcodes\\\\codepo_gb\\\\Data\\\\CSV\\\\gu.csv',\n",
       " 'S:\\\\Projects\\\\SAHSU_Share\\\\Diabetes\\\\Datasets\\\\Postcodes\\\\codepo_gb\\\\Data\\\\CSV\\\\ig.csv',\n",
       " 'S:\\\\Projects\\\\SAHSU_Share\\\\Diabetes\\\\Datasets\\\\Postcodes\\\\codepo_gb\\\\Data\\\\CSV\\\\pr.csv',\n",
       " 'S:\\\\Projects\\\\SAHSU_Share\\\\Diabetes\\\\Datasets\\\\Postcodes\\\\codepo_gb\\\\Data\\\\CSV\\\\ze.csv',\n",
       " 'S:\\\\Projects\\\\SAHSU_Share\\\\Diabetes\\\\Datasets\\\\Postcodes\\\\codepo_gb\\\\Data\\\\CSV\\\\wa.csv',\n",
       " 'S:\\\\Projects\\\\SAHSU_Share\\\\Diabetes\\\\Datasets\\\\Postcodes\\\\codepo_gb\\\\Data\\\\CSV\\\\cf.csv',\n",
       " 'S:\\\\Projects\\\\SAHSU_Share\\\\Diabetes\\\\Datasets\\\\Postcodes\\\\codepo_gb\\\\Data\\\\CSV\\\\nn.csv',\n",
       " 'S:\\\\Projects\\\\SAHSU_Share\\\\Diabetes\\\\Datasets\\\\Postcodes\\\\codepo_gb\\\\Data\\\\CSV\\\\sn.csv',\n",
       " 'S:\\\\Projects\\\\SAHSU_Share\\\\Diabetes\\\\Datasets\\\\Postcodes\\\\codepo_gb\\\\Data\\\\CSV\\\\g.csv',\n",
       " 'S:\\\\Projects\\\\SAHSU_Share\\\\Diabetes\\\\Datasets\\\\Postcodes\\\\codepo_gb\\\\Data\\\\CSV\\\\kt.csv',\n",
       " 'S:\\\\Projects\\\\SAHSU_Share\\\\Diabetes\\\\Datasets\\\\Postcodes\\\\codepo_gb\\\\Data\\\\CSV\\\\al.csv',\n",
       " 'S:\\\\Projects\\\\SAHSU_Share\\\\Diabetes\\\\Datasets\\\\Postcodes\\\\codepo_gb\\\\Data\\\\CSV\\\\ip.csv',\n",
       " 'S:\\\\Projects\\\\SAHSU_Share\\\\Diabetes\\\\Datasets\\\\Postcodes\\\\codepo_gb\\\\Data\\\\CSV\\\\wc.csv',\n",
       " 'S:\\\\Projects\\\\SAHSU_Share\\\\Diabetes\\\\Datasets\\\\Postcodes\\\\codepo_gb\\\\Data\\\\CSV\\\\rm.csv',\n",
       " 'S:\\\\Projects\\\\SAHSU_Share\\\\Diabetes\\\\Datasets\\\\Postcodes\\\\codepo_gb\\\\Data\\\\CSV\\\\ch.csv',\n",
       " 'S:\\\\Projects\\\\SAHSU_Share\\\\Diabetes\\\\Datasets\\\\Postcodes\\\\codepo_gb\\\\Data\\\\CSV\\\\np.csv',\n",
       " 'S:\\\\Projects\\\\SAHSU_Share\\\\Diabetes\\\\Datasets\\\\Postcodes\\\\codepo_gb\\\\Data\\\\CSV\\\\da.csv',\n",
       " 'S:\\\\Projects\\\\SAHSU_Share\\\\Diabetes\\\\Datasets\\\\Postcodes\\\\codepo_gb\\\\Data\\\\CSV\\\\le.csv',\n",
       " 'S:\\\\Projects\\\\SAHSU_Share\\\\Diabetes\\\\Datasets\\\\Postcodes\\\\codepo_gb\\\\Data\\\\CSV\\\\sp.csv',\n",
       " 'S:\\\\Projects\\\\SAHSU_Share\\\\Diabetes\\\\Datasets\\\\Postcodes\\\\codepo_gb\\\\Data\\\\CSV\\\\cr.csv',\n",
       " 'S:\\\\Projects\\\\SAHSU_Share\\\\Diabetes\\\\Datasets\\\\Postcodes\\\\codepo_gb\\\\Data\\\\CSV\\\\me.csv',\n",
       " 'S:\\\\Projects\\\\SAHSU_Share\\\\Diabetes\\\\Datasets\\\\Postcodes\\\\codepo_gb\\\\Data\\\\CSV\\\\s.csv',\n",
       " 'S:\\\\Projects\\\\SAHSU_Share\\\\Diabetes\\\\Datasets\\\\Postcodes\\\\codepo_gb\\\\Data\\\\CSV\\\\nr.csv',\n",
       " 'S:\\\\Projects\\\\SAHSU_Share\\\\Diabetes\\\\Datasets\\\\Postcodes\\\\codepo_gb\\\\Data\\\\CSV\\\\ec.csv',\n",
       " 'S:\\\\Projects\\\\SAHSU_Share\\\\Diabetes\\\\Datasets\\\\Postcodes\\\\codepo_gb\\\\Data\\\\CSV\\\\ln.csv',\n",
       " 'S:\\\\Projects\\\\SAHSU_Share\\\\Diabetes\\\\Datasets\\\\Postcodes\\\\codepo_gb\\\\Data\\\\CSV\\\\wv.csv',\n",
       " 'S:\\\\Projects\\\\SAHSU_Share\\\\Diabetes\\\\Datasets\\\\Postcodes\\\\codepo_gb\\\\Data\\\\CSV\\\\sy.csv',\n",
       " 'S:\\\\Projects\\\\SAHSU_Share\\\\Diabetes\\\\Datasets\\\\Postcodes\\\\codepo_gb\\\\Data\\\\CSV\\\\tr.csv',\n",
       " 'S:\\\\Projects\\\\SAHSU_Share\\\\Diabetes\\\\Datasets\\\\Postcodes\\\\codepo_gb\\\\Data\\\\CSV\\\\dt.csv',\n",
       " 'S:\\\\Projects\\\\SAHSU_Share\\\\Diabetes\\\\Datasets\\\\Postcodes\\\\codepo_gb\\\\Data\\\\CSV\\\\rg.csv',\n",
       " 'S:\\\\Projects\\\\SAHSU_Share\\\\Diabetes\\\\Datasets\\\\Postcodes\\\\codepo_gb\\\\Data\\\\CSV\\\\cb.csv',\n",
       " 'S:\\\\Projects\\\\SAHSU_Share\\\\Diabetes\\\\Datasets\\\\Postcodes\\\\codepo_gb\\\\Data\\\\CSV\\\\dl.csv',\n",
       " 'S:\\\\Projects\\\\SAHSU_Share\\\\Diabetes\\\\Datasets\\\\Postcodes\\\\codepo_gb\\\\Data\\\\CSV\\\\kw.csv',\n",
       " 'S:\\\\Projects\\\\SAHSU_Share\\\\Diabetes\\\\Datasets\\\\Postcodes\\\\codepo_gb\\\\Data\\\\CSV\\\\ba.csv',\n",
       " 'S:\\\\Projects\\\\SAHSU_Share\\\\Diabetes\\\\Datasets\\\\Postcodes\\\\codepo_gb\\\\Data\\\\CSV\\\\hs.csv',\n",
       " 'S:\\\\Projects\\\\SAHSU_Share\\\\Diabetes\\\\Datasets\\\\Postcodes\\\\codepo_gb\\\\Data\\\\CSV\\\\iv.csv',\n",
       " 'S:\\\\Projects\\\\SAHSU_Share\\\\Diabetes\\\\Datasets\\\\Postcodes\\\\codepo_gb\\\\Data\\\\CSV\\\\ha.csv',\n",
       " 'S:\\\\Projects\\\\SAHSU_Share\\\\Diabetes\\\\Datasets\\\\Postcodes\\\\codepo_gb\\\\Data\\\\CSV\\\\dd.csv',\n",
       " 'S:\\\\Projects\\\\SAHSU_Share\\\\Diabetes\\\\Datasets\\\\Postcodes\\\\codepo_gb\\\\Data\\\\CSV\\\\ol.csv',\n",
       " 'S:\\\\Projects\\\\SAHSU_Share\\\\Diabetes\\\\Datasets\\\\Postcodes\\\\codepo_gb\\\\Data\\\\CSV\\\\pe.csv',\n",
       " 'S:\\\\Projects\\\\SAHSU_Share\\\\Diabetes\\\\Datasets\\\\Postcodes\\\\codepo_gb\\\\Data\\\\CSV\\\\fy.csv',\n",
       " 'S:\\\\Projects\\\\SAHSU_Share\\\\Diabetes\\\\Datasets\\\\Postcodes\\\\codepo_gb\\\\Data\\\\CSV\\\\b.csv',\n",
       " 'S:\\\\Projects\\\\SAHSU_Share\\\\Diabetes\\\\Datasets\\\\Postcodes\\\\codepo_gb\\\\Data\\\\CSV\\\\ss.csv',\n",
       " 'S:\\\\Projects\\\\SAHSU_Share\\\\Diabetes\\\\Datasets\\\\Postcodes\\\\codepo_gb\\\\Data\\\\CSV\\\\dn.csv',\n",
       " 'S:\\\\Projects\\\\SAHSU_Share\\\\Diabetes\\\\Datasets\\\\Postcodes\\\\codepo_gb\\\\Data\\\\CSV\\\\l.csv',\n",
       " 'S:\\\\Projects\\\\SAHSU_Share\\\\Diabetes\\\\Datasets\\\\Postcodes\\\\codepo_gb\\\\Data\\\\CSV\\\\po.csv',\n",
       " 'S:\\\\Projects\\\\SAHSU_Share\\\\Diabetes\\\\Datasets\\\\Postcodes\\\\codepo_gb\\\\Data\\\\CSV\\\\ky.csv',\n",
       " 'S:\\\\Projects\\\\SAHSU_Share\\\\Diabetes\\\\Datasets\\\\Postcodes\\\\codepo_gb\\\\Data\\\\CSV\\\\mk.csv',\n",
       " 'S:\\\\Projects\\\\SAHSU_Share\\\\Diabetes\\\\Datasets\\\\Postcodes\\\\codepo_gb\\\\Data\\\\CSV\\\\hu.csv',\n",
       " 'S:\\\\Projects\\\\SAHSU_Share\\\\Diabetes\\\\Datasets\\\\Postcodes\\\\codepo_gb\\\\Data\\\\CSV\\\\sk.csv',\n",
       " 'S:\\\\Projects\\\\SAHSU_Share\\\\Diabetes\\\\Datasets\\\\Postcodes\\\\codepo_gb\\\\Data\\\\CSV\\\\td.csv',\n",
       " 'S:\\\\Projects\\\\SAHSU_Share\\\\Diabetes\\\\Datasets\\\\Postcodes\\\\codepo_gb\\\\Data\\\\CSV\\\\cm.csv',\n",
       " 'S:\\\\Projects\\\\SAHSU_Share\\\\Diabetes\\\\Datasets\\\\Postcodes\\\\codepo_gb\\\\Data\\\\CSV\\\\ab.csv',\n",
       " 'S:\\\\Projects\\\\SAHSU_Share\\\\Diabetes\\\\Datasets\\\\Postcodes\\\\codepo_gb\\\\Data\\\\CSV\\\\wr.csv',\n",
       " 'S:\\\\Projects\\\\SAHSU_Share\\\\Diabetes\\\\Datasets\\\\Postcodes\\\\codepo_gb\\\\Data\\\\CSV\\\\tn.csv',\n",
       " 'S:\\\\Projects\\\\SAHSU_Share\\\\Diabetes\\\\Datasets\\\\Postcodes\\\\codepo_gb\\\\Data\\\\CSV\\\\n.csv',\n",
       " 'S:\\\\Projects\\\\SAHSU_Share\\\\Diabetes\\\\Datasets\\\\Postcodes\\\\codepo_gb\\\\Data\\\\CSV\\\\cw.csv',\n",
       " 'S:\\\\Projects\\\\SAHSU_Share\\\\Diabetes\\\\Datasets\\\\Postcodes\\\\codepo_gb\\\\Data\\\\CSV\\\\ox.csv',\n",
       " 'S:\\\\Projects\\\\SAHSU_Share\\\\Diabetes\\\\Datasets\\\\Postcodes\\\\codepo_gb\\\\Data\\\\CSV\\\\bl.csv',\n",
       " 'S:\\\\Projects\\\\SAHSU_Share\\\\Diabetes\\\\Datasets\\\\Postcodes\\\\codepo_gb\\\\Data\\\\CSV\\\\gl.csv',\n",
       " 'S:\\\\Projects\\\\SAHSU_Share\\\\Diabetes\\\\Datasets\\\\Postcodes\\\\codepo_gb\\\\Data\\\\CSV\\\\sm.csv',\n",
       " 'S:\\\\Projects\\\\SAHSU_Share\\\\Diabetes\\\\Datasets\\\\Postcodes\\\\codepo_gb\\\\Data\\\\CSV\\\\tf.csv',\n",
       " 'S:\\\\Projects\\\\SAHSU_Share\\\\Diabetes\\\\Datasets\\\\Postcodes\\\\codepo_gb\\\\Data\\\\CSV\\\\co.csv',\n",
       " 'S:\\\\Projects\\\\SAHSU_Share\\\\Diabetes\\\\Datasets\\\\Postcodes\\\\codepo_gb\\\\Data\\\\CSV\\\\nw.csv',\n",
       " 'S:\\\\Projects\\\\SAHSU_Share\\\\Diabetes\\\\Datasets\\\\Postcodes\\\\codepo_gb\\\\Data\\\\CSV\\\\dh.csv',\n",
       " 'S:\\\\Projects\\\\SAHSU_Share\\\\Diabetes\\\\Datasets\\\\Postcodes\\\\codepo_gb\\\\Data\\\\CSV\\\\ll.csv',\n",
       " 'S:\\\\Projects\\\\SAHSU_Share\\\\Diabetes\\\\Datasets\\\\Postcodes\\\\codepo_gb\\\\Data\\\\CSV\\\\sw.csv',\n",
       " 'S:\\\\Projects\\\\SAHSU_Share\\\\Diabetes\\\\Datasets\\\\Postcodes\\\\codepo_gb\\\\Data\\\\CSV\\\\bd.csv',\n",
       " 'S:\\\\Projects\\\\SAHSU_Share\\\\Diabetes\\\\Datasets\\\\Postcodes\\\\codepo_gb\\\\Data\\\\CSV\\\\ne.csv',\n",
       " 'S:\\\\Projects\\\\SAHSU_Share\\\\Diabetes\\\\Datasets\\\\Postcodes\\\\codepo_gb\\\\Data\\\\CSV\\\\ka.csv',\n",
       " 'S:\\\\Projects\\\\SAHSU_Share\\\\Diabetes\\\\Datasets\\\\Postcodes\\\\codepo_gb\\\\Data\\\\CSV\\\\fk.csv',\n",
       " 'S:\\\\Projects\\\\SAHSU_Share\\\\Diabetes\\\\Datasets\\\\Postcodes\\\\codepo_gb\\\\Data\\\\CSV\\\\se.csv',\n",
       " 'S:\\\\Projects\\\\SAHSU_Share\\\\Diabetes\\\\Datasets\\\\Postcodes\\\\codepo_gb\\\\Data\\\\CSV\\\\bn.csv',\n",
       " 'S:\\\\Projects\\\\SAHSU_Share\\\\Diabetes\\\\Datasets\\\\Postcodes\\\\codepo_gb\\\\Data\\\\CSV\\\\pa.csv',\n",
       " 'S:\\\\Projects\\\\SAHSU_Share\\\\Diabetes\\\\Datasets\\\\Postcodes\\\\codepo_gb\\\\Data\\\\CSV\\\\ld.csv',\n",
       " 'S:\\\\Projects\\\\SAHSU_Share\\\\Diabetes\\\\Datasets\\\\Postcodes\\\\codepo_gb\\\\Data\\\\CSV\\\\hg.csv',\n",
       " 'S:\\\\Projects\\\\SAHSU_Share\\\\Diabetes\\\\Datasets\\\\Postcodes\\\\codepo_gb\\\\Data\\\\CSV\\\\so.csv',\n",
       " 'S:\\\\Projects\\\\SAHSU_Share\\\\Diabetes\\\\Datasets\\\\Postcodes\\\\codepo_gb\\\\Data\\\\CSV\\\\lu.csv',\n",
       " 'S:\\\\Projects\\\\SAHSU_Share\\\\Diabetes\\\\Datasets\\\\Postcodes\\\\codepo_gb\\\\Data\\\\CSV\\\\ng.csv',\n",
       " 'S:\\\\Projects\\\\SAHSU_Share\\\\Diabetes\\\\Datasets\\\\Postcodes\\\\codepo_gb\\\\Data\\\\CSV\\\\yo.csv',\n",
       " 'S:\\\\Projects\\\\SAHSU_Share\\\\Diabetes\\\\Datasets\\\\Postcodes\\\\codepo_gb\\\\Data\\\\CSV\\\\hx.csv',\n",
       " 'S:\\\\Projects\\\\SAHSU_Share\\\\Diabetes\\\\Datasets\\\\Postcodes\\\\codepo_gb\\\\Data\\\\CSV\\\\all_postcodes_cut.csv',\n",
       " 'S:\\\\Projects\\\\SAHSU_Share\\\\Diabetes\\\\Datasets\\\\Postcodes\\\\codepo_gb\\\\Data\\\\CSV\\\\wd.csv',\n",
       " 'S:\\\\Projects\\\\SAHSU_Share\\\\Diabetes\\\\Datasets\\\\Postcodes\\\\codepo_gb\\\\Data\\\\CSV\\\\sg.csv',\n",
       " 'S:\\\\Projects\\\\SAHSU_Share\\\\Diabetes\\\\Datasets\\\\Postcodes\\\\codepo_gb\\\\Data\\\\CSV\\\\wn.csv',\n",
       " 'S:\\\\Projects\\\\SAHSU_Share\\\\Diabetes\\\\Datasets\\\\Postcodes\\\\codepo_gb\\\\Data\\\\CSV\\\\hp.csv',\n",
       " 'S:\\\\Projects\\\\SAHSU_Share\\\\Diabetes\\\\Datasets\\\\Postcodes\\\\codepo_gb\\\\Data\\\\CSV\\\\tq.csv',\n",
       " 'S:\\\\Projects\\\\SAHSU_Share\\\\Diabetes\\\\Datasets\\\\Postcodes\\\\codepo_gb\\\\Data\\\\CSV\\\\bh.csv',\n",
       " 'S:\\\\Projects\\\\SAHSU_Share\\\\Diabetes\\\\Datasets\\\\Postcodes\\\\codepo_gb\\\\Data\\\\CSV\\\\ca.csv',\n",
       " 'S:\\\\Projects\\\\SAHSU_Share\\\\Diabetes\\\\Datasets\\\\Postcodes\\\\codepo_gb\\\\Data\\\\CSV\\\\wf.csv',\n",
       " 'S:\\\\Projects\\\\SAHSU_Share\\\\Diabetes\\\\Datasets\\\\Postcodes\\\\codepo_gb\\\\Data\\\\CSV\\\\br.csv',\n",
       " 'S:\\\\Projects\\\\SAHSU_Share\\\\Diabetes\\\\Datasets\\\\Postcodes\\\\codepo_gb\\\\Data\\\\CSV\\\\ub.csv',\n",
       " 'S:\\\\Projects\\\\SAHSU_Share\\\\Diabetes\\\\Datasets\\\\Postcodes\\\\codepo_gb\\\\Data\\\\CSV\\\\pl.csv',\n",
       " 'S:\\\\Projects\\\\SAHSU_Share\\\\Diabetes\\\\Datasets\\\\Postcodes\\\\codepo_gb\\\\Data\\\\CSV\\\\hr.csv',\n",
       " 'S:\\\\Projects\\\\SAHSU_Share\\\\Diabetes\\\\Datasets\\\\Postcodes\\\\codepo_gb\\\\Data\\\\CSV\\\\ts.csv',\n",
       " 'S:\\\\Projects\\\\SAHSU_Share\\\\Diabetes\\\\Datasets\\\\Postcodes\\\\codepo_gb\\\\Data\\\\CSV\\\\en.csv',\n",
       " 'S:\\\\Projects\\\\SAHSU_Share\\\\Diabetes\\\\Datasets\\\\Postcodes\\\\codepo_gb\\\\Data\\\\CSV\\\\rh.csv',\n",
       " 'S:\\\\Projects\\\\SAHSU_Share\\\\Diabetes\\\\Datasets\\\\Postcodes\\\\codepo_gb\\\\Data\\\\CSV\\\\sa.csv',\n",
       " 'S:\\\\Projects\\\\SAHSU_Share\\\\Diabetes\\\\Datasets\\\\Postcodes\\\\codepo_gb\\\\Data\\\\CSV\\\\ex.csv',\n",
       " 'S:\\\\Projects\\\\SAHSU_Share\\\\Diabetes\\\\Datasets\\\\Postcodes\\\\codepo_gb\\\\Data\\\\CSV\\\\ta.csv',\n",
       " 'S:\\\\Projects\\\\SAHSU_Share\\\\Diabetes\\\\Datasets\\\\Postcodes\\\\codepo_gb\\\\Data\\\\CSV\\\\sr.csv',\n",
       " 'S:\\\\Projects\\\\SAHSU_Share\\\\Diabetes\\\\Datasets\\\\Postcodes\\\\codepo_gb\\\\Data\\\\CSV\\\\ct.csv',\n",
       " 'S:\\\\Projects\\\\SAHSU_Share\\\\Diabetes\\\\Datasets\\\\Postcodes\\\\codepo_gb\\\\Data\\\\CSV\\\\all_postcodes.csv',\n",
       " 'S:\\\\Projects\\\\SAHSU_Share\\\\Diabetes\\\\Datasets\\\\Postcodes\\\\codepo_gb\\\\Data\\\\CSV\\\\bb.csv',\n",
       " 'S:\\\\Projects\\\\SAHSU_Share\\\\Diabetes\\\\Datasets\\\\Postcodes\\\\codepo_gb\\\\Data\\\\CSV\\\\bs.csv',\n",
       " 'S:\\\\Projects\\\\SAHSU_Share\\\\Diabetes\\\\Datasets\\\\Postcodes\\\\codepo_gb\\\\Data\\\\CSV\\\\de.csv',\n",
       " 'S:\\\\Projects\\\\SAHSU_Share\\\\Diabetes\\\\Datasets\\\\Postcodes\\\\codepo_gb\\\\Data\\\\CSV\\\\st.csv',\n",
       " 'S:\\\\Projects\\\\SAHSU_Share\\\\Diabetes\\\\Datasets\\\\Postcodes\\\\codepo_gb\\\\Data\\\\CSV\\\\cv.csv',\n",
       " 'S:\\\\Projects\\\\SAHSU_Share\\\\Diabetes\\\\Datasets\\\\Postcodes\\\\codepo_gb\\\\Data\\\\CSV\\\\m.csv',\n",
       " 'S:\\\\Projects\\\\SAHSU_Share\\\\Diabetes\\\\Datasets\\\\Postcodes\\\\codepo_gb\\\\Data\\\\CSV\\\\eh.csv',\n",
       " 'S:\\\\Projects\\\\SAHSU_Share\\\\Diabetes\\\\Datasets\\\\Postcodes\\\\codepo_gb\\\\Data\\\\CSV\\\\ls.csv',\n",
       " 'S:\\\\Projects\\\\SAHSU_Share\\\\Diabetes\\\\Datasets\\\\Postcodes\\\\codepo_gb\\\\Data\\\\CSV\\\\w.csv',\n",
       " 'S:\\\\Projects\\\\SAHSU_Share\\\\Diabetes\\\\Datasets\\\\Postcodes\\\\codepo_gb\\\\Data\\\\CSV\\\\ml.csv']"
      ]
     },
     "execution_count": 36,
     "metadata": {},
     "output_type": "execute_result"
    }
   ],
   "source": [
    "files"
   ]
  },
  {
   "cell_type": "code",
   "execution_count": 37,
   "metadata": {
    "collapsed": true
   },
   "outputs": [],
   "source": [
    "labels = pd.read_csv(r\"S:\\Projects\\SAHSU_Share\\Diabetes\\Datasets\\Postcodes\\codepo_gb\\Doc\\Code-Point_Open_Column_Headers.csv\", header = None)"
   ]
  },
  {
   "cell_type": "code",
   "execution_count": 39,
   "metadata": {},
   "outputs": [
    {
     "name": "stdout",
     "output_type": "stream",
     "text": [
      "Processed S:\\Projects\\SAHSU_Share\\Diabetes\\Datasets\\Postcodes\\codepo_gb\\Data\\CSV\\tw.csv\n",
      "Processed S:\\Projects\\SAHSU_Share\\Diabetes\\Datasets\\Postcodes\\codepo_gb\\Data\\CSV\\dy.csv\n",
      "Processed S:\\Projects\\SAHSU_Share\\Diabetes\\Datasets\\Postcodes\\codepo_gb\\Data\\CSV\\la.csv\n",
      "Processed S:\\Projects\\SAHSU_Share\\Diabetes\\Datasets\\Postcodes\\codepo_gb\\Data\\CSV\\hd.csv\n",
      "Processed S:\\Projects\\SAHSU_Share\\Diabetes\\Datasets\\Postcodes\\codepo_gb\\Data\\CSV\\sl.csv\n",
      "Processed S:\\Projects\\SAHSU_Share\\Diabetes\\Datasets\\Postcodes\\codepo_gb\\Data\\CSV\\dg.csv\n",
      "Processed S:\\Projects\\SAHSU_Share\\Diabetes\\Datasets\\Postcodes\\codepo_gb\\Data\\CSV\\ph.csv\n",
      "Processed S:\\Projects\\SAHSU_Share\\Diabetes\\Datasets\\Postcodes\\codepo_gb\\Data\\CSV\\ws.csv\n",
      "Processed S:\\Projects\\SAHSU_Share\\Diabetes\\Datasets\\Postcodes\\codepo_gb\\Data\\CSV\\e.csv\n",
      "Processed S:\\Projects\\SAHSU_Share\\Diabetes\\Datasets\\Postcodes\\codepo_gb\\Data\\CSV\\gu.csv\n",
      "Processed S:\\Projects\\SAHSU_Share\\Diabetes\\Datasets\\Postcodes\\codepo_gb\\Data\\CSV\\ig.csv\n",
      "Processed S:\\Projects\\SAHSU_Share\\Diabetes\\Datasets\\Postcodes\\codepo_gb\\Data\\CSV\\pr.csv\n",
      "Processed S:\\Projects\\SAHSU_Share\\Diabetes\\Datasets\\Postcodes\\codepo_gb\\Data\\CSV\\ze.csv\n",
      "Processed S:\\Projects\\SAHSU_Share\\Diabetes\\Datasets\\Postcodes\\codepo_gb\\Data\\CSV\\wa.csv\n",
      "Processed S:\\Projects\\SAHSU_Share\\Diabetes\\Datasets\\Postcodes\\codepo_gb\\Data\\CSV\\cf.csv\n",
      "Processed S:\\Projects\\SAHSU_Share\\Diabetes\\Datasets\\Postcodes\\codepo_gb\\Data\\CSV\\nn.csv\n",
      "Processed S:\\Projects\\SAHSU_Share\\Diabetes\\Datasets\\Postcodes\\codepo_gb\\Data\\CSV\\sn.csv\n",
      "Processed S:\\Projects\\SAHSU_Share\\Diabetes\\Datasets\\Postcodes\\codepo_gb\\Data\\CSV\\g.csv\n",
      "Processed S:\\Projects\\SAHSU_Share\\Diabetes\\Datasets\\Postcodes\\codepo_gb\\Data\\CSV\\kt.csv\n",
      "Processed S:\\Projects\\SAHSU_Share\\Diabetes\\Datasets\\Postcodes\\codepo_gb\\Data\\CSV\\al.csv\n",
      "Processed S:\\Projects\\SAHSU_Share\\Diabetes\\Datasets\\Postcodes\\codepo_gb\\Data\\CSV\\ip.csv\n",
      "Processed S:\\Projects\\SAHSU_Share\\Diabetes\\Datasets\\Postcodes\\codepo_gb\\Data\\CSV\\wc.csv\n",
      "Processed S:\\Projects\\SAHSU_Share\\Diabetes\\Datasets\\Postcodes\\codepo_gb\\Data\\CSV\\rm.csv\n",
      "Processed S:\\Projects\\SAHSU_Share\\Diabetes\\Datasets\\Postcodes\\codepo_gb\\Data\\CSV\\ch.csv\n",
      "Processed S:\\Projects\\SAHSU_Share\\Diabetes\\Datasets\\Postcodes\\codepo_gb\\Data\\CSV\\np.csv\n",
      "Processed S:\\Projects\\SAHSU_Share\\Diabetes\\Datasets\\Postcodes\\codepo_gb\\Data\\CSV\\da.csv\n",
      "Processed S:\\Projects\\SAHSU_Share\\Diabetes\\Datasets\\Postcodes\\codepo_gb\\Data\\CSV\\le.csv\n",
      "Processed S:\\Projects\\SAHSU_Share\\Diabetes\\Datasets\\Postcodes\\codepo_gb\\Data\\CSV\\sp.csv\n",
      "Processed S:\\Projects\\SAHSU_Share\\Diabetes\\Datasets\\Postcodes\\codepo_gb\\Data\\CSV\\cr.csv\n",
      "Processed S:\\Projects\\SAHSU_Share\\Diabetes\\Datasets\\Postcodes\\codepo_gb\\Data\\CSV\\me.csv\n",
      "Processed S:\\Projects\\SAHSU_Share\\Diabetes\\Datasets\\Postcodes\\codepo_gb\\Data\\CSV\\s.csv\n",
      "Processed S:\\Projects\\SAHSU_Share\\Diabetes\\Datasets\\Postcodes\\codepo_gb\\Data\\CSV\\nr.csv\n",
      "Processed S:\\Projects\\SAHSU_Share\\Diabetes\\Datasets\\Postcodes\\codepo_gb\\Data\\CSV\\ec.csv\n",
      "Processed S:\\Projects\\SAHSU_Share\\Diabetes\\Datasets\\Postcodes\\codepo_gb\\Data\\CSV\\ln.csv\n",
      "Processed S:\\Projects\\SAHSU_Share\\Diabetes\\Datasets\\Postcodes\\codepo_gb\\Data\\CSV\\wv.csv\n",
      "Processed S:\\Projects\\SAHSU_Share\\Diabetes\\Datasets\\Postcodes\\codepo_gb\\Data\\CSV\\sy.csv\n",
      "Processed S:\\Projects\\SAHSU_Share\\Diabetes\\Datasets\\Postcodes\\codepo_gb\\Data\\CSV\\tr.csv\n",
      "Processed S:\\Projects\\SAHSU_Share\\Diabetes\\Datasets\\Postcodes\\codepo_gb\\Data\\CSV\\dt.csv\n",
      "Processed S:\\Projects\\SAHSU_Share\\Diabetes\\Datasets\\Postcodes\\codepo_gb\\Data\\CSV\\rg.csv\n",
      "Processed S:\\Projects\\SAHSU_Share\\Diabetes\\Datasets\\Postcodes\\codepo_gb\\Data\\CSV\\cb.csv\n",
      "Processed S:\\Projects\\SAHSU_Share\\Diabetes\\Datasets\\Postcodes\\codepo_gb\\Data\\CSV\\dl.csv\n",
      "Processed S:\\Projects\\SAHSU_Share\\Diabetes\\Datasets\\Postcodes\\codepo_gb\\Data\\CSV\\kw.csv\n",
      "Processed S:\\Projects\\SAHSU_Share\\Diabetes\\Datasets\\Postcodes\\codepo_gb\\Data\\CSV\\ba.csv\n",
      "Processed S:\\Projects\\SAHSU_Share\\Diabetes\\Datasets\\Postcodes\\codepo_gb\\Data\\CSV\\hs.csv\n",
      "Processed S:\\Projects\\SAHSU_Share\\Diabetes\\Datasets\\Postcodes\\codepo_gb\\Data\\CSV\\iv.csv\n",
      "Processed S:\\Projects\\SAHSU_Share\\Diabetes\\Datasets\\Postcodes\\codepo_gb\\Data\\CSV\\ha.csv\n",
      "Processed S:\\Projects\\SAHSU_Share\\Diabetes\\Datasets\\Postcodes\\codepo_gb\\Data\\CSV\\dd.csv\n",
      "Processed S:\\Projects\\SAHSU_Share\\Diabetes\\Datasets\\Postcodes\\codepo_gb\\Data\\CSV\\ol.csv\n",
      "Processed S:\\Projects\\SAHSU_Share\\Diabetes\\Datasets\\Postcodes\\codepo_gb\\Data\\CSV\\pe.csv\n",
      "Processed S:\\Projects\\SAHSU_Share\\Diabetes\\Datasets\\Postcodes\\codepo_gb\\Data\\CSV\\fy.csv\n",
      "Processed S:\\Projects\\SAHSU_Share\\Diabetes\\Datasets\\Postcodes\\codepo_gb\\Data\\CSV\\b.csv\n",
      "Processed S:\\Projects\\SAHSU_Share\\Diabetes\\Datasets\\Postcodes\\codepo_gb\\Data\\CSV\\ss.csv\n",
      "Processed S:\\Projects\\SAHSU_Share\\Diabetes\\Datasets\\Postcodes\\codepo_gb\\Data\\CSV\\dn.csv\n",
      "Processed S:\\Projects\\SAHSU_Share\\Diabetes\\Datasets\\Postcodes\\codepo_gb\\Data\\CSV\\l.csv\n",
      "Processed S:\\Projects\\SAHSU_Share\\Diabetes\\Datasets\\Postcodes\\codepo_gb\\Data\\CSV\\po.csv\n",
      "Processed S:\\Projects\\SAHSU_Share\\Diabetes\\Datasets\\Postcodes\\codepo_gb\\Data\\CSV\\ky.csv\n",
      "Processed S:\\Projects\\SAHSU_Share\\Diabetes\\Datasets\\Postcodes\\codepo_gb\\Data\\CSV\\mk.csv\n",
      "Processed S:\\Projects\\SAHSU_Share\\Diabetes\\Datasets\\Postcodes\\codepo_gb\\Data\\CSV\\hu.csv\n",
      "Processed S:\\Projects\\SAHSU_Share\\Diabetes\\Datasets\\Postcodes\\codepo_gb\\Data\\CSV\\sk.csv\n",
      "Processed S:\\Projects\\SAHSU_Share\\Diabetes\\Datasets\\Postcodes\\codepo_gb\\Data\\CSV\\td.csv\n",
      "Processed S:\\Projects\\SAHSU_Share\\Diabetes\\Datasets\\Postcodes\\codepo_gb\\Data\\CSV\\cm.csv\n",
      "Processed S:\\Projects\\SAHSU_Share\\Diabetes\\Datasets\\Postcodes\\codepo_gb\\Data\\CSV\\ab.csv\n",
      "Processed S:\\Projects\\SAHSU_Share\\Diabetes\\Datasets\\Postcodes\\codepo_gb\\Data\\CSV\\wr.csv\n",
      "Processed S:\\Projects\\SAHSU_Share\\Diabetes\\Datasets\\Postcodes\\codepo_gb\\Data\\CSV\\tn.csv\n",
      "Processed S:\\Projects\\SAHSU_Share\\Diabetes\\Datasets\\Postcodes\\codepo_gb\\Data\\CSV\\n.csv\n",
      "Processed S:\\Projects\\SAHSU_Share\\Diabetes\\Datasets\\Postcodes\\codepo_gb\\Data\\CSV\\cw.csv\n",
      "Processed S:\\Projects\\SAHSU_Share\\Diabetes\\Datasets\\Postcodes\\codepo_gb\\Data\\CSV\\ox.csv\n",
      "Processed S:\\Projects\\SAHSU_Share\\Diabetes\\Datasets\\Postcodes\\codepo_gb\\Data\\CSV\\bl.csv\n",
      "Processed S:\\Projects\\SAHSU_Share\\Diabetes\\Datasets\\Postcodes\\codepo_gb\\Data\\CSV\\gl.csv\n",
      "Processed S:\\Projects\\SAHSU_Share\\Diabetes\\Datasets\\Postcodes\\codepo_gb\\Data\\CSV\\sm.csv\n",
      "Processed S:\\Projects\\SAHSU_Share\\Diabetes\\Datasets\\Postcodes\\codepo_gb\\Data\\CSV\\tf.csv\n",
      "Processed S:\\Projects\\SAHSU_Share\\Diabetes\\Datasets\\Postcodes\\codepo_gb\\Data\\CSV\\co.csv\n",
      "Processed S:\\Projects\\SAHSU_Share\\Diabetes\\Datasets\\Postcodes\\codepo_gb\\Data\\CSV\\nw.csv\n",
      "Processed S:\\Projects\\SAHSU_Share\\Diabetes\\Datasets\\Postcodes\\codepo_gb\\Data\\CSV\\dh.csv\n",
      "Processed S:\\Projects\\SAHSU_Share\\Diabetes\\Datasets\\Postcodes\\codepo_gb\\Data\\CSV\\ll.csv\n",
      "Processed S:\\Projects\\SAHSU_Share\\Diabetes\\Datasets\\Postcodes\\codepo_gb\\Data\\CSV\\sw.csv\n",
      "Processed S:\\Projects\\SAHSU_Share\\Diabetes\\Datasets\\Postcodes\\codepo_gb\\Data\\CSV\\bd.csv\n",
      "Processed S:\\Projects\\SAHSU_Share\\Diabetes\\Datasets\\Postcodes\\codepo_gb\\Data\\CSV\\ne.csv\n",
      "Processed S:\\Projects\\SAHSU_Share\\Diabetes\\Datasets\\Postcodes\\codepo_gb\\Data\\CSV\\ka.csv\n",
      "Processed S:\\Projects\\SAHSU_Share\\Diabetes\\Datasets\\Postcodes\\codepo_gb\\Data\\CSV\\fk.csv\n",
      "Processed S:\\Projects\\SAHSU_Share\\Diabetes\\Datasets\\Postcodes\\codepo_gb\\Data\\CSV\\se.csv\n",
      "Processed S:\\Projects\\SAHSU_Share\\Diabetes\\Datasets\\Postcodes\\codepo_gb\\Data\\CSV\\bn.csv\n",
      "Processed S:\\Projects\\SAHSU_Share\\Diabetes\\Datasets\\Postcodes\\codepo_gb\\Data\\CSV\\pa.csv\n",
      "Processed S:\\Projects\\SAHSU_Share\\Diabetes\\Datasets\\Postcodes\\codepo_gb\\Data\\CSV\\ld.csv\n",
      "Processed S:\\Projects\\SAHSU_Share\\Diabetes\\Datasets\\Postcodes\\codepo_gb\\Data\\CSV\\hg.csv\n",
      "Processed S:\\Projects\\SAHSU_Share\\Diabetes\\Datasets\\Postcodes\\codepo_gb\\Data\\CSV\\so.csv\n",
      "Processed S:\\Projects\\SAHSU_Share\\Diabetes\\Datasets\\Postcodes\\codepo_gb\\Data\\CSV\\lu.csv\n",
      "Processed S:\\Projects\\SAHSU_Share\\Diabetes\\Datasets\\Postcodes\\codepo_gb\\Data\\CSV\\ng.csv\n",
      "Processed S:\\Projects\\SAHSU_Share\\Diabetes\\Datasets\\Postcodes\\codepo_gb\\Data\\CSV\\yo.csv\n",
      "Processed S:\\Projects\\SAHSU_Share\\Diabetes\\Datasets\\Postcodes\\codepo_gb\\Data\\CSV\\hx.csv\n"
     ]
    },
    {
     "name": "stderr",
     "output_type": "stream",
     "text": [
      "C:\\Users\\ansheeha\\AppData\\Local\\Continuum\\Anaconda3\\lib\\site-packages\\IPython\\core\\interactiveshell.py:2717: DtypeWarning: Columns (1,2) have mixed types. Specify dtype option on import or set low_memory=False.\n",
      "  interactivity=interactivity, compiler=compiler, result=result)\n"
     ]
    },
    {
     "ename": "InvalidIndexError",
     "evalue": "Reindexing only valid with uniquely valued Index objects",
     "output_type": "error",
     "traceback": [
      "\u001b[1;31m---------------------------------------------------------------------------\u001b[0m",
      "\u001b[1;31mInvalidIndexError\u001b[0m                         Traceback (most recent call last)",
      "\u001b[1;32m<ipython-input-39-fb869f4c2535>\u001b[0m in \u001b[0;36m<module>\u001b[1;34m()\u001b[0m\n\u001b[0;32m      4\u001b[0m     \u001b[0mdata\u001b[0m\u001b[1;33m.\u001b[0m\u001b[0mcolumns\u001b[0m \u001b[1;33m=\u001b[0m \u001b[0mdata\u001b[0m\u001b[1;33m.\u001b[0m\u001b[0miloc\u001b[0m\u001b[1;33m[\u001b[0m\u001b[1;36m0\u001b[0m\u001b[1;33m]\u001b[0m\u001b[1;33m\u001b[0m\u001b[0m\n\u001b[0;32m      5\u001b[0m     \u001b[0mdata\u001b[0m \u001b[1;33m=\u001b[0m \u001b[0mdata\u001b[0m\u001b[1;33m.\u001b[0m\u001b[0mset_index\u001b[0m\u001b[1;33m(\u001b[0m\u001b[1;33m[\u001b[0m\u001b[1;34m'Postcode'\u001b[0m\u001b[1;33m]\u001b[0m\u001b[1;33m)\u001b[0m\u001b[1;33m\u001b[0m\u001b[0m\n\u001b[1;32m----> 6\u001b[1;33m     \u001b[0mdata\u001b[0m \u001b[1;33m=\u001b[0m \u001b[0mdata\u001b[0m\u001b[1;33m.\u001b[0m\u001b[0mreindex\u001b[0m\u001b[1;33m(\u001b[0m\u001b[0mdata\u001b[0m\u001b[1;33m.\u001b[0m\u001b[0mindex\u001b[0m\u001b[1;33m.\u001b[0m\u001b[0mdrop\u001b[0m\u001b[1;33m(\u001b[0m\u001b[1;34m'Postcode'\u001b[0m\u001b[1;33m)\u001b[0m\u001b[1;33m)\u001b[0m\u001b[1;33m\u001b[0m\u001b[0m\n\u001b[0m\u001b[0;32m      7\u001b[0m     \u001b[0mdata\u001b[0m\u001b[1;33m.\u001b[0m\u001b[0minsert\u001b[0m\u001b[1;33m(\u001b[0m\u001b[1;36m0\u001b[0m\u001b[1;33m,\u001b[0m \u001b[1;34m'date'\u001b[0m\u001b[1;33m,\u001b[0m \u001b[1;34m'NaN'\u001b[0m\u001b[1;33m)\u001b[0m\u001b[1;33m\u001b[0m\u001b[0m\n\u001b[0;32m      8\u001b[0m     \u001b[0mdata\u001b[0m\u001b[1;33m.\u001b[0m\u001b[0minsert\u001b[0m\u001b[1;33m(\u001b[0m\u001b[1;36m1\u001b[0m\u001b[1;33m,\u001b[0m\u001b[1;34m'Nitrate'\u001b[0m\u001b[1;33m,\u001b[0m \u001b[1;34m'NaN'\u001b[0m\u001b[1;33m)\u001b[0m\u001b[1;33m\u001b[0m\u001b[0m\n",
      "\u001b[1;32mC:\\Users\\ansheeha\\AppData\\Local\\Continuum\\Anaconda3\\lib\\site-packages\\pandas\\core\\indexes\\base.py\u001b[0m in \u001b[0;36mdrop\u001b[1;34m(self, labels, errors)\u001b[0m\n\u001b[0;32m   3568\u001b[0m         \"\"\"\n\u001b[0;32m   3569\u001b[0m         \u001b[0mlabels\u001b[0m \u001b[1;33m=\u001b[0m \u001b[0mcom\u001b[0m\u001b[1;33m.\u001b[0m\u001b[0m_index_labels_to_array\u001b[0m\u001b[1;33m(\u001b[0m\u001b[0mlabels\u001b[0m\u001b[1;33m)\u001b[0m\u001b[1;33m\u001b[0m\u001b[0m\n\u001b[1;32m-> 3570\u001b[1;33m         \u001b[0mindexer\u001b[0m \u001b[1;33m=\u001b[0m \u001b[0mself\u001b[0m\u001b[1;33m.\u001b[0m\u001b[0mget_indexer\u001b[0m\u001b[1;33m(\u001b[0m\u001b[0mlabels\u001b[0m\u001b[1;33m)\u001b[0m\u001b[1;33m\u001b[0m\u001b[0m\n\u001b[0m\u001b[0;32m   3571\u001b[0m         \u001b[0mmask\u001b[0m \u001b[1;33m=\u001b[0m \u001b[0mindexer\u001b[0m \u001b[1;33m==\u001b[0m \u001b[1;33m-\u001b[0m\u001b[1;36m1\u001b[0m\u001b[1;33m\u001b[0m\u001b[0m\n\u001b[0;32m   3572\u001b[0m         \u001b[1;32mif\u001b[0m \u001b[0mmask\u001b[0m\u001b[1;33m.\u001b[0m\u001b[0many\u001b[0m\u001b[1;33m(\u001b[0m\u001b[1;33m)\u001b[0m\u001b[1;33m:\u001b[0m\u001b[1;33m\u001b[0m\u001b[0m\n",
      "\u001b[1;32mC:\\Users\\ansheeha\\AppData\\Local\\Continuum\\Anaconda3\\lib\\site-packages\\pandas\\core\\indexes\\base.py\u001b[0m in \u001b[0;36mget_indexer\u001b[1;34m(self, target, method, limit, tolerance)\u001b[0m\n\u001b[0;32m   2532\u001b[0m \u001b[1;33m\u001b[0m\u001b[0m\n\u001b[0;32m   2533\u001b[0m         \u001b[1;32mif\u001b[0m \u001b[1;32mnot\u001b[0m \u001b[0mself\u001b[0m\u001b[1;33m.\u001b[0m\u001b[0mis_unique\u001b[0m\u001b[1;33m:\u001b[0m\u001b[1;33m\u001b[0m\u001b[0m\n\u001b[1;32m-> 2534\u001b[1;33m             raise InvalidIndexError('Reindexing only valid with uniquely'\n\u001b[0m\u001b[0;32m   2535\u001b[0m                                     ' valued Index objects')\n\u001b[0;32m   2536\u001b[0m \u001b[1;33m\u001b[0m\u001b[0m\n",
      "\u001b[1;31mInvalidIndexError\u001b[0m: Reindexing only valid with uniquely valued Index objects"
     ]
    }
   ],
   "source": [
    "for file in files:\n",
    "    postcode = pd.read_csv(r'{fname}'.format(fname=file), header=None)\n",
    "    data = pd.concat([labels,postcode])\n",
    "    data.columns = data.iloc[0]\n",
    "    data = data.set_index(['Postcode'])\n",
    "    data = data.reindex(data.index.drop('Postcode'))\n",
    "    data.insert(0, 'date', 'NaN')\n",
    "    data.insert(1,'Nitrate', 'NaN')\n",
    "    data.insert(2,'Qualifier', 'NaN')\n",
    "    data.insert(3,'Zone desc', 'NaN')\n",
    "    data['date']= pd.to_datetime(data['date'])\n",
    "    post_data = post_data.combine_first(data)\n",
    "    post_data = post_data[pd.notnull(post_data['date'])]\n",
    "    \n",
    "    \n",
    "    print('Processed {fname}'.format(fname=file))"
   ]
  },
  {
   "cell_type": "code",
   "execution_count": 40,
   "metadata": {
    "scrolled": true
   },
   "outputs": [
    {
     "data": {
      "text/html": [
       "<div>\n",
       "<style>\n",
       "    .dataframe thead tr:only-child th {\n",
       "        text-align: right;\n",
       "    }\n",
       "\n",
       "    .dataframe thead th {\n",
       "        text-align: left;\n",
       "    }\n",
       "\n",
       "    .dataframe tbody tr th {\n",
       "        vertical-align: top;\n",
       "    }\n",
       "</style>\n",
       "<table border=\"1\" class=\"dataframe\">\n",
       "  <thead>\n",
       "    <tr style=\"text-align: right;\">\n",
       "      <th></th>\n",
       "      <th>Admin_county_code</th>\n",
       "      <th>Admin_district_code</th>\n",
       "      <th>Admin_ward_code</th>\n",
       "      <th>Country_code</th>\n",
       "      <th>Date</th>\n",
       "      <th>Eastings</th>\n",
       "      <th>NHS_HA_code</th>\n",
       "      <th>NHS_regional_HA_code</th>\n",
       "      <th>Nitrate</th>\n",
       "      <th>Northings</th>\n",
       "      <th>Positional_quality_indicator</th>\n",
       "      <th>Qualifier</th>\n",
       "      <th>Zone desc</th>\n",
       "      <th>date</th>\n",
       "    </tr>\n",
       "    <tr>\n",
       "      <th>Postcode</th>\n",
       "      <th></th>\n",
       "      <th></th>\n",
       "      <th></th>\n",
       "      <th></th>\n",
       "      <th></th>\n",
       "      <th></th>\n",
       "      <th></th>\n",
       "      <th></th>\n",
       "      <th></th>\n",
       "      <th></th>\n",
       "      <th></th>\n",
       "      <th></th>\n",
       "      <th></th>\n",
       "      <th></th>\n",
       "    </tr>\n",
       "  </thead>\n",
       "  <tbody>\n",
       "  </tbody>\n",
       "</table>\n",
       "</div>"
      ],
      "text/plain": [
       "Empty DataFrame\n",
       "Columns: [Admin_county_code, Admin_district_code, Admin_ward_code, Country_code, Date, Eastings, NHS_HA_code, NHS_regional_HA_code, Nitrate, Northings, Positional_quality_indicator, Qualifier, Zone desc, date]\n",
       "Index: []"
      ]
     },
     "execution_count": 40,
     "metadata": {},
     "output_type": "execute_result"
    }
   ],
   "source": [
    "post_data"
   ]
  },
  {
   "cell_type": "code",
   "execution_count": null,
   "metadata": {
    "collapsed": true
   },
   "outputs": [],
   "source": [
    "post_data_c = post_data[[ 'Eastings', 'Nitrate', 'Northings', 'date']]"
   ]
  },
  {
   "cell_type": "code",
   "execution_count": null,
   "metadata": {
    "collapsed": true,
    "scrolled": true
   },
   "outputs": [],
   "source": [
    "post_data_c"
   ]
  },
  {
   "cell_type": "code",
   "execution_count": null,
   "metadata": {
    "collapsed": true
   },
   "outputs": [],
   "source": [
    "east_northing = pd.read_csv(r\"S:\\Projects\\SAHSU_Share\\Diabetes\\Datasets\\Drinking_water\\SouthWest\\editted\\SWW Nitrate 2011-PRESENT_northing_easting.csv\")"
   ]
  },
  {
   "cell_type": "code",
   "execution_count": null,
   "metadata": {
    "collapsed": true,
    "scrolled": true
   },
   "outputs": [],
   "source": [
    "east_northing"
   ]
  },
  {
   "cell_type": "code",
   "execution_count": null,
   "metadata": {
    "collapsed": true
   },
   "outputs": [],
   "source": [
    "east_northing = east_northing.set_index(['Postcode'])"
   ]
  },
  {
   "cell_type": "code",
   "execution_count": null,
   "metadata": {
    "collapsed": true
   },
   "outputs": [],
   "source": [
    "all_SWW = pd.concat([post_data_c, east_northing])"
   ]
  },
  {
   "cell_type": "code",
   "execution_count": null,
   "metadata": {
    "collapsed": true
   },
   "outputs": [],
   "source": []
  },
  {
   "cell_type": "code",
   "execution_count": null,
   "metadata": {
    "collapsed": true,
    "scrolled": true
   },
   "outputs": [],
   "source": [
    "all_SWW"
   ]
  },
  {
   "cell_type": "code",
   "execution_count": null,
   "metadata": {
    "collapsed": true
   },
   "outputs": [],
   "source": [
    "all_SWW.to_csv(r'S:\\Projects\\SAHSU_Share\\Diabetes\\Datasets\\Drinking_water\\SouthWest\\editted\\all_SWW.csv')"
   ]
  },
  {
   "cell_type": "markdown",
   "metadata": {
    "collapsed": true
   },
   "source": [
    "- read in unmatched SWW data \n",
    "- match with the postcode district centroid files\n",
    "- match with postcode csv"
   ]
  },
  {
   "cell_type": "code",
   "execution_count": null,
   "metadata": {
    "collapsed": true
   },
   "outputs": [],
   "source": [
    "unmatched = pd.read_csv(r\"S:\\Projects\\SAHSU_Share\\Diabetes\\Datasets\\Drinking_water\\SouthWest\\editted\\all_SWW_unmatched.csv\")"
   ]
  },
  {
   "cell_type": "code",
   "execution_count": null,
   "metadata": {
    "collapsed": true,
    "scrolled": true
   },
   "outputs": [],
   "source": [
    "unmatched"
   ]
  },
  {
   "cell_type": "code",
   "execution_count": null,
   "metadata": {
    "collapsed": true
   },
   "outputs": [],
   "source": [
    "unmatched = unmatched.set_index(['Postcode_editted'])"
   ]
  },
  {
   "cell_type": "code",
   "execution_count": null,
   "metadata": {
    "collapsed": true
   },
   "outputs": [],
   "source": [
    "postcode_dist = pd.read_csv(r\"S:\\Projects\\SAHSU_Share\\Diabetes\\Datasets\\Postcodes\\Post_d_centroids.csv\")"
   ]
  },
  {
   "cell_type": "code",
   "execution_count": null,
   "metadata": {
    "collapsed": true,
    "scrolled": true
   },
   "outputs": [],
   "source": [
    "postcode_dist"
   ]
  },
  {
   "cell_type": "code",
   "execution_count": null,
   "metadata": {
    "collapsed": true
   },
   "outputs": [],
   "source": [
    "postcode_dist = postcode_dist.rename(columns={'X_Coord':'Eastings', 'Y_Coord':'Northings','District':'Postcode_editted'})"
   ]
  },
  {
   "cell_type": "code",
   "execution_count": null,
   "metadata": {
    "collapsed": true
   },
   "outputs": [],
   "source": [
    "postcode_dist = postcode_dist.set_index(['Postcode_editted'])"
   ]
  },
  {
   "cell_type": "code",
   "execution_count": null,
   "metadata": {
    "collapsed": true
   },
   "outputs": [],
   "source": [
    "postcode_dist = postcode_dist[['Eastings', 'Northings']]"
   ]
  },
  {
   "cell_type": "code",
   "execution_count": null,
   "metadata": {
    "collapsed": true
   },
   "outputs": [],
   "source": [
    "postcode_dist.insert(0, 'Postcode', 'NaN')"
   ]
  },
  {
   "cell_type": "code",
   "execution_count": null,
   "metadata": {
    "collapsed": true
   },
   "outputs": [],
   "source": [
    "postcode_dist.insert(2, 'Nitrate', 'NaN')\n",
    "postcode_dist.insert(4, 'date', 'NaN')"
   ]
  },
  {
   "cell_type": "code",
   "execution_count": null,
   "metadata": {
    "collapsed": true
   },
   "outputs": [],
   "source": [
    "postcode_dist['date']= pd.to_datetime(postcode_dist['date'])"
   ]
  },
  {
   "cell_type": "code",
   "execution_count": null,
   "metadata": {
    "collapsed": true
   },
   "outputs": [],
   "source": [
    "unmatched = unmatched.combine_first(postcode_dist)\n",
    "unmatched = unmatched[pd.notnull(unmatched['date'])]"
   ]
  },
  {
   "cell_type": "code",
   "execution_count": null,
   "metadata": {
    "collapsed": true,
    "scrolled": true
   },
   "outputs": [],
   "source": [
    "unmatched"
   ]
  },
  {
   "cell_type": "code",
   "execution_count": null,
   "metadata": {
    "collapsed": true
   },
   "outputs": [],
   "source": [
    "postcode = pd.read_csv(r\"S:\\Projects\\SAHSU_Share\\Diabetes\\Datasets\\Postcodes\\all_postcodes_cut.csv\")"
   ]
  },
  {
   "cell_type": "code",
   "execution_count": null,
   "metadata": {
    "collapsed": true,
    "scrolled": true
   },
   "outputs": [],
   "source": [
    "postcode"
   ]
  },
  {
   "cell_type": "code",
   "execution_count": null,
   "metadata": {
    "collapsed": true
   },
   "outputs": [],
   "source": [
    "postcode = postcode.rename(columns={'Postcode':'Postcode_editted'})"
   ]
  },
  {
   "cell_type": "code",
   "execution_count": null,
   "metadata": {
    "collapsed": true
   },
   "outputs": [],
   "source": [
    "postcode = postcode.set_index(['Postcode_editted'])"
   ]
  },
  {
   "cell_type": "code",
   "execution_count": null,
   "metadata": {
    "collapsed": true
   },
   "outputs": [],
   "source": [
    "postcode.insert(0, 'Postcode', 'NaN')"
   ]
  },
  {
   "cell_type": "code",
   "execution_count": null,
   "metadata": {
    "collapsed": true
   },
   "outputs": [],
   "source": [
    "postcode.insert(2, 'Nitrate', 'NaN')\n",
    "postcode.insert(4, 'date', 'NaN')"
   ]
  },
  {
   "cell_type": "code",
   "execution_count": null,
   "metadata": {
    "collapsed": true
   },
   "outputs": [],
   "source": [
    "postcode['date']= pd.to_datetime(postcode['date'])"
   ]
  },
  {
   "cell_type": "code",
   "execution_count": null,
   "metadata": {
    "collapsed": true
   },
   "outputs": [],
   "source": [
    "unmatched = unmatched.combine_first(postcode)\n",
    "unmatched = unmatched[pd.notnull(unmatched['date'])]"
   ]
  },
  {
   "cell_type": "code",
   "execution_count": null,
   "metadata": {
    "collapsed": true,
    "scrolled": true
   },
   "outputs": [],
   "source": [
    "unmatched"
   ]
  },
  {
   "cell_type": "code",
   "execution_count": null,
   "metadata": {
    "collapsed": true
   },
   "outputs": [],
   "source": [
    "unmatched.to_csv(r'S:\\Projects\\SAHSU_Share\\Diabetes\\Datasets\\Drinking_water\\SouthWest\\editted\\all_SWW_unmatched_matched.csv')"
   ]
  },
  {
   "cell_type": "code",
   "execution_count": null,
   "metadata": {
    "collapsed": true
   },
   "outputs": [],
   "source": []
  }
 ],
 "metadata": {
  "kernelspec": {
   "display_name": "Python 3",
   "language": "python",
   "name": "python3"
  },
  "language_info": {
   "codemirror_mode": {
    "name": "ipython",
    "version": 3
   },
   "file_extension": ".py",
   "mimetype": "text/x-python",
   "name": "python",
   "nbconvert_exporter": "python",
   "pygments_lexer": "ipython3",
   "version": "3.6.1"
  }
 },
 "nbformat": 4,
 "nbformat_minor": 1
}
