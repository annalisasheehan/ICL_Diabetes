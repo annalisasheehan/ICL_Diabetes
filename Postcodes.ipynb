{
 "cells": [
  {
   "cell_type": "markdown",
   "metadata": {},
   "source": [
    "# Create a dataset which merges the headings and postcode data, concatenates all of the postcodes and deletes all the useless columns"
   ]
  },
  {
   "cell_type": "code",
   "execution_count": 1,
   "metadata": {
    "collapsed": true
   },
   "outputs": [],
   "source": [
    "# Set libraries\n",
    "import pandas as pd\n",
    "import glob\n",
    "import os\n",
    "import numpy as np\n",
    "import datetime"
   ]
  },
  {
   "cell_type": "code",
   "execution_count": 2,
   "metadata": {
    "collapsed": true
   },
   "outputs": [],
   "source": [
    "files = glob.glob(r\"S:\\Projects\\SAHSU_Share\\Diabetes\\Datasets\\Postcodes\\codepo_gb\\Data\\CSV\\*\")"
   ]
  },
  {
   "cell_type": "code",
   "execution_count": 3,
   "metadata": {},
   "outputs": [
    {
     "data": {
      "text/plain": [
       "['S:\\\\Projects\\\\SAHSU_Share\\\\Diabetes\\\\Datasets\\\\Postcodes\\\\codepo_gb\\\\Data\\\\CSV\\\\ab.csv',\n",
       " 'S:\\\\Projects\\\\SAHSU_Share\\\\Diabetes\\\\Datasets\\\\Postcodes\\\\codepo_gb\\\\Data\\\\CSV\\\\al.csv',\n",
       " 'S:\\\\Projects\\\\SAHSU_Share\\\\Diabetes\\\\Datasets\\\\Postcodes\\\\codepo_gb\\\\Data\\\\CSV\\\\b.csv',\n",
       " 'S:\\\\Projects\\\\SAHSU_Share\\\\Diabetes\\\\Datasets\\\\Postcodes\\\\codepo_gb\\\\Data\\\\CSV\\\\ba.csv',\n",
       " 'S:\\\\Projects\\\\SAHSU_Share\\\\Diabetes\\\\Datasets\\\\Postcodes\\\\codepo_gb\\\\Data\\\\CSV\\\\bb.csv',\n",
       " 'S:\\\\Projects\\\\SAHSU_Share\\\\Diabetes\\\\Datasets\\\\Postcodes\\\\codepo_gb\\\\Data\\\\CSV\\\\bd.csv',\n",
       " 'S:\\\\Projects\\\\SAHSU_Share\\\\Diabetes\\\\Datasets\\\\Postcodes\\\\codepo_gb\\\\Data\\\\CSV\\\\bh.csv',\n",
       " 'S:\\\\Projects\\\\SAHSU_Share\\\\Diabetes\\\\Datasets\\\\Postcodes\\\\codepo_gb\\\\Data\\\\CSV\\\\bl.csv',\n",
       " 'S:\\\\Projects\\\\SAHSU_Share\\\\Diabetes\\\\Datasets\\\\Postcodes\\\\codepo_gb\\\\Data\\\\CSV\\\\bn.csv',\n",
       " 'S:\\\\Projects\\\\SAHSU_Share\\\\Diabetes\\\\Datasets\\\\Postcodes\\\\codepo_gb\\\\Data\\\\CSV\\\\br.csv',\n",
       " 'S:\\\\Projects\\\\SAHSU_Share\\\\Diabetes\\\\Datasets\\\\Postcodes\\\\codepo_gb\\\\Data\\\\CSV\\\\bs.csv',\n",
       " 'S:\\\\Projects\\\\SAHSU_Share\\\\Diabetes\\\\Datasets\\\\Postcodes\\\\codepo_gb\\\\Data\\\\CSV\\\\ca.csv',\n",
       " 'S:\\\\Projects\\\\SAHSU_Share\\\\Diabetes\\\\Datasets\\\\Postcodes\\\\codepo_gb\\\\Data\\\\CSV\\\\cb.csv',\n",
       " 'S:\\\\Projects\\\\SAHSU_Share\\\\Diabetes\\\\Datasets\\\\Postcodes\\\\codepo_gb\\\\Data\\\\CSV\\\\cf.csv',\n",
       " 'S:\\\\Projects\\\\SAHSU_Share\\\\Diabetes\\\\Datasets\\\\Postcodes\\\\codepo_gb\\\\Data\\\\CSV\\\\ch.csv',\n",
       " 'S:\\\\Projects\\\\SAHSU_Share\\\\Diabetes\\\\Datasets\\\\Postcodes\\\\codepo_gb\\\\Data\\\\CSV\\\\cm.csv',\n",
       " 'S:\\\\Projects\\\\SAHSU_Share\\\\Diabetes\\\\Datasets\\\\Postcodes\\\\codepo_gb\\\\Data\\\\CSV\\\\co.csv',\n",
       " 'S:\\\\Projects\\\\SAHSU_Share\\\\Diabetes\\\\Datasets\\\\Postcodes\\\\codepo_gb\\\\Data\\\\CSV\\\\cr.csv',\n",
       " 'S:\\\\Projects\\\\SAHSU_Share\\\\Diabetes\\\\Datasets\\\\Postcodes\\\\codepo_gb\\\\Data\\\\CSV\\\\ct.csv',\n",
       " 'S:\\\\Projects\\\\SAHSU_Share\\\\Diabetes\\\\Datasets\\\\Postcodes\\\\codepo_gb\\\\Data\\\\CSV\\\\cv.csv',\n",
       " 'S:\\\\Projects\\\\SAHSU_Share\\\\Diabetes\\\\Datasets\\\\Postcodes\\\\codepo_gb\\\\Data\\\\CSV\\\\cw.csv',\n",
       " 'S:\\\\Projects\\\\SAHSU_Share\\\\Diabetes\\\\Datasets\\\\Postcodes\\\\codepo_gb\\\\Data\\\\CSV\\\\da.csv',\n",
       " 'S:\\\\Projects\\\\SAHSU_Share\\\\Diabetes\\\\Datasets\\\\Postcodes\\\\codepo_gb\\\\Data\\\\CSV\\\\dd.csv',\n",
       " 'S:\\\\Projects\\\\SAHSU_Share\\\\Diabetes\\\\Datasets\\\\Postcodes\\\\codepo_gb\\\\Data\\\\CSV\\\\de.csv',\n",
       " 'S:\\\\Projects\\\\SAHSU_Share\\\\Diabetes\\\\Datasets\\\\Postcodes\\\\codepo_gb\\\\Data\\\\CSV\\\\dg.csv',\n",
       " 'S:\\\\Projects\\\\SAHSU_Share\\\\Diabetes\\\\Datasets\\\\Postcodes\\\\codepo_gb\\\\Data\\\\CSV\\\\dh.csv',\n",
       " 'S:\\\\Projects\\\\SAHSU_Share\\\\Diabetes\\\\Datasets\\\\Postcodes\\\\codepo_gb\\\\Data\\\\CSV\\\\dl.csv',\n",
       " 'S:\\\\Projects\\\\SAHSU_Share\\\\Diabetes\\\\Datasets\\\\Postcodes\\\\codepo_gb\\\\Data\\\\CSV\\\\dn.csv',\n",
       " 'S:\\\\Projects\\\\SAHSU_Share\\\\Diabetes\\\\Datasets\\\\Postcodes\\\\codepo_gb\\\\Data\\\\CSV\\\\dt.csv',\n",
       " 'S:\\\\Projects\\\\SAHSU_Share\\\\Diabetes\\\\Datasets\\\\Postcodes\\\\codepo_gb\\\\Data\\\\CSV\\\\dy.csv',\n",
       " 'S:\\\\Projects\\\\SAHSU_Share\\\\Diabetes\\\\Datasets\\\\Postcodes\\\\codepo_gb\\\\Data\\\\CSV\\\\e.csv',\n",
       " 'S:\\\\Projects\\\\SAHSU_Share\\\\Diabetes\\\\Datasets\\\\Postcodes\\\\codepo_gb\\\\Data\\\\CSV\\\\ec.csv',\n",
       " 'S:\\\\Projects\\\\SAHSU_Share\\\\Diabetes\\\\Datasets\\\\Postcodes\\\\codepo_gb\\\\Data\\\\CSV\\\\eh.csv',\n",
       " 'S:\\\\Projects\\\\SAHSU_Share\\\\Diabetes\\\\Datasets\\\\Postcodes\\\\codepo_gb\\\\Data\\\\CSV\\\\en.csv',\n",
       " 'S:\\\\Projects\\\\SAHSU_Share\\\\Diabetes\\\\Datasets\\\\Postcodes\\\\codepo_gb\\\\Data\\\\CSV\\\\ex.csv',\n",
       " 'S:\\\\Projects\\\\SAHSU_Share\\\\Diabetes\\\\Datasets\\\\Postcodes\\\\codepo_gb\\\\Data\\\\CSV\\\\fk.csv',\n",
       " 'S:\\\\Projects\\\\SAHSU_Share\\\\Diabetes\\\\Datasets\\\\Postcodes\\\\codepo_gb\\\\Data\\\\CSV\\\\fy.csv',\n",
       " 'S:\\\\Projects\\\\SAHSU_Share\\\\Diabetes\\\\Datasets\\\\Postcodes\\\\codepo_gb\\\\Data\\\\CSV\\\\g.csv',\n",
       " 'S:\\\\Projects\\\\SAHSU_Share\\\\Diabetes\\\\Datasets\\\\Postcodes\\\\codepo_gb\\\\Data\\\\CSV\\\\gl.csv',\n",
       " 'S:\\\\Projects\\\\SAHSU_Share\\\\Diabetes\\\\Datasets\\\\Postcodes\\\\codepo_gb\\\\Data\\\\CSV\\\\gu.csv',\n",
       " 'S:\\\\Projects\\\\SAHSU_Share\\\\Diabetes\\\\Datasets\\\\Postcodes\\\\codepo_gb\\\\Data\\\\CSV\\\\ha.csv',\n",
       " 'S:\\\\Projects\\\\SAHSU_Share\\\\Diabetes\\\\Datasets\\\\Postcodes\\\\codepo_gb\\\\Data\\\\CSV\\\\hd.csv',\n",
       " 'S:\\\\Projects\\\\SAHSU_Share\\\\Diabetes\\\\Datasets\\\\Postcodes\\\\codepo_gb\\\\Data\\\\CSV\\\\hg.csv',\n",
       " 'S:\\\\Projects\\\\SAHSU_Share\\\\Diabetes\\\\Datasets\\\\Postcodes\\\\codepo_gb\\\\Data\\\\CSV\\\\hp.csv',\n",
       " 'S:\\\\Projects\\\\SAHSU_Share\\\\Diabetes\\\\Datasets\\\\Postcodes\\\\codepo_gb\\\\Data\\\\CSV\\\\hr.csv',\n",
       " 'S:\\\\Projects\\\\SAHSU_Share\\\\Diabetes\\\\Datasets\\\\Postcodes\\\\codepo_gb\\\\Data\\\\CSV\\\\hs.csv',\n",
       " 'S:\\\\Projects\\\\SAHSU_Share\\\\Diabetes\\\\Datasets\\\\Postcodes\\\\codepo_gb\\\\Data\\\\CSV\\\\hu.csv',\n",
       " 'S:\\\\Projects\\\\SAHSU_Share\\\\Diabetes\\\\Datasets\\\\Postcodes\\\\codepo_gb\\\\Data\\\\CSV\\\\hx.csv',\n",
       " 'S:\\\\Projects\\\\SAHSU_Share\\\\Diabetes\\\\Datasets\\\\Postcodes\\\\codepo_gb\\\\Data\\\\CSV\\\\ig.csv',\n",
       " 'S:\\\\Projects\\\\SAHSU_Share\\\\Diabetes\\\\Datasets\\\\Postcodes\\\\codepo_gb\\\\Data\\\\CSV\\\\ip.csv',\n",
       " 'S:\\\\Projects\\\\SAHSU_Share\\\\Diabetes\\\\Datasets\\\\Postcodes\\\\codepo_gb\\\\Data\\\\CSV\\\\iv.csv',\n",
       " 'S:\\\\Projects\\\\SAHSU_Share\\\\Diabetes\\\\Datasets\\\\Postcodes\\\\codepo_gb\\\\Data\\\\CSV\\\\ka.csv',\n",
       " 'S:\\\\Projects\\\\SAHSU_Share\\\\Diabetes\\\\Datasets\\\\Postcodes\\\\codepo_gb\\\\Data\\\\CSV\\\\kt.csv',\n",
       " 'S:\\\\Projects\\\\SAHSU_Share\\\\Diabetes\\\\Datasets\\\\Postcodes\\\\codepo_gb\\\\Data\\\\CSV\\\\kw.csv',\n",
       " 'S:\\\\Projects\\\\SAHSU_Share\\\\Diabetes\\\\Datasets\\\\Postcodes\\\\codepo_gb\\\\Data\\\\CSV\\\\ky.csv',\n",
       " 'S:\\\\Projects\\\\SAHSU_Share\\\\Diabetes\\\\Datasets\\\\Postcodes\\\\codepo_gb\\\\Data\\\\CSV\\\\l.csv',\n",
       " 'S:\\\\Projects\\\\SAHSU_Share\\\\Diabetes\\\\Datasets\\\\Postcodes\\\\codepo_gb\\\\Data\\\\CSV\\\\la.csv',\n",
       " 'S:\\\\Projects\\\\SAHSU_Share\\\\Diabetes\\\\Datasets\\\\Postcodes\\\\codepo_gb\\\\Data\\\\CSV\\\\ld.csv',\n",
       " 'S:\\\\Projects\\\\SAHSU_Share\\\\Diabetes\\\\Datasets\\\\Postcodes\\\\codepo_gb\\\\Data\\\\CSV\\\\le.csv',\n",
       " 'S:\\\\Projects\\\\SAHSU_Share\\\\Diabetes\\\\Datasets\\\\Postcodes\\\\codepo_gb\\\\Data\\\\CSV\\\\ll.csv',\n",
       " 'S:\\\\Projects\\\\SAHSU_Share\\\\Diabetes\\\\Datasets\\\\Postcodes\\\\codepo_gb\\\\Data\\\\CSV\\\\ln.csv',\n",
       " 'S:\\\\Projects\\\\SAHSU_Share\\\\Diabetes\\\\Datasets\\\\Postcodes\\\\codepo_gb\\\\Data\\\\CSV\\\\ls.csv',\n",
       " 'S:\\\\Projects\\\\SAHSU_Share\\\\Diabetes\\\\Datasets\\\\Postcodes\\\\codepo_gb\\\\Data\\\\CSV\\\\lu.csv',\n",
       " 'S:\\\\Projects\\\\SAHSU_Share\\\\Diabetes\\\\Datasets\\\\Postcodes\\\\codepo_gb\\\\Data\\\\CSV\\\\m.csv',\n",
       " 'S:\\\\Projects\\\\SAHSU_Share\\\\Diabetes\\\\Datasets\\\\Postcodes\\\\codepo_gb\\\\Data\\\\CSV\\\\me.csv',\n",
       " 'S:\\\\Projects\\\\SAHSU_Share\\\\Diabetes\\\\Datasets\\\\Postcodes\\\\codepo_gb\\\\Data\\\\CSV\\\\mk.csv',\n",
       " 'S:\\\\Projects\\\\SAHSU_Share\\\\Diabetes\\\\Datasets\\\\Postcodes\\\\codepo_gb\\\\Data\\\\CSV\\\\ml.csv',\n",
       " 'S:\\\\Projects\\\\SAHSU_Share\\\\Diabetes\\\\Datasets\\\\Postcodes\\\\codepo_gb\\\\Data\\\\CSV\\\\n.csv',\n",
       " 'S:\\\\Projects\\\\SAHSU_Share\\\\Diabetes\\\\Datasets\\\\Postcodes\\\\codepo_gb\\\\Data\\\\CSV\\\\ne.csv',\n",
       " 'S:\\\\Projects\\\\SAHSU_Share\\\\Diabetes\\\\Datasets\\\\Postcodes\\\\codepo_gb\\\\Data\\\\CSV\\\\ng.csv',\n",
       " 'S:\\\\Projects\\\\SAHSU_Share\\\\Diabetes\\\\Datasets\\\\Postcodes\\\\codepo_gb\\\\Data\\\\CSV\\\\nn.csv',\n",
       " 'S:\\\\Projects\\\\SAHSU_Share\\\\Diabetes\\\\Datasets\\\\Postcodes\\\\codepo_gb\\\\Data\\\\CSV\\\\np.csv',\n",
       " 'S:\\\\Projects\\\\SAHSU_Share\\\\Diabetes\\\\Datasets\\\\Postcodes\\\\codepo_gb\\\\Data\\\\CSV\\\\nr.csv',\n",
       " 'S:\\\\Projects\\\\SAHSU_Share\\\\Diabetes\\\\Datasets\\\\Postcodes\\\\codepo_gb\\\\Data\\\\CSV\\\\nw.csv',\n",
       " 'S:\\\\Projects\\\\SAHSU_Share\\\\Diabetes\\\\Datasets\\\\Postcodes\\\\codepo_gb\\\\Data\\\\CSV\\\\ol.csv',\n",
       " 'S:\\\\Projects\\\\SAHSU_Share\\\\Diabetes\\\\Datasets\\\\Postcodes\\\\codepo_gb\\\\Data\\\\CSV\\\\ox.csv',\n",
       " 'S:\\\\Projects\\\\SAHSU_Share\\\\Diabetes\\\\Datasets\\\\Postcodes\\\\codepo_gb\\\\Data\\\\CSV\\\\pa.csv',\n",
       " 'S:\\\\Projects\\\\SAHSU_Share\\\\Diabetes\\\\Datasets\\\\Postcodes\\\\codepo_gb\\\\Data\\\\CSV\\\\pe.csv',\n",
       " 'S:\\\\Projects\\\\SAHSU_Share\\\\Diabetes\\\\Datasets\\\\Postcodes\\\\codepo_gb\\\\Data\\\\CSV\\\\ph.csv',\n",
       " 'S:\\\\Projects\\\\SAHSU_Share\\\\Diabetes\\\\Datasets\\\\Postcodes\\\\codepo_gb\\\\Data\\\\CSV\\\\pl.csv',\n",
       " 'S:\\\\Projects\\\\SAHSU_Share\\\\Diabetes\\\\Datasets\\\\Postcodes\\\\codepo_gb\\\\Data\\\\CSV\\\\po.csv',\n",
       " 'S:\\\\Projects\\\\SAHSU_Share\\\\Diabetes\\\\Datasets\\\\Postcodes\\\\codepo_gb\\\\Data\\\\CSV\\\\pr.csv',\n",
       " 'S:\\\\Projects\\\\SAHSU_Share\\\\Diabetes\\\\Datasets\\\\Postcodes\\\\codepo_gb\\\\Data\\\\CSV\\\\rg.csv',\n",
       " 'S:\\\\Projects\\\\SAHSU_Share\\\\Diabetes\\\\Datasets\\\\Postcodes\\\\codepo_gb\\\\Data\\\\CSV\\\\rh.csv',\n",
       " 'S:\\\\Projects\\\\SAHSU_Share\\\\Diabetes\\\\Datasets\\\\Postcodes\\\\codepo_gb\\\\Data\\\\CSV\\\\rm.csv',\n",
       " 'S:\\\\Projects\\\\SAHSU_Share\\\\Diabetes\\\\Datasets\\\\Postcodes\\\\codepo_gb\\\\Data\\\\CSV\\\\s.csv',\n",
       " 'S:\\\\Projects\\\\SAHSU_Share\\\\Diabetes\\\\Datasets\\\\Postcodes\\\\codepo_gb\\\\Data\\\\CSV\\\\sa.csv',\n",
       " 'S:\\\\Projects\\\\SAHSU_Share\\\\Diabetes\\\\Datasets\\\\Postcodes\\\\codepo_gb\\\\Data\\\\CSV\\\\se.csv',\n",
       " 'S:\\\\Projects\\\\SAHSU_Share\\\\Diabetes\\\\Datasets\\\\Postcodes\\\\codepo_gb\\\\Data\\\\CSV\\\\sg.csv',\n",
       " 'S:\\\\Projects\\\\SAHSU_Share\\\\Diabetes\\\\Datasets\\\\Postcodes\\\\codepo_gb\\\\Data\\\\CSV\\\\sk.csv',\n",
       " 'S:\\\\Projects\\\\SAHSU_Share\\\\Diabetes\\\\Datasets\\\\Postcodes\\\\codepo_gb\\\\Data\\\\CSV\\\\sl.csv',\n",
       " 'S:\\\\Projects\\\\SAHSU_Share\\\\Diabetes\\\\Datasets\\\\Postcodes\\\\codepo_gb\\\\Data\\\\CSV\\\\sm.csv',\n",
       " 'S:\\\\Projects\\\\SAHSU_Share\\\\Diabetes\\\\Datasets\\\\Postcodes\\\\codepo_gb\\\\Data\\\\CSV\\\\sn.csv',\n",
       " 'S:\\\\Projects\\\\SAHSU_Share\\\\Diabetes\\\\Datasets\\\\Postcodes\\\\codepo_gb\\\\Data\\\\CSV\\\\so.csv',\n",
       " 'S:\\\\Projects\\\\SAHSU_Share\\\\Diabetes\\\\Datasets\\\\Postcodes\\\\codepo_gb\\\\Data\\\\CSV\\\\sp.csv',\n",
       " 'S:\\\\Projects\\\\SAHSU_Share\\\\Diabetes\\\\Datasets\\\\Postcodes\\\\codepo_gb\\\\Data\\\\CSV\\\\sr.csv',\n",
       " 'S:\\\\Projects\\\\SAHSU_Share\\\\Diabetes\\\\Datasets\\\\Postcodes\\\\codepo_gb\\\\Data\\\\CSV\\\\ss.csv',\n",
       " 'S:\\\\Projects\\\\SAHSU_Share\\\\Diabetes\\\\Datasets\\\\Postcodes\\\\codepo_gb\\\\Data\\\\CSV\\\\st.csv',\n",
       " 'S:\\\\Projects\\\\SAHSU_Share\\\\Diabetes\\\\Datasets\\\\Postcodes\\\\codepo_gb\\\\Data\\\\CSV\\\\sw.csv',\n",
       " 'S:\\\\Projects\\\\SAHSU_Share\\\\Diabetes\\\\Datasets\\\\Postcodes\\\\codepo_gb\\\\Data\\\\CSV\\\\sy.csv',\n",
       " 'S:\\\\Projects\\\\SAHSU_Share\\\\Diabetes\\\\Datasets\\\\Postcodes\\\\codepo_gb\\\\Data\\\\CSV\\\\ta.csv',\n",
       " 'S:\\\\Projects\\\\SAHSU_Share\\\\Diabetes\\\\Datasets\\\\Postcodes\\\\codepo_gb\\\\Data\\\\CSV\\\\td.csv',\n",
       " 'S:\\\\Projects\\\\SAHSU_Share\\\\Diabetes\\\\Datasets\\\\Postcodes\\\\codepo_gb\\\\Data\\\\CSV\\\\tf.csv',\n",
       " 'S:\\\\Projects\\\\SAHSU_Share\\\\Diabetes\\\\Datasets\\\\Postcodes\\\\codepo_gb\\\\Data\\\\CSV\\\\tn.csv',\n",
       " 'S:\\\\Projects\\\\SAHSU_Share\\\\Diabetes\\\\Datasets\\\\Postcodes\\\\codepo_gb\\\\Data\\\\CSV\\\\tq.csv',\n",
       " 'S:\\\\Projects\\\\SAHSU_Share\\\\Diabetes\\\\Datasets\\\\Postcodes\\\\codepo_gb\\\\Data\\\\CSV\\\\tr.csv',\n",
       " 'S:\\\\Projects\\\\SAHSU_Share\\\\Diabetes\\\\Datasets\\\\Postcodes\\\\codepo_gb\\\\Data\\\\CSV\\\\ts.csv',\n",
       " 'S:\\\\Projects\\\\SAHSU_Share\\\\Diabetes\\\\Datasets\\\\Postcodes\\\\codepo_gb\\\\Data\\\\CSV\\\\tw.csv',\n",
       " 'S:\\\\Projects\\\\SAHSU_Share\\\\Diabetes\\\\Datasets\\\\Postcodes\\\\codepo_gb\\\\Data\\\\CSV\\\\ub.csv',\n",
       " 'S:\\\\Projects\\\\SAHSU_Share\\\\Diabetes\\\\Datasets\\\\Postcodes\\\\codepo_gb\\\\Data\\\\CSV\\\\w.csv',\n",
       " 'S:\\\\Projects\\\\SAHSU_Share\\\\Diabetes\\\\Datasets\\\\Postcodes\\\\codepo_gb\\\\Data\\\\CSV\\\\wa.csv',\n",
       " 'S:\\\\Projects\\\\SAHSU_Share\\\\Diabetes\\\\Datasets\\\\Postcodes\\\\codepo_gb\\\\Data\\\\CSV\\\\wc.csv',\n",
       " 'S:\\\\Projects\\\\SAHSU_Share\\\\Diabetes\\\\Datasets\\\\Postcodes\\\\codepo_gb\\\\Data\\\\CSV\\\\wd.csv',\n",
       " 'S:\\\\Projects\\\\SAHSU_Share\\\\Diabetes\\\\Datasets\\\\Postcodes\\\\codepo_gb\\\\Data\\\\CSV\\\\wf.csv',\n",
       " 'S:\\\\Projects\\\\SAHSU_Share\\\\Diabetes\\\\Datasets\\\\Postcodes\\\\codepo_gb\\\\Data\\\\CSV\\\\wn.csv',\n",
       " 'S:\\\\Projects\\\\SAHSU_Share\\\\Diabetes\\\\Datasets\\\\Postcodes\\\\codepo_gb\\\\Data\\\\CSV\\\\wr.csv',\n",
       " 'S:\\\\Projects\\\\SAHSU_Share\\\\Diabetes\\\\Datasets\\\\Postcodes\\\\codepo_gb\\\\Data\\\\CSV\\\\ws.csv',\n",
       " 'S:\\\\Projects\\\\SAHSU_Share\\\\Diabetes\\\\Datasets\\\\Postcodes\\\\codepo_gb\\\\Data\\\\CSV\\\\wv.csv',\n",
       " 'S:\\\\Projects\\\\SAHSU_Share\\\\Diabetes\\\\Datasets\\\\Postcodes\\\\codepo_gb\\\\Data\\\\CSV\\\\yo.csv',\n",
       " 'S:\\\\Projects\\\\SAHSU_Share\\\\Diabetes\\\\Datasets\\\\Postcodes\\\\codepo_gb\\\\Data\\\\CSV\\\\ze.csv']"
      ]
     },
     "execution_count": 3,
     "metadata": {},
     "output_type": "execute_result"
    }
   ],
   "source": [
    "files"
   ]
  },
  {
   "cell_type": "code",
   "execution_count": 13,
   "metadata": {
    "collapsed": true
   },
   "outputs": [],
   "source": [
    "labels = pd.read_csv(r\"S:\\Projects\\SAHSU_Share\\Diabetes\\Datasets\\Postcodes\\codepo_gb\\Doc\\Code-Point_Open_Column_Headers.csv\", header = None)"
   ]
  },
  {
   "cell_type": "code",
   "execution_count": 14,
   "metadata": {},
   "outputs": [
    {
     "data": {
      "text/html": [
       "<div>\n",
       "<style>\n",
       "    .dataframe thead tr:only-child th {\n",
       "        text-align: right;\n",
       "    }\n",
       "\n",
       "    .dataframe thead th {\n",
       "        text-align: left;\n",
       "    }\n",
       "\n",
       "    .dataframe tbody tr th {\n",
       "        vertical-align: top;\n",
       "    }\n",
       "</style>\n",
       "<table border=\"1\" class=\"dataframe\">\n",
       "  <thead>\n",
       "    <tr style=\"text-align: right;\">\n",
       "      <th></th>\n",
       "      <th>0</th>\n",
       "      <th>1</th>\n",
       "      <th>2</th>\n",
       "      <th>3</th>\n",
       "      <th>4</th>\n",
       "      <th>5</th>\n",
       "      <th>6</th>\n",
       "      <th>7</th>\n",
       "      <th>8</th>\n",
       "      <th>9</th>\n",
       "    </tr>\n",
       "  </thead>\n",
       "  <tbody>\n",
       "    <tr>\n",
       "      <th>0</th>\n",
       "      <td>Postcode</td>\n",
       "      <td>Positional_quality_indicator</td>\n",
       "      <td>Eastings</td>\n",
       "      <td>Northings</td>\n",
       "      <td>Country_code</td>\n",
       "      <td>NHS_regional_HA_code</td>\n",
       "      <td>NHS_HA_code</td>\n",
       "      <td>Admin_county_code</td>\n",
       "      <td>Admin_district_code</td>\n",
       "      <td>Admin_ward_code</td>\n",
       "    </tr>\n",
       "  </tbody>\n",
       "</table>\n",
       "</div>"
      ],
      "text/plain": [
       "          0                             1         2          3             4  \\\n",
       "0  Postcode  Positional_quality_indicator  Eastings  Northings  Country_code   \n",
       "\n",
       "                      5            6                  7                    8  \\\n",
       "0  NHS_regional_HA_code  NHS_HA_code  Admin_county_code  Admin_district_code   \n",
       "\n",
       "                 9  \n",
       "0  Admin_ward_code  "
      ]
     },
     "execution_count": 14,
     "metadata": {},
     "output_type": "execute_result"
    }
   ],
   "source": [
    "labels"
   ]
  },
  {
   "cell_type": "code",
   "execution_count": 15,
   "metadata": {
    "collapsed": true
   },
   "outputs": [],
   "source": [
    "df_all = pd.read_csv(r\"S:\\Projects\\SAHSU_Share\\Diabetes\\Datasets\\Postcodes\\codepo_gb\\Doc\\Code-Point_Open_Column_Headers.csv\", header = None)"
   ]
  },
  {
   "cell_type": "code",
   "execution_count": 16,
   "metadata": {
    "collapsed": true
   },
   "outputs": [],
   "source": [
    "df_all.columns = df_all.iloc[0]"
   ]
  },
  {
   "cell_type": "code",
   "execution_count": 17,
   "metadata": {
    "collapsed": true
   },
   "outputs": [],
   "source": [
    "df_all = df_all.set_index(['Postcode'])"
   ]
  },
  {
   "cell_type": "code",
   "execution_count": 18,
   "metadata": {
    "collapsed": true
   },
   "outputs": [],
   "source": [
    "df_all = df_all.reindex(df_all.index.drop('Postcode'))"
   ]
  },
  {
   "cell_type": "code",
   "execution_count": 19,
   "metadata": {},
   "outputs": [
    {
     "data": {
      "text/html": [
       "<div>\n",
       "<style>\n",
       "    .dataframe thead tr:only-child th {\n",
       "        text-align: right;\n",
       "    }\n",
       "\n",
       "    .dataframe thead th {\n",
       "        text-align: left;\n",
       "    }\n",
       "\n",
       "    .dataframe tbody tr th {\n",
       "        vertical-align: top;\n",
       "    }\n",
       "</style>\n",
       "<table border=\"1\" class=\"dataframe\">\n",
       "  <thead>\n",
       "    <tr style=\"text-align: right;\">\n",
       "      <th></th>\n",
       "      <th>Positional_quality_indicator</th>\n",
       "      <th>Eastings</th>\n",
       "      <th>Northings</th>\n",
       "      <th>Country_code</th>\n",
       "      <th>NHS_regional_HA_code</th>\n",
       "      <th>NHS_HA_code</th>\n",
       "      <th>Admin_county_code</th>\n",
       "      <th>Admin_district_code</th>\n",
       "      <th>Admin_ward_code</th>\n",
       "    </tr>\n",
       "    <tr>\n",
       "      <th>Postcode</th>\n",
       "      <th></th>\n",
       "      <th></th>\n",
       "      <th></th>\n",
       "      <th></th>\n",
       "      <th></th>\n",
       "      <th></th>\n",
       "      <th></th>\n",
       "      <th></th>\n",
       "      <th></th>\n",
       "    </tr>\n",
       "  </thead>\n",
       "  <tbody>\n",
       "  </tbody>\n",
       "</table>\n",
       "</div>"
      ],
      "text/plain": [
       "Empty DataFrame\n",
       "Columns: [Positional_quality_indicator, Eastings, Northings, Country_code, NHS_regional_HA_code, NHS_HA_code, Admin_county_code, Admin_district_code, Admin_ward_code]\n",
       "Index: []"
      ]
     },
     "execution_count": 19,
     "metadata": {},
     "output_type": "execute_result"
    }
   ],
   "source": [
    "df_all"
   ]
  },
  {
   "cell_type": "code",
   "execution_count": 20,
   "metadata": {},
   "outputs": [
    {
     "name": "stdout",
     "output_type": "stream",
     "text": [
      "Processed S:\\Projects\\SAHSU_Share\\Diabetes\\Datasets\\Postcodes\\codepo_gb\\Data\\CSV\\ab.csv\n",
      "Processed S:\\Projects\\SAHSU_Share\\Diabetes\\Datasets\\Postcodes\\codepo_gb\\Data\\CSV\\al.csv\n",
      "Processed S:\\Projects\\SAHSU_Share\\Diabetes\\Datasets\\Postcodes\\codepo_gb\\Data\\CSV\\b.csv\n",
      "Processed S:\\Projects\\SAHSU_Share\\Diabetes\\Datasets\\Postcodes\\codepo_gb\\Data\\CSV\\ba.csv\n",
      "Processed S:\\Projects\\SAHSU_Share\\Diabetes\\Datasets\\Postcodes\\codepo_gb\\Data\\CSV\\bb.csv\n",
      "Processed S:\\Projects\\SAHSU_Share\\Diabetes\\Datasets\\Postcodes\\codepo_gb\\Data\\CSV\\bd.csv\n",
      "Processed S:\\Projects\\SAHSU_Share\\Diabetes\\Datasets\\Postcodes\\codepo_gb\\Data\\CSV\\bh.csv\n",
      "Processed S:\\Projects\\SAHSU_Share\\Diabetes\\Datasets\\Postcodes\\codepo_gb\\Data\\CSV\\bl.csv\n",
      "Processed S:\\Projects\\SAHSU_Share\\Diabetes\\Datasets\\Postcodes\\codepo_gb\\Data\\CSV\\bn.csv\n",
      "Processed S:\\Projects\\SAHSU_Share\\Diabetes\\Datasets\\Postcodes\\codepo_gb\\Data\\CSV\\br.csv\n",
      "Processed S:\\Projects\\SAHSU_Share\\Diabetes\\Datasets\\Postcodes\\codepo_gb\\Data\\CSV\\bs.csv\n",
      "Processed S:\\Projects\\SAHSU_Share\\Diabetes\\Datasets\\Postcodes\\codepo_gb\\Data\\CSV\\ca.csv\n",
      "Processed S:\\Projects\\SAHSU_Share\\Diabetes\\Datasets\\Postcodes\\codepo_gb\\Data\\CSV\\cb.csv\n",
      "Processed S:\\Projects\\SAHSU_Share\\Diabetes\\Datasets\\Postcodes\\codepo_gb\\Data\\CSV\\cf.csv\n",
      "Processed S:\\Projects\\SAHSU_Share\\Diabetes\\Datasets\\Postcodes\\codepo_gb\\Data\\CSV\\ch.csv\n",
      "Processed S:\\Projects\\SAHSU_Share\\Diabetes\\Datasets\\Postcodes\\codepo_gb\\Data\\CSV\\cm.csv\n",
      "Processed S:\\Projects\\SAHSU_Share\\Diabetes\\Datasets\\Postcodes\\codepo_gb\\Data\\CSV\\co.csv\n",
      "Processed S:\\Projects\\SAHSU_Share\\Diabetes\\Datasets\\Postcodes\\codepo_gb\\Data\\CSV\\cr.csv\n",
      "Processed S:\\Projects\\SAHSU_Share\\Diabetes\\Datasets\\Postcodes\\codepo_gb\\Data\\CSV\\ct.csv\n",
      "Processed S:\\Projects\\SAHSU_Share\\Diabetes\\Datasets\\Postcodes\\codepo_gb\\Data\\CSV\\cv.csv\n",
      "Processed S:\\Projects\\SAHSU_Share\\Diabetes\\Datasets\\Postcodes\\codepo_gb\\Data\\CSV\\cw.csv\n",
      "Processed S:\\Projects\\SAHSU_Share\\Diabetes\\Datasets\\Postcodes\\codepo_gb\\Data\\CSV\\da.csv\n",
      "Processed S:\\Projects\\SAHSU_Share\\Diabetes\\Datasets\\Postcodes\\codepo_gb\\Data\\CSV\\dd.csv\n",
      "Processed S:\\Projects\\SAHSU_Share\\Diabetes\\Datasets\\Postcodes\\codepo_gb\\Data\\CSV\\de.csv\n",
      "Processed S:\\Projects\\SAHSU_Share\\Diabetes\\Datasets\\Postcodes\\codepo_gb\\Data\\CSV\\dg.csv\n",
      "Processed S:\\Projects\\SAHSU_Share\\Diabetes\\Datasets\\Postcodes\\codepo_gb\\Data\\CSV\\dh.csv\n",
      "Processed S:\\Projects\\SAHSU_Share\\Diabetes\\Datasets\\Postcodes\\codepo_gb\\Data\\CSV\\dl.csv\n",
      "Processed S:\\Projects\\SAHSU_Share\\Diabetes\\Datasets\\Postcodes\\codepo_gb\\Data\\CSV\\dn.csv\n",
      "Processed S:\\Projects\\SAHSU_Share\\Diabetes\\Datasets\\Postcodes\\codepo_gb\\Data\\CSV\\dt.csv\n",
      "Processed S:\\Projects\\SAHSU_Share\\Diabetes\\Datasets\\Postcodes\\codepo_gb\\Data\\CSV\\dy.csv\n",
      "Processed S:\\Projects\\SAHSU_Share\\Diabetes\\Datasets\\Postcodes\\codepo_gb\\Data\\CSV\\e.csv\n",
      "Processed S:\\Projects\\SAHSU_Share\\Diabetes\\Datasets\\Postcodes\\codepo_gb\\Data\\CSV\\ec.csv\n",
      "Processed S:\\Projects\\SAHSU_Share\\Diabetes\\Datasets\\Postcodes\\codepo_gb\\Data\\CSV\\eh.csv\n",
      "Processed S:\\Projects\\SAHSU_Share\\Diabetes\\Datasets\\Postcodes\\codepo_gb\\Data\\CSV\\en.csv\n",
      "Processed S:\\Projects\\SAHSU_Share\\Diabetes\\Datasets\\Postcodes\\codepo_gb\\Data\\CSV\\ex.csv\n",
      "Processed S:\\Projects\\SAHSU_Share\\Diabetes\\Datasets\\Postcodes\\codepo_gb\\Data\\CSV\\fk.csv\n",
      "Processed S:\\Projects\\SAHSU_Share\\Diabetes\\Datasets\\Postcodes\\codepo_gb\\Data\\CSV\\fy.csv\n",
      "Processed S:\\Projects\\SAHSU_Share\\Diabetes\\Datasets\\Postcodes\\codepo_gb\\Data\\CSV\\g.csv\n",
      "Processed S:\\Projects\\SAHSU_Share\\Diabetes\\Datasets\\Postcodes\\codepo_gb\\Data\\CSV\\gl.csv\n",
      "Processed S:\\Projects\\SAHSU_Share\\Diabetes\\Datasets\\Postcodes\\codepo_gb\\Data\\CSV\\gu.csv\n",
      "Processed S:\\Projects\\SAHSU_Share\\Diabetes\\Datasets\\Postcodes\\codepo_gb\\Data\\CSV\\ha.csv\n",
      "Processed S:\\Projects\\SAHSU_Share\\Diabetes\\Datasets\\Postcodes\\codepo_gb\\Data\\CSV\\hd.csv\n",
      "Processed S:\\Projects\\SAHSU_Share\\Diabetes\\Datasets\\Postcodes\\codepo_gb\\Data\\CSV\\hg.csv\n",
      "Processed S:\\Projects\\SAHSU_Share\\Diabetes\\Datasets\\Postcodes\\codepo_gb\\Data\\CSV\\hp.csv\n",
      "Processed S:\\Projects\\SAHSU_Share\\Diabetes\\Datasets\\Postcodes\\codepo_gb\\Data\\CSV\\hr.csv\n",
      "Processed S:\\Projects\\SAHSU_Share\\Diabetes\\Datasets\\Postcodes\\codepo_gb\\Data\\CSV\\hs.csv\n",
      "Processed S:\\Projects\\SAHSU_Share\\Diabetes\\Datasets\\Postcodes\\codepo_gb\\Data\\CSV\\hu.csv\n",
      "Processed S:\\Projects\\SAHSU_Share\\Diabetes\\Datasets\\Postcodes\\codepo_gb\\Data\\CSV\\hx.csv\n",
      "Processed S:\\Projects\\SAHSU_Share\\Diabetes\\Datasets\\Postcodes\\codepo_gb\\Data\\CSV\\ig.csv\n",
      "Processed S:\\Projects\\SAHSU_Share\\Diabetes\\Datasets\\Postcodes\\codepo_gb\\Data\\CSV\\ip.csv\n",
      "Processed S:\\Projects\\SAHSU_Share\\Diabetes\\Datasets\\Postcodes\\codepo_gb\\Data\\CSV\\iv.csv\n",
      "Processed S:\\Projects\\SAHSU_Share\\Diabetes\\Datasets\\Postcodes\\codepo_gb\\Data\\CSV\\ka.csv\n",
      "Processed S:\\Projects\\SAHSU_Share\\Diabetes\\Datasets\\Postcodes\\codepo_gb\\Data\\CSV\\kt.csv\n",
      "Processed S:\\Projects\\SAHSU_Share\\Diabetes\\Datasets\\Postcodes\\codepo_gb\\Data\\CSV\\kw.csv\n",
      "Processed S:\\Projects\\SAHSU_Share\\Diabetes\\Datasets\\Postcodes\\codepo_gb\\Data\\CSV\\ky.csv\n",
      "Processed S:\\Projects\\SAHSU_Share\\Diabetes\\Datasets\\Postcodes\\codepo_gb\\Data\\CSV\\l.csv\n",
      "Processed S:\\Projects\\SAHSU_Share\\Diabetes\\Datasets\\Postcodes\\codepo_gb\\Data\\CSV\\la.csv\n",
      "Processed S:\\Projects\\SAHSU_Share\\Diabetes\\Datasets\\Postcodes\\codepo_gb\\Data\\CSV\\ld.csv\n",
      "Processed S:\\Projects\\SAHSU_Share\\Diabetes\\Datasets\\Postcodes\\codepo_gb\\Data\\CSV\\le.csv\n",
      "Processed S:\\Projects\\SAHSU_Share\\Diabetes\\Datasets\\Postcodes\\codepo_gb\\Data\\CSV\\ll.csv\n",
      "Processed S:\\Projects\\SAHSU_Share\\Diabetes\\Datasets\\Postcodes\\codepo_gb\\Data\\CSV\\ln.csv\n",
      "Processed S:\\Projects\\SAHSU_Share\\Diabetes\\Datasets\\Postcodes\\codepo_gb\\Data\\CSV\\ls.csv\n",
      "Processed S:\\Projects\\SAHSU_Share\\Diabetes\\Datasets\\Postcodes\\codepo_gb\\Data\\CSV\\lu.csv\n",
      "Processed S:\\Projects\\SAHSU_Share\\Diabetes\\Datasets\\Postcodes\\codepo_gb\\Data\\CSV\\m.csv\n",
      "Processed S:\\Projects\\SAHSU_Share\\Diabetes\\Datasets\\Postcodes\\codepo_gb\\Data\\CSV\\me.csv\n",
      "Processed S:\\Projects\\SAHSU_Share\\Diabetes\\Datasets\\Postcodes\\codepo_gb\\Data\\CSV\\mk.csv\n",
      "Processed S:\\Projects\\SAHSU_Share\\Diabetes\\Datasets\\Postcodes\\codepo_gb\\Data\\CSV\\ml.csv\n",
      "Processed S:\\Projects\\SAHSU_Share\\Diabetes\\Datasets\\Postcodes\\codepo_gb\\Data\\CSV\\n.csv\n",
      "Processed S:\\Projects\\SAHSU_Share\\Diabetes\\Datasets\\Postcodes\\codepo_gb\\Data\\CSV\\ne.csv\n",
      "Processed S:\\Projects\\SAHSU_Share\\Diabetes\\Datasets\\Postcodes\\codepo_gb\\Data\\CSV\\ng.csv\n",
      "Processed S:\\Projects\\SAHSU_Share\\Diabetes\\Datasets\\Postcodes\\codepo_gb\\Data\\CSV\\nn.csv\n",
      "Processed S:\\Projects\\SAHSU_Share\\Diabetes\\Datasets\\Postcodes\\codepo_gb\\Data\\CSV\\np.csv\n",
      "Processed S:\\Projects\\SAHSU_Share\\Diabetes\\Datasets\\Postcodes\\codepo_gb\\Data\\CSV\\nr.csv\n",
      "Processed S:\\Projects\\SAHSU_Share\\Diabetes\\Datasets\\Postcodes\\codepo_gb\\Data\\CSV\\nw.csv\n",
      "Processed S:\\Projects\\SAHSU_Share\\Diabetes\\Datasets\\Postcodes\\codepo_gb\\Data\\CSV\\ol.csv\n",
      "Processed S:\\Projects\\SAHSU_Share\\Diabetes\\Datasets\\Postcodes\\codepo_gb\\Data\\CSV\\ox.csv\n",
      "Processed S:\\Projects\\SAHSU_Share\\Diabetes\\Datasets\\Postcodes\\codepo_gb\\Data\\CSV\\pa.csv\n",
      "Processed S:\\Projects\\SAHSU_Share\\Diabetes\\Datasets\\Postcodes\\codepo_gb\\Data\\CSV\\pe.csv\n",
      "Processed S:\\Projects\\SAHSU_Share\\Diabetes\\Datasets\\Postcodes\\codepo_gb\\Data\\CSV\\ph.csv\n",
      "Processed S:\\Projects\\SAHSU_Share\\Diabetes\\Datasets\\Postcodes\\codepo_gb\\Data\\CSV\\pl.csv\n",
      "Processed S:\\Projects\\SAHSU_Share\\Diabetes\\Datasets\\Postcodes\\codepo_gb\\Data\\CSV\\po.csv\n",
      "Processed S:\\Projects\\SAHSU_Share\\Diabetes\\Datasets\\Postcodes\\codepo_gb\\Data\\CSV\\pr.csv\n",
      "Processed S:\\Projects\\SAHSU_Share\\Diabetes\\Datasets\\Postcodes\\codepo_gb\\Data\\CSV\\rg.csv\n",
      "Processed S:\\Projects\\SAHSU_Share\\Diabetes\\Datasets\\Postcodes\\codepo_gb\\Data\\CSV\\rh.csv\n",
      "Processed S:\\Projects\\SAHSU_Share\\Diabetes\\Datasets\\Postcodes\\codepo_gb\\Data\\CSV\\rm.csv\n",
      "Processed S:\\Projects\\SAHSU_Share\\Diabetes\\Datasets\\Postcodes\\codepo_gb\\Data\\CSV\\s.csv\n",
      "Processed S:\\Projects\\SAHSU_Share\\Diabetes\\Datasets\\Postcodes\\codepo_gb\\Data\\CSV\\sa.csv\n",
      "Processed S:\\Projects\\SAHSU_Share\\Diabetes\\Datasets\\Postcodes\\codepo_gb\\Data\\CSV\\se.csv\n",
      "Processed S:\\Projects\\SAHSU_Share\\Diabetes\\Datasets\\Postcodes\\codepo_gb\\Data\\CSV\\sg.csv\n",
      "Processed S:\\Projects\\SAHSU_Share\\Diabetes\\Datasets\\Postcodes\\codepo_gb\\Data\\CSV\\sk.csv\n",
      "Processed S:\\Projects\\SAHSU_Share\\Diabetes\\Datasets\\Postcodes\\codepo_gb\\Data\\CSV\\sl.csv\n",
      "Processed S:\\Projects\\SAHSU_Share\\Diabetes\\Datasets\\Postcodes\\codepo_gb\\Data\\CSV\\sm.csv\n",
      "Processed S:\\Projects\\SAHSU_Share\\Diabetes\\Datasets\\Postcodes\\codepo_gb\\Data\\CSV\\sn.csv\n",
      "Processed S:\\Projects\\SAHSU_Share\\Diabetes\\Datasets\\Postcodes\\codepo_gb\\Data\\CSV\\so.csv\n"
     ]
    },
    {
     "name": "stdout",
     "output_type": "stream",
     "text": [
      "Processed S:\\Projects\\SAHSU_Share\\Diabetes\\Datasets\\Postcodes\\codepo_gb\\Data\\CSV\\sp.csv\n",
      "Processed S:\\Projects\\SAHSU_Share\\Diabetes\\Datasets\\Postcodes\\codepo_gb\\Data\\CSV\\sr.csv\n",
      "Processed S:\\Projects\\SAHSU_Share\\Diabetes\\Datasets\\Postcodes\\codepo_gb\\Data\\CSV\\ss.csv\n",
      "Processed S:\\Projects\\SAHSU_Share\\Diabetes\\Datasets\\Postcodes\\codepo_gb\\Data\\CSV\\st.csv\n",
      "Processed S:\\Projects\\SAHSU_Share\\Diabetes\\Datasets\\Postcodes\\codepo_gb\\Data\\CSV\\sw.csv\n",
      "Processed S:\\Projects\\SAHSU_Share\\Diabetes\\Datasets\\Postcodes\\codepo_gb\\Data\\CSV\\sy.csv\n",
      "Processed S:\\Projects\\SAHSU_Share\\Diabetes\\Datasets\\Postcodes\\codepo_gb\\Data\\CSV\\ta.csv\n",
      "Processed S:\\Projects\\SAHSU_Share\\Diabetes\\Datasets\\Postcodes\\codepo_gb\\Data\\CSV\\td.csv\n",
      "Processed S:\\Projects\\SAHSU_Share\\Diabetes\\Datasets\\Postcodes\\codepo_gb\\Data\\CSV\\tf.csv\n",
      "Processed S:\\Projects\\SAHSU_Share\\Diabetes\\Datasets\\Postcodes\\codepo_gb\\Data\\CSV\\tn.csv\n",
      "Processed S:\\Projects\\SAHSU_Share\\Diabetes\\Datasets\\Postcodes\\codepo_gb\\Data\\CSV\\tq.csv\n",
      "Processed S:\\Projects\\SAHSU_Share\\Diabetes\\Datasets\\Postcodes\\codepo_gb\\Data\\CSV\\tr.csv\n",
      "Processed S:\\Projects\\SAHSU_Share\\Diabetes\\Datasets\\Postcodes\\codepo_gb\\Data\\CSV\\ts.csv\n",
      "Processed S:\\Projects\\SAHSU_Share\\Diabetes\\Datasets\\Postcodes\\codepo_gb\\Data\\CSV\\tw.csv\n",
      "Processed S:\\Projects\\SAHSU_Share\\Diabetes\\Datasets\\Postcodes\\codepo_gb\\Data\\CSV\\ub.csv\n",
      "Processed S:\\Projects\\SAHSU_Share\\Diabetes\\Datasets\\Postcodes\\codepo_gb\\Data\\CSV\\w.csv\n",
      "Processed S:\\Projects\\SAHSU_Share\\Diabetes\\Datasets\\Postcodes\\codepo_gb\\Data\\CSV\\wa.csv\n",
      "Processed S:\\Projects\\SAHSU_Share\\Diabetes\\Datasets\\Postcodes\\codepo_gb\\Data\\CSV\\wc.csv\n",
      "Processed S:\\Projects\\SAHSU_Share\\Diabetes\\Datasets\\Postcodes\\codepo_gb\\Data\\CSV\\wd.csv\n",
      "Processed S:\\Projects\\SAHSU_Share\\Diabetes\\Datasets\\Postcodes\\codepo_gb\\Data\\CSV\\wf.csv\n",
      "Processed S:\\Projects\\SAHSU_Share\\Diabetes\\Datasets\\Postcodes\\codepo_gb\\Data\\CSV\\wn.csv\n",
      "Processed S:\\Projects\\SAHSU_Share\\Diabetes\\Datasets\\Postcodes\\codepo_gb\\Data\\CSV\\wr.csv\n",
      "Processed S:\\Projects\\SAHSU_Share\\Diabetes\\Datasets\\Postcodes\\codepo_gb\\Data\\CSV\\ws.csv\n",
      "Processed S:\\Projects\\SAHSU_Share\\Diabetes\\Datasets\\Postcodes\\codepo_gb\\Data\\CSV\\wv.csv\n",
      "Processed S:\\Projects\\SAHSU_Share\\Diabetes\\Datasets\\Postcodes\\codepo_gb\\Data\\CSV\\yo.csv\n",
      "Processed S:\\Projects\\SAHSU_Share\\Diabetes\\Datasets\\Postcodes\\codepo_gb\\Data\\CSV\\ze.csv\n"
     ]
    }
   ],
   "source": [
    "for file in files:\n",
    "    postcode = pd.read_csv(r'{fname}'.format(fname=file), header=None)\n",
    "    data = pd.concat([labels,postcode])\n",
    "    data.columns = data.iloc[0]\n",
    "    data = data.set_index(['Postcode'])\n",
    "    data = data.reindex(data.index.drop('Postcode'))\n",
    "    df_all = df_all.append(data)\n",
    "    \n",
    "    \n",
    "    print('Processed {fname}'.format(fname=file))"
   ]
  },
  {
   "cell_type": "code",
   "execution_count": 23,
   "metadata": {
    "collapsed": true
   },
   "outputs": [],
   "source": [
    "df_all = df_all[['Eastings', 'Northings']]"
   ]
  },
  {
   "cell_type": "code",
   "execution_count": 24,
   "metadata": {
    "collapsed": true
   },
   "outputs": [],
   "source": [
    "df_all.to_csv(r'S:\\\\Projects\\\\SAHSU_Share\\\\Diabetes\\\\Datasets\\\\Postcodes\\\\codepo_gb\\\\Data\\\\CSV\\\\all_postcodes_cut.csv')"
   ]
  }
 ],
 "metadata": {
  "kernelspec": {
   "display_name": "Python 3",
   "language": "python",
   "name": "python3"
  },
  "language_info": {
   "codemirror_mode": {
    "name": "ipython",
    "version": 3
   },
   "file_extension": ".py",
   "mimetype": "text/x-python",
   "name": "python",
   "nbconvert_exporter": "python",
   "pygments_lexer": "ipython3",
   "version": "3.6.1"
  }
 },
 "nbformat": 4,
 "nbformat_minor": 2
}
