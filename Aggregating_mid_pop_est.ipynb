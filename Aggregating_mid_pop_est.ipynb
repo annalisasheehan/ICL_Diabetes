{
 "cells": [
  {
   "cell_type": "code",
   "execution_count": 2,
   "metadata": {
    "collapsed": true
   },
   "outputs": [],
   "source": [
    "import numpy as np\n",
    "from matplotlib.pyplot import *\n",
    "import pandas as pd\n",
    "from scipy import stats\n",
    "import glob\n",
    "import os"
   ]
  },
  {
   "cell_type": "code",
   "execution_count": 3,
   "metadata": {
    "collapsed": true
   },
   "outputs": [],
   "source": [
    "#Specify files where the data is located\n",
    "files = glob.glob(r'/Users/annalisasheehan/Documents/Imperial-Diabetes/Population_Est/?????.csv')"
   ]
  },
  {
   "cell_type": "code",
   "execution_count": 4,
   "metadata": {
    "collapsed": false
   },
   "outputs": [
    {
     "data": {
      "text/plain": [
       "['/Users/annalisasheehan/Documents/Imperial-Diabetes/Population_Est/f2000.csv',\n",
       " '/Users/annalisasheehan/Documents/Imperial-Diabetes/Population_Est/f2001.csv',\n",
       " '/Users/annalisasheehan/Documents/Imperial-Diabetes/Population_Est/f2002.csv',\n",
       " '/Users/annalisasheehan/Documents/Imperial-Diabetes/Population_Est/f2003.csv',\n",
       " '/Users/annalisasheehan/Documents/Imperial-Diabetes/Population_Est/f2004.csv',\n",
       " '/Users/annalisasheehan/Documents/Imperial-Diabetes/Population_Est/f2005.csv',\n",
       " '/Users/annalisasheehan/Documents/Imperial-Diabetes/Population_Est/f2006.csv',\n",
       " '/Users/annalisasheehan/Documents/Imperial-Diabetes/Population_Est/f2007.csv',\n",
       " '/Users/annalisasheehan/Documents/Imperial-Diabetes/Population_Est/f2008.csv',\n",
       " '/Users/annalisasheehan/Documents/Imperial-Diabetes/Population_Est/f2009.csv',\n",
       " '/Users/annalisasheehan/Documents/Imperial-Diabetes/Population_Est/m2000.csv',\n",
       " '/Users/annalisasheehan/Documents/Imperial-Diabetes/Population_Est/m2001.csv',\n",
       " '/Users/annalisasheehan/Documents/Imperial-Diabetes/Population_Est/m2002.csv',\n",
       " '/Users/annalisasheehan/Documents/Imperial-Diabetes/Population_Est/m2003.csv',\n",
       " '/Users/annalisasheehan/Documents/Imperial-Diabetes/Population_Est/m2004.csv',\n",
       " '/Users/annalisasheehan/Documents/Imperial-Diabetes/Population_Est/m2005.csv',\n",
       " '/Users/annalisasheehan/Documents/Imperial-Diabetes/Population_Est/m2006.csv',\n",
       " '/Users/annalisasheehan/Documents/Imperial-Diabetes/Population_Est/m2007.csv',\n",
       " '/Users/annalisasheehan/Documents/Imperial-Diabetes/Population_Est/m2008.csv',\n",
       " '/Users/annalisasheehan/Documents/Imperial-Diabetes/Population_Est/m2009.csv']"
      ]
     },
     "execution_count": 4,
     "metadata": {},
     "output_type": "execute_result"
    }
   ],
   "source": [
    "#View files\n",
    "files"
   ]
  },
  {
   "cell_type": "code",
   "execution_count": 5,
   "metadata": {
    "collapsed": false
   },
   "outputs": [],
   "source": [
    "# Create a dictonary with all of the different data in, indexed by the name of the csv file\n",
    "# Drop the unnecessary variables\n",
    "# Rename the all ages column with the name of the data\n",
    "# Convert the different dictionary entries into variables\n",
    "\n",
    "\n",
    "d={}\n",
    "for x in files:\n",
    "    d[\"{0}\".format(os.path.basename(x)[0:5])] = pd.read_csv(x)\n",
    "    d[\"{0}\".format(os.path.basename(x)[0:5])] = d[\"{0}\".format(os.path.basename(x)[0:5])][['Code', 'Name', 'all_ages']]\n",
    "    d[\"{0}\".format(os.path.basename(x)[0:5])] = d[\"{0}\".format(os.path.basename(x)[0:5])].set_index('Code').rename(columns={'all_ages':\"{0}\".format(os.path.basename(x)[0:5])})\n",
    "\n",
    "\n",
    "    \n",
    "locals().update(d)\n",
    "    "
   ]
  },
  {
   "cell_type": "code",
   "execution_count": 6,
   "metadata": {
    "collapsed": false
   },
   "outputs": [
    {
     "data": {
      "text/html": [
       "<div>\n",
       "<table border=\"1\" class=\"dataframe\">\n",
       "  <thead>\n",
       "    <tr style=\"text-align: right;\">\n",
       "      <th></th>\n",
       "      <th>Name</th>\n",
       "      <th>m2005</th>\n",
       "    </tr>\n",
       "    <tr>\n",
       "      <th>Code</th>\n",
       "      <th></th>\n",
       "      <th></th>\n",
       "    </tr>\n",
       "  </thead>\n",
       "  <tbody>\n",
       "    <tr>\n",
       "      <th>1</th>\n",
       "      <td>UNITED KINGDOM</td>\n",
       "      <td>29,493,020</td>\n",
       "    </tr>\n",
       "    <tr>\n",
       "      <th>1</th>\n",
       "      <td>GREAT BRITAIN</td>\n",
       "      <td>28,648,760</td>\n",
       "    </tr>\n",
       "    <tr>\n",
       "      <th>1</th>\n",
       "      <td>ENGLAND &amp; WALES</td>\n",
       "      <td>26,192,651</td>\n",
       "    </tr>\n",
       "    <tr>\n",
       "      <th>1</th>\n",
       "      <td>ENGLAND</td>\n",
       "      <td>24,755,823</td>\n",
       "    </tr>\n",
       "  </tbody>\n",
       "</table>\n",
       "</div>"
      ],
      "text/plain": [
       "                 Name       m2005\n",
       "Code                             \n",
       "1      UNITED KINGDOM  29,493,020\n",
       "1       GREAT BRITAIN  28,648,760\n",
       "1     ENGLAND & WALES  26,192,651\n",
       "1             ENGLAND  24,755,823"
      ]
     },
     "execution_count": 6,
     "metadata": {},
     "output_type": "execute_result"
    }
   ],
   "source": [
    "#View data\n",
    "m2005[:4]"
   ]
  },
  {
   "cell_type": "code",
   "execution_count": 7,
   "metadata": {
    "collapsed": false
   },
   "outputs": [],
   "source": [
    "# Merge Data\n",
    "Females = pd.merge(f2000, f2001, left_index=True, right_index=True)\n",
    "Females = pd.merge(Females, f2002, left_index=True, right_index=True)\n",
    "Females = pd.merge(Females, f2003, left_index=True, right_index=True)\n",
    "Females = pd.merge(Females, f2004, left_index=True, right_index=True)\n"
   ]
  },
  {
   "cell_type": "code",
   "execution_count": 8,
   "metadata": {
    "collapsed": true
   },
   "outputs": [],
   "source": [
    "Females = pd.merge(Females, f2005, left_index=True, right_index=True)\n",
    "Females = pd.merge(Females, f2006, left_index=True, right_index=True)"
   ]
  },
  {
   "cell_type": "code",
   "execution_count": 9,
   "metadata": {
    "collapsed": false
   },
   "outputs": [],
   "source": [
    "Females = pd.merge(Females, f2007, left_index=True, right_index=True)"
   ]
  },
  {
   "cell_type": "code",
   "execution_count": 10,
   "metadata": {
    "collapsed": true
   },
   "outputs": [],
   "source": [
    "Females = pd.merge(Females, f2008, left_index=True, right_index=True)\n"
   ]
  },
  {
   "cell_type": "code",
   "execution_count": null,
   "metadata": {
    "collapsed": true
   },
   "outputs": [],
   "source": [
    "Females = pd.merge(Females, f2009, left_index=True, right_index=True)"
   ]
  },
  {
   "cell_type": "code",
   "execution_count": 1,
   "metadata": {
    "collapsed": false
   },
   "outputs": [
    {
     "ename": "NameError",
     "evalue": "name 'Females' is not defined",
     "output_type": "error",
     "traceback": [
      "\u001b[0;31m---------------------------------------------------------------------------\u001b[0m",
      "\u001b[0;31mNameError\u001b[0m                                 Traceback (most recent call last)",
      "\u001b[0;32m<ipython-input-1-49c5d757cd2a>\u001b[0m in \u001b[0;36m<module>\u001b[0;34m()\u001b[0m\n\u001b[1;32m      1\u001b[0m \u001b[0;31m#View the data\u001b[0m\u001b[0;34m\u001b[0m\u001b[0;34m\u001b[0m\u001b[0m\n\u001b[0;32m----> 2\u001b[0;31m \u001b[0mFemales\u001b[0m\u001b[0;34m[\u001b[0m\u001b[0;34m:\u001b[0m\u001b[0;36m10\u001b[0m\u001b[0;34m]\u001b[0m\u001b[0;34m\u001b[0m\u001b[0m\n\u001b[0m",
      "\u001b[0;31mNameError\u001b[0m: name 'Females' is not defined"
     ]
    }
   ],
   "source": [
    "#View the data\n",
    "Females[:10]"
   ]
  },
  {
   "cell_type": "code",
   "execution_count": null,
   "metadata": {
    "collapsed": true
   },
   "outputs": [],
   "source": []
  }
 ],
 "metadata": {
  "kernelspec": {
   "display_name": "Python 3",
   "language": "python",
   "name": "python3"
  },
  "language_info": {
   "codemirror_mode": {
    "name": "ipython",
    "version": 3
   },
   "file_extension": ".py",
   "mimetype": "text/x-python",
   "name": "python",
   "nbconvert_exporter": "python",
   "pygments_lexer": "ipython3",
   "version": "3.5.1"
  }
 },
 "nbformat": 4,
 "nbformat_minor": 0
}
