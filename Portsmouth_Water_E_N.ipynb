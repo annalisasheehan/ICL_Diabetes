{
 "cells": [
  {
   "cell_type": "markdown",
   "metadata": {},
   "source": [
    "- Code to split the Zone centroid column in the Portsmouth Water 'NO3 Imperial' file into:\n",
    "    - prefix\n",
    "    - easting \n",
    "    - northing \n",
    "    \n",
    "So that the easting and northing values incorporating the prefix can be calculated. "
   ]
  },
  {
   "cell_type": "code",
   "execution_count": 1,
   "metadata": {
    "collapsed": true
   },
   "outputs": [],
   "source": [
    "#set libraries\n",
    "import pandas as pd\n",
    "import numpy as np"
   ]
  },
  {
   "cell_type": "code",
   "execution_count": 4,
   "metadata": {
    "collapsed": true
   },
   "outputs": [],
   "source": [
    "# Read in the wessex water dataset \n",
    "Portsmouth = pd.read_csv(r\"S:\\Projects\\SAHSU_Share\\Diabetes\\Datasets\\Drinking_water\\Portsmouth\\NO3_Imperial_AS.csv\")"
   ]
  },
  {
   "cell_type": "code",
   "execution_count": null,
   "metadata": {
    "scrolled": false
   },
   "outputs": [],
   "source": [
    "Portsmouth"
   ]
  },
  {
   "cell_type": "code",
   "execution_count": 6,
   "metadata": {
    "collapsed": true
   },
   "outputs": [],
   "source": [
    "# insert columns for the split variables\n",
    "Portsmouth.insert(2, 'Prefix', 'NaN')\n",
    "Portsmouth.insert(3, 'E_Short', 'NaN')\n",
    "Portsmouth.insert(4, 'N_Short', 'NaN')"
   ]
  },
  {
   "cell_type": "code",
   "execution_count": 7,
   "metadata": {
    "collapsed": true
   },
   "outputs": [],
   "source": [
    "Portsmouth['Prefix']= Portsmouth['NatGridRef'].str[:2]\n",
    "Portsmouth['E_Short']=Portsmouth['NatGridRef'].str[2:5]+'00'\n",
    "Portsmouth['N_Short']=Portsmouth['NatGridRef'].str[5:]+'00'"
   ]
  },
  {
   "cell_type": "code",
   "execution_count": 9,
   "metadata": {
    "collapsed": true
   },
   "outputs": [],
   "source": [
    "#Specify the prefix value for both easting based on the prefix code\n",
    "conditions= [ \n",
    "    (Portsmouth['Prefix'] == 'SU'), \n",
    "    (Portsmouth['Prefix'] == 'SZ')\n",
    "]\n",
    "choices = [4, 4]\n",
    "Portsmouth['Prefix_E'] = np.select(conditions, choices, default= 'NaN')"
   ]
  },
  {
   "cell_type": "code",
   "execution_count": 11,
   "metadata": {
    "collapsed": true
   },
   "outputs": [],
   "source": [
    "#Specify the prefix value for both northing based on the prefix code\n",
    "conditions= [ \n",
    "    (Portsmouth['Prefix'] == 'SU'), \n",
    "    (Portsmouth['Prefix'] == 'SZ')\n",
    "]\n",
    "choices = [1, 0]\n",
    "Portsmouth['Prefix_N'] = np.select(conditions, choices, default= 'NaN')"
   ]
  },
  {
   "cell_type": "code",
   "execution_count": null,
   "metadata": {
    "scrolled": false
   },
   "outputs": [],
   "source": [
    "Portsmouth"
   ]
  },
  {
   "cell_type": "code",
   "execution_count": 14,
   "metadata": {
    "collapsed": true
   },
   "outputs": [],
   "source": [
    "# Add the prefix to the short easting and northings to create a complete easting and northing\n",
    "Portsmouth['Easting']= Portsmouth['Prefix_E'] + Portsmouth['E_Short']\n",
    "Portsmouth['Northing']= Portsmouth['Prefix_N'] + Portsmouth['N_Short']"
   ]
  },
  {
   "cell_type": "code",
   "execution_count": 16,
   "metadata": {
    "collapsed": true
   },
   "outputs": [],
   "source": [
    "#check the values \n",
    "Portsmouth.to_csv(r\"S:\\Projects\\SAHSU_Share\\Diabetes\\Datasets\\Drinking_water\\Portsmouth\\NO3_Imperial_AS_final.csv\")"
   ]
  },
  {
   "cell_type": "code",
   "execution_count": null,
   "metadata": {
    "collapsed": true
   },
   "outputs": [],
   "source": []
  }
 ],
 "metadata": {
  "kernelspec": {
   "display_name": "Python 3",
   "language": "python",
   "name": "python3"
  },
  "language_info": {
   "codemirror_mode": {
    "name": "ipython",
    "version": 3
   },
   "file_extension": ".py",
   "mimetype": "text/x-python",
   "name": "python",
   "nbconvert_exporter": "python",
   "pygments_lexer": "ipython3",
   "version": "3.6.1"
  }
 },
 "nbformat": 4,
 "nbformat_minor": 2
}
