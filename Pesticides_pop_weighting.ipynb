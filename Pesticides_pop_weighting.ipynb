{
 "cells": [
  {
   "cell_type": "code",
   "execution_count": 2,
   "metadata": {
    "collapsed": true
   },
   "outputs": [],
   "source": [
    "import numpy as np\n",
    "from matplotlib.pyplot import *\n",
    "import pandas as pd\n",
    "from scipy import stats\n",
    "import glob\n",
    "import os"
   ]
  },
  {
   "cell_type": "code",
   "execution_count": 3,
   "metadata": {},
   "outputs": [
    {
     "name": "stderr",
     "output_type": "stream",
     "text": [
      "C:\\Users\\ansheeha\\AppData\\Local\\Continuum\\Anaconda3\\lib\\site-packages\\IPython\\core\\interactiveshell.py:2717: DtypeWarning: Columns (11,12,18) have mixed types. Specify dtype option on import or set low_memory=False.\n",
      "  interactivity=interactivity, compiler=compiler, result=result)\n"
     ]
    }
   ],
   "source": [
    "First_pesticides = pd.read_csv(r\"F:\\pesticides\\pchc_01_1st_pest_LA.csv\")\n",
    "Second_pesticides = pd.read_csv(r\"F:\\pesticides\\pchc_01_2nd_pest_LA.csv\")"
   ]
  },
  {
   "cell_type": "code",
   "execution_count": 4,
   "metadata": {},
   "outputs": [],
   "source": [
    "First_pesticides = First_pesticides.set_index('POSTCODE')"
   ]
  },
  {
   "cell_type": "code",
   "execution_count": 5,
   "metadata": {},
   "outputs": [],
   "source": [
    "Second_pesticides = Second_pesticides.set_index('POSTCODE')"
   ]
  },
  {
   "cell_type": "code",
   "execution_count": null,
   "metadata": {
    "scrolled": true
   },
   "outputs": [],
   "source": [
    "Second_pesticides"
   ]
  },
  {
   "cell_type": "code",
   "execution_count": 7,
   "metadata": {
    "scrolled": true
   },
   "outputs": [
    {
     "data": {
      "text/plain": [
       "['FID',\n",
       " 'Join_Count',\n",
       " 'TARGET_FID',\n",
       " 'Join_Cou_1',\n",
       " 'TARGET_F_1',\n",
       " 'AREA',\n",
       " 'PERIMETER',\n",
       " 'PCHC_MOVE_',\n",
       " 'PCHC_MOVE1',\n",
       " 'WARD91',\n",
       " 'DISTRICT91',\n",
       " 'COUNTY91',\n",
       " 'WARD01',\n",
       " 'STWARD03',\n",
       " 'ED91',\n",
       " 'COA_CODE',\n",
       " 'SOA_CODE',\n",
       " 'DISTRICT01',\n",
       " 'POPULATION',\n",
       " 'HOUSEHOLDS',\n",
       " 'NO_OA',\n",
       " 'SEA',\n",
       " 'XCOORD',\n",
       " 'YCOORD',\n",
       " 'F_POLYGONI',\n",
       " 'F_SCALE',\n",
       " 'F_ANGLE',\n",
       " 'MinTemp',\n",
       " 'MaxTemp',\n",
       " 'x_pop',\n",
       " 'AREA_1',\n",
       " 'PERIMETER_',\n",
       " 'WARD98C_',\n",
       " 'WARD98C_ID',\n",
       " 'PI',\n",
       " 'FIRST_FC',\n",
       " 'FIRST_OP',\n",
       " 'FIRST_NM',\n",
       " 'COUNTY',\n",
       " 'X_COORD',\n",
       " 'Y_COORD',\n",
       " 'PI_1',\n",
       " 'County_1',\n",
       " 'Ag_ward',\n",
       " 'Amount_A',\n",
       " 'Amount_B',\n",
       " 'Amount_C',\n",
       " 'Amount_D',\n",
       " 'Amount_E',\n",
       " 'Amount_F',\n",
       " 'Amount_T',\n",
       " 'ONS_LABEL',\n",
       " 'NAME',\n",
       " 'LABEL',\n",
       " 'Shape_Leng',\n",
       " 'Shape_Area',\n",
       " 'Urban_perc',\n",
       " 'LA_Area']"
      ]
     },
     "execution_count": 7,
     "metadata": {},
     "output_type": "execute_result"
    }
   ],
   "source": [
    "list(First_pesticides)"
   ]
  },
  {
   "cell_type": "code",
   "execution_count": 8,
   "metadata": {
    "collapsed": true
   },
   "outputs": [],
   "source": [
    "First_pesticides = First_pesticides[['SOA_CODE', 'DISTRICT01', 'POPULATION',\n",
    " 'HOUSEHOLDS','WARD98C_', 'WARD98C_ID', 'PI','Ag_ward', 'Amount_A', 'Amount_B',\n",
    " 'Amount_C', 'Amount_D', 'Amount_E', 'Amount_F', 'Amount_T', 'ONS_LABEL',\n",
    " 'NAME']]"
   ]
  },
  {
   "cell_type": "code",
   "execution_count": 9,
   "metadata": {
    "collapsed": true
   },
   "outputs": [],
   "source": [
    "Second_pesticides = Second_pesticides[['SOA_CODE', 'DISTRICT01', 'POPULATION',\n",
    " 'HOUSEHOLDS','WARD98C_', 'WARD98C_ID', 'PI','Ag_ward', 'Amount_A', 'Amount_B',\n",
    " 'Amount_C', 'Amount_D', 'Amount_E', 'Amount_F', 'Amount_T','ONS_LABEL',\n",
    " 'NAME']]"
   ]
  },
  {
   "cell_type": "code",
   "execution_count": 10,
   "metadata": {},
   "outputs": [],
   "source": [
    "Pesticides = pd.concat([First_pesticides, Second_pesticides])"
   ]
  },
  {
   "cell_type": "code",
   "execution_count": null,
   "metadata": {
    "scrolled": true
   },
   "outputs": [],
   "source": [
    "Pesticides"
   ]
  },
  {
   "cell_type": "code",
   "execution_count": 14,
   "metadata": {
    "collapsed": true
   },
   "outputs": [],
   "source": [
    "# Doesnt actually work\n",
    "Pesticides_Eng = Pesticides[pd.notnull(Pesticides['ONS_LABEL'])]\n",
    "Pesticides_Eng"
   ]
  },
  {
   "cell_type": "code",
   "execution_count": 18,
   "metadata": {
    "collapsed": true
   },
   "outputs": [],
   "source": [
    "# Create columns which the pesticides are multiplied by the postcode headcounts\n",
    "Pesticides['AxPop'] = Pesticides['Amount_A']* Pesticides['POPULATION']\n",
    "Pesticides['BxPop'] = Pesticides['Amount_B']* Pesticides['POPULATION']\n",
    "Pesticides['CxPop'] = Pesticides['Amount_C']* Pesticides['POPULATION']\n",
    "Pesticides['DxPop'] = Pesticides['Amount_D']* Pesticides['POPULATION']\n",
    "Pesticides['ExPop'] = Pesticides['Amount_E']* Pesticides['POPULATION']\n",
    "Pesticides['FxPop'] = Pesticides['Amount_F']* Pesticides['POPULATION']\n",
    "Pesticides['TxPop'] = Pesticides['Amount_T']* Pesticides['POPULATION']"
   ]
  },
  {
   "cell_type": "code",
   "execution_count": 22,
   "metadata": {
    "collapsed": true
   },
   "outputs": [],
   "source": [
    "PesticidesLAD = Pesticides.groupby('ONS_LABEL').sum()"
   ]
  },
  {
   "cell_type": "code",
   "execution_count": null,
   "metadata": {
    "scrolled": true
   },
   "outputs": [],
   "source": [
    "PesticidesLAD"
   ]
  },
  {
   "cell_type": "code",
   "execution_count": 24,
   "metadata": {
    "collapsed": true
   },
   "outputs": [],
   "source": [
    "PesticidesLAD['Aexp'] = PesticidesLAD['AxPop']/ PesticidesLAD['POPULATION']\n",
    "PesticidesLAD['Bexp'] = PesticidesLAD['BxPop']/ PesticidesLAD['POPULATION']\n",
    "PesticidesLAD['Cexp'] = PesticidesLAD['CxPop']/ PesticidesLAD['POPULATION']\n",
    "PesticidesLAD['Dexp'] = PesticidesLAD['DxPop']/ PesticidesLAD['POPULATION']\n",
    "PesticidesLAD['Eexp'] = PesticidesLAD['ExPop']/ PesticidesLAD['POPULATION']\n",
    "PesticidesLAD['Fexp'] = PesticidesLAD['FxPop']/ PesticidesLAD['POPULATION']\n",
    "PesticidesLAD['Texp'] = PesticidesLAD['TxPop']/ PesticidesLAD['POPULATION']"
   ]
  },
  {
   "cell_type": "code",
   "execution_count": null,
   "metadata": {
    "scrolled": true
   },
   "outputs": [],
   "source": [
    "PesticidesLAD"
   ]
  },
  {
   "cell_type": "code",
   "execution_count": 26,
   "metadata": {
    "collapsed": true
   },
   "outputs": [],
   "source": [
    "PesticidesLAD.to_csv(r\"F:\\pesticides\\PesticidesLAD.csv\")"
   ]
  },
  {
   "cell_type": "code",
   "execution_count": null,
   "metadata": {
    "collapsed": true
   },
   "outputs": [],
   "source": []
  }
 ],
 "metadata": {
  "kernelspec": {
   "display_name": "Python 3",
   "language": "python",
   "name": "python3"
  },
  "language_info": {
   "codemirror_mode": {
    "name": "ipython",
    "version": 3
   },
   "file_extension": ".py",
   "mimetype": "text/x-python",
   "name": "python",
   "nbconvert_exporter": "python",
   "pygments_lexer": "ipython3",
   "version": "3.6.1"
  }
 },
 "nbformat": 4,
 "nbformat_minor": 2
}
